{
 "cells": [
  {
   "cell_type": "code",
   "execution_count": 1,
   "metadata": {
    "collapsed": true
   },
   "outputs": [],
   "source": [
    "from __future__ import print_function\n",
    "\n",
    "__docformat__ = 'restructedtext en'"
   ]
  },
  {
   "cell_type": "code",
   "execution_count": 2,
   "metadata": {
    "collapsed": true
   },
   "outputs": [],
   "source": [
    "%matplotlib inline\n",
    "\n",
    "import matplotlib.pyplot as plt\n",
    "import numpy as np\n",
    "import _pickle as cPickle\n",
    "import gzip\n",
    "import os\n",
    "import sys\n",
    "import timeit\n",
    "from sklearn.metrics import confusion_matrix\n",
    "import math\n",
    "import os"
   ]
  },
  {
   "cell_type": "code",
   "execution_count": 3,
   "metadata": {},
   "outputs": [
    {
     "name": "stdout",
     "output_type": "stream",
     "text": [
      "It took Theano 2.5s to load.\n"
     ]
    },
    {
     "name": "stderr",
     "output_type": "stream",
     "text": [
      "Using cuDNN version 5110 on context None\n",
      "Mapped name None to device cuda: GeForce GTX 860M (0000:01:00.0)\n"
     ]
    }
   ],
   "source": [
    "# Import Theano\n",
    "# Calculate the time it takes to import Theano\n",
    "start_time = timeit.default_timer()\n",
    "import theano\n",
    "end_time = timeit.default_timer()\n",
    "print(\"It took Theano %.1fs to load.\" % (end_time - start_time))"
   ]
  },
  {
   "cell_type": "code",
   "execution_count": 4,
   "metadata": {
    "collapsed": true
   },
   "outputs": [],
   "source": [
    "import theano.tensor as T"
   ]
  },
  {
   "cell_type": "code",
   "execution_count": 5,
   "metadata": {},
   "outputs": [
    {
     "name": "stdout",
     "output_type": "stream",
     "text": [
      "/home/dashsid/MNIST\n",
      "mnist.pkl.gz\n",
      "Loading MNIST data...\n"
     ]
    }
   ],
   "source": [
    "# import LogisticRegression and load_mnist_data functions from mnist_logistic_regression.py\n",
    "\n",
    "from load_mnist_dataset import load_mnist_data\n",
    "dataset = '/home/dashsid/MNIST/mnist.pkl.gz'\n",
    "\n",
    "# load the dataset\n",
    "datasets = load_mnist_data(dataset)\n",
    "    \n",
    "# retrieve the correct dataset partitions\n",
    "train_set_x, train_set_y = datasets[0]\n",
    "valid_set_x, valid_set_y = datasets[1]\n",
    "test_set_x, test_set_y = datasets[2]"
   ]
  },
  {
   "cell_type": "code",
   "execution_count": 6,
   "metadata": {},
   "outputs": [
    {
     "name": "stdout",
     "output_type": "stream",
     "text": [
      "<GpuArrayType<None>(float32, (False, False))>\n",
      "[[ 0.  0.  0. ...,  0.  0.  0.]\n",
      " [ 0.  0.  0. ...,  0.  0.  0.]\n",
      " [ 0.  0.  0. ...,  0.  0.  0.]\n",
      " ..., \n",
      " [ 0.  0.  0. ...,  0.  0.  0.]\n",
      " [ 0.  0.  0. ...,  0.  0.  0.]\n",
      " [ 0.  0.  0. ...,  0.  0.  0.]]\n",
      "[[ 0.  0.  0. ...,  0.  0.  0.]\n",
      " [ 0.  0.  0. ...,  0.  0.  0.]\n",
      " [ 0.  0.  0. ...,  0.  0.  0.]\n",
      " ..., \n",
      " [ 0.  0.  0. ...,  0.  0.  0.]\n",
      " [ 0.  0.  0. ...,  0.  0.  0.]\n",
      " [ 0.  0.  0. ...,  0.  0.  0.]]\n",
      "[[ 0.  0.  0. ...,  0.  0.  0.]\n",
      " [ 0.  0.  0. ...,  0.  0.  0.]\n",
      " [ 0.  0.  0. ...,  0.  0.  0.]\n",
      " ..., \n",
      " [ 0.  0.  0. ...,  0.  0.  0.]\n",
      " [ 0.  0.  0. ...,  0.  0.  0.]\n",
      " [ 0.  0.  0. ...,  0.  0.  0.]]\n",
      "Size of the training dataset:  (50000, 784)\n",
      "Size of the validation dataset:  (10000, 784)\n",
      "Size of the test dataset:  (10000, 784)\n"
     ]
    }
   ],
   "source": [
    "# Print the no of training, validation, and test data\n",
    "\n",
    "# Print the type of the shared variable for the dataset\n",
    "print(train_set_x)\n",
    "\n",
    "print(train_set_x.get_value())\n",
    "print(valid_set_x.get_value())\n",
    "print(test_set_x.get_value())\n",
    "\n",
    "print(\"Size of the training dataset: \", train_set_x.get_value().shape)\n",
    "print(\"Size of the validation dataset: \", valid_set_x.get_value().shape)\n",
    "print(\"Size of the test dataset: \", test_set_x.get_value().shape)"
   ]
  },
  {
   "cell_type": "markdown",
   "metadata": {},
   "source": [
    "## Define Network and Data Parameters"
   ]
  },
  {
   "cell_type": "code",
   "execution_count": 7,
   "metadata": {
    "collapsed": true
   },
   "outputs": [],
   "source": [
    "# Data dimensions\n",
    "\n",
    "# MNIST images are 28 pixels in each dimension\n",
    "img_size = 28\n",
    "\n",
    "# Images are stored in one-dimensional arrays of this length.\n",
    "img_size_flat = img_size * img_size\n",
    "n_input = img_size_flat\n",
    "\n",
    "# Tuple with height and width of images used to reshape arrays.\n",
    "img_shape = (img_size, img_size)\n",
    "\n",
    "# Number of colour channels for the images: 1 channel for gray-scale.\n",
    "num_channels = 1\n",
    "\n",
    "# Number of classes, one class for each of 10 digits.\n",
    "num_classes = 10\n",
    "n_output = num_classes"
   ]
  },
  {
   "cell_type": "code",
   "execution_count": 8,
   "metadata": {
    "collapsed": true
   },
   "outputs": [],
   "source": [
    "# Training Parameters\n",
    "learning_rate = 0.01\n",
    "batch_size = 256"
   ]
  },
  {
   "cell_type": "markdown",
   "metadata": {},
   "source": [
    "## Visualize the Data from the Actual Dataset"
   ]
  },
  {
   "cell_type": "code",
   "execution_count": 9,
   "metadata": {
    "collapsed": true
   },
   "outputs": [],
   "source": [
    "from utils import tile_raster_images"
   ]
  },
  {
   "cell_type": "code",
   "execution_count": 10,
   "metadata": {},
   "outputs": [
    {
     "data": {
      "image/png": "[encoded data removed]",
      "text/plain": [
       "<matplotlib.figure.Figure at 0x7f4bc787eef0>"
      ]
     },
     "metadata": {},
     "output_type": "display_data"
    }
   ],
   "source": [
    "samples = tile_raster_images(train_set_x.get_value(), img_shape=img_shape, \n",
    "                             tile_shape=(3, 10), tile_spacing=(0, 0), scale_rows_to_unit_interval=True, \n",
    "                             output_pixel_vals=True)\n",
    "plt.imshow(samples, cmap='gray')\n",
    "plt.show()"
   ]
  },
  {
   "cell_type": "code",
   "execution_count": 11,
   "metadata": {},
   "outputs": [
    {
     "name": "stdout",
     "output_type": "stream",
     "text": [
      "Elemwise{Cast{int32}}.0\n",
      "[5 0 4 1 9 2 1 3 1 4]\n"
     ]
    }
   ],
   "source": [
    "# Print the labels from the dataset\n",
    "print(train_set_y)\n",
    "\n",
    "print(train_set_y[:10].eval())"
   ]
  },
  {
   "cell_type": "markdown",
   "metadata": {},
   "source": [
    "## Data Normalization - PreProcessing"
   ]
  },
  {
   "cell_type": "code",
   "execution_count": 12,
   "metadata": {
    "collapsed": true
   },
   "outputs": [],
   "source": [
    "# Apply mean and standard deviation to normalize the data\n",
    "norm_mean = train_set_x.mean(axis=0)\n",
    "norm_std =  train_set_x.std(axis=0)\n",
    "norm_std = norm_std.clip(0.00001, norm_std.max())\n",
    "\n",
    "# Normalize the training data\n",
    "train_set_x = train_set_x - norm_mean\n",
    "train_set_x = train_set_x / norm_std\n",
    "\n",
    "# Normalize the test data\n",
    "test_set_x = test_set_x - norm_mean\n",
    "test_set_x = test_set_x / norm_std\n",
    "\n",
    "# Normalize the validation data\n",
    "valid_set_x = valid_set_x - norm_mean\n",
    "valid_set_x = valid_set_x / norm_std"
   ]
  },
  {
   "cell_type": "markdown",
   "metadata": {},
   "source": [
    "### Visualize the Pre-Processed Data"
   ]
  },
  {
   "cell_type": "code",
   "execution_count": 13,
   "metadata": {},
   "outputs": [
    {
     "data": {
      "image/png": "[encoded data removed]",
      "text/plain": [
       "<matplotlib.figure.Figure at 0x7f4b79b72438>"
      ]
     },
     "metadata": {},
     "output_type": "display_data"
    }
   ],
   "source": [
    "samples = tile_raster_images(train_set_x.eval(), img_shape=(img_size, img_size), \n",
    "                             tile_shape=(3, 10), tile_spacing=(0, 0), scale_rows_to_unit_interval=True, \n",
    "                             output_pixel_vals=True)\n",
    "plt.imshow(samples, cmap='gray')\n",
    "plt.show()"
   ]
  },
  {
   "cell_type": "code",
   "execution_count": 14,
   "metadata": {},
   "outputs": [
    {
     "name": "stdout",
     "output_type": "stream",
     "text": [
      "Before creating shared variables...\n",
      "Elemwise{true_div,no_inplace}.0\n",
      "After creating shared variables...\n",
      "<GpuArrayType<None>(float32, (False, False))>\n",
      "<GpuArrayType<None>(float32, (False, False))>\n",
      "<GpuArrayType<None>(float32, (False, False))>\n"
     ]
    }
   ],
   "source": [
    "print(\"Before creating shared variables...\")\n",
    "print(train_set_x)\n",
    "\n",
    "train_set_x = theano.shared(train_set_x.eval())\n",
    "valid_set_x = theano.shared(valid_set_x.eval())\n",
    "test_set_x = theano.shared(test_set_x.eval())\n",
    "\n",
    "print(\"After creating shared variables...\")\n",
    "print(train_set_x)\n",
    "print(valid_set_x)\n",
    "print(test_set_x)"
   ]
  },
  {
   "cell_type": "markdown",
   "metadata": {},
   "source": [
    "## Create Logistic Regression Model"
   ]
  },
  {
   "cell_type": "code",
   "execution_count": 15,
   "metadata": {
    "collapsed": true
   },
   "outputs": [],
   "source": [
    "# Create a Multi-class Logistic Regression Class\n",
    "\n",
    "class LogisticRegression(object):\n",
    "    \n",
    "    # Initialize the parameters\n",
    "    def __init__(self, input, n_in, n_out):\n",
    "        \n",
    "        # model input\n",
    "        self.input = input\n",
    "    \n",
    "        # initialize weights\n",
    "        self.W = theano.shared(value=np.zeros((n_in, n_out), dtype=theano.config.floatX), name='W', borrow=True)\n",
    "\n",
    "        # intialize biases\n",
    "        self.b = theano.shared(value=np.zeros((n_out,), dtype=theano.config.floatX), name='b', borrow=True)\n",
    "\n",
    "        # parameters of the model\n",
    "        self.params = [self.W, self.b]\n",
    "\n",
    "        # implement the model using softmax activation function\n",
    "        # x represents input training sample\n",
    "        self.p_y_given_x = T.nnet.softmax(T.dot(input, self.W) + self.b)\n",
    "\n",
    "        # calculate the prediction of the output which has maximum probability\n",
    "        self.y_pred = T.argmax(self.p_y_given_x, axis=1)        \n",
    "    \n",
    "    # Compute the cost\n",
    "    # Find the mean of the negative log-likelihood cost value of predictions\n",
    "    def negative_log_likelihood(self, y):\n",
    "        cost = -T.mean(T.log(self.p_y_given_x)[T.arange(y.shape[0]), y])\n",
    "        return cost\n",
    "    \n",
    "    \n",
    "    # Find the number of errors in the minibatch over the total number of examples in the minibatch\n",
    "    def errors(self, y):\n",
    "        \n",
    "        # check if y has the same dimension of y_pred vector\n",
    "        if y.ndim != self.y_pred.ndim:\n",
    "            raise TypeError('y should have the same shape as self.y_pred', 'y', y.type, 'y_pred', self.y_pred.type)\n",
    "\n",
    "        # check if y is of the correct datatype (integer)\n",
    "        if y.dtype.startswith('int'):\n",
    "            error = T.mean(T.neq(self.y_pred, y))\n",
    "            return error\n",
    "        else:\n",
    "            raise NotImplementedError()\n",
    "            \n",
    "    # Define Accuracy\n",
    "    def accuracy(self, y):\n",
    "        correct_prediction = T.eq(self.y_pred, y)\n",
    "        accuracy = T.mean(T.cast(correct_prediction, dtype=theano.config.floatX))\n",
    "        return accuracy"
   ]
  },
  {
   "cell_type": "markdown",
   "metadata": {},
   "source": [
    "## Declare Placeholders for Theano Shared Variables"
   ]
  },
  {
   "cell_type": "code",
   "execution_count": 16,
   "metadata": {
    "collapsed": true
   },
   "outputs": [],
   "source": [
    "# Create symbolic variables for input data, x represents rasterized images, y represents labels\n",
    "x = T.fmatrix('x')\n",
    "y = T.ivector('y')"
   ]
  },
  {
   "cell_type": "code",
   "execution_count": 17,
   "metadata": {},
   "outputs": [
    {
     "name": "stdout",
     "output_type": "stream",
     "text": [
      "Index Type:  TensorType(int64, scalar)\n"
     ]
    }
   ],
   "source": [
    "# create a symbolic variable for the index to a minibatch\n",
    "# T.lscalar() is int64\n",
    "# index = T.lscalar()\n",
    "\n",
    "# T.iscalar is int32\n",
    "index = T.lscalar('batch_index')\n",
    "print('Index Type: ', index.type)\n",
    "\n",
    "# batch_size = T.scalar('batch size', dtype='int32')\n",
    "# batch_size = T.iscalar('batch_size')\n",
    "# print('Batch Size Type: ', batch_size.type)"
   ]
  },
  {
   "cell_type": "code",
   "execution_count": 18,
   "metadata": {},
   "outputs": [
    {
     "name": "stdout",
     "output_type": "stream",
     "text": [
      "# of Training batches 195\n",
      "# of Validation batches 39\n",
      "# of Test batches 39\n"
     ]
    }
   ],
   "source": [
    "# compute no of minibatches for training, validation and testing\n",
    "# // operator is used for integer floor division\n",
    "n_train_batches = train_set_x.get_value(borrow=True).shape[0] // batch_size\n",
    "n_valid_batches = valid_set_x.get_value(borrow=True).shape[0] // batch_size\n",
    "n_test_batches = test_set_x.get_value(borrow=True).shape[0] // batch_size\n",
    "\n",
    "# n_train_batches = train_set_x.shape[0].eval() // batch_size\n",
    "print(\"# of Training batches\", n_train_batches)\n",
    "print(\"# of Validation batches\", n_valid_batches)\n",
    "print(\"# of Test batches\", n_test_batches)"
   ]
  },
  {
   "cell_type": "markdown",
   "metadata": {},
   "source": [
    "## Theano Functions with Shared Variable Input"
   ]
  },
  {
   "cell_type": "code",
   "execution_count": 19,
   "metadata": {
    "collapsed": true
   },
   "outputs": [],
   "source": [
    "trainx = train_set_x.eval()\n",
    "trainy = train_set_y.eval()\n",
    "\n",
    "validx = valid_set_x.eval()\n",
    "validy = valid_set_y.eval()\n",
    "\n",
    "testx = test_set_x.eval()\n",
    "testy = test_set_y.eval()"
   ]
  },
  {
   "cell_type": "markdown",
   "metadata": {},
   "source": [
    "## Build the Logistic Regression Model Classifier"
   ]
  },
  {
   "cell_type": "code",
   "execution_count": 20,
   "metadata": {},
   "outputs": [
    {
     "name": "stdout",
     "output_type": "stream",
     "text": [
      "Building the logistic regression model.....\n"
     ]
    }
   ],
   "source": [
    "# build the model\n",
    "print(\"Building the logistic regression model.....\")\n",
    "\n",
    "# construct the MLP model\n",
    "classifier = LogisticRegression(input=x, n_in=n_input, n_out=n_output)\n",
    "\n",
    "# find the cost without L1/L2 regularization\n",
    "cost = classifier.negative_log_likelihood(y)\n",
    "    \n",
    "# find the cost with L1/L2 regularization\n",
    "# cost = (classifier.negative_log_likelihood(y) + L1_reg * classifier.L1 + L2_reg * classifier.L2_sqr)\n",
    "    \n",
    "# Compute the gradients of weights and biases w.r.t theta = (W, b)\n",
    "g_W = T.grad(cost=cost, wrt=classifier.W)\n",
    "g_b = T.grad(cost=cost, wrt=classifier.b)\n",
    "    \n",
    "# Update the parameters at each learning step for optimization\n",
    "updates = [(classifier.W, classifier.W - learning_rate * g_W), \n",
    "           (classifier.b, classifier.b - learning_rate * g_b)]\n",
    "\n",
    "# compute the errors\n",
    "errors = classifier.errors(y)\n",
    "\n",
    "# compute the accuracy\n",
    "accuracy = classifier.accuracy(y)"
   ]
  },
  {
   "cell_type": "markdown",
   "metadata": {},
   "source": [
    "## Build the Model for Training, Validation, and Test Sets"
   ]
  },
  {
   "cell_type": "code",
   "execution_count": 21,
   "metadata": {},
   "outputs": [],
   "source": [
    "# compile the Theano function for the test model\n",
    "test_model = theano.function([index], \n",
    "                             errors, \n",
    "                             givens={x: test_set_x[index * batch_size: (index + 1) * batch_size], \n",
    "                                     y: test_set_y[index * batch_size: (index + 1) * batch_size]})\n",
    "    \n",
    "    \n",
    "# Theano function for test model accuracy\n",
    "test_model_accuracy = theano.function(inputs=[index], \n",
    "                                      outputs=accuracy, \n",
    "                                      givens={x: test_set_x[index * batch_size: (index + 1) * batch_size], \n",
    "                                              y: test_set_y[index * batch_size: (index + 1) * batch_size]})\n",
    "    \n",
    "    \n",
    "# compile the Theano function for the validation model\n",
    "validate_model = theano.function([index], \n",
    "                                 errors, \n",
    "                                 givens={x: valid_set_x[index * batch_size: (index + 1) * batch_size], \n",
    "                                         y: valid_set_y[index * batch_size: (index + 1) * batch_size]})\n",
    "    \n",
    "\n",
    "# Theano function for validation model accuracy\n",
    "valid_model_accuracy = theano.function(inputs=[index], \n",
    "                                       outputs=accuracy, \n",
    "                                       givens={x: valid_set_x[index * batch_size: (index + 1) * batch_size], \n",
    "                                               y: valid_set_y[index * batch_size: (index + 1) * batch_size]})\n",
    "    \n",
    "\n",
    "# compile the Theano function for the train model\n",
    "train_model = theano.function([index], \n",
    "                              cost, \n",
    "                              updates=updates, \n",
    "                              givens={x: train_set_x[index * batch_size: (index + 1) * batch_size], \n",
    "                                      y: train_set_y[index * batch_size: (index + 1) * batch_size]})\n",
    "\n",
    "\n",
    "# Theano function for the train model accuracy\n",
    "train_model_accuracy = theano.function(inputs=[index], \n",
    "                                       outputs=accuracy, \n",
    "                                       updates=updates, \n",
    "                                       givens={x: train_set_x[index * batch_size: (index + 1) * batch_size], \n",
    "                                               y: train_set_y[index * batch_size: (index + 1) * batch_size]})"
   ]
  },
  {
   "cell_type": "markdown",
   "metadata": {},
   "source": [
    "## Perform the Training"
   ]
  },
  {
   "cell_type": "markdown",
   "metadata": {},
   "source": [
    "## Helper Function to Perform Optimization - Stochastic Gradient Descent Optimization"
   ]
  },
  {
   "cell_type": "code",
   "execution_count": 22,
   "metadata": {
    "collapsed": true
   },
   "outputs": [],
   "source": [
    "def sgd_optimization_mnist(dataset, learning_rate, n_epochs, batch_size):\n",
    "    \n",
    "    # ---------------\n",
    "    # Train the model\n",
    "    # ---------------\n",
    "    print(\"Training the Logistic Regression model...\")\n",
    "    \n",
    "    \n",
    "    # keep track of the validation loss and the test scores\n",
    "    start_time = timeit.default_timer()\n",
    "    \n",
    "    # ----------------------------------------------------------\n",
    "    # Begin the training loop\n",
    "    # The outer while loop loops over the no of iterations (epochs)\n",
    "    # The inner loop loops over the minibatches\n",
    "    finished = False\n",
    "    curr_epoch = 0\n",
    "    \n",
    "    while (curr_epoch < n_epochs) and (not finished):\n",
    "        \n",
    "        curr_epoch += 1\n",
    "        \n",
    "        for minibatch_i in range(n_train_batches):\n",
    "            \n",
    "            # calculate the average likelihood(cost) for the minibatches\n",
    "            minibatch_avg_cost = train_model(minibatch_i)\n",
    "            # iteration number\n",
    "            iter = (curr_epoch - 1) * n_train_batches + minibatch_i\n",
    "            \n",
    "            # perform iterations on validation set\n",
    "            if ((iter + 1) % n_train_batches == 0):\n",
    "                \n",
    "                epoch_msg = (\"Epoch %i, Minibatch %i/%i \") % (curr_epoch, minibatch_i+1, n_train_batches)\n",
    "                print(epoch_msg)\n",
    "                \n",
    "                # evaluate the train loss on the training batches\n",
    "                train_loss= [train_model(i) for i in range(n_train_batches)]\n",
    "\n",
    "                train_accuracy = [train_model_accuracy(i) for i in range(n_train_batches)]\n",
    "\n",
    "                # find the average train loss for each training batch\n",
    "                train_avg_loss = np.mean(train_loss)\n",
    "\n",
    "                train_avg_accuracy = np.mean(train_accuracy)\n",
    "                \n",
    "                \n",
    "                # evaluate the validation loss on the validation batches\n",
    "                valid_loss = [validate_model(i) for i in range(n_valid_batches)]\n",
    "\n",
    "                valid_accuracy = [valid_model_accuracy(i) for i in range(n_valid_batches)]\n",
    "\n",
    "                # find the average validation loss for each batch\n",
    "                valid_avg_loss = np.mean(valid_loss)\n",
    "\n",
    "                valid_avg_accuracy = np.mean(valid_accuracy)\n",
    "                \n",
    "                \n",
    "                # evaluate the test loss on the test batches\n",
    "                test_loss = [test_model(i) for i in range(n_test_batches)]\n",
    "\n",
    "                test_accuracy = [test_model_accuracy(i) for i in range(n_test_batches)]\n",
    "\n",
    "                # find the average test loss for each batch\n",
    "                test_avg_loss = np.mean(test_loss)\n",
    "\n",
    "                test_avg_accuracy = np.mean(test_accuracy)\n",
    "                \n",
    "                \n",
    "                msg = \"Training Accuracy: {0:>6.1%}, Validation Accuracy: {1:>6.1%}\"\n",
    "                print(msg.format(train_avg_accuracy, valid_avg_accuracy))\n",
    "\n",
    "                msg1 = (\"Training Cost %f %%, Validation Loss %f %%\") % (train_avg_loss * 100., valid_avg_loss * 100.)\n",
    "                print(msg1)\n",
    "                    \n",
    "                # serialize the model to disk using pickle\n",
    "                with open('best_mnist_linear_model.pkl', 'wb') as f:\n",
    "                    cPickle.dump(classifier, f)\n",
    "                    \n",
    "                print(\"=====================================================================\")\n",
    "                print(\"=====================================================================\")\n",
    "                \n",
    "    end_time = timeit.default_timer()\n",
    "    \n",
    "    time_diff = end_time - start_time\n",
    "    \n",
    "    train_perf_score = train_avg_loss * 100.\n",
    "    valid_perf_score = valid_avg_loss * 100.\n",
    "    test_perf_score = test_avg_loss * 100.\n",
    "    \n",
    "    train_best_accuracy = train_avg_accuracy * 100.\n",
    "    valid_best_accuracy = valid_avg_accuracy * 100.\n",
    "    test_best_accuracy = test_avg_accuracy * 100.\n",
    "    \n",
    "    print((\"Optimization completed with training performance score of %f %%, validation peformance score of %f %%, \\\n",
    "           and test performance score of %f %%\") % (train_perf_score, valid_perf_score, test_perf_score))\n",
    "    \n",
    "    print((\"Training Accuracy %f %%, Validation Accuracy %f %%, and Test Accuracy %f %%\") % \n",
    "          (train_best_accuracy, valid_best_accuracy, test_best_accuracy))\n",
    "    \n",
    "    print(\"The code ran for %d epochs, with %f epochs/sec\" % (curr_epoch, 1. * curr_epoch / time_diff))\n",
    "    print(\"The code ran for %.1fs\" % time_diff)\n",
    "    \n",
    "    print(\"The code ran for %.2fm\" % (time_diff / 60.))"
   ]
  },
  {
   "cell_type": "code",
   "execution_count": 23,
   "metadata": {
    "scrolled": false
   },
   "outputs": [
    {
     "name": "stdout",
     "output_type": "stream",
     "text": [
      "Training the Logistic Regression model...\n",
      "Epoch 1, Minibatch 195/195 \n",
      "Training Accuracy:  89.0%, Validation Accuracy:  90.4%\n",
      "Training Cost 47.046921 %, Validation Loss 9.625401 %\n",
      "=====================================================================\n",
      "=====================================================================\n",
      "Epoch 2, Minibatch 195/195 \n",
      "Training Accuracy:  90.3%, Validation Accuracy:  91.2%\n",
      "Training Cost 36.075103 %, Validation Loss 8.794071 %\n",
      "=====================================================================\n",
      "=====================================================================\n",
      "Epoch 3, Minibatch 195/195 \n",
      "Training Accuracy:  90.9%, Validation Accuracy:  91.6%\n",
      "Training Cost 33.013716 %, Validation Loss 8.383413 %\n",
      "=====================================================================\n",
      "=====================================================================\n",
      "Epoch 4, Minibatch 195/195 \n",
      "Training Accuracy:  91.3%, Validation Accuracy:  91.9%\n",
      "Training Cost 31.407854 %, Validation Loss 8.112981 %\n",
      "=====================================================================\n",
      "=====================================================================\n",
      "Epoch 5, Minibatch 195/195 \n",
      "Training Accuracy:  91.5%, Validation Accuracy:  92.1%\n",
      "Training Cost 30.374616 %, Validation Loss 7.912660 %\n",
      "=====================================================================\n",
      "=====================================================================\n",
      "Epoch 6, Minibatch 195/195 \n",
      "Training Accuracy:  91.7%, Validation Accuracy:  92.2%\n",
      "Training Cost 29.635257 %, Validation Loss 7.832532 %\n",
      "=====================================================================\n",
      "=====================================================================\n",
      "Epoch 7, Minibatch 195/195 \n",
      "Training Accuracy:  91.9%, Validation Accuracy:  92.2%\n",
      "Training Cost 29.069936 %, Validation Loss 7.782452 %\n",
      "=====================================================================\n",
      "=====================================================================\n",
      "Epoch 8, Minibatch 195/195 \n",
      "Training Accuracy:  92.0%, Validation Accuracy:  92.3%\n",
      "Training Cost 28.617504 %, Validation Loss 7.702324 %\n",
      "=====================================================================\n",
      "=====================================================================\n",
      "Epoch 9, Minibatch 195/195 \n",
      "Training Accuracy:  92.1%, Validation Accuracy:  92.4%\n",
      "Training Cost 28.243166 %, Validation Loss 7.602163 %\n",
      "=====================================================================\n",
      "=====================================================================\n",
      "Epoch 10, Minibatch 195/195 \n",
      "Training Accuracy:  92.2%, Validation Accuracy:  92.5%\n",
      "Training Cost 27.925542 %, Validation Loss 7.542067 %\n",
      "=====================================================================\n",
      "=====================================================================\n",
      "Epoch 11, Minibatch 195/195 \n",
      "Training Accuracy:  92.3%, Validation Accuracy:  92.5%\n",
      "Training Cost 27.650681 %, Validation Loss 7.532051 %\n",
      "=====================================================================\n",
      "=====================================================================\n",
      "Epoch 12, Minibatch 195/195 \n",
      "Training Accuracy:  92.4%, Validation Accuracy:  92.5%\n",
      "Training Cost 27.409053 %, Validation Loss 7.522035 %\n",
      "=====================================================================\n",
      "=====================================================================\n",
      "Epoch 13, Minibatch 195/195 \n",
      "Training Accuracy:  92.4%, Validation Accuracy:  92.5%\n",
      "Training Cost 27.193895 %, Validation Loss 7.461939 %\n",
      "=====================================================================\n",
      "=====================================================================\n",
      "Epoch 14, Minibatch 195/195 \n",
      "Training Accuracy:  92.5%, Validation Accuracy:  92.6%\n",
      "Training Cost 27.000257 %, Validation Loss 7.421875 %\n",
      "=====================================================================\n",
      "=====================================================================\n",
      "Epoch 15, Minibatch 195/195 \n",
      "Training Accuracy:  92.5%, Validation Accuracy:  92.6%\n",
      "Training Cost 26.824421 %, Validation Loss 7.371795 %\n",
      "=====================================================================\n",
      "=====================================================================\n",
      "Epoch 16, Minibatch 195/195 \n",
      "Training Accuracy:  92.6%, Validation Accuracy:  92.6%\n",
      "Training Cost 26.663533 %, Validation Loss 7.371795 %\n",
      "=====================================================================\n",
      "=====================================================================\n",
      "Epoch 17, Minibatch 195/195 \n",
      "Training Accuracy:  92.6%, Validation Accuracy:  92.6%\n",
      "Training Cost 26.515350 %, Validation Loss 7.381811 %\n",
      "=====================================================================\n",
      "=====================================================================\n",
      "Epoch 18, Minibatch 195/195 \n",
      "Training Accuracy:  92.7%, Validation Accuracy:  92.7%\n",
      "Training Cost 26.378095 %, Validation Loss 7.331731 %\n",
      "=====================================================================\n",
      "=====================================================================\n",
      "Epoch 19, Minibatch 195/195 \n",
      "Training Accuracy:  92.7%, Validation Accuracy:  92.7%\n",
      "Training Cost 26.250324 %, Validation Loss 7.281651 %\n",
      "=====================================================================\n",
      "=====================================================================\n",
      "Epoch 20, Minibatch 195/195 \n",
      "Training Accuracy:  92.8%, Validation Accuracy:  92.7%\n",
      "Training Cost 26.130867 %, Validation Loss 7.291667 %\n",
      "=====================================================================\n",
      "=====================================================================\n",
      "Epoch 21, Minibatch 195/195 \n",
      "Training Accuracy:  92.8%, Validation Accuracy:  92.7%\n",
      "Training Cost 26.018745 %, Validation Loss 7.301683 %\n",
      "=====================================================================\n",
      "=====================================================================\n",
      "Epoch 22, Minibatch 195/195 \n",
      "Training Accuracy:  92.9%, Validation Accuracy:  92.7%\n",
      "Training Cost 25.913140 %, Validation Loss 7.311699 %\n",
      "=====================================================================\n",
      "=====================================================================\n",
      "Epoch 23, Minibatch 195/195 \n",
      "Training Accuracy:  92.9%, Validation Accuracy:  92.7%\n",
      "Training Cost 25.813365 %, Validation Loss 7.281651 %\n",
      "=====================================================================\n",
      "=====================================================================\n",
      "Epoch 24, Minibatch 195/195 \n",
      "Training Accuracy:  92.9%, Validation Accuracy:  92.7%\n",
      "Training Cost 25.718835 %, Validation Loss 7.291667 %\n",
      "=====================================================================\n",
      "=====================================================================\n",
      "Epoch 25, Minibatch 195/195 \n",
      "Training Accuracy:  92.9%, Validation Accuracy:  92.7%\n",
      "Training Cost 25.629047 %, Validation Loss 7.321715 %\n",
      "=====================================================================\n",
      "=====================================================================\n",
      "Epoch 26, Minibatch 195/195 \n",
      "Training Accuracy:  93.0%, Validation Accuracy:  92.7%\n",
      "Training Cost 25.543568 %, Validation Loss 7.331731 %\n",
      "=====================================================================\n",
      "=====================================================================\n",
      "Epoch 27, Minibatch 195/195 \n",
      "Training Accuracy:  93.0%, Validation Accuracy:  92.7%\n",
      "Training Cost 25.462025 %, Validation Loss 7.321715 %\n",
      "=====================================================================\n",
      "=====================================================================\n",
      "Epoch 28, Minibatch 195/195 \n",
      "Training Accuracy:  93.0%, Validation Accuracy:  92.7%\n",
      "Training Cost 25.384083 %, Validation Loss 7.341747 %\n",
      "=====================================================================\n",
      "=====================================================================\n",
      "Epoch 29, Minibatch 195/195 \n",
      "Training Accuracy:  93.0%, Validation Accuracy:  92.7%\n",
      "Training Cost 25.309458 %, Validation Loss 7.311699 %\n",
      "=====================================================================\n",
      "=====================================================================\n",
      "Epoch 30, Minibatch 195/195 \n",
      "Training Accuracy:  93.1%, Validation Accuracy:  92.7%\n",
      "Training Cost 25.237888 %, Validation Loss 7.291667 %\n",
      "=====================================================================\n",
      "=====================================================================\n",
      "Epoch 31, Minibatch 195/195 \n"
     ]
    },
    {
     "name": "stdout",
     "output_type": "stream",
     "text": [
      "Training Accuracy:  93.1%, Validation Accuracy:  92.7%\n",
      "Training Cost 25.169149 %, Validation Loss 7.301683 %\n",
      "=====================================================================\n",
      "=====================================================================\n",
      "Epoch 32, Minibatch 195/195 \n",
      "Training Accuracy:  93.1%, Validation Accuracy:  92.7%\n",
      "Training Cost 25.103039 %, Validation Loss 7.321715 %\n",
      "=====================================================================\n",
      "=====================================================================\n",
      "Epoch 33, Minibatch 195/195 \n",
      "Training Accuracy:  93.1%, Validation Accuracy:  92.7%\n",
      "Training Cost 25.039372 %, Validation Loss 7.301683 %\n",
      "=====================================================================\n",
      "=====================================================================\n",
      "Epoch 34, Minibatch 195/195 \n",
      "Training Accuracy:  93.1%, Validation Accuracy:  92.7%\n",
      "Training Cost 24.977982 %, Validation Loss 7.301683 %\n",
      "=====================================================================\n",
      "=====================================================================\n",
      "Epoch 35, Minibatch 195/195 \n",
      "Training Accuracy:  93.1%, Validation Accuracy:  92.7%\n",
      "Training Cost 24.918720 %, Validation Loss 7.321715 %\n",
      "=====================================================================\n",
      "=====================================================================\n",
      "Epoch 36, Minibatch 195/195 \n",
      "Training Accuracy:  93.2%, Validation Accuracy:  92.7%\n",
      "Training Cost 24.861456 %, Validation Loss 7.281651 %\n",
      "=====================================================================\n",
      "=====================================================================\n",
      "Epoch 37, Minibatch 195/195 \n",
      "Training Accuracy:  93.2%, Validation Accuracy:  92.7%\n",
      "Training Cost 24.806061 %, Validation Loss 7.271635 %\n",
      "=====================================================================\n",
      "=====================================================================\n",
      "Epoch 38, Minibatch 195/195 \n",
      "Training Accuracy:  93.2%, Validation Accuracy:  92.7%\n",
      "Training Cost 24.752425 %, Validation Loss 7.271635 %\n",
      "=====================================================================\n",
      "=====================================================================\n",
      "Epoch 39, Minibatch 195/195 \n",
      "Training Accuracy:  93.2%, Validation Accuracy:  92.7%\n",
      "Training Cost 24.700448 %, Validation Loss 7.261619 %\n",
      "=====================================================================\n",
      "=====================================================================\n",
      "Epoch 40, Minibatch 195/195 \n",
      "Training Accuracy:  93.2%, Validation Accuracy:  92.8%\n",
      "Training Cost 24.650034 %, Validation Loss 7.241587 %\n",
      "=====================================================================\n",
      "=====================================================================\n",
      "Epoch 41, Minibatch 195/195 \n",
      "Training Accuracy:  93.2%, Validation Accuracy:  92.8%\n",
      "Training Cost 24.601096 %, Validation Loss 7.221554 %\n",
      "=====================================================================\n",
      "=====================================================================\n",
      "Epoch 42, Minibatch 195/195 \n",
      "Training Accuracy:  93.2%, Validation Accuracy:  92.8%\n",
      "Training Cost 24.553555 %, Validation Loss 7.211538 %\n",
      "=====================================================================\n",
      "=====================================================================\n",
      "Epoch 43, Minibatch 195/195 \n",
      "Training Accuracy:  93.3%, Validation Accuracy:  92.8%\n",
      "Training Cost 24.507345 %, Validation Loss 7.191506 %\n",
      "=====================================================================\n",
      "=====================================================================\n",
      "Epoch 44, Minibatch 195/195 \n",
      "Training Accuracy:  93.3%, Validation Accuracy:  92.8%\n",
      "Training Cost 24.462390 %, Validation Loss 7.171474 %\n",
      "=====================================================================\n",
      "=====================================================================\n",
      "Epoch 45, Minibatch 195/195 \n",
      "Training Accuracy:  93.3%, Validation Accuracy:  92.8%\n",
      "Training Cost 24.418634 %, Validation Loss 7.161458 %\n",
      "=====================================================================\n",
      "=====================================================================\n",
      "Epoch 46, Minibatch 195/195 \n",
      "Training Accuracy:  93.3%, Validation Accuracy:  92.9%\n",
      "Training Cost 24.376014 %, Validation Loss 7.141426 %\n",
      "=====================================================================\n",
      "=====================================================================\n",
      "Epoch 47, Minibatch 195/195 \n",
      "Training Accuracy:  93.3%, Validation Accuracy:  92.9%\n",
      "Training Cost 24.334484 %, Validation Loss 7.121394 %\n",
      "=====================================================================\n",
      "=====================================================================\n",
      "Epoch 48, Minibatch 195/195 \n",
      "Training Accuracy:  93.3%, Validation Accuracy:  92.9%\n",
      "Training Cost 24.293986 %, Validation Loss 7.121394 %\n",
      "=====================================================================\n",
      "=====================================================================\n",
      "Epoch 49, Minibatch 195/195 \n",
      "Training Accuracy:  93.3%, Validation Accuracy:  92.9%\n",
      "Training Cost 24.254476 %, Validation Loss 7.111378 %\n",
      "=====================================================================\n",
      "=====================================================================\n",
      "Epoch 50, Minibatch 195/195 \n",
      "Training Accuracy:  93.3%, Validation Accuracy:  92.9%\n",
      "Training Cost 24.215913 %, Validation Loss 7.101362 %\n",
      "=====================================================================\n",
      "=====================================================================\n",
      "Epoch 51, Minibatch 195/195 \n",
      "Training Accuracy:  93.3%, Validation Accuracy:  92.9%\n",
      "Training Cost 24.178259 %, Validation Loss 7.091346 %\n",
      "=====================================================================\n",
      "=====================================================================\n",
      "Epoch 52, Minibatch 195/195 \n",
      "Training Accuracy:  93.4%, Validation Accuracy:  92.9%\n",
      "Training Cost 24.141468 %, Validation Loss 7.091346 %\n",
      "=====================================================================\n",
      "=====================================================================\n",
      "Epoch 53, Minibatch 195/195 \n",
      "Training Accuracy:  93.4%, Validation Accuracy:  92.9%\n",
      "Training Cost 24.105506 %, Validation Loss 7.091346 %\n",
      "=====================================================================\n",
      "=====================================================================\n",
      "Epoch 54, Minibatch 195/195 \n",
      "Training Accuracy:  93.4%, Validation Accuracy:  92.9%\n",
      "Training Cost 24.070345 %, Validation Loss 7.091346 %\n",
      "=====================================================================\n",
      "=====================================================================\n",
      "Epoch 55, Minibatch 195/195 \n",
      "Training Accuracy:  93.4%, Validation Accuracy:  92.9%\n",
      "Training Cost 24.035950 %, Validation Loss 7.101362 %\n",
      "=====================================================================\n",
      "=====================================================================\n",
      "Epoch 56, Minibatch 195/195 \n",
      "Training Accuracy:  93.4%, Validation Accuracy:  92.9%\n",
      "Training Cost 24.002293 %, Validation Loss 7.091346 %\n",
      "=====================================================================\n",
      "=====================================================================\n",
      "Epoch 57, Minibatch 195/195 \n",
      "Training Accuracy:  93.4%, Validation Accuracy:  92.9%\n",
      "Training Cost 23.969339 %, Validation Loss 7.071314 %\n",
      "=====================================================================\n",
      "=====================================================================\n",
      "Epoch 58, Minibatch 195/195 \n",
      "Training Accuracy:  93.4%, Validation Accuracy:  92.9%\n",
      "Training Cost 23.937069 %, Validation Loss 7.081330 %\n",
      "=====================================================================\n",
      "=====================================================================\n",
      "Epoch 59, Minibatch 195/195 \n",
      "Training Accuracy:  93.4%, Validation Accuracy:  92.9%\n",
      "Training Cost 23.905459 %, Validation Loss 7.061298 %\n",
      "=====================================================================\n",
      "=====================================================================\n",
      "Epoch 60, Minibatch 195/195 \n",
      "Training Accuracy:  93.4%, Validation Accuracy:  92.9%\n",
      "Training Cost 23.874481 %, Validation Loss 7.051282 %\n",
      "=====================================================================\n",
      "=====================================================================\n",
      "Epoch 61, Minibatch 195/195 \n"
     ]
    },
    {
     "name": "stdout",
     "output_type": "stream",
     "text": [
      "Training Accuracy:  93.4%, Validation Accuracy:  93.0%\n",
      "Training Cost 23.844111 %, Validation Loss 7.041266 %\n",
      "=====================================================================\n",
      "=====================================================================\n",
      "Epoch 62, Minibatch 195/195 \n",
      "Training Accuracy:  93.4%, Validation Accuracy:  93.0%\n",
      "Training Cost 23.814334 %, Validation Loss 7.041266 %\n",
      "=====================================================================\n",
      "=====================================================================\n",
      "Epoch 63, Minibatch 195/195 \n",
      "Training Accuracy:  93.5%, Validation Accuracy:  93.0%\n",
      "Training Cost 23.785123 %, Validation Loss 7.041266 %\n",
      "=====================================================================\n",
      "=====================================================================\n",
      "Epoch 64, Minibatch 195/195 \n",
      "Training Accuracy:  93.5%, Validation Accuracy:  93.0%\n",
      "Training Cost 23.756464 %, Validation Loss 7.021234 %\n",
      "=====================================================================\n",
      "=====================================================================\n",
      "Epoch 65, Minibatch 195/195 \n",
      "Training Accuracy:  93.5%, Validation Accuracy:  93.0%\n",
      "Training Cost 23.728332 %, Validation Loss 7.001202 %\n",
      "=====================================================================\n",
      "=====================================================================\n",
      "Epoch 66, Minibatch 195/195 \n",
      "Training Accuracy:  93.5%, Validation Accuracy:  93.0%\n",
      "Training Cost 23.700720 %, Validation Loss 7.001202 %\n",
      "=====================================================================\n",
      "=====================================================================\n",
      "Epoch 67, Minibatch 195/195 \n",
      "Training Accuracy:  93.5%, Validation Accuracy:  93.0%\n",
      "Training Cost 23.673604 %, Validation Loss 7.001202 %\n",
      "=====================================================================\n",
      "=====================================================================\n",
      "Epoch 68, Minibatch 195/195 \n",
      "Training Accuracy:  93.5%, Validation Accuracy:  93.0%\n",
      "Training Cost 23.646969 %, Validation Loss 7.011218 %\n",
      "=====================================================================\n",
      "=====================================================================\n",
      "Epoch 69, Minibatch 195/195 \n",
      "Training Accuracy:  93.5%, Validation Accuracy:  93.0%\n",
      "Training Cost 23.620805 %, Validation Loss 7.001202 %\n",
      "=====================================================================\n",
      "=====================================================================\n",
      "Epoch 70, Minibatch 195/195 \n",
      "Training Accuracy:  93.5%, Validation Accuracy:  93.0%\n",
      "Training Cost 23.595089 %, Validation Loss 7.001202 %\n",
      "=====================================================================\n",
      "=====================================================================\n",
      "Epoch 71, Minibatch 195/195 \n",
      "Training Accuracy:  93.5%, Validation Accuracy:  93.0%\n",
      "Training Cost 23.569813 %, Validation Loss 6.981170 %\n",
      "=====================================================================\n",
      "=====================================================================\n",
      "Epoch 72, Minibatch 195/195 \n",
      "Training Accuracy:  93.5%, Validation Accuracy:  93.0%\n",
      "Training Cost 23.544961 %, Validation Loss 6.981170 %\n",
      "=====================================================================\n",
      "=====================================================================\n",
      "Epoch 73, Minibatch 195/195 \n",
      "Training Accuracy:  93.5%, Validation Accuracy:  93.0%\n",
      "Training Cost 23.520528 %, Validation Loss 7.011218 %\n",
      "=====================================================================\n",
      "=====================================================================\n",
      "Epoch 74, Minibatch 195/195 \n",
      "Training Accuracy:  93.5%, Validation Accuracy:  93.0%\n",
      "Training Cost 23.496489 %, Validation Loss 7.011218 %\n",
      "=====================================================================\n",
      "=====================================================================\n",
      "Epoch 75, Minibatch 195/195 \n",
      "Training Accuracy:  93.5%, Validation Accuracy:  93.0%\n",
      "Training Cost 23.472846 %, Validation Loss 7.011218 %\n",
      "=====================================================================\n",
      "=====================================================================\n",
      "Epoch 76, Minibatch 195/195 \n",
      "Training Accuracy:  93.5%, Validation Accuracy:  93.0%\n",
      "Training Cost 23.449580 %, Validation Loss 7.031250 %\n",
      "=====================================================================\n",
      "=====================================================================\n",
      "Epoch 77, Minibatch 195/195 \n",
      "Training Accuracy:  93.5%, Validation Accuracy:  93.0%\n",
      "Training Cost 23.426682 %, Validation Loss 7.031250 %\n",
      "=====================================================================\n",
      "=====================================================================\n",
      "Epoch 78, Minibatch 195/195 \n",
      "Training Accuracy:  93.5%, Validation Accuracy:  93.0%\n",
      "Training Cost 23.404139 %, Validation Loss 7.021234 %\n",
      "=====================================================================\n",
      "=====================================================================\n",
      "Epoch 79, Minibatch 195/195 \n",
      "Training Accuracy:  93.5%, Validation Accuracy:  93.0%\n",
      "Training Cost 23.381950 %, Validation Loss 7.001202 %\n",
      "=====================================================================\n",
      "=====================================================================\n",
      "Epoch 80, Minibatch 195/195 \n",
      "Training Accuracy:  93.5%, Validation Accuracy:  93.0%\n",
      "Training Cost 23.360097 %, Validation Loss 7.021234 %\n",
      "=====================================================================\n",
      "=====================================================================\n",
      "Epoch 81, Minibatch 195/195 \n",
      "Training Accuracy:  93.5%, Validation Accuracy:  93.0%\n",
      "Training Cost 23.338573 %, Validation Loss 7.031250 %\n",
      "=====================================================================\n",
      "=====================================================================\n",
      "Epoch 82, Minibatch 195/195 \n",
      "Training Accuracy:  93.5%, Validation Accuracy:  93.0%\n",
      "Training Cost 23.317368 %, Validation Loss 7.021234 %\n",
      "=====================================================================\n",
      "=====================================================================\n",
      "Epoch 83, Minibatch 195/195 \n",
      "Training Accuracy:  93.5%, Validation Accuracy:  93.0%\n",
      "Training Cost 23.296481 %, Validation Loss 7.031250 %\n",
      "=====================================================================\n",
      "=====================================================================\n",
      "Epoch 84, Minibatch 195/195 \n",
      "Training Accuracy:  93.5%, Validation Accuracy:  93.0%\n",
      "Training Cost 23.275898 %, Validation Loss 7.041266 %\n",
      "=====================================================================\n",
      "=====================================================================\n",
      "Epoch 85, Minibatch 195/195 \n",
      "Training Accuracy:  93.6%, Validation Accuracy:  93.0%\n",
      "Training Cost 23.255612 %, Validation Loss 7.031250 %\n",
      "=====================================================================\n",
      "=====================================================================\n",
      "Epoch 86, Minibatch 195/195 \n",
      "Training Accuracy:  93.6%, Validation Accuracy:  93.0%\n",
      "Training Cost 23.235616 %, Validation Loss 7.021234 %\n",
      "=====================================================================\n",
      "=====================================================================\n",
      "Epoch 87, Minibatch 195/195 \n",
      "Training Accuracy:  93.6%, Validation Accuracy:  93.0%\n",
      "Training Cost 23.215902 %, Validation Loss 7.031250 %\n",
      "=====================================================================\n",
      "=====================================================================\n",
      "Epoch 88, Minibatch 195/195 \n",
      "Training Accuracy:  93.6%, Validation Accuracy:  93.0%\n",
      "Training Cost 23.196462 %, Validation Loss 7.021234 %\n",
      "=====================================================================\n",
      "=====================================================================\n",
      "Epoch 89, Minibatch 195/195 \n",
      "Training Accuracy:  93.6%, Validation Accuracy:  93.0%\n",
      "Training Cost 23.177296 %, Validation Loss 7.021234 %\n",
      "=====================================================================\n",
      "=====================================================================\n",
      "Epoch 90, Minibatch 195/195 \n",
      "Training Accuracy:  93.6%, Validation Accuracy:  93.0%\n",
      "Training Cost 23.158389 %, Validation Loss 7.041266 %\n",
      "=====================================================================\n",
      "=====================================================================\n",
      "Epoch 91, Minibatch 195/195 \n"
     ]
    },
    {
     "name": "stdout",
     "output_type": "stream",
     "text": [
      "Training Accuracy:  93.6%, Validation Accuracy:  93.0%\n",
      "Training Cost 23.139741 %, Validation Loss 7.041266 %\n",
      "=====================================================================\n",
      "=====================================================================\n",
      "Epoch 92, Minibatch 195/195 \n",
      "Training Accuracy:  93.6%, Validation Accuracy:  93.0%\n",
      "Training Cost 23.121342 %, Validation Loss 7.031250 %\n",
      "=====================================================================\n",
      "=====================================================================\n",
      "Epoch 93, Minibatch 195/195 \n",
      "Training Accuracy:  93.6%, Validation Accuracy:  93.0%\n",
      "Training Cost 23.103188 %, Validation Loss 7.031250 %\n",
      "=====================================================================\n",
      "=====================================================================\n",
      "Epoch 94, Minibatch 195/195 \n",
      "Training Accuracy:  93.6%, Validation Accuracy:  93.0%\n",
      "Training Cost 23.085274 %, Validation Loss 7.021234 %\n",
      "=====================================================================\n",
      "=====================================================================\n",
      "Epoch 95, Minibatch 195/195 \n",
      "Training Accuracy:  93.6%, Validation Accuracy:  92.9%\n",
      "Training Cost 23.067595 %, Validation Loss 7.051282 %\n",
      "=====================================================================\n",
      "=====================================================================\n",
      "Epoch 96, Minibatch 195/195 \n",
      "Training Accuracy:  93.6%, Validation Accuracy:  92.9%\n",
      "Training Cost 23.050141 %, Validation Loss 7.051282 %\n",
      "=====================================================================\n",
      "=====================================================================\n",
      "Epoch 97, Minibatch 195/195 \n",
      "Training Accuracy:  93.6%, Validation Accuracy:  92.9%\n",
      "Training Cost 23.032916 %, Validation Loss 7.061298 %\n",
      "=====================================================================\n",
      "=====================================================================\n",
      "Epoch 98, Minibatch 195/195 \n",
      "Training Accuracy:  93.6%, Validation Accuracy:  92.9%\n",
      "Training Cost 23.015903 %, Validation Loss 7.071314 %\n",
      "=====================================================================\n",
      "=====================================================================\n",
      "Epoch 99, Minibatch 195/195 \n",
      "Training Accuracy:  93.6%, Validation Accuracy:  92.9%\n",
      "Training Cost 22.999108 %, Validation Loss 7.091346 %\n",
      "=====================================================================\n",
      "=====================================================================\n",
      "Epoch 100, Minibatch 195/195 \n",
      "Training Accuracy:  93.6%, Validation Accuracy:  92.9%\n",
      "Training Cost 22.982521 %, Validation Loss 7.081330 %\n",
      "=====================================================================\n",
      "=====================================================================\n",
      "Optimization completed with training performance score of 22.982521 %, validation peformance score of 7.081330 %,            and test performance score of 7.562099 %\n",
      "Training Accuracy 93.611777 %, Validation Accuracy 92.918670 %, and Test Accuracy 92.437899 %\n",
      "The code ran for 100 epochs, with 4.063226 epochs/sec\n",
      "The code ran for 24.6s\n",
      "The code ran for 0.41m\n"
     ]
    }
   ],
   "source": [
    "sgd_optimization_mnist(dataset=dataset, learning_rate=learning_rate, n_epochs=100, batch_size=batch_size)"
   ]
  },
  {
   "cell_type": "markdown",
   "metadata": {},
   "source": [
    "## Helper Function to Perform Prediction"
   ]
  },
  {
   "cell_type": "code",
   "execution_count": 24,
   "metadata": {
    "collapsed": true
   },
   "outputs": [],
   "source": [
    "# Create a function to load a trained model and use it to predict the labels\n",
    "# Test the model on unseen MNIST testing data\n",
    "\n",
    "def test_model_pred(dataset, num_preds):\n",
    "    \n",
    "    # Deserialize the best saved pickled model\n",
    "    # UnicodeDecodeError: 'utf-8' codec can't decode byte 0x80 in position 0: invalid start byte\n",
    "    # To read the fil, open it in mode 'rb'\n",
    "    classifier = cPickle.load(open('best_mnist_linear_model.pkl', 'rb'))\n",
    "    \n",
    "    # Use Theano to compile a prediction function\n",
    "    predict_model = theano.function(inputs=[classifier.input], outputs=classifier.y_pred)\n",
    "    print(predict_model)\n",
    "    \n",
    "    # Predict the digits for num_preds images\n",
    "    predicted_values = predict_model(testx[:num_preds])\n",
    "    print(\"Predicted values for the first %s images in test set:\" % num_preds)\n",
    "    \n",
    "    print(predicted_values)"
   ]
  },
  {
   "cell_type": "code",
   "execution_count": 25,
   "metadata": {},
   "outputs": [
    {
     "name": "stdout",
     "output_type": "stream",
     "text": [
      "<theano.compile.function_module.Function object at 0x7f4b79314b00>\n",
      "Predicted values for the first 10 images in test set:\n",
      "[7 2 1 0 4 1 4 9 6 9]\n"
     ]
    }
   ],
   "source": [
    "test_model_pred(dataset, num_preds=10)"
   ]
  },
  {
   "cell_type": "code",
   "execution_count": 26,
   "metadata": {
    "collapsed": true
   },
   "outputs": [],
   "source": [
    "# get the values of the weights from the tensorflow variable\n",
    "# classifier = cPickle.load(open('best_logistic_model.pkl', 'rb'))"
   ]
  },
  {
   "cell_type": "markdown",
   "metadata": {},
   "source": [
    "## Plot Weights"
   ]
  },
  {
   "cell_type": "code",
   "execution_count": 27,
   "metadata": {
    "collapsed": true
   },
   "outputs": [],
   "source": [
    "def plot_weights(weights, cmap):\n",
    "    \n",
    "    # print statistics for the weights\n",
    "    print(\"Min:  {0:.5f}, Max:   {1:.5f}\".format(weights.min(), weights.max()))\n",
    "    print(\"Mean: {0:.5f}, Stdev: {1:.5f}\".format(weights.mean(), weights.std()))\n",
    "    \n",
    "    filters = tile_raster_images(weights, img_shape=img_shape, tile_shape=(1, 10), tile_spacing=(1, 1), \n",
    "                                 scale_rows_to_unit_interval=True, output_pixel_vals=True)\n",
    "        \n",
    "    # plot the weights\n",
    "    plt.imshow(filters, cmap=cmap)\n",
    "    plt.show()\n"
   ]
  },
  {
   "cell_type": "code",
   "execution_count": 28,
   "metadata": {},
   "outputs": [
    {
     "name": "stdout",
     "output_type": "stream",
     "text": [
      "Min:  -0.58298, Max:   0.44517\n",
      "Mean: -0.00000, Stdev: 0.07562\n"
     ]
    },
    {
     "data": {
      "image/png": "[encoded data removed]",
      "text/plain": [
       "<matplotlib.figure.Figure at 0x7f4b5dee7588>"
      ]
     },
     "metadata": {},
     "output_type": "display_data"
    }
   ],
   "source": [
    "weights = classifier.W.T.eval()\n",
    "\n",
    "plot_weights(weights, cmap='gray')"
   ]
  }
 ],
 "metadata": {
  "kernelspec": {
   "display_name": "theano",
   "language": "python",
   "name": "theano"
  },
  "language_info": {
   "codemirror_mode": {
    "name": "ipython",
    "version": 3
   },
   "file_extension": ".py",
   "mimetype": "text/x-python",
   "name": "python",
   "nbconvert_exporter": "python",
   "pygments_lexer": "ipython3",
   "version": "3.4.3"
  }
 },
 "nbformat": 4,
 "nbformat_minor": 2
}

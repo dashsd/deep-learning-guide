{
 "cells": [
  {
   "cell_type": "code",
   "execution_count": 1,
   "metadata": {
    "collapsed": true
   },
   "outputs": [],
   "source": [
    "from __future__ import absolute_import\n",
    "from __future__ import division\n",
    "from __future__ import print_function"
   ]
  },
  {
   "cell_type": "code",
   "execution_count": 2,
   "metadata": {
    "collapsed": true
   },
   "outputs": [],
   "source": [
    "%matplotlib inline\n",
    "\n",
    "import matplotlib.pyplot as plt\n",
    "import numpy as np\n",
    "import _pickle as cPickle\n",
    "import gzip\n",
    "import os\n",
    "import sys\n",
    "import timeit\n",
    "from sklearn.metrics import confusion_matrix\n",
    "import math\n",
    "import os\n",
    "import pickle"
   ]
  },
  {
   "cell_type": "code",
   "execution_count": 3,
   "metadata": {},
   "outputs": [
    {
     "name": "stderr",
     "output_type": "stream",
     "text": [
      "Using TensorFlow backend.\n"
     ]
    },
    {
     "name": "stdout",
     "output_type": "stream",
     "text": [
      "It took Keras with TensorFlow as backend 0.7s to load.\n"
     ]
    }
   ],
   "source": [
    "# Import Keras with TensorFlow backend\n",
    "# Calculate the time it takes to import Keras with Theano backend\n",
    "start_time = timeit.default_timer()\n",
    "import keras\n",
    "end_time = timeit.default_timer()\n",
    "print(\"It took Keras with TensorFlow as backend %.1fs to load.\" % (end_time - start_time))"
   ]
  },
  {
   "cell_type": "code",
   "execution_count": 4,
   "metadata": {},
   "outputs": [],
   "source": [
    "from keras.preprocessing.image import ImageDataGenerator\n",
    "from keras.models import Sequential\n",
    "from keras.layers import Dense, Dropout, Activation, Flatten\n",
    "from keras.layers import Conv2D, MaxPooling2D\n",
    "from keras.utils import np_utils\n",
    "from keras.callbacks import Callback\n",
    "from keras.callbacks import ModelCheckpoint\n",
    "\n",
    "from keras_tqdm import TQDMNotebookCallback\n",
    "from keras_tqdm import TQDMCallback\n",
    "from keras.utils import plot_model\n",
    "from keras.utils.vis_utils import model_to_dot\n",
    "\n",
    "from keras import optimizers"
   ]
  },
  {
   "cell_type": "code",
   "execution_count": 5,
   "metadata": {
    "collapsed": true
   },
   "outputs": [],
   "source": [
    "# Import MNIST dataset\n",
    "from keras.datasets import mnist"
   ]
  },
  {
   "cell_type": "code",
   "execution_count": 6,
   "metadata": {
    "collapsed": true
   },
   "outputs": [],
   "source": [
    "# shuffle and split the data between training and test sets\n",
    "(x_train, y_train), (x_test, y_test) = mnist.load_data()"
   ]
  },
  {
   "cell_type": "code",
   "execution_count": 7,
   "metadata": {},
   "outputs": [
    {
     "name": "stdout",
     "output_type": "stream",
     "text": [
      "x_train shape: (60000, 784)\n",
      "60000 train samples\n",
      "10000 test samples\n"
     ]
    }
   ],
   "source": [
    "# set the no of training and test dataset examples\n",
    "x_train = x_train.reshape(60000, 784)\n",
    "x_test = x_test.reshape(10000, 784)\n",
    "\n",
    "# create placeholders\n",
    "x_train = x_train.astype('float32')\n",
    "x_test = x_test.astype('float32')\n",
    "\n",
    "\n",
    "# no of training and test batches\n",
    "x_train /= 255\n",
    "x_test /= 255\n",
    "\n",
    "print('x_train shape:', x_train.shape)\n",
    "print(x_train.shape[0], 'train samples')\n",
    "print(x_test.shape[0], 'test samples')"
   ]
  },
  {
   "cell_type": "code",
   "execution_count": 8,
   "metadata": {},
   "outputs": [
    {
     "name": "stdout",
     "output_type": "stream",
     "text": [
      "No of output classes:  10\n"
     ]
    }
   ],
   "source": [
    "n_output = len(np.unique(y_train))\n",
    "print(\"No of output classes: \", n_output)"
   ]
  },
  {
   "cell_type": "code",
   "execution_count": 9,
   "metadata": {},
   "outputs": [
    {
     "name": "stdout",
     "output_type": "stream",
     "text": [
      "(60000, 10)\n",
      "(10000, 10)\n"
     ]
    }
   ],
   "source": [
    "# convert class vectors to binary class matrices\n",
    "# Y_train = np_utils.to_categorical(y_train, num_classes)\n",
    "y_train = keras.utils.to_categorical(y_train, n_output)\n",
    "print(y_train.shape)\n",
    "\n",
    "# Y_test = np_utils.to_categorical(y_test, num_classes)\n",
    "y_test = keras.utils.to_categorical(y_test, n_output)\n",
    "print(y_test.shape)"
   ]
  },
  {
   "cell_type": "markdown",
   "metadata": {},
   "source": [
    "## Create the CNN Model"
   ]
  },
  {
   "cell_type": "code",
   "execution_count": 10,
   "metadata": {
    "collapsed": true
   },
   "outputs": [],
   "source": [
    "# Create a MLP models with two hidden layers, with each hidden layer consisting of \n",
    "model = Sequential()\n",
    "\n",
    "model.add(Dense(10, activation='sigmoid', input_dim=x_train.shape[1]))"
   ]
  },
  {
   "cell_type": "markdown",
   "metadata": {},
   "source": [
    "## Print the Model Architecture"
   ]
  },
  {
   "cell_type": "code",
   "execution_count": 11,
   "metadata": {},
   "outputs": [
    {
     "name": "stdout",
     "output_type": "stream",
     "text": [
      "_________________________________________________________________\n",
      "Layer (type)                 Output Shape              Param #   \n",
      "=================================================================\n",
      "dense_1 (Dense)              (None, 10)                7850      \n",
      "=================================================================\n",
      "Total params: 7,850.0\n",
      "Trainable params: 7,850\n",
      "Non-trainable params: 0.0\n",
      "_________________________________________________________________\n"
     ]
    }
   ],
   "source": [
    "# model summary\n",
    "model.summary()"
   ]
  },
  {
   "cell_type": "code",
   "execution_count": 12,
   "metadata": {
    "collapsed": true
   },
   "outputs": [],
   "source": [
    "# model visualization - using keras utility functions\n",
    "img = plot_model(model, to_file='mnist_log_reg.png')"
   ]
  },
  {
   "cell_type": "markdown",
   "metadata": {},
   "source": [
    "## Optimize the Model"
   ]
  },
  {
   "cell_type": "code",
   "execution_count": 13,
   "metadata": {
    "collapsed": true
   },
   "outputs": [],
   "source": [
    "# optimize the model for categorical classification\n",
    "\n",
    "sgd = optimizers.SGD(lr=0.01, clipnorm=1.)\n",
    "\n",
    "model.compile(optimizer=sgd, loss='categorical_crossentropy', metrics=['accuracy'])"
   ]
  },
  {
   "cell_type": "markdown",
   "metadata": {},
   "source": [
    "## Save Model Checkpoints"
   ]
  },
  {
   "cell_type": "code",
   "execution_count": 14,
   "metadata": {},
   "outputs": [
    {
     "name": "stdout",
     "output_type": "stream",
     "text": [
      "No checkpoint exists as of now!!!!\n"
     ]
    }
   ],
   "source": [
    "# create model checkpoints\n",
    "save_dir = \"checkpoints_mnist_log_reg_keras_tensorflow/\"\n",
    "# create the directory if it doesn't exist\n",
    "if not os.path.exists(save_dir):\n",
    "    os.makedirs(save_dir)\n",
    "    \n",
    "# path for the checkpoint file\n",
    "save_path = os.path.join(save_dir, \"mnist_log_reg.hdf5\")\n",
    "if os.path.exists(save_path):\n",
    "    print(\"Checkpoint created.\")\n",
    "else:\n",
    "    print(\"No checkpoint exists as of now!!!!\")\n",
    "\n",
    "checkpointer = ModelCheckpoint(filepath=save_path, verbose=1, save_best_only=True)"
   ]
  },
  {
   "cell_type": "markdown",
   "metadata": {},
   "source": [
    "## Helper Class to Record Loss History"
   ]
  },
  {
   "cell_type": "code",
   "execution_count": 15,
   "metadata": {
    "collapsed": true
   },
   "outputs": [],
   "source": [
    "class LossHistory(keras.callbacks.Callback):\n",
    "    def on_train_begin(self, logs={}):\n",
    "        self.losses = []\n",
    "\n",
    "    def on_batch_end(self, batch, logs={}):\n",
    "        self.losses.append(logs.get('loss'))"
   ]
  },
  {
   "cell_type": "markdown",
   "metadata": {},
   "source": [
    "## Helper Function to Initiate Training"
   ]
  },
  {
   "cell_type": "code",
   "execution_count": 16,
   "metadata": {
    "collapsed": true
   },
   "outputs": [],
   "source": [
    "# Define a function for training the model\n",
    "\n",
    "def optimize(batch_size, n_epochs):\n",
    "    \n",
    "    print(\"Starting Optimization\")\n",
    "    \n",
    "    start_time = timeit.default_timer()\n",
    "    \n",
    "    history = LossHistory()\n",
    "    \n",
    "    model.fit(x_train, y_train, batch_size=batch_size, verbose=1, epochs=n_epochs, \n",
    "              callbacks=[TQDMCallback(), checkpointer, history], \n",
    "              validation_data=(x_test, y_test))\n",
    "    \n",
    "    end_time = timeit.default_timer()\n",
    "    \n",
    "    time_diff = end_time - start_time\n",
    "    \n",
    "    print(\"The code ran for %.1fs\" % (time_diff))\n",
    "    \n",
    "    print(\"The code ran for %.2fm\" % (time_diff / 60.))"
   ]
  },
  {
   "cell_type": "code",
   "execution_count": 17,
   "metadata": {
    "scrolled": true
   },
   "outputs": [
    {
     "name": "stdout",
     "output_type": "stream",
     "text": [
      "Starting Optimization\n"
     ]
    },
    {
     "name": "stderr",
     "output_type": "stream",
     "text": [
      "Training:   0%|          | 0/100 [00:00<?, ?it/s]\n",
      "Epoch: 0:   0%|          | 0/60000 [00:00<?, ?it/s]"
     ]
    },
    {
     "name": "stdout",
     "output_type": "stream",
     "text": [
      "Train on 60000 samples, validate on 10000 samples\n",
      "Epoch 1/100\n"
     ]
    },
    {
     "name": "stderr",
     "output_type": "stream",
     "text": [
      "\u001b[A\n",
      "Epoch: 0 - loss: 2.296, acc: 0.137  0%|          | 256/60000 [00:00<02:17, 434.17it/s]"
     ]
    },
    {
     "name": "stdout",
     "output_type": "stream",
     "text": [
      " 4864/60000 [=>............................] - ETA: 7s - loss: 2.2643 - acc: 0.1565  "
     ]
    },
    {
     "name": "stderr",
     "output_type": "stream",
     "text": [
      "\u001b[A\n",
      "\r",
      "Epoch: 0 - loss: 2.241, acc: 0.176 15%|█▍        | 8704/60000 [00:00<01:22, 618.86it/s]"
     ]
    },
    {
     "name": "stdout",
     "output_type": "stream",
     "text": [
      "13056/60000 [=====>........................] - ETA: 2s - loss: 2.2187 - acc: 0.1963"
     ]
    },
    {
     "name": "stderr",
     "output_type": "stream",
     "text": [
      "\u001b[A\n",
      "Epoch: 0 - loss: 2.199, acc: 0.219 29%|██▊       | 17152/60000 [00:00<00:48, 881.25it/s]"
     ]
    },
    {
     "name": "stdout",
     "output_type": "stream",
     "text": [
      "20992/60000 [=========>....................] - ETA: 1s - loss: 2.1814 - acc: 0.2440"
     ]
    },
    {
     "name": "stderr",
     "output_type": "stream",
     "text": [
      "\u001b[A\n",
      "Epoch: 0 - loss: 2.165, acc: 0.266 41%|████      | 24576/60000 [00:00<00:28, 1252.39it/s]"
     ]
    },
    {
     "name": "stdout",
     "output_type": "stream",
     "text": [
      "28416/60000 [=============>................] - ETA: 1s - loss: 2.1479 - acc: 0.2921"
     ]
    },
    {
     "name": "stderr",
     "output_type": "stream",
     "text": [
      "\u001b[A\n",
      "Epoch: 0 - loss: 2.128, acc: 0.320 55%|█████▍    | 32768/60000 [00:00<00:15, 1777.26it/s]"
     ]
    },
    {
     "name": "stdout",
     "output_type": "stream",
     "text": [
      "37376/60000 [=================>............] - ETA: 0s - loss: 2.1082 - acc: 0.3483"
     ]
    },
    {
     "name": "stderr",
     "output_type": "stream",
     "text": [
      "\u001b[A\n",
      "Epoch: 0 - loss: 2.094, acc: 0.365 67%|██████▋   | 40448/60000 [00:01<00:07, 2513.48it/s]"
     ]
    },
    {
     "name": "stdout",
     "output_type": "stream",
     "text": [
      "44800/60000 [=====================>........] - ETA: 0s - loss: 2.0749 - acc: 0.3886"
     ]
    },
    {
     "name": "stderr",
     "output_type": "stream",
     "text": [
      "\u001b[A\n",
      "Epoch: 0 - loss: 2.058, acc: 0.408 81%|████████  | 48384/60000 [00:01<00:03, 3541.46it/s]"
     ]
    },
    {
     "name": "stdout",
     "output_type": "stream",
     "text": [
      "52224/60000 [=========================>....] - ETA: 0s - loss: 2.0403 - acc: 0.4261"
     ]
    },
    {
     "name": "stderr",
     "output_type": "stream",
     "text": [
      "\u001b[A\n",
      "Epoch: 0 - loss: 2.023, acc: 0.441 93%|█████████▎| 56064/60000 [00:01<00:00, 4959.70it/s]"
     ]
    },
    {
     "name": "stdout",
     "output_type": "stream",
     "text": [
      "\b\b\b\b\b\b\b\b\b\b\b\b\b\b\b\b\b\b\b\b\b\b\b\b\b\b\b\b\b\b\b\b\b\b\b\b\b\b\b\b\b\b\b\b\b\b\b\b\b\b\b\b\b\b\b\b\b\b\b\b\b\b\b\b\b\b\b\b\b\b\b\b\b\b\b\b\b\b\b\b\b\b\b\r",
      "56320/60000 [===========================>..] - ETA: 0s - loss: 2.0222 - acc: 0.4426"
     ]
    },
    {
     "name": "stderr",
     "output_type": "stream",
     "text": [
      "\u001b[A\n",
      "Epoch: 0 - loss: 2.005, acc: 0.458, val_loss: 1.710, val_acc: 0.700100%|██████████| 60000/60000 [00:01<00:00, 6657.39it/s]\u001b[A\n",
      "Training:   1%|          | 1/100 [00:01<02:21,  1.42s/it]"
     ]
    },
    {
     "name": "stdout",
     "output_type": "stream",
     "text": [
      "Epoch 00000: val_loss improved from inf to 1.70980, saving model to checkpoints_mnist_log_reg_keras_tensorflow/mnist_log_reg.hdf5\n",
      "\b\b\b\b\b\b\b\b\b\b\b\b\b\b\b\b\b\b\b\b\b\b\b\b\b\b\b\b\b\b\b\b\b\b\b\b\b\b\b\b\b\b\b\b\b\b\b\b\b\b\b\b\b\b\b\b\b\b\b\b\b\b\b\b\b\b\b\b\b\b\b\b\b\b\b\b\b\b\b\b\b\b\b\r",
      "60000/60000 [==============================] - 1s - loss: 2.0052 - acc: 0.4579 - val_loss: 1.7098 - val_acc: 0.7002"
     ]
    },
    {
     "name": "stderr",
     "output_type": "stream",
     "text": [
      "\n",
      "\r",
      "Epoch: 1:   0%|          | 0/60000 [00:00<?, ?it/s]"
     ]
    },
    {
     "name": "stdout",
     "output_type": "stream",
     "text": [
      "\n",
      "Epoch 2/100\n",
      " 4608/60000 [=>............................] - ETA: 0s - loss: 1.7011 - acc: 0.6938"
     ]
    },
    {
     "name": "stderr",
     "output_type": "stream",
     "text": [
      "\u001b[A\n",
      "Epoch: 1 - loss: 1.685, acc: 0.702 14%|█▍        | 8448/60000 [00:00<00:00, 82016.25it/s]"
     ]
    },
    {
     "name": "stdout",
     "output_type": "stream",
     "text": [
      "12800/60000 [=====>........................] - ETA: 0s - loss: 1.6656 - acc: 0.7099"
     ]
    },
    {
     "name": "stderr",
     "output_type": "stream",
     "text": [
      "\u001b[A\n",
      "Epoch: 1 - loss: 1.649, acc: 0.715 28%|██▊       | 16640/60000 [00:00<00:00, 81421.72it/s]"
     ]
    },
    {
     "name": "stdout",
     "output_type": "stream",
     "text": [
      "21504/60000 [=========>....................] - ETA: 0s - loss: 1.6264 - acc: 0.7202"
     ]
    },
    {
     "name": "stderr",
     "output_type": "stream",
     "text": [
      "\u001b[A\n",
      "Epoch: 1 - loss: 1.606, acc: 0.726 43%|████▎     | 25600/60000 [00:00<00:00, 83544.94it/s]"
     ]
    },
    {
     "name": "stdout",
     "output_type": "stream",
     "text": [
      "30976/60000 [==============>...............] - ETA: 0s - loss: 1.5847 - acc: 0.7283"
     ]
    },
    {
     "name": "stderr",
     "output_type": "stream",
     "text": [
      "\u001b[A\n",
      "Epoch: 1 - loss: 1.570, acc: 0.732 57%|█████▋    | 34304/60000 [00:00<00:00, 84545.32it/s]"
     ]
    },
    {
     "name": "stdout",
     "output_type": "stream",
     "text": [
      "39936/60000 [==================>...........] - ETA: 0s - loss: 1.5458 - acc: 0.7385"
     ]
    },
    {
     "name": "stderr",
     "output_type": "stream",
     "text": [
      "\u001b[A\n",
      "Epoch: 1 - loss: 1.531, acc: 0.741 73%|███████▎  | 43520/60000 [00:00<00:00, 86588.47it/s]"
     ]
    },
    {
     "name": "stdout",
     "output_type": "stream",
     "text": [
      "48384/60000 [=======================>......] - ETA: 0s - loss: 1.5115 - acc: 0.7452"
     ]
    },
    {
     "name": "stderr",
     "output_type": "stream",
     "text": [
      "\u001b[A\n",
      "Epoch: 1 - loss: 1.498, acc: 0.747 86%|████████▌ | 51712/60000 [00:00<00:00, 84901.48it/s]"
     ]
    },
    {
     "name": "stdout",
     "output_type": "stream",
     "text": [
      "57344/60000 [===========================>..] - ETA: 0s - loss: 1.4763 - acc: 0.7506"
     ]
    },
    {
     "name": "stderr",
     "output_type": "stream",
     "text": [
      "\u001b[A\n",
      "Epoch: 1 - loss: 1.466, acc: 0.752, val_loss: 1.215, val_acc: 0.803100%|██████████| 60000/60000 [00:00<00:00, 73431.88it/s]\u001b[A\n",
      "Training:   2%|▏         | 2/100 [00:02<02:00,  1.23s/it]"
     ]
    },
    {
     "name": "stdout",
     "output_type": "stream",
     "text": [
      "Epoch 00001: val_loss improved from 1.70980 to 1.21485, saving model to checkpoints_mnist_log_reg_keras_tensorflow/mnist_log_reg.hdf5\n",
      "\b\b\b\b\b\b\b\b\b\b\b\b\b\b\b\b\b\b\b\b\b\b\b\b\b\b\b\b\b\b\b\b\b\b\b\b\b\b\b\b\b\b\b\b\b\b\b\b\b\b\b\b\b\b\b\b\b\b\b\b\b\b\b\b\b\b\b\b\b\b\b\b\b\b\b\b\b\b\b\b\b\b\b\r",
      "60000/60000 [==============================] - 0s - loss: 1.4662 - acc: 0.7525 - val_loss: 1.2148 - val_acc: 0.8031"
     ]
    },
    {
     "name": "stderr",
     "output_type": "stream",
     "text": [
      "\n",
      "\r",
      "Epoch: 2:   0%|          | 0/60000 [00:00<?, ?it/s]"
     ]
    },
    {
     "name": "stdout",
     "output_type": "stream",
     "text": [
      "\n",
      "Epoch 3/100\n",
      "  256/60000 [..............................] - ETA: 1s - loss: 1.2851 - acc: 0.8047"
     ]
    },
    {
     "name": "stderr",
     "output_type": "stream",
     "text": [
      "\u001b[A"
     ]
    },
    {
     "name": "stdout",
     "output_type": "stream",
     "text": [
      "\b\b\b\b\b\b\b\b\b\b\b\b\b\b\b\b\b\b\b\b\b\b\b\b\b\b\b\b\b\b\b\b\b\b\b\b\b\b\b\b\b\b\b\b\b\b\b\b\b\b\b\b\b\b\b\b\b\b\b\b\b\b\b\b\b\b\b\b\b\b\b\b\b\b\b\b\b\b\b\b\b\b\b\r",
      " 4864/60000 [=>............................] - ETA: 0s - loss: 1.2222 - acc: 0.7905"
     ]
    },
    {
     "name": "stderr",
     "output_type": "stream",
     "text": [
      "\n",
      "\r",
      "Epoch: 2 - loss: 1.210, acc: 0.793 15%|█▍        | 8704/60000 [00:00<00:00, 86887.20it/s]"
     ]
    },
    {
     "name": "stdout",
     "output_type": "stream",
     "text": [
      "13824/60000 [=====>........................] - ETA: 0s - loss: 1.1992 - acc: 0.7961"
     ]
    },
    {
     "name": "stderr",
     "output_type": "stream",
     "text": [
      "\u001b[A\n",
      "Epoch: 2 - loss: 1.189, acc: 0.798 30%|██▉       | 17920/60000 [00:00<00:00, 87622.70it/s]"
     ]
    },
    {
     "name": "stdout",
     "output_type": "stream",
     "text": [
      "23040/60000 [==========>...................] - ETA: 0s - loss: 1.1774 - acc: 0.7976"
     ]
    },
    {
     "name": "stderr",
     "output_type": "stream",
     "text": [
      "\u001b[A\n",
      "Epoch: 2 - loss: 1.168, acc: 0.800 44%|████▍     | 26368/60000 [00:00<00:00, 86524.10it/s]"
     ]
    },
    {
     "name": "stdout",
     "output_type": "stream",
     "text": [
      "31232/60000 [==============>...............] - ETA: 0s - loss: 1.1563 - acc: 0.8015"
     ]
    },
    {
     "name": "stderr",
     "output_type": "stream",
     "text": [
      "\u001b[A\n",
      "Epoch: 2 - loss: 1.147, acc: 0.803 58%|█████▊    | 34560/60000 [00:00<00:00, 84890.86it/s]"
     ]
    },
    {
     "name": "stdout",
     "output_type": "stream",
     "text": [
      "39936/60000 [==================>...........] - ETA: 0s - loss: 1.1353 - acc: 0.8036"
     ]
    },
    {
     "name": "stderr",
     "output_type": "stream",
     "text": [
      "\u001b[A\n",
      "Epoch: 2 - loss: 1.129, acc: 0.804 72%|███████▏  | 43008/60000 [00:00<00:00, 84751.57it/s]"
     ]
    },
    {
     "name": "stdout",
     "output_type": "stream",
     "text": [
      "49152/60000 [=======================>......] - ETA: 0s - loss: 1.1166 - acc: 0.8052"
     ]
    },
    {
     "name": "stderr",
     "output_type": "stream",
     "text": [
      "\u001b[A\n",
      "Epoch: 2 - loss: 1.109, acc: 0.807 87%|████████▋ | 52224/60000 [00:00<00:00, 86628.24it/s]"
     ]
    },
    {
     "name": "stdout",
     "output_type": "stream",
     "text": [
      "58368/60000 [============================>.] - ETA: 0s - loss: 1.0958 - acc: 0.8082"
     ]
    },
    {
     "name": "stderr",
     "output_type": "stream",
     "text": [
      "\u001b[A\n",
      "Epoch: 2 - loss: 1.092, acc: 0.809, val_loss: 0.943, val_acc: 0.833100%|██████████| 60000/60000 [00:00<00:00, 72395.95it/s]\u001b[A\n",
      "Training:   3%|▎         | 3/100 [00:02<01:45,  1.09s/it]"
     ]
    },
    {
     "name": "stdout",
     "output_type": "stream",
     "text": [
      "Epoch 00002: val_loss improved from 1.21485 to 0.94298, saving model to checkpoints_mnist_log_reg_keras_tensorflow/mnist_log_reg.hdf5\n",
      "\b\b\b\b\b\b\b\b\b\b\b\b\b\b\b\b\b\b\b\b\b\b\b\b\b\b\b\b\b\b\b\b\b\b\b\b\b\b\b\b\b\b\b\b\b\b\b\b\b\b\b\b\b\b\b\b\b\b\b\b\b\b\b\b\b\b\b\b\b\b\b\b\b\b\b\b\b\b\b\b\b\b\b\r",
      "60000/60000 [==============================] - 0s - loss: 1.0921 - acc: 0.8090 - val_loss: 0.9430 - val_acc: 0.8330"
     ]
    },
    {
     "name": "stderr",
     "output_type": "stream",
     "text": [
      "\n",
      "\r",
      "Epoch: 3:   0%|          | 0/60000 [00:00<?, ?it/s]"
     ]
    },
    {
     "name": "stdout",
     "output_type": "stream",
     "text": [
      "\n",
      "Epoch 4/100\n",
      "\r",
      "  256/60000 [..............................] - ETA: 0s - loss: 0.9555 - acc: 0.7852"
     ]
    },
    {
     "name": "stderr",
     "output_type": "stream",
     "text": [
      "\u001b[A"
     ]
    },
    {
     "name": "stdout",
     "output_type": "stream",
     "text": [
      "\b\b\b\b\b\b\b\b\b\b\b\b\b\b\b\b\b\b\b\b\b\b\b\b\b\b\b\b\b\b\b\b\b\b\b\b\b\b\b\b\b\b\b\b\b\b\b\b\b\b\b\b\b\b\b\b\b\b\b\b\b\b\b\b\b\b\b\b\b\b\b\b\b\b\b\b\b\b\b\b\b\b\b\r",
      " 4864/60000 [=>............................] - ETA: 0s - loss: 0.9664 - acc: 0.8176"
     ]
    },
    {
     "name": "stderr",
     "output_type": "stream",
     "text": [
      "\n",
      "\r",
      "Epoch: 3 - loss: 0.959, acc: 0.822 15%|█▍        | 8960/60000 [00:00<00:00, 88509.31it/s]"
     ]
    },
    {
     "name": "stdout",
     "output_type": "stream",
     "text": [
      "13824/60000 [=====>........................] - ETA: 0s - loss: 0.9502 - acc: 0.8233"
     ]
    },
    {
     "name": "stderr",
     "output_type": "stream",
     "text": [
      "\u001b[A\n",
      "Epoch: 3 - loss: 0.947, acc: 0.822 30%|███       | 18176/60000 [00:00<00:00, 88957.49it/s]"
     ]
    },
    {
     "name": "stdout",
     "output_type": "stream",
     "text": [
      "23040/60000 [==========>...................] - ETA: 0s - loss: 0.9401 - acc: 0.8241"
     ]
    },
    {
     "name": "stderr",
     "output_type": "stream",
     "text": [
      "\u001b[A\n",
      "Epoch: 3 - loss: 0.933, acc: 0.826 44%|████▍     | 26624/60000 [00:00<00:00, 87555.02it/s]"
     ]
    },
    {
     "name": "stdout",
     "output_type": "stream",
     "text": [
      "31744/60000 [==============>...............] - ETA: 0s - loss: 0.9242 - acc: 0.8279"
     ]
    },
    {
     "name": "stderr",
     "output_type": "stream",
     "text": [
      "\u001b[A\n",
      "Epoch: 3 - loss: 0.918, acc: 0.829 59%|█████▉    | 35328/60000 [00:00<00:00, 87096.64it/s]"
     ]
    },
    {
     "name": "stdout",
     "output_type": "stream",
     "text": [
      "40448/60000 [===================>..........] - ETA: 0s - loss: 0.9131 - acc: 0.8285"
     ]
    },
    {
     "name": "stderr",
     "output_type": "stream",
     "text": [
      "\u001b[A\n",
      "Epoch: 3 - loss: 0.909, acc: 0.829 73%|███████▎  | 43776/60000 [00:00<00:00, 86171.60it/s]"
     ]
    },
    {
     "name": "stdout",
     "output_type": "stream",
     "text": [
      "49408/60000 [=======================>......] - ETA: 0s - loss: 0.9026 - acc: 0.8299"
     ]
    },
    {
     "name": "stderr",
     "output_type": "stream",
     "text": [
      "\u001b[A\n",
      "Epoch: 3 - loss: 0.899, acc: 0.830 88%|████████▊ | 52992/60000 [00:00<00:00, 86849.80it/s]"
     ]
    },
    {
     "name": "stdout",
     "output_type": "stream",
     "text": [
      "58624/60000 [============================>.] - ETA: 0s - loss: 0.8913 - acc: 0.8312"
     ]
    },
    {
     "name": "stderr",
     "output_type": "stream",
     "text": [
      "\u001b[A\n",
      "Epoch: 3 - loss: 0.890, acc: 0.832, val_loss: 0.793, val_acc: 0.849100%|██████████| 60000/60000 [00:00<00:00, 71210.97it/s]\u001b[A\n",
      "Training:   4%|▍         | 4/100 [00:03<01:35,  1.01it/s]"
     ]
    },
    {
     "name": "stdout",
     "output_type": "stream",
     "text": [
      "Epoch 00003: val_loss improved from 0.94298 to 0.79312, saving model to checkpoints_mnist_log_reg_keras_tensorflow/mnist_log_reg.hdf5\n",
      "\b\b\b\b\b\b\b\b\b\b\b\b\b\b\b\b\b\b\b\b\b\b\b\b\b\b\b\b\b\b\b\b\b\b\b\b\b\b\b\b\b\b\b\b\b\b\b\b\b\b\b\b\b\b\b\b\b\b\b\b\b\b\b\b\b\b\b\b\b\b\b\b\b\b\b\b\b\b\b\b\b\b\b\r",
      "60000/60000 [==============================] - 0s - loss: 0.8897 - acc: 0.8316 - val_loss: 0.7931 - val_acc: 0.8487"
     ]
    },
    {
     "name": "stderr",
     "output_type": "stream",
     "text": [
      "\n",
      "\r",
      "Epoch: 4:   0%|          | 0/60000 [00:00<?, ?it/s]"
     ]
    },
    {
     "name": "stdout",
     "output_type": "stream",
     "text": [
      "\n",
      "Epoch 5/100\n",
      "\r",
      "  256/60000 [..............................] - ETA: 1s - loss: 0.8564 - acc: 0.8125"
     ]
    },
    {
     "name": "stderr",
     "output_type": "stream",
     "text": [
      "\u001b[A"
     ]
    },
    {
     "name": "stdout",
     "output_type": "stream",
     "text": [
      "\b\b\b\b\b\b\b\b\b\b\b\b\b\b\b\b\b\b\b\b\b\b\b\b\b\b\b\b\b\b\b\b\b\b\b\b\b\b\b\b\b\b\b\b\b\b\b\b\b\b\b\b\b\b\b\b\b\b\b\b\b\b\b\b\b\b\b\b\b\b\b\b\b\b\b\b\b\b\b\b\b\b\b\r",
      " 5120/60000 [=>............................] - ETA: 0s - loss: 0.8236 - acc: 0.8352"
     ]
    },
    {
     "name": "stderr",
     "output_type": "stream",
     "text": [
      "\n",
      "\r",
      "Epoch: 4 - loss: 0.817, acc: 0.837 15%|█▌        | 9216/60000 [00:00<00:00, 91541.99it/s]"
     ]
    },
    {
     "name": "stdout",
     "output_type": "stream",
     "text": [
      "13824/60000 [=====>........................] - ETA: 0s - loss: 0.8130 - acc: 0.8357"
     ]
    },
    {
     "name": "stderr",
     "output_type": "stream",
     "text": [
      "\u001b[A\n",
      "Epoch: 4 - loss: 0.809, acc: 0.838 29%|██▉       | 17664/60000 [00:00<00:00, 88536.41it/s]"
     ]
    },
    {
     "name": "stdout",
     "output_type": "stream",
     "text": [
      "22784/60000 [==========>...................] - ETA: 0s - loss: 0.8041 - acc: 0.8392"
     ]
    },
    {
     "name": "stderr",
     "output_type": "stream",
     "text": [
      "\u001b[A\n",
      "Epoch: 4 - loss: 0.800, acc: 0.841 44%|████▍     | 26624/60000 [00:00<00:00, 88812.10it/s]"
     ]
    },
    {
     "name": "stdout",
     "output_type": "stream",
     "text": [
      "31744/60000 [==============>...............] - ETA: 0s - loss: 0.7971 - acc: 0.8401"
     ]
    },
    {
     "name": "stderr",
     "output_type": "stream",
     "text": [
      "\u001b[A\n",
      "Epoch: 4 - loss: 0.793, acc: 0.841 59%|█████▉    | 35328/60000 [00:00<00:00, 88133.98it/s]"
     ]
    },
    {
     "name": "stdout",
     "output_type": "stream",
     "text": [
      "40192/60000 [===================>..........] - ETA: 0s - loss: 0.7875 - acc: 0.8421"
     ]
    },
    {
     "name": "stderr",
     "output_type": "stream",
     "text": [
      "\u001b[A\n",
      "Epoch: 4 - loss: 0.786, acc: 0.842 73%|███████▎  | 43776/60000 [00:00<00:00, 86286.73it/s]"
     ]
    },
    {
     "name": "stdout",
     "output_type": "stream",
     "text": [
      "48640/60000 [=======================>......] - ETA: 0s - loss: 0.7816 - acc: 0.8425"
     ]
    },
    {
     "name": "stderr",
     "output_type": "stream",
     "text": [
      "\u001b[A\n",
      "Epoch: 4 - loss: 0.777, acc: 0.844 87%|████████▋ | 52224/60000 [00:00<00:00, 85365.68it/s]"
     ]
    },
    {
     "name": "stdout",
     "output_type": "stream",
     "text": [
      "57600/60000 [===========================>..] - ETA: 0s - loss: 0.7736 - acc: 0.8440"
     ]
    },
    {
     "name": "stderr",
     "output_type": "stream",
     "text": [
      "\u001b[A\n",
      "Epoch: 4 - loss: 0.772, acc: 0.844, val_loss: 0.701, val_acc: 0.859100%|██████████| 60000/60000 [00:00<00:00, 72410.67it/s]\u001b[A\n",
      "Training:   5%|▌         | 5/100 [00:04<01:27,  1.08it/s]"
     ]
    },
    {
     "name": "stdout",
     "output_type": "stream",
     "text": [
      "Epoch 00004: val_loss improved from 0.79312 to 0.70073, saving model to checkpoints_mnist_log_reg_keras_tensorflow/mnist_log_reg.hdf5\n",
      "\b\b\b\b\b\b\b\b\b\b\b\b\b\b\b\b\b\b\b\b\b\b\b\b\b\b\b\b\b\b\b\b\b\b\b\b\b\b\b\b\b\b\b\b\b\b\b\b\b\b\b\b\b\b\b\b\b\b\b\b\b\b\b\b\b\b\b\b\b\b\b\b\b\b\b\b\b\b\b\b\b\b\b\r",
      "60000/60000 [==============================] - 0s - loss: 0.7717 - acc: 0.8440 - val_loss: 0.7007 - val_acc: 0.8586"
     ]
    },
    {
     "name": "stderr",
     "output_type": "stream",
     "text": [
      "\n",
      "\r",
      "Epoch: 5:   0%|          | 0/60000 [00:00<?, ?it/s]"
     ]
    },
    {
     "name": "stdout",
     "output_type": "stream",
     "text": [
      "\n",
      "Epoch 6/100\n",
      "  256/60000 [..............................] - ETA: 1s - loss: 0.7743 - acc: 0.8242"
     ]
    },
    {
     "name": "stderr",
     "output_type": "stream",
     "text": [
      "\u001b[A"
     ]
    },
    {
     "name": "stdout",
     "output_type": "stream",
     "text": [
      "\b\b\b\b\b\b\b\b\b\b\b\b\b\b\b\b\b\b\b\b\b\b\b\b\b\b\b\b\b\b\b\b\b\b\b\b\b\b\b\b\b\b\b\b\b\b\b\b\b\b\b\b\b\b\b\b\b\b\b\b\b\b\b\b\b\b\b\b\b\b\b\b\b\b\b\b\b\b\b\b\b\b\b\r",
      " 4864/60000 [=>............................] - ETA: 0s - loss: 0.7375 - acc: 0.8472"
     ]
    },
    {
     "name": "stderr",
     "output_type": "stream",
     "text": [
      "\n",
      "\r",
      "Epoch: 5 - loss: 0.735, acc: 0.845 14%|█▍        | 8448/60000 [00:00<00:00, 84155.64it/s]"
     ]
    },
    {
     "name": "stdout",
     "output_type": "stream",
     "text": [
      "13312/60000 [=====>........................] - ETA: 0s - loss: 0.7207 - acc: 0.8501"
     ]
    },
    {
     "name": "stderr",
     "output_type": "stream",
     "text": [
      "\u001b[A\n",
      "Epoch: 5 - loss: 0.721, acc: 0.848 29%|██▊       | 17152/60000 [00:00<00:00, 84526.36it/s]"
     ]
    },
    {
     "name": "stdout",
     "output_type": "stream",
     "text": [
      "22016/60000 [==========>...................] - ETA: 0s - loss: 0.7188 - acc: 0.8478"
     ]
    },
    {
     "name": "stderr",
     "output_type": "stream",
     "text": [
      "\u001b[A\n",
      "Epoch: 5 - loss: 0.718, acc: 0.847 44%|████▎     | 26112/60000 [00:00<00:00, 85373.95it/s]"
     ]
    },
    {
     "name": "stdout",
     "output_type": "stream",
     "text": [
      "31488/60000 [==============>...............] - ETA: 0s - loss: 0.7144 - acc: 0.8485"
     ]
    },
    {
     "name": "stderr",
     "output_type": "stream",
     "text": [
      "\u001b[A\n",
      "Epoch: 5 - loss: 0.712, acc: 0.849 59%|█████▉    | 35328/60000 [00:00<00:00, 87053.51it/s]"
     ]
    },
    {
     "name": "stdout",
     "output_type": "stream",
     "text": [
      "40192/60000 [===================>..........] - ETA: 0s - loss: 0.7088 - acc: 0.8502"
     ]
    },
    {
     "name": "stderr",
     "output_type": "stream",
     "text": [
      "\u001b[A\n",
      "Epoch: 5 - loss: 0.708, acc: 0.850 73%|███████▎  | 43776/60000 [00:00<00:00, 85796.82it/s]"
     ]
    },
    {
     "name": "stdout",
     "output_type": "stream",
     "text": [
      "49408/60000 [=======================>......] - ETA: 0s - loss: 0.7014 - acc: 0.8518"
     ]
    },
    {
     "name": "stderr",
     "output_type": "stream",
     "text": [
      "\u001b[A\n",
      "Epoch: 5 - loss: 0.699, acc: 0.852 88%|████████▊ | 52736/60000 [00:00<00:00, 86642.72it/s]"
     ]
    },
    {
     "name": "stdout",
     "output_type": "stream",
     "text": [
      "58368/60000 [============================>.] - ETA: 0s - loss: 0.6962 - acc: 0.8528"
     ]
    },
    {
     "name": "stderr",
     "output_type": "stream",
     "text": [
      "\u001b[A\n",
      "Epoch: 5 - loss: 0.695, acc: 0.853, val_loss: 0.639, val_acc: 0.866100%|██████████| 60000/60000 [00:00<00:00, 71449.31it/s]\u001b[A\n",
      "Training:   6%|▌         | 6/100 [00:05<01:22,  1.14it/s]"
     ]
    },
    {
     "name": "stdout",
     "output_type": "stream",
     "text": [
      "Epoch 00005: val_loss improved from 0.70073 to 0.63862, saving model to checkpoints_mnist_log_reg_keras_tensorflow/mnist_log_reg.hdf5\n",
      "\b\b\b\b\b\b\b\b\b\b\b\b\b\b\b\b\b\b\b\b\b\b\b\b\b\b\b\b\b\b\b\b\b\b\b\b\b\b\b\b\b\b\b\b\b\b\b\b\b\b\b\b\b\b\b\b\b\b\b\b\b\b\b\b\b\b\b\b\b\b\b\b\b\b\b\b\b\b\b\b\b\b\b\r",
      "60000/60000 [==============================] - 0s - loss: 0.6953 - acc: 0.8528 - val_loss: 0.6386 - val_acc: 0.8658"
     ]
    },
    {
     "name": "stderr",
     "output_type": "stream",
     "text": [
      "\n",
      "\r",
      "Epoch: 6:   0%|          | 0/60000 [00:00<?, ?it/s]"
     ]
    },
    {
     "name": "stdout",
     "output_type": "stream",
     "text": [
      "\n",
      "Epoch 7/100\n",
      "\r",
      "  256/60000 [..............................] - ETA: 0s - loss: 0.6709 - acc: 0.8320"
     ]
    },
    {
     "name": "stderr",
     "output_type": "stream",
     "text": [
      "\u001b[A"
     ]
    },
    {
     "name": "stdout",
     "output_type": "stream",
     "text": [
      "\b\b\b\b\b\b\b\b\b\b\b\b\b\b\b\b\b\b\b\b\b\b\b\b\b\b\b\b\b\b\b\b\b\b\b\b\b\b\b\b\b\b\b\b\b\b\b\b\b\b\b\b\b\b\b\b\b\b\b\b\b\b\b\b\b\b\b\b\b\b\b\b\b\b\b\b\b\b\b\b\b\b\b\r",
      " 4864/60000 [=>............................] - ETA: 0s - loss: 0.6601 - acc: 0.8518"
     ]
    },
    {
     "name": "stderr",
     "output_type": "stream",
     "text": [
      "\n",
      "\r",
      "Epoch: 6 - loss: 0.662, acc: 0.853 15%|█▍        | 8960/60000 [00:00<00:00, 88608.02it/s]"
     ]
    },
    {
     "name": "stdout",
     "output_type": "stream",
     "text": [
      "13568/60000 [=====>........................] - ETA: 0s - loss: 0.6599 - acc: 0.8533"
     ]
    },
    {
     "name": "stderr",
     "output_type": "stream",
     "text": [
      "\u001b[A\n",
      "Epoch: 6 - loss: 0.660, acc: 0.853 29%|██▉       | 17408/60000 [00:00<00:00, 87035.61it/s]"
     ]
    },
    {
     "name": "stdout",
     "output_type": "stream",
     "text": [
      "22528/60000 [==========>...................] - ETA: 0s - loss: 0.6585 - acc: 0.8544"
     ]
    },
    {
     "name": "stderr",
     "output_type": "stream",
     "text": [
      "\u001b[A\n",
      "Epoch: 6 - loss: 0.655, acc: 0.856 44%|████▎     | 26112/60000 [00:00<00:00, 86515.93it/s]"
     ]
    },
    {
     "name": "stdout",
     "output_type": "stream",
     "text": [
      "30976/60000 [==============>...............] - ETA: 0s - loss: 0.6550 - acc: 0.8552"
     ]
    },
    {
     "name": "stderr",
     "output_type": "stream",
     "text": [
      "\u001b[A\n",
      "Epoch: 6 - loss: 0.652, acc: 0.857 57%|█████▋    | 34304/60000 [00:00<00:00, 84771.94it/s]"
     ]
    },
    {
     "name": "stdout",
     "output_type": "stream",
     "text": [
      "37888/60000 [=================>............] - ETA: 0s - loss: 0.6506 - acc: 0.8572"
     ]
    },
    {
     "name": "stderr",
     "output_type": "stream",
     "text": [
      "\u001b[A\n",
      "Epoch: 6 - loss: 0.648, acc: 0.857 69%|██████▉   | 41472/60000 [00:00<00:00, 80079.47it/s]"
     ]
    },
    {
     "name": "stdout",
     "output_type": "stream",
     "text": [
      "46848/60000 [======================>.......] - ETA: 0s - loss: 0.6491 - acc: 0.8569"
     ]
    },
    {
     "name": "stderr",
     "output_type": "stream",
     "text": [
      "\u001b[A\n",
      "Epoch: 6 - loss: 0.648, acc: 0.857 83%|████████▎ | 49920/60000 [00:00<00:00, 81305.44it/s]"
     ]
    },
    {
     "name": "stdout",
     "output_type": "stream",
     "text": [
      "55296/60000 [==========================>...] - ETA: 0s - loss: 0.6445 - acc: 0.8582"
     ]
    },
    {
     "name": "stderr",
     "output_type": "stream",
     "text": [
      "\u001b[A\n",
      "Epoch: 6 - loss: 0.643, acc: 0.859 97%|█████████▋| 58368/60000 [00:00<00:00, 82066.97it/s]"
     ]
    },
    {
     "name": "stdout",
     "output_type": "stream",
     "text": [
      "\b\b\b\b\b\b\b\b\b\b\b\b\b\b\b\b\b\b\b\b\b\b\b\b\b\b\b\b\b\b\b\b\b\b\b\b\b\b\b\b\b\b\b\b\b\b\b\b\b\b\b\b\b\b\b\b\b\b\b\b\b\b\b\b\b\b\b\b\b\b\b\b\b\b\b\b\b\b\b\b\b\b\b\r",
      "59648/60000 [============================>.] - ETA: 0s - loss: 0.6419 - acc: 0.8591"
     ]
    },
    {
     "name": "stderr",
     "output_type": "stream",
     "text": [
      "\u001b[A\n",
      "Epoch: 6 - loss: 0.642, acc: 0.859, val_loss: 0.594, val_acc: 0.871100%|██████████| 60000/60000 [00:00<00:00, 42923.14it/s]\u001b[A\n",
      "Training:   7%|▋         | 7/100 [00:06<01:19,  1.17it/s]"
     ]
    },
    {
     "name": "stdout",
     "output_type": "stream",
     "text": [
      "Epoch 00006: val_loss improved from 0.63862 to 0.59356, saving model to checkpoints_mnist_log_reg_keras_tensorflow/mnist_log_reg.hdf5\n",
      "\b\b\b\b\b\b\b\b\b\b\b\b\b\b\b\b\b\b\b\b\b\b\b\b\b\b\b\b\b\b\b\b\b\b\b\b\b\b\b\b\b\b\b\b\b\b\b\b\b\b\b\b\b\b\b\b\b\b\b\b\b\b\b\b\b\b\b\b\b\b\b\b\b\b\b\b\b\b\b\b\b\b\b\r",
      "60000/60000 [==============================] - 0s - loss: 0.6419 - acc: 0.8591 - val_loss: 0.5936 - val_acc: 0.8712"
     ]
    },
    {
     "name": "stderr",
     "output_type": "stream",
     "text": [
      "\n",
      "\r",
      "Epoch: 7:   0%|          | 0/60000 [00:00<?, ?it/s]"
     ]
    },
    {
     "name": "stdout",
     "output_type": "stream",
     "text": [
      "\n",
      "Epoch 8/100\n",
      "\r",
      "  256/60000 [..............................] - ETA: 1s - loss: 0.6093 - acc: 0.8789"
     ]
    },
    {
     "name": "stderr",
     "output_type": "stream",
     "text": [
      "\u001b[A"
     ]
    },
    {
     "name": "stdout",
     "output_type": "stream",
     "text": [
      "\b\b\b\b\b\b\b\b\b\b\b\b\b\b\b\b\b\b\b\b\b\b\b\b\b\b\b\b\b\b\b\b\b\b\b\b\b\b\b\b\b\b\b\b\b\b\b\b\b\b\b\b\b\b\b\b\b\b\b\b\b\b\b\b\b\b\b\b\b\b\b\b\b\b\b\b\b\b\b\b\b\b\b\r",
      " 4864/60000 [=>............................] - ETA: 0s - loss: 0.6240 - acc: 0.8557"
     ]
    },
    {
     "name": "stderr",
     "output_type": "stream",
     "text": [
      "\n",
      "Epoch: 7 - loss: 0.619, acc: 0.858 15%|█▍        | 8704/60000 [00:00<00:00, 85106.95it/s]\u001b[A"
     ]
    },
    {
     "name": "stdout",
     "output_type": "stream",
     "text": [
      "13568/60000 [=====>........................] - ETA: 0s - loss: 0.6121 - acc: 0.8611"
     ]
    },
    {
     "name": "stderr",
     "output_type": "stream",
     "text": [
      "\n",
      "\r",
      "Epoch: 7 - loss: 0.611, acc: 0.861 29%|██▊       | 17152/60000 [00:00<00:00, 84478.42it/s]"
     ]
    },
    {
     "name": "stdout",
     "output_type": "stream",
     "text": [
      "22528/60000 [==========>...................] - ETA: 0s - loss: 0.6103 - acc: 0.8619"
     ]
    },
    {
     "name": "stderr",
     "output_type": "stream",
     "text": [
      "\u001b[A\n",
      "Epoch: 7 - loss: 0.611, acc: 0.862 44%|████▎     | 26112/60000 [00:00<00:00, 85785.32it/s]"
     ]
    },
    {
     "name": "stdout",
     "output_type": "stream",
     "text": [
      "32000/60000 [===============>..............] - ETA: 0s - loss: 0.6090 - acc: 0.8624"
     ]
    },
    {
     "name": "stderr",
     "output_type": "stream",
     "text": [
      "\u001b[A\n",
      "Epoch: 7 - loss: 0.608, acc: 0.863 59%|█████▉    | 35584/60000 [00:00<00:00, 87793.50it/s]"
     ]
    },
    {
     "name": "stdout",
     "output_type": "stream",
     "text": [
      "40704/60000 [===================>..........] - ETA: 0s - loss: 0.6072 - acc: 0.8628"
     ]
    },
    {
     "name": "stderr",
     "output_type": "stream",
     "text": [
      "\u001b[A\n",
      "Epoch: 7 - loss: 0.605, acc: 0.863 74%|███████▍  | 44288/60000 [00:00<00:00, 87105.42it/s]"
     ]
    },
    {
     "name": "stdout",
     "output_type": "stream",
     "text": [
      "49664/60000 [=======================>......] - ETA: 0s - loss: 0.6048 - acc: 0.8629"
     ]
    },
    {
     "name": "stderr",
     "output_type": "stream",
     "text": [
      "\u001b[A\n",
      "Epoch: 7 - loss: 0.604, acc: 0.863 88%|████████▊ | 52992/60000 [00:00<00:00, 86471.14it/s]"
     ]
    },
    {
     "name": "stdout",
     "output_type": "stream",
     "text": [
      "58112/60000 [============================>.] - ETA: 0s - loss: 0.6034 - acc: 0.8629"
     ]
    },
    {
     "name": "stderr",
     "output_type": "stream",
     "text": [
      "\u001b[A\n",
      "Epoch: 7 - loss: 0.602, acc: 0.863, val_loss: 0.560, val_acc: 0.875100%|██████████| 60000/60000 [00:00<00:00, 70005.22it/s]\u001b[A\n",
      "Training:   8%|▊         | 8/100 [00:06<01:16,  1.21it/s]"
     ]
    },
    {
     "name": "stdout",
     "output_type": "stream",
     "text": [
      "Epoch 00007: val_loss improved from 0.59356 to 0.55972, saving model to checkpoints_mnist_log_reg_keras_tensorflow/mnist_log_reg.hdf5\n",
      "\b\b\b\b\b\b\b\b\b\b\b\b\b\b\b\b\b\b\b\b\b\b\b\b\b\b\b\b\b\b\b\b\b\b\b\b\b\b\b\b\b\b\b\b\b\b\b\b\b\b\b\b\b\b\b\b\b\b\b\b\b\b\b\b\b\b\b\b\b\b\b\b\b\b\b\b\b\b\b\b\b\b\b\r",
      "60000/60000 [==============================] - 0s - loss: 0.6023 - acc: 0.8634 - val_loss: 0.5597 - val_acc: 0.8755"
     ]
    },
    {
     "name": "stderr",
     "output_type": "stream",
     "text": [
      "\n",
      "\r",
      "Epoch: 8:   0%|          | 0/60000 [00:00<?, ?it/s]"
     ]
    },
    {
     "name": "stdout",
     "output_type": "stream",
     "text": [
      "\n",
      "Epoch 9/100\n",
      "\r",
      "  256/60000 [..............................] - ETA: 1s - loss: 0.6111 - acc: 0.8555"
     ]
    },
    {
     "name": "stderr",
     "output_type": "stream",
     "text": [
      "\u001b[A"
     ]
    },
    {
     "name": "stdout",
     "output_type": "stream",
     "text": [
      " 5120/60000 [=>............................] - ETA: 0s - loss: 0.5940 - acc: 0.8586"
     ]
    },
    {
     "name": "stderr",
     "output_type": "stream",
     "text": [
      "\n",
      "\r",
      "Epoch: 8 - loss: 0.583, acc: 0.863 15%|█▍        | 8704/60000 [00:00<00:00, 86723.94it/s]"
     ]
    },
    {
     "name": "stdout",
     "output_type": "stream",
     "text": [
      "13824/60000 [=====>........................] - ETA: 0s - loss: 0.5797 - acc: 0.8652"
     ]
    },
    {
     "name": "stderr",
     "output_type": "stream",
     "text": [
      "\u001b[A\n",
      "Epoch: 8 - loss: 0.581, acc: 0.866 29%|██▊       | 17152/60000 [00:00<00:00, 85975.48it/s]\u001b[A"
     ]
    },
    {
     "name": "stdout",
     "output_type": "stream",
     "text": [
      "22272/60000 [==========>...................] - ETA: 0s - loss: 0.5736 - acc: 0.8691"
     ]
    },
    {
     "name": "stderr",
     "output_type": "stream",
     "text": [
      "\n",
      "\r",
      "Epoch: 8 - loss: 0.576, acc: 0.868 43%|████▎     | 25600/60000 [00:00<00:00, 84780.57it/s]"
     ]
    },
    {
     "name": "stdout",
     "output_type": "stream",
     "text": [
      "31232/60000 [==============>...............] - ETA: 0s - loss: 0.5754 - acc: 0.8683"
     ]
    },
    {
     "name": "stderr",
     "output_type": "stream",
     "text": [
      "\u001b[A\n",
      "Epoch: 8 - loss: 0.577, acc: 0.867 57%|█████▋    | 34048/60000 [00:00<00:00, 84567.23it/s]"
     ]
    },
    {
     "name": "stdout",
     "output_type": "stream",
     "text": [
      "39936/60000 [==================>...........] - ETA: 0s - loss: 0.5762 - acc: 0.8669"
     ]
    },
    {
     "name": "stderr",
     "output_type": "stream",
     "text": [
      "\u001b[A\n",
      "Epoch: 8 - loss: 0.574, acc: 0.868 71%|███████▏  | 42752/60000 [00:00<00:00, 85229.81it/s]"
     ]
    },
    {
     "name": "stdout",
     "output_type": "stream",
     "text": [
      "48896/60000 [=======================>......] - ETA: 0s - loss: 0.5733 - acc: 0.8672"
     ]
    },
    {
     "name": "stderr",
     "output_type": "stream",
     "text": [
      "\u001b[A\n",
      "Epoch: 8 - loss: 0.572, acc: 0.867 86%|████████▌ | 51712/60000 [00:00<00:00, 86487.52it/s]"
     ]
    },
    {
     "name": "stdout",
     "output_type": "stream",
     "text": [
      "58112/60000 [============================>.] - ETA: 0s - loss: 0.5719 - acc: 0.8667"
     ]
    },
    {
     "name": "stderr",
     "output_type": "stream",
     "text": [
      "\u001b[A\n",
      "Epoch: 8 - loss: 0.572, acc: 0.867100%|█████████▉| 59904/60000 [00:00<00:00, 84510.46it/s]\u001b[A\n",
      "Epoch: 8 - loss: 0.572, acc: 0.867, val_loss: 0.533, val_acc: 0.880100%|██████████| 60000/60000 [00:00<00:00, 5181.73it/s]\u001b[A\n",
      "Training:   9%|▉         | 9/100 [00:07<01:13,  1.23it/s]"
     ]
    },
    {
     "name": "stdout",
     "output_type": "stream",
     "text": [
      "Epoch 00008: val_loss improved from 0.55972 to 0.53286, saving model to checkpoints_mnist_log_reg_keras_tensorflow/mnist_log_reg.hdf5\n",
      "60000/60000 [==============================] - 0s - loss: 0.5717 - acc: 0.8669 - val_loss: 0.5329 - val_acc: 0.8797"
     ]
    },
    {
     "name": "stderr",
     "output_type": "stream",
     "text": [
      "\n",
      "\r",
      "Epoch: 9:   0%|          | 0/60000 [00:00<?, ?it/s]"
     ]
    },
    {
     "name": "stdout",
     "output_type": "stream",
     "text": [
      "\n",
      "Epoch 10/100\n",
      "\r",
      "  256/60000 [..............................] - ETA: 0s - loss: 0.6239 - acc: 0.8594"
     ]
    },
    {
     "name": "stderr",
     "output_type": "stream",
     "text": [
      "\u001b[A"
     ]
    },
    {
     "name": "stdout",
     "output_type": "stream",
     "text": [
      "\b\b\b\b\b\b\b\b\b\b\b\b\b\b\b\b\b\b\b\b\b\b\b\b\b\b\b\b\b\b\b\b\b\b\b\b\b\b\b\b\b\b\b\b\b\b\b\b\b\b\b\b\b\b\b\b\b\b\b\b\b\b\b\b\b\b\b\b\b\b\b\b\b\b\b\b\b\b\b\b\b\b\b\r",
      " 4608/60000 [=>............................] - ETA: 0s - loss: 0.5557 - acc: 0.8752"
     ]
    },
    {
     "name": "stderr",
     "output_type": "stream",
     "text": [
      "\n",
      "\r",
      "Epoch: 9 - loss: 0.558, acc: 0.875 15%|█▍        | 8704/60000 [00:00<00:00, 85784.50it/s]"
     ]
    },
    {
     "name": "stdout",
     "output_type": "stream",
     "text": [
      "\b\b\b\b\b\b\b\b\b\b\b\b\b\b\b\b\b\b\b\b\b\b\b\b\b\b\b\b\b\b\b\b\b\b\b\b\b\b\b\b\b\b\b\b\b\b\b\b\b\b\b\b\b\b\b\b\b\b\b\b\b\b\b\b\b\b\b\b\b\b\b\b\b\b\b\b\b\b\b\b\b\b\b\r",
      " 9216/60000 [===>..........................] - ETA: 0s - loss: 0.5557 - acc: 0.8746"
     ]
    },
    {
     "name": "stderr",
     "output_type": "stream",
     "text": [
      "\u001b[A"
     ]
    },
    {
     "name": "stdout",
     "output_type": "stream",
     "text": [
      "\b\b\b\b\b\b\b\b\b\b\b\b\b\b\b\b\b\b\b\b\b\b\b\b\b\b\b\b\b\b\b\b\b\b\b\b\b\b\b\b\b\b\b\b\b\b\b\b\b\b\b\b\b\b\b\b\b\b\b\b\b\b\b\b\b\b\b\b\b\b\b\b\b\b\b\b\b\b\b\b\b\b\b\r",
      "13312/60000 [=====>........................] - ETA: 0s - loss: 0.5532 - acc: 0.8742"
     ]
    },
    {
     "name": "stderr",
     "output_type": "stream",
     "text": [
      "\n",
      "\r",
      "Epoch: 9 - loss: 0.556, acc: 0.871 29%|██▉       | 17408/60000 [00:00<00:00, 86072.46it/s]"
     ]
    },
    {
     "name": "stdout",
     "output_type": "stream",
     "text": [
      "22272/60000 [==========>...................] - ETA: 0s - loss: 0.5554 - acc: 0.8706"
     ]
    },
    {
     "name": "stderr",
     "output_type": "stream",
     "text": [
      "\u001b[A\n",
      "Epoch: 9 - loss: 0.553, acc: 0.871 44%|████▎     | 26112/60000 [00:00<00:00, 86328.93it/s]"
     ]
    },
    {
     "name": "stdout",
     "output_type": "stream",
     "text": [
      "31488/60000 [==============>...............] - ETA: 0s - loss: 0.5562 - acc: 0.8690"
     ]
    },
    {
     "name": "stderr",
     "output_type": "stream",
     "text": [
      "\u001b[A\n",
      "Epoch: 9 - loss: 0.554, acc: 0.870 58%|█████▊    | 35072/60000 [00:00<00:00, 87139.93it/s]"
     ]
    },
    {
     "name": "stdout",
     "output_type": "stream",
     "text": [
      "39936/60000 [==================>...........] - ETA: 0s - loss: 0.5539 - acc: 0.8693"
     ]
    },
    {
     "name": "stderr",
     "output_type": "stream",
     "text": [
      "\u001b[A\n",
      "Epoch: 9 - loss: 0.553, acc: 0.870 71%|███████▏  | 42752/60000 [00:00<00:00, 83647.43it/s]"
     ]
    },
    {
     "name": "stdout",
     "output_type": "stream",
     "text": [
      "48384/60000 [=======================>......] - ETA: 0s - loss: 0.5510 - acc: 0.8703"
     ]
    },
    {
     "name": "stderr",
     "output_type": "stream",
     "text": [
      "\u001b[A\n",
      "Epoch: 9 - loss: 0.549, acc: 0.871 86%|████████▌ | 51456/60000 [00:00<00:00, 84258.32it/s]"
     ]
    },
    {
     "name": "stdout",
     "output_type": "stream",
     "text": [
      "57088/60000 [===========================>..] - ETA: 0s - loss: 0.5477 - acc: 0.8707"
     ]
    },
    {
     "name": "stderr",
     "output_type": "stream",
     "text": [
      "\u001b[A\n",
      "Epoch: 9 - loss: 0.547, acc: 0.871100%|█████████▉| 59904/60000 [00:00<00:00, 83822.81it/s]\u001b[A\n",
      "Epoch: 9 - loss: 0.547, acc: 0.871, val_loss: 0.511, val_acc: 0.882100%|██████████| 60000/60000 [00:00<00:00, 5306.59it/s]\u001b[A\n",
      "Training:  10%|█         | 10/100 [00:08<01:12,  1.25it/s]"
     ]
    },
    {
     "name": "stdout",
     "output_type": "stream",
     "text": [
      "Epoch 00009: val_loss improved from 0.53286 to 0.51135, saving model to checkpoints_mnist_log_reg_keras_tensorflow/mnist_log_reg.hdf5\n",
      "60000/60000 [==============================] - 0s - loss: 0.5472 - acc: 0.8709 - val_loss: 0.5114 - val_acc: 0.8816"
     ]
    },
    {
     "name": "stderr",
     "output_type": "stream",
     "text": [
      "\n",
      "\r",
      "Epoch: 10:   0%|          | 0/60000 [00:00<?, ?it/s]"
     ]
    },
    {
     "name": "stdout",
     "output_type": "stream",
     "text": [
      "\n",
      "Epoch 11/100\n",
      "\r",
      "  256/60000 [..............................] - ETA: 1s - loss: 0.5105 - acc: 0.9023"
     ]
    },
    {
     "name": "stderr",
     "output_type": "stream",
     "text": [
      "\u001b[A"
     ]
    },
    {
     "name": "stdout",
     "output_type": "stream",
     "text": [
      "\b\b\b\b\b\b\b\b\b\b\b\b\b\b\b\b\b\b\b\b\b\b\b\b\b\b\b\b\b\b\b\b\b\b\b\b\b\b\b\b\b\b\b\b\b\b\b\b\b\b\b\b\b\b\b\b\b\b\b\b\b\b\b\b\b\b\b\b\b\b\b\b\b\b\b\b\b\b\b\b\b\b\b\r",
      " 4096/60000 [=>............................] - ETA: 0s - loss: 0.5341 - acc: 0.8706"
     ]
    },
    {
     "name": "stderr",
     "output_type": "stream",
     "text": [
      "\n",
      "\r",
      "Epoch: 10 - loss: 0.535, acc: 0.873 14%|█▎        | 8192/60000 [00:00<00:00, 81909.53it/s]"
     ]
    },
    {
     "name": "stdout",
     "output_type": "stream",
     "text": [
      "\b\b\b\b\b\b\b\b\b\b\b\b\b\b\b\b\b\b\b\b\b\b\b\b\b\b\b\b\b\b\b\b\b\b\b\b\b\b\b\b\b\b\b\b\b\b\b\b\b\b\b\b\b\b\b\b\b\b\b\b\b\b\b\b\b\b\b\b\b\b\b\b\b\b\b\b\b\b\b\b\b\b\b\r",
      " 8960/60000 [===>..........................] - ETA: 0s - loss: 0.5342 - acc: 0.8729"
     ]
    },
    {
     "name": "stderr",
     "output_type": "stream",
     "text": [
      "\u001b[A"
     ]
    },
    {
     "name": "stdout",
     "output_type": "stream",
     "text": [
      "\b\b\b\b\b\b\b\b\b\b\b\b\b\b\b\b\b\b\b\b\b\b\b\b\b\b\b\b\b\b\b\b\b\b\b\b\b\b\b\b\b\b\b\b\b\b\b\b\b\b\b\b\b\b\b\b\b\b\b\b\b\b\b\b\b\b\b\b\b\b\b\b\b\b\b\b\b\b\b\b\b\b\b\r",
      "12800/60000 [=====>........................] - ETA: 0s - loss: 0.5351 - acc: 0.8731"
     ]
    },
    {
     "name": "stderr",
     "output_type": "stream",
     "text": [
      "\n",
      "\r",
      "Epoch: 10 - loss: 0.537, acc: 0.873 28%|██▊       | 16640/60000 [00:00<00:00, 82240.32it/s]"
     ]
    },
    {
     "name": "stdout",
     "output_type": "stream",
     "text": [
      "21760/60000 [=========>....................] - ETA: 0s - loss: 0.5377 - acc: 0.8727"
     ]
    },
    {
     "name": "stderr",
     "output_type": "stream",
     "text": [
      "\u001b[A\n",
      "Epoch: 10 - loss: 0.537, acc: 0.873 43%|████▎     | 25600/60000 [00:00<00:00, 83940.67it/s]"
     ]
    },
    {
     "name": "stdout",
     "output_type": "stream",
     "text": [
      "29952/60000 [=============>................] - ETA: 0s - loss: 0.5341 - acc: 0.8741"
     ]
    },
    {
     "name": "stderr",
     "output_type": "stream",
     "text": [
      "\u001b[A\n",
      "Epoch: 10 - loss: 0.532, acc: 0.875 55%|█████▌    | 33280/60000 [00:00<00:00, 81129.37it/s]"
     ]
    },
    {
     "name": "stdout",
     "output_type": "stream",
     "text": [
      "38400/60000 [==================>...........] - ETA: 0s - loss: 0.5299 - acc: 0.8749"
     ]
    },
    {
     "name": "stderr",
     "output_type": "stream",
     "text": [
      "\u001b[A\n",
      "Epoch: 10 - loss: 0.528, acc: 0.875 70%|██████▉   | 41984/60000 [00:00<00:00, 82080.20it/s]"
     ]
    },
    {
     "name": "stdout",
     "output_type": "stream",
     "text": [
      "47616/60000 [======================>.......] - ETA: 0s - loss: 0.5277 - acc: 0.8749"
     ]
    },
    {
     "name": "stderr",
     "output_type": "stream",
     "text": [
      "\u001b[A\n",
      "Epoch: 10 - loss: 0.528, acc: 0.874 84%|████████▍ | 50688/60000 [00:00<00:00, 83267.28it/s]"
     ]
    },
    {
     "name": "stdout",
     "output_type": "stream",
     "text": [
      "56320/60000 [===========================>..] - ETA: 0s - loss: 0.5280 - acc: 0.8737"
     ]
    },
    {
     "name": "stderr",
     "output_type": "stream",
     "text": [
      "\u001b[A\n",
      "Epoch: 10 - loss: 0.527, acc: 0.874 99%|█████████▉| 59648/60000 [00:00<00:00, 84625.01it/s]\u001b[A\n",
      "Epoch: 10 - loss: 0.527, acc: 0.874, val_loss: 0.494, val_acc: 0.885100%|██████████| 60000/60000 [00:00<00:00, 16304.33it/s]\u001b[A\n",
      "Training:  11%|█         | 11/100 [00:09<01:10,  1.26it/s]"
     ]
    },
    {
     "name": "stdout",
     "output_type": "stream",
     "text": [
      "Epoch 00010: val_loss improved from 0.51135 to 0.49366, saving model to checkpoints_mnist_log_reg_keras_tensorflow/mnist_log_reg.hdf5\n",
      "\b\b\b\b\b\b\b\b\b\b\b\b\b\b\b\b\b\b\b\b\b\b\b\b\b\b\b\b\b\b\b\b\b\b\b\b\b\b\b\b\b\b\b\b\b\b\b\b\b\b\b\b\b\b\b\b\b\b\b\b\b\b\b\b\b\b\b\b\b\b\b\b\b\b\b\b\b\b\b\b\b\b\b\r",
      "60000/60000 [==============================] - 0s - loss: 0.5272 - acc: 0.8740 - val_loss: 0.4937 - val_acc: 0.8850"
     ]
    },
    {
     "name": "stderr",
     "output_type": "stream",
     "text": [
      "\n",
      "\r",
      "Epoch: 11:   0%|          | 0/60000 [00:00<?, ?it/s]"
     ]
    },
    {
     "name": "stdout",
     "output_type": "stream",
     "text": [
      "\n",
      "Epoch 12/100\n",
      "\r",
      "  256/60000 [..............................] - ETA: 1s - loss: 0.5496 - acc: 0.8867"
     ]
    },
    {
     "name": "stderr",
     "output_type": "stream",
     "text": [
      "\u001b[A"
     ]
    },
    {
     "name": "stdout",
     "output_type": "stream",
     "text": [
      "\b\b\b\b\b\b\b\b\b\b\b\b\b\b\b\b\b\b\b\b\b\b\b\b\b\b\b\b\b\b\b\b\b\b\b\b\b\b\b\b\b\b\b\b\b\b\b\b\b\b\b\b\b\b\b\b\b\b\b\b\b\b\b\b\b\b\b\b\b\b\b\b\b\b\b\b\b\b\b\b\b\b\b\r",
      " 4096/60000 [=>............................] - ETA: 0s - loss: 0.5017 - acc: 0.8818"
     ]
    },
    {
     "name": "stderr",
     "output_type": "stream",
     "text": [
      "\n",
      "\r",
      "Epoch: 11 - loss: 0.502, acc: 0.883 13%|█▎        | 7936/60000 [00:00<00:00, 77784.47it/s]"
     ]
    },
    {
     "name": "stdout",
     "output_type": "stream",
     "text": [
      "\b\b\b\b\b\b\b\b\b\b\b\b\b\b\b\b\b\b\b\b\b\b\b\b\b\b\b\b\b\b\b\b\b\b\b\b\b\b\b\b\b\b\b\b\b\b\b\b\b\b\b\b\b\b\b\b\b\b\b\b\b\b\b\b\b\b\b\b\b\b\b\b\b\b\b\b\b\b\b\b\b\b\b\r",
      " 8704/60000 [===>..........................] - ETA: 0s - loss: 0.5003 - acc: 0.8836"
     ]
    },
    {
     "name": "stderr",
     "output_type": "stream",
     "text": [
      "\u001b[A"
     ]
    },
    {
     "name": "stdout",
     "output_type": "stream",
     "text": [
      "\b\b\b\b\b\b\b\b\b\b\b\b\b\b\b\b\b\b\b\b\b\b\b\b\b\b\b\b\b\b\b\b\b\b\b\b\b\b\b\b\b\b\b\b\b\b\b\b\b\b\b\b\b\b\b\b\b\b\b\b\b\b\b\b\b\b\b\b\b\b\b\b\b\b\b\b\b\b\b\b\b\b\b\r",
      "13056/60000 [=====>........................] - ETA: 0s - loss: 0.5087 - acc: 0.8815"
     ]
    },
    {
     "name": "stderr",
     "output_type": "stream",
     "text": [
      "\n",
      "\r",
      "Epoch: 11 - loss: 0.510, acc: 0.881 27%|██▋       | 16128/60000 [00:00<00:00, 78879.84it/s]"
     ]
    },
    {
     "name": "stdout",
     "output_type": "stream",
     "text": [
      "21504/60000 [=========>....................] - ETA: 0s - loss: 0.5091 - acc: 0.8798"
     ]
    },
    {
     "name": "stderr",
     "output_type": "stream",
     "text": [
      "\u001b[A\n",
      "Epoch: 11 - loss: 0.506, acc: 0.881 41%|████▏     | 24832/60000 [00:00<00:00, 80562.21it/s]"
     ]
    },
    {
     "name": "stdout",
     "output_type": "stream",
     "text": [
      "29952/60000 [=============>................] - ETA: 0s - loss: 0.5072 - acc: 0.8787"
     ]
    },
    {
     "name": "stderr",
     "output_type": "stream",
     "text": [
      "\u001b[A\n",
      "Epoch: 11 - loss: 0.510, acc: 0.878 55%|█████▌    | 33280/60000 [00:00<00:00, 81463.39it/s]"
     ]
    },
    {
     "name": "stdout",
     "output_type": "stream",
     "text": [
      "38912/60000 [==================>...........] - ETA: 0s - loss: 0.5093 - acc: 0.8780"
     ]
    },
    {
     "name": "stderr",
     "output_type": "stream",
     "text": [
      "\u001b[A\n",
      "Epoch: 11 - loss: 0.511, acc: 0.878 70%|██████▉   | 41984/60000 [00:00<00:00, 83024.82it/s]"
     ]
    },
    {
     "name": "stdout",
     "output_type": "stream",
     "text": [
      "48128/60000 [=======================>......] - ETA: 0s - loss: 0.5094 - acc: 0.8781"
     ]
    },
    {
     "name": "stderr",
     "output_type": "stream",
     "text": [
      "\u001b[A\n",
      "Epoch: 11 - loss: 0.509, acc: 0.878 85%|████████▍ | 50944/60000 [00:00<00:00, 84744.81it/s]"
     ]
    },
    {
     "name": "stdout",
     "output_type": "stream",
     "text": [
      "57344/60000 [===========================>..] - ETA: 0s - loss: 0.5098 - acc: 0.8769"
     ]
    },
    {
     "name": "stderr",
     "output_type": "stream",
     "text": [
      "\u001b[A\n",
      "Epoch: 11 - loss: 0.510, acc: 0.877100%|█████████▉| 59904/60000 [00:00<00:00, 85328.72it/s]\u001b[A\n",
      "Epoch: 11 - loss: 0.510, acc: 0.877, val_loss: 0.478, val_acc: 0.887100%|██████████| 60000/60000 [00:00<00:00, 5261.36it/s]\u001b[A\n",
      "Training:  12%|█▏        | 12/100 [00:09<01:09,  1.26it/s]"
     ]
    },
    {
     "name": "stdout",
     "output_type": "stream",
     "text": [
      "Epoch 00011: val_loss improved from 0.49366 to 0.47845, saving model to checkpoints_mnist_log_reg_keras_tensorflow/mnist_log_reg.hdf5\n",
      "60000/60000 [==============================] - 0s - loss: 0.5104 - acc: 0.8766 - val_loss: 0.4785 - val_acc: 0.8875"
     ]
    },
    {
     "name": "stderr",
     "output_type": "stream",
     "text": [
      "\n",
      "\r",
      "Epoch: 12:   0%|          | 0/60000 [00:00<?, ?it/s]"
     ]
    },
    {
     "name": "stdout",
     "output_type": "stream",
     "text": [
      "\n",
      "Epoch 13/100\n",
      "\r",
      "  256/60000 [..............................] - ETA: 1s - loss: 0.4420 - acc: 0.8945"
     ]
    },
    {
     "name": "stderr",
     "output_type": "stream",
     "text": [
      "\u001b[A"
     ]
    },
    {
     "name": "stdout",
     "output_type": "stream",
     "text": [
      "\b\b\b\b\b\b\b\b\b\b\b\b\b\b\b\b\b\b\b\b\b\b\b\b\b\b\b\b\b\b\b\b\b\b\b\b\b\b\b\b\b\b\b\b\b\b\b\b\b\b\b\b\b\b\b\b\b\b\b\b\b\b\b\b\b\b\b\b\b\b\b\b\b\b\b\b\b\b\b\b\b\b\b\r",
      " 4608/60000 [=>............................] - ETA: 0s - loss: 0.5079 - acc: 0.8761"
     ]
    },
    {
     "name": "stderr",
     "output_type": "stream",
     "text": [
      "\n",
      "\r",
      "Epoch: 12 - loss: 0.506, acc: 0.877 15%|█▍        | 8960/60000 [00:00<00:00, 88160.28it/s]"
     ]
    },
    {
     "name": "stdout",
     "output_type": "stream",
     "text": [
      "\b\b\b\b\b\b\b\b\b\b\b\b\b\b\b\b\b\b\b\b\b\b\b\b\b\b\b\b\b\b\b\b\b\b\b\b\b\b\b\b\b\b\b\b\b\b\b\b\b\b\b\b\b\b\b\b\b\b\b\b\b\b\b\b\b\b\b\b\b\b\b\b\b\b\b\b\b\b\b\b\b\b\b\r",
      " 9472/60000 [===>..........................] - ETA: 0s - loss: 0.5053 - acc: 0.8766"
     ]
    },
    {
     "name": "stderr",
     "output_type": "stream",
     "text": [
      "\u001b[A"
     ]
    },
    {
     "name": "stdout",
     "output_type": "stream",
     "text": [
      "\b\b\b\b\b\b\b\b\b\b\b\b\b\b\b\b\b\b\b\b\b\b\b\b\b\b\b\b\b\b\b\b\b\b\b\b\b\b\b\b\b\b\b\b\b\b\b\b\b\b\b\b\b\b\b\b\b\b\b\b\b\b\b\b\b\b\b\b\b\b\b\b\b\b\b\b\b\b\b\b\b\b\b\r",
      "13312/60000 [=====>........................] - ETA: 0s - loss: 0.4972 - acc: 0.8803"
     ]
    },
    {
     "name": "stderr",
     "output_type": "stream",
     "text": [
      "\n",
      "\r",
      "Epoch: 12 - loss: 0.501, acc: 0.879 29%|██▉       | 17408/60000 [00:00<00:00, 86787.23it/s]"
     ]
    },
    {
     "name": "stdout",
     "output_type": "stream",
     "text": [
      "22016/60000 [==========>...................] - ETA: 0s - loss: 0.5008 - acc: 0.8799"
     ]
    },
    {
     "name": "stderr",
     "output_type": "stream",
     "text": [
      "\u001b[A\n",
      "Epoch: 12 - loss: 0.500, acc: 0.878 44%|████▎     | 26112/60000 [00:00<00:00, 86310.12it/s]"
     ]
    },
    {
     "name": "stdout",
     "output_type": "stream",
     "text": [
      "30976/60000 [==============>...............] - ETA: 0s - loss: 0.4981 - acc: 0.8788"
     ]
    },
    {
     "name": "stderr",
     "output_type": "stream",
     "text": [
      "\u001b[A\n",
      "Epoch: 12 - loss: 0.497, acc: 0.879 58%|█████▊    | 35072/60000 [00:00<00:00, 86660.36it/s]"
     ]
    },
    {
     "name": "stdout",
     "output_type": "stream",
     "text": [
      "39936/60000 [==================>...........] - ETA: 0s - loss: 0.4939 - acc: 0.8803"
     ]
    },
    {
     "name": "stderr",
     "output_type": "stream",
     "text": [
      "\u001b[A\n",
      "Epoch: 12 - loss: 0.495, acc: 0.880 72%|███████▏  | 43008/60000 [00:00<00:00, 83835.63it/s]"
     ]
    },
    {
     "name": "stdout",
     "output_type": "stream",
     "text": [
      "47872/60000 [======================>.......] - ETA: 0s - loss: 0.4962 - acc: 0.8792"
     ]
    },
    {
     "name": "stderr",
     "output_type": "stream",
     "text": [
      "\u001b[A\n",
      "Epoch: 12 - loss: 0.497, acc: 0.878 86%|████████▌ | 51456/60000 [00:00<00:00, 83850.93it/s]"
     ]
    },
    {
     "name": "stdout",
     "output_type": "stream",
     "text": [
      "56832/60000 [===========================>..] - ETA: 0s - loss: 0.4972 - acc: 0.8786"
     ]
    },
    {
     "name": "stderr",
     "output_type": "stream",
     "text": [
      "\u001b[A\n",
      "Epoch: 12 - loss: 0.496, acc: 0.879, val_loss: 0.466, val_acc: 0.888100%|██████████| 60000/60000 [00:00<00:00, 71088.34it/s]\u001b[A\n",
      "Training:  13%|█▎        | 13/100 [00:10<01:08,  1.27it/s]"
     ]
    },
    {
     "name": "stdout",
     "output_type": "stream",
     "text": [
      "Epoch 00012: val_loss improved from 0.47845 to 0.46558, saving model to checkpoints_mnist_log_reg_keras_tensorflow/mnist_log_reg.hdf5\n",
      "\b\b\b\b\b\b\b\b\b\b\b\b\b\b\b\b\b\b\b\b\b\b\b\b\b\b\b\b\b\b\b\b\b\b\b\b\b\b\b\b\b\b\b\b\b\b\b\b\b\b\b\b\b\b\b\b\b\b\b\b\b\b\b\b\b\b\b\b\b\b\b\b\b\b\b\b\b\b\b\b\b\b\b\r",
      "60000/60000 [==============================] - 0s - loss: 0.4960 - acc: 0.8789 - val_loss: 0.4656 - val_acc: 0.8885"
     ]
    },
    {
     "name": "stderr",
     "output_type": "stream",
     "text": [
      "\n",
      "\r",
      "Epoch: 13:   0%|          | 0/60000 [00:00<?, ?it/s]"
     ]
    },
    {
     "name": "stdout",
     "output_type": "stream",
     "text": [
      "\n",
      "Epoch 14/100\n",
      "\r",
      "  256/60000 [..............................] - ETA: 0s - loss: 0.4994 - acc: 0.8672"
     ]
    },
    {
     "name": "stderr",
     "output_type": "stream",
     "text": [
      "\u001b[A"
     ]
    },
    {
     "name": "stdout",
     "output_type": "stream",
     "text": [
      "\b\b\b\b\b\b\b\b\b\b\b\b\b\b\b\b\b\b\b\b\b\b\b\b\b\b\b\b\b\b\b\b\b\b\b\b\b\b\b\b\b\b\b\b\b\b\b\b\b\b\b\b\b\b\b\b\b\b\b\b\b\b\b\b\b\b\b\b\b\b\b\b\b\b\b\b\b\b\b\b\b\b\b\r",
      " 4864/60000 [=>............................] - ETA: 0s - loss: 0.4739 - acc: 0.8806"
     ]
    },
    {
     "name": "stderr",
     "output_type": "stream",
     "text": [
      "\n",
      "\r",
      "Epoch: 13 - loss: 0.481, acc: 0.878 15%|█▍        | 8960/60000 [00:00<00:00, 87729.74it/s]"
     ]
    },
    {
     "name": "stdout",
     "output_type": "stream",
     "text": [
      "13568/60000 [=====>........................] - ETA: 0s - loss: 0.4878 - acc: 0.8762"
     ]
    },
    {
     "name": "stderr",
     "output_type": "stream",
     "text": [
      "\u001b[A\n",
      "Epoch: 13 - loss: 0.484, acc: 0.880 29%|██▊       | 17152/60000 [00:00<00:00, 85835.23it/s]"
     ]
    },
    {
     "name": "stdout",
     "output_type": "stream",
     "text": [
      "22528/60000 [==========>...................] - ETA: 0s - loss: 0.4840 - acc: 0.8805"
     ]
    },
    {
     "name": "stderr",
     "output_type": "stream",
     "text": [
      "\u001b[A\n",
      "Epoch: 13 - loss: 0.485, acc: 0.881 43%|████▎     | 25600/60000 [00:00<00:00, 84781.28it/s]"
     ]
    },
    {
     "name": "stdout",
     "output_type": "stream",
     "text": [
      "30464/60000 [==============>...............] - ETA: 0s - loss: 0.4832 - acc: 0.8812"
     ]
    },
    {
     "name": "stderr",
     "output_type": "stream",
     "text": [
      "\u001b[A\n",
      "Epoch: 13 - loss: 0.483, acc: 0.881 56%|█████▋    | 33792/60000 [00:00<00:00, 83056.36it/s]"
     ]
    },
    {
     "name": "stdout",
     "output_type": "stream",
     "text": [
      "38912/60000 [==================>...........] - ETA: 0s - loss: 0.4852 - acc: 0.8807"
     ]
    },
    {
     "name": "stderr",
     "output_type": "stream",
     "text": [
      "\u001b[A\n",
      "Epoch: 13 - loss: 0.485, acc: 0.880 70%|███████   | 42240/60000 [00:00<00:00, 83461.31it/s]"
     ]
    },
    {
     "name": "stdout",
     "output_type": "stream",
     "text": [
      "47360/60000 [======================>.......] - ETA: 0s - loss: 0.4867 - acc: 0.8796"
     ]
    },
    {
     "name": "stderr",
     "output_type": "stream",
     "text": [
      "\u001b[A\n",
      "Epoch: 13 - loss: 0.487, acc: 0.880 85%|████████▌ | 51200/60000 [00:00<00:00, 84789.02it/s]"
     ]
    },
    {
     "name": "stdout",
     "output_type": "stream",
     "text": [
      "56576/60000 [===========================>..] - ETA: 0s - loss: 0.4841 - acc: 0.8806"
     ]
    },
    {
     "name": "stderr",
     "output_type": "stream",
     "text": [
      "\u001b[A\n",
      "Epoch: 13 - loss: 0.484, acc: 0.881, val_loss: 0.454, val_acc: 0.891100%|██████████| 60000/60000 [00:00<00:00, 73109.36it/s]\u001b[A\n",
      "Training:  14%|█▍        | 14/100 [00:11<01:07,  1.27it/s]"
     ]
    },
    {
     "name": "stdout",
     "output_type": "stream",
     "text": [
      "Epoch 00013: val_loss improved from 0.46558 to 0.45430, saving model to checkpoints_mnist_log_reg_keras_tensorflow/mnist_log_reg.hdf5\n",
      "\b\b\b\b\b\b\b\b\b\b\b\b\b\b\b\b\b\b\b\b\b\b\b\b\b\b\b\b\b\b\b\b\b\b\b\b\b\b\b\b\b\b\b\b\b\b\b\b\b\b\b\b\b\b\b\b\b\b\b\b\b\b\b\b\b\b\b\b\b\b\b\b\b\b\b\b\b\b\b\b\b\b\b\r",
      "60000/60000 [==============================] - 0s - loss: 0.4836 - acc: 0.8806 - val_loss: 0.4543 - val_acc: 0.8907"
     ]
    },
    {
     "name": "stderr",
     "output_type": "stream",
     "text": [
      "\n",
      "\r",
      "Epoch: 14:   0%|          | 0/60000 [00:00<?, ?it/s]"
     ]
    },
    {
     "name": "stdout",
     "output_type": "stream",
     "text": [
      "\n",
      "Epoch 15/100\n",
      "\r",
      "  256/60000 [..............................] - ETA: 1s - loss: 0.5335 - acc: 0.8672"
     ]
    },
    {
     "name": "stderr",
     "output_type": "stream",
     "text": [
      "\u001b[A"
     ]
    },
    {
     "name": "stdout",
     "output_type": "stream",
     "text": [
      "\b\b\b\b\b\b\b\b\b\b\b\b\b\b\b\b\b\b\b\b\b\b\b\b\b\b\b\b\b\b\b\b\b\b\b\b\b\b\b\b\b\b\b\b\b\b\b\b\b\b\b\b\b\b\b\b\b\b\b\b\b\b\b\b\b\b\b\b\b\b\b\b\b\b\b\b\b\b\b\b\b\b\b\r",
      " 5120/60000 [=>............................] - ETA: 0s - loss: 0.4882 - acc: 0.8795"
     ]
    },
    {
     "name": "stderr",
     "output_type": "stream",
     "text": [
      "\n",
      "\r",
      "Epoch: 14 - loss: 0.487, acc: 0.880 15%|█▌        | 9216/60000 [00:00<00:00, 90460.57it/s]"
     ]
    },
    {
     "name": "stdout",
     "output_type": "stream",
     "text": [
      "13824/60000 [=====>........................] - ETA: 0s - loss: 0.4836 - acc: 0.8796"
     ]
    },
    {
     "name": "stderr",
     "output_type": "stream",
     "text": [
      "\u001b[A\n",
      "Epoch: 14 - loss: 0.484, acc: 0.879 29%|██▉       | 17664/60000 [00:00<00:00, 88410.35it/s]"
     ]
    },
    {
     "name": "stdout",
     "output_type": "stream",
     "text": [
      "23040/60000 [==========>...................] - ETA: 0s - loss: 0.4821 - acc: 0.8808"
     ]
    },
    {
     "name": "stderr",
     "output_type": "stream",
     "text": [
      "\u001b[A\n",
      "Epoch: 14 - loss: 0.480, acc: 0.881 44%|████▍     | 26368/60000 [00:00<00:00, 87395.67it/s]"
     ]
    },
    {
     "name": "stdout",
     "output_type": "stream",
     "text": [
      "31232/60000 [==============>...............] - ETA: 0s - loss: 0.4802 - acc: 0.8811"
     ]
    },
    {
     "name": "stderr",
     "output_type": "stream",
     "text": [
      "\u001b[A\n",
      "Epoch: 14 - loss: 0.481, acc: 0.881 58%|█████▊    | 34560/60000 [00:00<00:00, 85491.73it/s]"
     ]
    },
    {
     "name": "stdout",
     "output_type": "stream",
     "text": [
      "40192/60000 [===================>..........] - ETA: 0s - loss: 0.4770 - acc: 0.8814"
     ]
    },
    {
     "name": "stderr",
     "output_type": "stream",
     "text": [
      "\u001b[A\n",
      "Epoch: 14 - loss: 0.476, acc: 0.882 72%|███████▏  | 43264/60000 [00:00<00:00, 85692.28it/s]"
     ]
    },
    {
     "name": "stdout",
     "output_type": "stream",
     "text": [
      "49152/60000 [=======================>......] - ETA: 0s - loss: 0.4750 - acc: 0.8823"
     ]
    },
    {
     "name": "stderr",
     "output_type": "stream",
     "text": [
      "\u001b[A\n",
      "Epoch: 14 - loss: 0.474, acc: 0.883 87%|████████▋ | 52224/60000 [00:00<00:00, 86768.04it/s]"
     ]
    },
    {
     "name": "stdout",
     "output_type": "stream",
     "text": [
      "58368/60000 [============================>.] - ETA: 0s - loss: 0.4727 - acc: 0.8827"
     ]
    },
    {
     "name": "stderr",
     "output_type": "stream",
     "text": [
      "\u001b[A\n",
      "Epoch: 14 - loss: 0.473, acc: 0.882, val_loss: 0.444, val_acc: 0.892100%|██████████| 60000/60000 [00:00<00:00, 71741.51it/s]\u001b[A\n",
      "Training:  15%|█▌        | 15/100 [00:12<01:06,  1.28it/s]"
     ]
    },
    {
     "name": "stdout",
     "output_type": "stream",
     "text": [
      "Epoch 00014: val_loss improved from 0.45430 to 0.44445, saving model to checkpoints_mnist_log_reg_keras_tensorflow/mnist_log_reg.hdf5\n",
      "\b\b\b\b\b\b\b\b\b\b\b\b\b\b\b\b\b\b\b\b\b\b\b\b\b\b\b\b\b\b\b\b\b\b\b\b\b\b\b\b\b\b\b\b\b\b\b\b\b\b\b\b\b\b\b\b\b\b\b\b\b\b\b\b\b\b\b\b\b\b\b\b\b\b\b\b\b\b\b\b\b\b\b\r",
      "60000/60000 [==============================] - 0s - loss: 0.4728 - acc: 0.8824 - val_loss: 0.4444 - val_acc: 0.8919"
     ]
    },
    {
     "name": "stderr",
     "output_type": "stream",
     "text": [
      "\n",
      "\r",
      "Epoch: 15:   0%|          | 0/60000 [00:00<?, ?it/s]"
     ]
    },
    {
     "name": "stdout",
     "output_type": "stream",
     "text": [
      "\n",
      "Epoch 16/100\n",
      "  256/60000 [..............................] - ETA: 1s - loss: 0.4936 - acc: 0.8750"
     ]
    },
    {
     "name": "stderr",
     "output_type": "stream",
     "text": [
      "\u001b[A"
     ]
    },
    {
     "name": "stdout",
     "output_type": "stream",
     "text": [
      "\b\b\b\b\b\b\b\b\b\b\b\b\b\b\b\b\b\b\b\b\b\b\b\b\b\b\b\b\b\b\b\b\b\b\b\b\b\b\b\b\b\b\b\b\b\b\b\b\b\b\b\b\b\b\b\b\b\b\b\b\b\b\b\b\b\b\b\b\b\b\b\b\b\b\b\b\b\b\b\b\b\b\b\r",
      " 4608/60000 [=>............................] - ETA: 0s - loss: 0.4876 - acc: 0.8748"
     ]
    },
    {
     "name": "stderr",
     "output_type": "stream",
     "text": [
      "\n",
      "\r",
      "Epoch: 15 - loss: 0.477, acc: 0.879 15%|█▍        | 8704/60000 [00:00<00:00, 86223.55it/s]"
     ]
    },
    {
     "name": "stdout",
     "output_type": "stream",
     "text": [
      "13824/60000 [=====>........................] - ETA: 0s - loss: 0.4719 - acc: 0.8810"
     ]
    },
    {
     "name": "stderr",
     "output_type": "stream",
     "text": [
      "\u001b[A\n",
      "Epoch: 15 - loss: 0.468, acc: 0.881 30%|███       | 18176/60000 [00:00<00:00, 88258.08it/s]"
     ]
    },
    {
     "name": "stdout",
     "output_type": "stream",
     "text": [
      "23552/60000 [==========>...................] - ETA: 0s - loss: 0.4658 - acc: 0.8829"
     ]
    },
    {
     "name": "stderr",
     "output_type": "stream",
     "text": [
      "\u001b[A\n",
      "Epoch: 15 - loss: 0.468, acc: 0.882 45%|████▌     | 27136/60000 [00:00<00:00, 88584.91it/s]"
     ]
    },
    {
     "name": "stdout",
     "output_type": "stream",
     "text": [
      "32768/60000 [===============>..............] - ETA: 0s - loss: 0.4676 - acc: 0.8819"
     ]
    },
    {
     "name": "stderr",
     "output_type": "stream",
     "text": [
      "\u001b[A\n",
      "Epoch: 15 - loss: 0.467, acc: 0.882 61%|██████▏   | 36864/60000 [00:00<00:00, 90402.26it/s]"
     ]
    },
    {
     "name": "stdout",
     "output_type": "stream",
     "text": [
      "41984/60000 [===================>..........] - ETA: 0s - loss: 0.4647 - acc: 0.8826"
     ]
    },
    {
     "name": "stderr",
     "output_type": "stream",
     "text": [
      "\u001b[A\n",
      "Epoch: 15 - loss: 0.463, acc: 0.883 76%|███████▌  | 45568/60000 [00:00<00:00, 88569.80it/s]"
     ]
    },
    {
     "name": "stdout",
     "output_type": "stream",
     "text": [
      "50688/60000 [========================>.....] - ETA: 0s - loss: 0.4638 - acc: 0.8830"
     ]
    },
    {
     "name": "stderr",
     "output_type": "stream",
     "text": [
      "\u001b[A\n",
      "Epoch: 15 - loss: 0.464, acc: 0.883 90%|█████████ | 54272/60000 [00:00<00:00, 88012.24it/s]"
     ]
    },
    {
     "name": "stdout",
     "output_type": "stream",
     "text": [
      "\b\b\b\b\b\b\b\b\b\b\b\b\b\b\b\b\b\b\b\b\b\b\b\b\b\b\b\b\b\b\b\b\b\b\b\b\b\b\b\b\b\b\b\b\b\b\b\b\b\b\b\b\b\b\b\b\b\b\b\b\b\b\b\b\b\b\b\b\b\b\b\b\b\b\b\b\b\b\b\b\b\b\b\r",
      "55552/60000 [==========================>...] - ETA: 0s - loss: 0.4639 - acc: 0.8831"
     ]
    },
    {
     "name": "stderr",
     "output_type": "stream",
     "text": [
      "\u001b[A\n",
      "Epoch: 15 - loss: 0.463, acc: 0.884, val_loss: 0.436, val_acc: 0.894100%|██████████| 60000/60000 [00:00<00:00, 71009.24it/s]\u001b[A\n",
      "Training:  16%|█▌        | 16/100 [00:12<01:04,  1.30it/s]"
     ]
    },
    {
     "name": "stdout",
     "output_type": "stream",
     "text": [
      "Epoch 00015: val_loss improved from 0.44445 to 0.43563, saving model to checkpoints_mnist_log_reg_keras_tensorflow/mnist_log_reg.hdf5\n",
      "\b\b\b\b\b\b\b\b\b\b\b\b\b\b\b\b\b\b\b\b\b\b\b\b\b\b\b\b\b\b\b\b\b\b\b\b\b\b\b\b\b\b\b\b\b\b\b\b\b\b\b\b\b\b\b\b\b\b\b\b\b\b\b\b\b\b\b\b\b\b\b\b\b\b\b\b\b\b\b\b\b\b\b\r",
      "60000/60000 [==============================] - 0s - loss: 0.4632 - acc: 0.8836 - val_loss: 0.4356 - val_acc: 0.8941"
     ]
    },
    {
     "name": "stderr",
     "output_type": "stream",
     "text": [
      "\n",
      "\r",
      "Epoch: 16:   0%|          | 0/60000 [00:00<?, ?it/s]"
     ]
    },
    {
     "name": "stdout",
     "output_type": "stream",
     "text": [
      "\n",
      "Epoch 17/100\n",
      " 4608/60000 [=>............................] - ETA: 0s - loss: 0.4649 - acc: 0.8806"
     ]
    },
    {
     "name": "stderr",
     "output_type": "stream",
     "text": [
      "\u001b[A\n",
      "Epoch: 16 - loss: 0.462, acc: 0.883 13%|█▎        | 7936/60000 [00:00<00:00, 78659.99it/s]"
     ]
    },
    {
     "name": "stdout",
     "output_type": "stream",
     "text": [
      "12800/60000 [=====>........................] - ETA: 0s - loss: 0.4561 - acc: 0.8845"
     ]
    },
    {
     "name": "stderr",
     "output_type": "stream",
     "text": [
      "\u001b[A\n",
      "Epoch: 16 - loss: 0.460, acc: 0.884 28%|██▊       | 16640/60000 [00:00<00:00, 80823.14it/s]"
     ]
    },
    {
     "name": "stdout",
     "output_type": "stream",
     "text": [
      "21760/60000 [=========>....................] - ETA: 0s - loss: 0.4608 - acc: 0.8823"
     ]
    },
    {
     "name": "stderr",
     "output_type": "stream",
     "text": [
      "\u001b[A\n",
      "Epoch: 16 - loss: 0.459, acc: 0.882 43%|████▎     | 25600/60000 [00:00<00:00, 82554.08it/s]"
     ]
    },
    {
     "name": "stdout",
     "output_type": "stream",
     "text": [
      "30464/60000 [==============>...............] - ETA: 0s - loss: 0.4582 - acc: 0.8833"
     ]
    },
    {
     "name": "stderr",
     "output_type": "stream",
     "text": [
      "\u001b[A\n",
      "Epoch: 16 - loss: 0.457, acc: 0.884 57%|█████▋    | 34048/60000 [00:00<00:00, 82834.85it/s]"
     ]
    },
    {
     "name": "stdout",
     "output_type": "stream",
     "text": [
      "39168/60000 [==================>...........] - ETA: 0s - loss: 0.4580 - acc: 0.8830"
     ]
    },
    {
     "name": "stderr",
     "output_type": "stream",
     "text": [
      "\u001b[A\n",
      "Epoch: 16 - loss: 0.458, acc: 0.883 72%|███████▏  | 43008/60000 [00:00<00:00, 84530.41it/s]"
     ]
    },
    {
     "name": "stdout",
     "output_type": "stream",
     "text": [
      "48384/60000 [=======================>......] - ETA: 0s - loss: 0.4570 - acc: 0.8838"
     ]
    },
    {
     "name": "stderr",
     "output_type": "stream",
     "text": [
      "\u001b[A\n",
      "Epoch: 16 - loss: 0.457, acc: 0.884 87%|████████▋ | 51968/60000 [00:00<00:00, 85748.12it/s]"
     ]
    },
    {
     "name": "stdout",
     "output_type": "stream",
     "text": [
      "57856/60000 [===========================>..] - ETA: 0s - loss: 0.4554 - acc: 0.8847"
     ]
    },
    {
     "name": "stderr",
     "output_type": "stream",
     "text": [
      "\u001b[A\n",
      "Epoch: 16 - loss: 0.455, acc: 0.885, val_loss: 0.428, val_acc: 0.895100%|██████████| 60000/60000 [00:00<00:00, 72679.45it/s]\u001b[A\n",
      "Training:  17%|█▋        | 17/100 [00:13<01:03,  1.30it/s]"
     ]
    },
    {
     "name": "stdout",
     "output_type": "stream",
     "text": [
      "Epoch 00016: val_loss improved from 0.43563 to 0.42788, saving model to checkpoints_mnist_log_reg_keras_tensorflow/mnist_log_reg.hdf5\n",
      "\b\b\b\b\b\b\b\b\b\b\b\b\b\b\b\b\b\b\b\b\b\b\b\b\b\b\b\b\b\b\b\b\b\b\b\b\b\b\b\b\b\b\b\b\b\b\b\b\b\b\b\b\b\b\b\b\b\b\b\b\b\b\b\b\b\b\b\b\b\b\b\b\b\b\b\b\b\b\b\b\b\b\b\r",
      "60000/60000 [==============================] - 0s - loss: 0.4547 - acc: 0.8850 - val_loss: 0.4279 - val_acc: 0.8950"
     ]
    },
    {
     "name": "stderr",
     "output_type": "stream",
     "text": [
      "\n",
      "\r",
      "Epoch: 17:   0%|          | 0/60000 [00:00<?, ?it/s]"
     ]
    },
    {
     "name": "stdout",
     "output_type": "stream",
     "text": [
      "\n",
      "Epoch 18/100\n",
      "\r",
      "  256/60000 [..............................] - ETA: 0s - loss: 0.4809 - acc: 0.8828"
     ]
    },
    {
     "name": "stderr",
     "output_type": "stream",
     "text": [
      "\u001b[A"
     ]
    },
    {
     "name": "stdout",
     "output_type": "stream",
     "text": [
      "\b\b\b\b\b\b\b\b\b\b\b\b\b\b\b\b\b\b\b\b\b\b\b\b\b\b\b\b\b\b\b\b\b\b\b\b\b\b\b\b\b\b\b\b\b\b\b\b\b\b\b\b\b\b\b\b\b\b\b\b\b\b\b\b\b\b\b\b\b\b\b\b\b\b\b\b\b\b\b\b\b\b\b\r",
      " 4864/60000 [=>............................] - ETA: 0s - loss: 0.4403 - acc: 0.8896"
     ]
    },
    {
     "name": "stderr",
     "output_type": "stream",
     "text": [
      "\n",
      "\r",
      "Epoch: 17 - loss: 0.448, acc: 0.889 15%|█▍        | 8704/60000 [00:00<00:00, 85862.98it/s]"
     ]
    },
    {
     "name": "stdout",
     "output_type": "stream",
     "text": [
      "13312/60000 [=====>........................] - ETA: 0s - loss: 0.4500 - acc: 0.8872"
     ]
    },
    {
     "name": "stderr",
     "output_type": "stream",
     "text": [
      "\u001b[A\n",
      "Epoch: 17 - loss: 0.446, acc: 0.888 29%|██▊       | 17152/60000 [00:00<00:00, 84334.01it/s]"
     ]
    },
    {
     "name": "stdout",
     "output_type": "stream",
     "text": [
      "21760/60000 [=========>....................] - ETA: 0s - loss: 0.4471 - acc: 0.8875"
     ]
    },
    {
     "name": "stderr",
     "output_type": "stream",
     "text": [
      "\u001b[A\n",
      "Epoch: 17 - loss: 0.449, acc: 0.887 43%|████▎     | 25856/60000 [00:00<00:00, 84469.91it/s]"
     ]
    },
    {
     "name": "stdout",
     "output_type": "stream",
     "text": [
      "30720/60000 [==============>...............] - ETA: 0s - loss: 0.4483 - acc: 0.8859"
     ]
    },
    {
     "name": "stderr",
     "output_type": "stream",
     "text": [
      "\u001b[A\n",
      "Epoch: 17 - loss: 0.449, acc: 0.886 58%|█████▊    | 34816/60000 [00:00<00:00, 85869.96it/s]"
     ]
    },
    {
     "name": "stdout",
     "output_type": "stream",
     "text": [
      "39936/60000 [==================>...........] - ETA: 0s - loss: 0.4481 - acc: 0.8857"
     ]
    },
    {
     "name": "stderr",
     "output_type": "stream",
     "text": [
      "\u001b[A\n",
      "Epoch: 17 - loss: 0.447, acc: 0.886 73%|███████▎  | 43776/60000 [00:00<00:00, 86710.16it/s]"
     ]
    },
    {
     "name": "stdout",
     "output_type": "stream",
     "text": [
      "49152/60000 [=======================>......] - ETA: 0s - loss: 0.4479 - acc: 0.8852"
     ]
    },
    {
     "name": "stderr",
     "output_type": "stream",
     "text": [
      "\u001b[A\n",
      "Epoch: 17 - loss: 0.448, acc: 0.885 88%|████████▊ | 52736/60000 [00:00<00:00, 87366.73it/s]"
     ]
    },
    {
     "name": "stdout",
     "output_type": "stream",
     "text": [
      "57856/60000 [===========================>..] - ETA: 0s - loss: 0.4470 - acc: 0.8859"
     ]
    },
    {
     "name": "stderr",
     "output_type": "stream",
     "text": [
      "\u001b[A\n",
      "Epoch: 17 - loss: 0.447, acc: 0.886, val_loss: 0.421, val_acc: 0.896100%|██████████| 60000/60000 [00:00<00:00, 71507.99it/s]\u001b[A\n",
      "Training:  18%|█▊        | 18/100 [00:14<01:02,  1.30it/s]"
     ]
    },
    {
     "name": "stdout",
     "output_type": "stream",
     "text": [
      "Epoch 00017: val_loss improved from 0.42788 to 0.42108, saving model to checkpoints_mnist_log_reg_keras_tensorflow/mnist_log_reg.hdf5\n",
      "\b\b\b\b\b\b\b\b\b\b\b\b\b\b\b\b\b\b\b\b\b\b\b\b\b\b\b\b\b\b\b\b\b\b\b\b\b\b\b\b\b\b\b\b\b\b\b\b\b\b\b\b\b\b\b\b\b\b\b\b\b\b\b\b\b\b\b\b\b\b\b\b\b\b\b\b\b\b\b\b\b\b\b\r",
      "60000/60000 [==============================] - 0s - loss: 0.4470 - acc: 0.8861 - val_loss: 0.4211 - val_acc: 0.8961"
     ]
    },
    {
     "name": "stderr",
     "output_type": "stream",
     "text": [
      "\n",
      "\r",
      "Epoch: 18:   0%|          | 0/60000 [00:00<?, ?it/s]"
     ]
    },
    {
     "name": "stdout",
     "output_type": "stream",
     "text": [
      "\n",
      "Epoch 19/100\n",
      "  256/60000 [..............................] - ETA: 1s - loss: 0.3578 - acc: 0.9219"
     ]
    },
    {
     "name": "stderr",
     "output_type": "stream",
     "text": [
      "\u001b[A"
     ]
    },
    {
     "name": "stdout",
     "output_type": "stream",
     "text": [
      "\b\b\b\b\b\b\b\b\b\b\b\b\b\b\b\b\b\b\b\b\b\b\b\b\b\b\b\b\b\b\b\b\b\b\b\b\b\b\b\b\b\b\b\b\b\b\b\b\b\b\b\b\b\b\b\b\b\b\b\b\b\b\b\b\b\b\b\b\b\b\b\b\b\b\b\b\b\b\b\b\b\b\b\r",
      " 4864/60000 [=>............................] - ETA: 0s - loss: 0.4243 - acc: 0.8954"
     ]
    },
    {
     "name": "stderr",
     "output_type": "stream",
     "text": [
      "\n",
      "\r",
      "Epoch: 18 - loss: 0.424, acc: 0.894 15%|█▍        | 8704/60000 [00:00<00:00, 84487.31it/s]"
     ]
    },
    {
     "name": "stdout",
     "output_type": "stream",
     "text": [
      "13312/60000 [=====>........................] - ETA: 0s - loss: 0.4285 - acc: 0.8908"
     ]
    },
    {
     "name": "stderr",
     "output_type": "stream",
     "text": [
      "\u001b[A\n",
      "Epoch: 18 - loss: 0.431, acc: 0.891 29%|██▊       | 17152/60000 [00:00<00:00, 84245.61it/s]"
     ]
    },
    {
     "name": "stdout",
     "output_type": "stream",
     "text": [
      "22016/60000 [==========>...................] - ETA: 0s - loss: 0.4356 - acc: 0.8888"
     ]
    },
    {
     "name": "stderr",
     "output_type": "stream",
     "text": [
      "\u001b[A\n",
      "Epoch: 18 - loss: 0.438, acc: 0.888 44%|████▎     | 26112/60000 [00:00<00:00, 85560.24it/s]"
     ]
    },
    {
     "name": "stdout",
     "output_type": "stream",
     "text": [
      "30976/60000 [==============>...............] - ETA: 0s - loss: 0.4354 - acc: 0.8893"
     ]
    },
    {
     "name": "stderr",
     "output_type": "stream",
     "text": [
      "\u001b[A\n",
      "Epoch: 18 - loss: 0.435, acc: 0.890 58%|█████▊    | 35072/60000 [00:00<00:00, 86167.60it/s]"
     ]
    },
    {
     "name": "stdout",
     "output_type": "stream",
     "text": [
      "40192/60000 [===================>..........] - ETA: 0s - loss: 0.4368 - acc: 0.8886"
     ]
    },
    {
     "name": "stderr",
     "output_type": "stream",
     "text": [
      "\u001b[A\n",
      "Epoch: 18 - loss: 0.437, acc: 0.888 73%|███████▎  | 43776/60000 [00:00<00:00, 85836.29it/s]"
     ]
    },
    {
     "name": "stdout",
     "output_type": "stream",
     "text": [
      "49152/60000 [=======================>......] - ETA: 0s - loss: 0.4388 - acc: 0.8881"
     ]
    },
    {
     "name": "stderr",
     "output_type": "stream",
     "text": [
      "\u001b[A\n",
      "Epoch: 18 - loss: 0.439, acc: 0.888 87%|████████▋ | 52480/60000 [00:00<00:00, 85772.17it/s]"
     ]
    },
    {
     "name": "stdout",
     "output_type": "stream",
     "text": [
      "57600/60000 [===========================>..] - ETA: 0s - loss: 0.4391 - acc: 0.8878"
     ]
    },
    {
     "name": "stderr",
     "output_type": "stream",
     "text": [
      "\u001b[A\n",
      "Epoch: 18 - loss: 0.440, acc: 0.888, val_loss: 0.415, val_acc: 0.897100%|██████████| 60000/60000 [00:00<00:00, 72105.77it/s]\u001b[A\n",
      "Training:  19%|█▉        | 19/100 [00:15<01:02,  1.30it/s]"
     ]
    },
    {
     "name": "stdout",
     "output_type": "stream",
     "text": [
      "Epoch 00018: val_loss improved from 0.42108 to 0.41451, saving model to checkpoints_mnist_log_reg_keras_tensorflow/mnist_log_reg.hdf5\n",
      "\b\b\b\b\b\b\b\b\b\b\b\b\b\b\b\b\b\b\b\b\b\b\b\b\b\b\b\b\b\b\b\b\b\b\b\b\b\b\b\b\b\b\b\b\b\b\b\b\b\b\b\b\b\b\b\b\b\b\b\b\b\b\b\b\b\b\b\b\b\b\b\b\b\b\b\b\b\b\b\b\b\b\b\r",
      "60000/60000 [==============================] - 0s - loss: 0.4400 - acc: 0.8875 - val_loss: 0.4145 - val_acc: 0.8975"
     ]
    },
    {
     "name": "stderr",
     "output_type": "stream",
     "text": [
      "\n",
      "\r",
      "Epoch: 19:   0%|          | 0/60000 [00:00<?, ?it/s]"
     ]
    },
    {
     "name": "stdout",
     "output_type": "stream",
     "text": [
      "\n",
      "Epoch 20/100\n",
      "  256/60000 [..............................] - ETA: 1s - loss: 0.4471 - acc: 0.8906"
     ]
    },
    {
     "name": "stderr",
     "output_type": "stream",
     "text": [
      "\u001b[A"
     ]
    },
    {
     "name": "stdout",
     "output_type": "stream",
     "text": [
      " 4608/60000 [=>............................] - ETA: 0s - loss: 0.4321 - acc: 0.8898"
     ]
    },
    {
     "name": "stderr",
     "output_type": "stream",
     "text": [
      "\n",
      "\r",
      "Epoch: 19 - loss: 0.438, acc: 0.887 14%|█▍        | 8448/60000 [00:00<00:00, 82313.09it/s]"
     ]
    },
    {
     "name": "stdout",
     "output_type": "stream",
     "text": [
      "12800/60000 [=====>........................] - ETA: 0s - loss: 0.4412 - acc: 0.8847"
     ]
    },
    {
     "name": "stderr",
     "output_type": "stream",
     "text": [
      "\u001b[A\n",
      "Epoch: 19 - loss: 0.441, acc: 0.884 28%|██▊       | 16896/60000 [00:00<00:00, 82372.96it/s]"
     ]
    },
    {
     "name": "stdout",
     "output_type": "stream",
     "text": [
      "22272/60000 [==========>...................] - ETA: 0s - loss: 0.4406 - acc: 0.8842"
     ]
    },
    {
     "name": "stderr",
     "output_type": "stream",
     "text": [
      "\u001b[A\n",
      "Epoch: 19 - loss: 0.440, acc: 0.885 44%|████▎     | 26112/60000 [00:00<00:00, 84794.67it/s]"
     ]
    },
    {
     "name": "stdout",
     "output_type": "stream",
     "text": [
      "31488/60000 [==============>...............] - ETA: 0s - loss: 0.4401 - acc: 0.8852"
     ]
    },
    {
     "name": "stderr",
     "output_type": "stream",
     "text": [
      "\u001b[A\n",
      "Epoch: 19 - loss: 0.438, acc: 0.886 58%|█████▊    | 34816/60000 [00:00<00:00, 85219.59it/s]"
     ]
    },
    {
     "name": "stdout",
     "output_type": "stream",
     "text": [
      "40448/60000 [===================>..........] - ETA: 0s - loss: 0.4362 - acc: 0.8871"
     ]
    },
    {
     "name": "stderr",
     "output_type": "stream",
     "text": [
      "\u001b[A\n",
      "Epoch: 19 - loss: 0.437, acc: 0.887 73%|███████▎  | 44032/60000 [00:00<00:00, 86612.67it/s]"
     ]
    },
    {
     "name": "stdout",
     "output_type": "stream",
     "text": [
      "49152/60000 [=======================>......] - ETA: 0s - loss: 0.4356 - acc: 0.8877"
     ]
    },
    {
     "name": "stderr",
     "output_type": "stream",
     "text": [
      "\u001b[A\n",
      "Epoch: 19 - loss: 0.435, acc: 0.888 88%|████████▊ | 52736/60000 [00:00<00:00, 86437.93it/s]"
     ]
    },
    {
     "name": "stdout",
     "output_type": "stream",
     "text": [
      "57856/60000 [===========================>..] - ETA: 0s - loss: 0.4340 - acc: 0.8885"
     ]
    },
    {
     "name": "stderr",
     "output_type": "stream",
     "text": [
      "\u001b[A\n",
      "Epoch: 19 - loss: 0.434, acc: 0.888, val_loss: 0.409, val_acc: 0.898100%|██████████| 60000/60000 [00:00<00:00, 70436.18it/s]\u001b[A\n",
      "Training:  20%|██        | 20/100 [00:16<01:01,  1.30it/s]"
     ]
    },
    {
     "name": "stdout",
     "output_type": "stream",
     "text": [
      "Epoch 00019: val_loss improved from 0.41451 to 0.40869, saving model to checkpoints_mnist_log_reg_keras_tensorflow/mnist_log_reg.hdf5\n",
      "\b\b\b\b\b\b\b\b\b\b\b\b\b\b\b\b\b\b\b\b\b\b\b\b\b\b\b\b\b\b\b\b\b\b\b\b\b\b\b\b\b\b\b\b\b\b\b\b\b\b\b\b\b\b\b\b\b\b\b\b\b\b\b\b\b\b\b\b\b\b\b\b\b\b\b\b\b\b\b\b\b\b\b\r",
      "60000/60000 [==============================] - 0s - loss: 0.4337 - acc: 0.8885 - val_loss: 0.4087 - val_acc: 0.8984"
     ]
    },
    {
     "name": "stderr",
     "output_type": "stream",
     "text": [
      "\n",
      "\r",
      "Epoch: 20:   0%|          | 0/60000 [00:00<?, ?it/s]"
     ]
    },
    {
     "name": "stdout",
     "output_type": "stream",
     "text": [
      "\n",
      "Epoch 21/100\n",
      "  256/60000 [..............................] - ETA: 1s - loss: 0.3612 - acc: 0.9180"
     ]
    },
    {
     "name": "stderr",
     "output_type": "stream",
     "text": [
      "\u001b[A"
     ]
    },
    {
     "name": "stdout",
     "output_type": "stream",
     "text": [
      "\b\b\b\b\b\b\b\b\b\b\b\b\b\b\b\b\b\b\b\b\b\b\b\b\b\b\b\b\b\b\b\b\b\b\b\b\b\b\b\b\b\b\b\b\b\b\b\b\b\b\b\b\b\b\b\b\b\b\b\b\b\b\b\b\b\b\b\b\b\b\b\b\b\b\b\b\b\b\b\b\b\b\b\r",
      " 4352/60000 [=>............................] - ETA: 0s - loss: 0.4224 - acc: 0.8927"
     ]
    },
    {
     "name": "stderr",
     "output_type": "stream",
     "text": [
      "\n",
      "\r",
      "Epoch: 20 - loss: 0.422, acc: 0.890 14%|█▎        | 8192/60000 [00:00<00:00, 81252.32it/s]"
     ]
    },
    {
     "name": "stdout",
     "output_type": "stream",
     "text": [
      "13312/60000 [=====>........................] - ETA: 0s - loss: 0.4299 - acc: 0.8888"
     ]
    },
    {
     "name": "stderr",
     "output_type": "stream",
     "text": [
      "\u001b[A\n",
      "Epoch: 20 - loss: 0.427, acc: 0.891 29%|██▊       | 17152/60000 [00:00<00:00, 82912.07it/s]"
     ]
    },
    {
     "name": "stdout",
     "output_type": "stream",
     "text": [
      "22528/60000 [==========>...................] - ETA: 0s - loss: 0.4270 - acc: 0.8901"
     ]
    },
    {
     "name": "stderr",
     "output_type": "stream",
     "text": [
      "\u001b[A\n",
      "Epoch: 20 - loss: 0.426, acc: 0.890 43%|████▎     | 25856/60000 [00:00<00:00, 83895.78it/s]"
     ]
    },
    {
     "name": "stdout",
     "output_type": "stream",
     "text": [
      "31744/60000 [==============>...............] - ETA: 0s - loss: 0.4283 - acc: 0.8893"
     ]
    },
    {
     "name": "stderr",
     "output_type": "stream",
     "text": [
      "\u001b[A\n",
      "Epoch: 20 - loss: 0.428, acc: 0.890 58%|█████▊    | 34816/60000 [00:00<00:00, 84867.20it/s]"
     ]
    },
    {
     "name": "stdout",
     "output_type": "stream",
     "text": [
      "40960/60000 [===================>..........] - ETA: 0s - loss: 0.4278 - acc: 0.8895"
     ]
    },
    {
     "name": "stderr",
     "output_type": "stream",
     "text": [
      "\u001b[A\n",
      "Epoch: 20 - loss: 0.427, acc: 0.889 73%|███████▎  | 43520/60000 [00:00<00:00, 85041.97it/s]"
     ]
    },
    {
     "name": "stdout",
     "output_type": "stream",
     "text": [
      "50176/60000 [========================>.....] - ETA: 0s - loss: 0.4257 - acc: 0.8900"
     ]
    },
    {
     "name": "stderr",
     "output_type": "stream",
     "text": [
      "\u001b[A\n",
      "Epoch: 20 - loss: 0.426, acc: 0.890 87%|████████▋ | 52480/60000 [00:00<00:00, 86298.56it/s]"
     ]
    },
    {
     "name": "stdout",
     "output_type": "stream",
     "text": [
      "58624/60000 [============================>.] - ETA: 0s - loss: 0.4275 - acc: 0.8894"
     ]
    },
    {
     "name": "stderr",
     "output_type": "stream",
     "text": [
      "\u001b[A\n",
      "Epoch: 20 - loss: 0.428, acc: 0.889, val_loss: 0.404, val_acc: 0.899100%|██████████| 60000/60000 [00:00<00:00, 70931.67it/s]\u001b[A\n",
      "Training:  21%|██        | 21/100 [00:16<01:00,  1.30it/s]"
     ]
    },
    {
     "name": "stdout",
     "output_type": "stream",
     "text": [
      "Epoch 00020: val_loss improved from 0.40869 to 0.40364, saving model to checkpoints_mnist_log_reg_keras_tensorflow/mnist_log_reg.hdf5\n",
      "\b\b\b\b\b\b\b\b\b\b\b\b\b\b\b\b\b\b\b\b\b\b\b\b\b\b\b\b\b\b\b\b\b\b\b\b\b\b\b\b\b\b\b\b\b\b\b\b\b\b\b\b\b\b\b\b\b\b\b\b\b\b\b\b\b\b\b\b\b\b\b\b\b\b\b\b\b\b\b\b\b\b\b\r",
      "60000/60000 [==============================] - 0s - loss: 0.4280 - acc: 0.8894 - val_loss: 0.4036 - val_acc: 0.8993"
     ]
    },
    {
     "name": "stderr",
     "output_type": "stream",
     "text": [
      "\n",
      "\r",
      "Epoch: 21:   0%|          | 0/60000 [00:00<?, ?it/s]"
     ]
    },
    {
     "name": "stdout",
     "output_type": "stream",
     "text": [
      "\n",
      "Epoch 22/100\n",
      "\r",
      "  256/60000 [..............................] - ETA: 0s - loss: 0.3314 - acc: 0.9258"
     ]
    },
    {
     "name": "stderr",
     "output_type": "stream",
     "text": [
      "\u001b[A"
     ]
    },
    {
     "name": "stdout",
     "output_type": "stream",
     "text": [
      "\b\b\b\b\b\b\b\b\b\b\b\b\b\b\b\b\b\b\b\b\b\b\b\b\b\b\b\b\b\b\b\b\b\b\b\b\b\b\b\b\b\b\b\b\b\b\b\b\b\b\b\b\b\b\b\b\b\b\b\b\b\b\b\b\b\b\b\b\b\b\b\b\b\b\b\b\b\b\b\b\b\b\b\r",
      " 4096/60000 [=>............................] - ETA: 0s - loss: 0.4031 - acc: 0.8953"
     ]
    },
    {
     "name": "stderr",
     "output_type": "stream",
     "text": [
      "\n",
      "\r",
      "Epoch: 21 - loss: 0.404, acc: 0.896 13%|█▎        | 7936/60000 [00:00<00:00, 78724.17it/s]"
     ]
    },
    {
     "name": "stdout",
     "output_type": "stream",
     "text": [
      "12800/60000 [=====>........................] - ETA: 0s - loss: 0.4126 - acc: 0.8936"
     ]
    },
    {
     "name": "stderr",
     "output_type": "stream",
     "text": [
      "\u001b[A\n",
      "Epoch: 21 - loss: 0.412, acc: 0.893 28%|██▊       | 16640/60000 [00:00<00:00, 80657.55it/s]"
     ]
    },
    {
     "name": "stdout",
     "output_type": "stream",
     "text": [
      "21760/60000 [=========>....................] - ETA: 0s - loss: 0.4137 - acc: 0.8932"
     ]
    },
    {
     "name": "stderr",
     "output_type": "stream",
     "text": [
      "\u001b[A\n",
      "Epoch: 21 - loss: 0.416, acc: 0.892 44%|████▎     | 26112/60000 [00:00<00:00, 84046.27it/s]"
     ]
    },
    {
     "name": "stdout",
     "output_type": "stream",
     "text": [
      "31232/60000 [==============>...............] - ETA: 0s - loss: 0.4200 - acc: 0.8908"
     ]
    },
    {
     "name": "stderr",
     "output_type": "stream",
     "text": [
      "\u001b[A\n",
      "Epoch: 21 - loss: 0.420, acc: 0.891 58%|█████▊    | 35072/60000 [00:00<00:00, 85524.04it/s]"
     ]
    },
    {
     "name": "stdout",
     "output_type": "stream",
     "text": [
      "39936/60000 [==================>...........] - ETA: 0s - loss: 0.4227 - acc: 0.8904"
     ]
    },
    {
     "name": "stderr",
     "output_type": "stream",
     "text": [
      "\u001b[A\n",
      "Epoch: 21 - loss: 0.422, acc: 0.890 73%|███████▎  | 43520/60000 [00:00<00:00, 85021.44it/s]"
     ]
    },
    {
     "name": "stdout",
     "output_type": "stream",
     "text": [
      "49408/60000 [=======================>......] - ETA: 0s - loss: 0.4234 - acc: 0.8902"
     ]
    },
    {
     "name": "stderr",
     "output_type": "stream",
     "text": [
      "\u001b[A\n",
      "Epoch: 21 - loss: 0.423, acc: 0.890 88%|████████▊ | 52736/60000 [00:00<00:00, 86747.45it/s]"
     ]
    },
    {
     "name": "stdout",
     "output_type": "stream",
     "text": [
      "58880/60000 [============================>.] - ETA: 0s - loss: 0.4224 - acc: 0.8902"
     ]
    },
    {
     "name": "stderr",
     "output_type": "stream",
     "text": [
      "\u001b[A\n",
      "Epoch: 21 - loss: 0.423, acc: 0.890, val_loss: 0.399, val_acc: 0.900100%|██████████| 60000/60000 [00:00<00:00, 71907.06it/s]\u001b[A\n",
      "Training:  22%|██▏       | 22/100 [00:17<00:59,  1.31it/s]"
     ]
    },
    {
     "name": "stdout",
     "output_type": "stream",
     "text": [
      "Epoch 00021: val_loss improved from 0.40364 to 0.39861, saving model to checkpoints_mnist_log_reg_keras_tensorflow/mnist_log_reg.hdf5\n",
      "\b\b\b\b\b\b\b\b\b\b\b\b\b\b\b\b\b\b\b\b\b\b\b\b\b\b\b\b\b\b\b\b\b\b\b\b\b\b\b\b\b\b\b\b\b\b\b\b\b\b\b\b\b\b\b\b\b\b\b\b\b\b\b\b\b\b\b\b\b\b\b\b\b\b\b\b\b\b\b\b\b\b\b\r",
      "60000/60000 [==============================] - 0s - loss: 0.4226 - acc: 0.8901 - val_loss: 0.3986 - val_acc: 0.9001"
     ]
    },
    {
     "name": "stderr",
     "output_type": "stream",
     "text": [
      "\n",
      "\r",
      "Epoch: 22:   0%|          | 0/60000 [00:00<?, ?it/s]"
     ]
    },
    {
     "name": "stdout",
     "output_type": "stream",
     "text": [
      "\n",
      "Epoch 23/100\n",
      "\r",
      "  256/60000 [..............................] - ETA: 0s - loss: 0.4281 - acc: 0.8867"
     ]
    },
    {
     "name": "stderr",
     "output_type": "stream",
     "text": [
      "\u001b[A"
     ]
    },
    {
     "name": "stdout",
     "output_type": "stream",
     "text": [
      "\b\b\b\b\b\b\b\b\b\b\b\b\b\b\b\b\b\b\b\b\b\b\b\b\b\b\b\b\b\b\b\b\b\b\b\b\b\b\b\b\b\b\b\b\b\b\b\b\b\b\b\b\b\b\b\b\b\b\b\b\b\b\b\b\b\b\b\b\b\b\b\b\b\b\b\b\b\b\b\b\b\b\b\r",
      " 4608/60000 [=>............................] - ETA: 0s - loss: 0.4262 - acc: 0.8932"
     ]
    },
    {
     "name": "stderr",
     "output_type": "stream",
     "text": [
      "\n",
      "\r",
      "Epoch: 22 - loss: 0.422, acc: 0.895 14%|█▎        | 8192/60000 [00:00<00:00, 80916.13it/s]"
     ]
    },
    {
     "name": "stdout",
     "output_type": "stream",
     "text": [
      "13312/60000 [=====>........................] - ETA: 0s - loss: 0.4133 - acc: 0.8948"
     ]
    },
    {
     "name": "stderr",
     "output_type": "stream",
     "text": [
      "\u001b[A\n",
      "Epoch: 22 - loss: 0.420, acc: 0.892 28%|██▊       | 16896/60000 [00:00<00:00, 82463.32it/s]"
     ]
    },
    {
     "name": "stdout",
     "output_type": "stream",
     "text": [
      "22016/60000 [==========>...................] - ETA: 0s - loss: 0.4214 - acc: 0.8914"
     ]
    },
    {
     "name": "stderr",
     "output_type": "stream",
     "text": [
      "\u001b[A\n",
      "Epoch: 22 - loss: 0.419, acc: 0.892 43%|████▎     | 25856/60000 [00:00<00:00, 83879.82it/s]"
     ]
    },
    {
     "name": "stdout",
     "output_type": "stream",
     "text": [
      "30208/60000 [==============>...............] - ETA: 0s - loss: 0.4205 - acc: 0.8911"
     ]
    },
    {
     "name": "stderr",
     "output_type": "stream",
     "text": [
      "\u001b[A\n",
      "Epoch: 22 - loss: 0.419, acc: 0.891 57%|█████▋    | 34048/60000 [00:00<00:00, 82966.54it/s]"
     ]
    },
    {
     "name": "stdout",
     "output_type": "stream",
     "text": [
      "39424/60000 [==================>...........] - ETA: 0s - loss: 0.4185 - acc: 0.8915"
     ]
    },
    {
     "name": "stderr",
     "output_type": "stream",
     "text": [
      "\u001b[A\n",
      "Epoch: 22 - loss: 0.417, acc: 0.892 71%|███████   | 42496/60000 [00:00<00:00, 83214.36it/s]"
     ]
    },
    {
     "name": "stdout",
     "output_type": "stream",
     "text": [
      "47616/60000 [======================>.......] - ETA: 0s - loss: 0.4172 - acc: 0.8914"
     ]
    },
    {
     "name": "stderr",
     "output_type": "stream",
     "text": [
      "\u001b[A\n",
      "Epoch: 22 - loss: 0.418, acc: 0.891 85%|████████▌ | 51200/60000 [00:00<00:00, 84118.54it/s]"
     ]
    },
    {
     "name": "stdout",
     "output_type": "stream",
     "text": [
      "56320/60000 [===========================>..] - ETA: 0s - loss: 0.4188 - acc: 0.8905"
     ]
    },
    {
     "name": "stderr",
     "output_type": "stream",
     "text": [
      "\u001b[A\n",
      "Epoch: 22 - loss: 0.418, acc: 0.891, val_loss: 0.394, val_acc: 0.901100%|██████████| 60000/60000 [00:00<00:00, 71997.31it/s]\u001b[A\n",
      "Training:  23%|██▎       | 23/100 [00:18<00:59,  1.30it/s]"
     ]
    },
    {
     "name": "stdout",
     "output_type": "stream",
     "text": [
      "Epoch 00022: val_loss improved from 0.39861 to 0.39417, saving model to checkpoints_mnist_log_reg_keras_tensorflow/mnist_log_reg.hdf5\n",
      "\b\b\b\b\b\b\b\b\b\b\b\b\b\b\b\b\b\b\b\b\b\b\b\b\b\b\b\b\b\b\b\b\b\b\b\b\b\b\b\b\b\b\b\b\b\b\b\b\b\b\b\b\b\b\b\b\b\b\b\b\b\b\b\b\b\b\b\b\b\b\b\b\b\b\b\b\b\b\b\b\b\b\b\r",
      "60000/60000 [==============================] - 0s - loss: 0.4177 - acc: 0.8908 - val_loss: 0.3942 - val_acc: 0.9009"
     ]
    },
    {
     "name": "stderr",
     "output_type": "stream",
     "text": [
      "\n",
      "\r",
      "Epoch: 23:   0%|          | 0/60000 [00:00<?, ?it/s]"
     ]
    },
    {
     "name": "stdout",
     "output_type": "stream",
     "text": [
      "\n",
      "Epoch 24/100\n",
      "\r",
      "  256/60000 [..............................] - ETA: 0s - loss: 0.4197 - acc: 0.8906"
     ]
    },
    {
     "name": "stderr",
     "output_type": "stream",
     "text": [
      "\u001b[A"
     ]
    },
    {
     "name": "stdout",
     "output_type": "stream",
     "text": [
      "\b\b\b\b\b\b\b\b\b\b\b\b\b\b\b\b\b\b\b\b\b\b\b\b\b\b\b\b\b\b\b\b\b\b\b\b\b\b\b\b\b\b\b\b\b\b\b\b\b\b\b\b\b\b\b\b\b\b\b\b\b\b\b\b\b\b\b\b\b\b\b\b\b\b\b\b\b\b\b\b\b\b\b\r",
      " 4352/60000 [=>............................] - ETA: 0s - loss: 0.3992 - acc: 0.8982"
     ]
    },
    {
     "name": "stderr",
     "output_type": "stream",
     "text": [
      "\n",
      "\r",
      "Epoch: 23 - loss: 0.411, acc: 0.895 14%|█▍        | 8448/60000 [00:00<00:00, 83892.24it/s]"
     ]
    },
    {
     "name": "stdout",
     "output_type": "stream",
     "text": [
      "13056/60000 [=====>........................] - ETA: 0s - loss: 0.4218 - acc: 0.8913"
     ]
    },
    {
     "name": "stderr",
     "output_type": "stream",
     "text": [
      "\u001b[A\n",
      "Epoch: 23 - loss: 0.421, acc: 0.890 29%|██▊       | 17152/60000 [00:00<00:00, 84369.65it/s]"
     ]
    },
    {
     "name": "stdout",
     "output_type": "stream",
     "text": [
      "22272/60000 [==========>...................] - ETA: 0s - loss: 0.4222 - acc: 0.8891"
     ]
    },
    {
     "name": "stderr",
     "output_type": "stream",
     "text": [
      "\u001b[A\n",
      "Epoch: 23 - loss: 0.420, acc: 0.889 42%|████▏     | 25344/60000 [00:00<00:00, 83421.83it/s]"
     ]
    },
    {
     "name": "stdout",
     "output_type": "stream",
     "text": [
      "30720/60000 [==============>...............] - ETA: 0s - loss: 0.4185 - acc: 0.8902"
     ]
    },
    {
     "name": "stderr",
     "output_type": "stream",
     "text": [
      "\u001b[A\n",
      "Epoch: 23 - loss: 0.418, acc: 0.891 57%|█████▋    | 34048/60000 [00:00<00:00, 84082.62it/s]"
     ]
    },
    {
     "name": "stdout",
     "output_type": "stream",
     "text": [
      "38912/60000 [==================>...........] - ETA: 0s - loss: 0.4166 - acc: 0.8912"
     ]
    },
    {
     "name": "stderr",
     "output_type": "stream",
     "text": [
      "\u001b[A\n",
      "Epoch: 23 - loss: 0.416, acc: 0.892 70%|██████▉   | 41984/60000 [00:00<00:00, 82049.65it/s]"
     ]
    },
    {
     "name": "stdout",
     "output_type": "stream",
     "text": [
      "47104/60000 [======================>.......] - ETA: 0s - loss: 0.4153 - acc: 0.8914"
     ]
    },
    {
     "name": "stderr",
     "output_type": "stream",
     "text": [
      "\u001b[A\n",
      "Epoch: 23 - loss: 0.416, acc: 0.891 84%|████████▍ | 50688/60000 [00:00<00:00, 83216.97it/s]"
     ]
    },
    {
     "name": "stdout",
     "output_type": "stream",
     "text": [
      "56320/60000 [===========================>..] - ETA: 0s - loss: 0.4138 - acc: 0.8918"
     ]
    },
    {
     "name": "stderr",
     "output_type": "stream",
     "text": [
      "\u001b[A\n",
      "Epoch: 23 - loss: 0.413, acc: 0.892 99%|█████████▉| 59648/60000 [00:00<00:00, 84829.91it/s]\u001b[A\n",
      "Epoch: 23 - loss: 0.413, acc: 0.892, val_loss: 0.390, val_acc: 0.901100%|██████████| 60000/60000 [00:00<00:00, 17103.54it/s]\u001b[A\n",
      "Training:  24%|██▍       | 24/100 [00:19<00:58,  1.29it/s]"
     ]
    },
    {
     "name": "stdout",
     "output_type": "stream",
     "text": [
      "Epoch 00023: val_loss improved from 0.39417 to 0.39003, saving model to checkpoints_mnist_log_reg_keras_tensorflow/mnist_log_reg.hdf5\n",
      "\b\b\b\b\b\b\b\b\b\b\b\b\b\b\b\b\b\b\b\b\b\b\b\b\b\b\b\b\b\b\b\b\b\b\b\b\b\b\b\b\b\b\b\b\b\b\b\b\b\b\b\b\b\b\b\b\b\b\b\b\b\b\b\b\b\b\b\b\b\b\b\b\b\b\b\b\b\b\b\b\b\b\b\r",
      "60000/60000 [==============================] - 0s - loss: 0.4131 - acc: 0.8920 - val_loss: 0.3900 - val_acc: 0.9014"
     ]
    },
    {
     "name": "stderr",
     "output_type": "stream",
     "text": [
      "\n",
      "\r",
      "Epoch: 24:   0%|          | 0/60000 [00:00<?, ?it/s]"
     ]
    },
    {
     "name": "stdout",
     "output_type": "stream",
     "text": [
      "\n",
      "Epoch 25/100\n",
      "\r",
      "  256/60000 [..............................] - ETA: 1s - loss: 0.4119 - acc: 0.9062"
     ]
    },
    {
     "name": "stderr",
     "output_type": "stream",
     "text": [
      "\u001b[A"
     ]
    },
    {
     "name": "stdout",
     "output_type": "stream",
     "text": [
      "\b\b\b\b\b\b\b\b\b\b\b\b\b\b\b\b\b\b\b\b\b\b\b\b\b\b\b\b\b\b\b\b\b\b\b\b\b\b\b\b\b\b\b\b\b\b\b\b\b\b\b\b\b\b\b\b\b\b\b\b\b\b\b\b\b\b\b\b\b\b\b\b\b\b\b\b\b\b\b\b\b\b\b\r",
      " 4608/60000 [=>............................] - ETA: 0s - loss: 0.4161 - acc: 0.8906"
     ]
    },
    {
     "name": "stderr",
     "output_type": "stream",
     "text": [
      "\n",
      "\r",
      "Epoch: 24 - loss: 0.406, acc: 0.896 15%|█▍        | 8704/60000 [00:00<00:00, 86333.45it/s]"
     ]
    },
    {
     "name": "stdout",
     "output_type": "stream",
     "text": [
      "\b\b\b\b\b\b\b\b\b\b\b\b\b\b\b\b\b\b\b\b\b\b\b\b\b\b\b\b\b\b\b\b\b\b\b\b\b\b\b\b\b\b\b\b\b\b\b\b\b\b\b\b\b\b\b\b\b\b\b\b\b\b\b\b\b\b\b\b\b\b\b\b\b\b\b\b\b\b\b\b\b\b\b\r",
      " 9216/60000 [===>..........................] - ETA: 0s - loss: 0.4056 - acc: 0.8965"
     ]
    },
    {
     "name": "stderr",
     "output_type": "stream",
     "text": [
      "\u001b[A"
     ]
    },
    {
     "name": "stdout",
     "output_type": "stream",
     "text": [
      "\b\b\b\b\b\b\b\b\b\b\b\b\b\b\b\b\b\b\b\b\b\b\b\b\b\b\b\b\b\b\b\b\b\b\b\b\b\b\b\b\b\b\b\b\b\b\b\b\b\b\b\b\b\b\b\b\b\b\b\b\b\b\b\b\b\b\b\b\b\b\b\b\b\b\b\b\b\b\b\b\b\b\b\r",
      "13312/60000 [=====>........................] - ETA: 0s - loss: 0.4077 - acc: 0.8942"
     ]
    },
    {
     "name": "stderr",
     "output_type": "stream",
     "text": [
      "\n",
      "\r",
      "Epoch: 24 - loss: 0.407, acc: 0.895 29%|██▊       | 17152/60000 [00:00<00:00, 85124.29it/s]"
     ]
    },
    {
     "name": "stdout",
     "output_type": "stream",
     "text": [
      "22272/60000 [==========>...................] - ETA: 0s - loss: 0.4079 - acc: 0.8937"
     ]
    },
    {
     "name": "stderr",
     "output_type": "stream",
     "text": [
      "\u001b[A\n",
      "Epoch: 24 - loss: 0.406, acc: 0.895 42%|████▏     | 25344/60000 [00:00<00:00, 83998.61it/s]"
     ]
    },
    {
     "name": "stdout",
     "output_type": "stream",
     "text": [
      "30208/60000 [==============>...............] - ETA: 0s - loss: 0.4073 - acc: 0.8954"
     ]
    },
    {
     "name": "stderr",
     "output_type": "stream",
     "text": [
      "\u001b[A\n",
      "Epoch: 24 - loss: 0.407, acc: 0.896 56%|█████▋    | 33792/60000 [00:00<00:00, 83930.21it/s]"
     ]
    },
    {
     "name": "stdout",
     "output_type": "stream",
     "text": [
      "39424/60000 [==================>...........] - ETA: 0s - loss: 0.4065 - acc: 0.8950"
     ]
    },
    {
     "name": "stderr",
     "output_type": "stream",
     "text": [
      "\u001b[A\n",
      "Epoch: 24 - loss: 0.409, acc: 0.894 71%|███████▏  | 42752/60000 [00:00<00:00, 84881.85it/s]"
     ]
    },
    {
     "name": "stdout",
     "output_type": "stream",
     "text": [
      "47872/60000 [======================>.......] - ETA: 0s - loss: 0.4081 - acc: 0.8941"
     ]
    },
    {
     "name": "stderr",
     "output_type": "stream",
     "text": [
      "\u001b[A\n",
      "Epoch: 24 - loss: 0.408, acc: 0.894 85%|████████▍ | 50944/60000 [00:00<00:00, 83866.97it/s]"
     ]
    },
    {
     "name": "stdout",
     "output_type": "stream",
     "text": [
      "57088/60000 [===========================>..] - ETA: 0s - loss: 0.4096 - acc: 0.8928"
     ]
    },
    {
     "name": "stderr",
     "output_type": "stream",
     "text": [
      "\u001b[A\n",
      "Epoch: 24 - loss: 0.409, acc: 0.893100%|█████████▉| 59904/60000 [00:00<00:00, 85422.65it/s]\u001b[A\n",
      "Epoch: 24 - loss: 0.409, acc: 0.893, val_loss: 0.386, val_acc: 0.902100%|██████████| 60000/60000 [00:00<00:00, 5239.37it/s]\u001b[A\n",
      "Training:  25%|██▌       | 25/100 [00:19<00:58,  1.29it/s]"
     ]
    },
    {
     "name": "stdout",
     "output_type": "stream",
     "text": [
      "Epoch 00024: val_loss improved from 0.39003 to 0.38622, saving model to checkpoints_mnist_log_reg_keras_tensorflow/mnist_log_reg.hdf5\n",
      "60000/60000 [==============================] - 0s - loss: 0.4089 - acc: 0.8927 - val_loss: 0.3862 - val_acc: 0.9019"
     ]
    },
    {
     "name": "stderr",
     "output_type": "stream",
     "text": [
      "\n",
      "\r",
      "Epoch: 25:   0%|          | 0/60000 [00:00<?, ?it/s]"
     ]
    },
    {
     "name": "stdout",
     "output_type": "stream",
     "text": [
      "\n",
      "Epoch 26/100\n",
      "\r",
      "  256/60000 [..............................] - ETA: 1s - loss: 0.4174 - acc: 0.8906"
     ]
    },
    {
     "name": "stderr",
     "output_type": "stream",
     "text": [
      "\u001b[A"
     ]
    },
    {
     "name": "stdout",
     "output_type": "stream",
     "text": [
      "\b\b\b\b\b\b\b\b\b\b\b\b\b\b\b\b\b\b\b\b\b\b\b\b\b\b\b\b\b\b\b\b\b\b\b\b\b\b\b\b\b\b\b\b\b\b\b\b\b\b\b\b\b\b\b\b\b\b\b\b\b\b\b\b\b\b\b\b\b\b\b\b\b\b\b\b\b\b\b\b\b\b\b\r",
      " 4608/60000 [=>............................] - ETA: 0s - loss: 0.4046 - acc: 0.8919"
     ]
    },
    {
     "name": "stderr",
     "output_type": "stream",
     "text": [
      "\n",
      "\r",
      "Epoch: 25 - loss: 0.407, acc: 0.893 15%|█▍        | 8704/60000 [00:00<00:00, 85520.04it/s]"
     ]
    },
    {
     "name": "stdout",
     "output_type": "stream",
     "text": [
      "\b\b\b\b\b\b\b\b\b\b\b\b\b\b\b\b\b\b\b\b\b\b\b\b\b\b\b\b\b\b\b\b\b\b\b\b\b\b\b\b\b\b\b\b\b\b\b\b\b\b\b\b\b\b\b\b\b\b\b\b\b\b\b\b\b\b\b\b\b\b\b\b\b\b\b\b\b\b\b\b\b\b\b\r",
      " 9216/60000 [===>..........................] - ETA: 0s - loss: 0.4077 - acc: 0.8937"
     ]
    },
    {
     "name": "stderr",
     "output_type": "stream",
     "text": [
      "\u001b[A"
     ]
    },
    {
     "name": "stdout",
     "output_type": "stream",
     "text": [
      "\b\b\b\b\b\b\b\b\b\b\b\b\b\b\b\b\b\b\b\b\b\b\b\b\b\b\b\b\b\b\b\b\b\b\b\b\b\b\b\b\b\b\b\b\b\b\b\b\b\b\b\b\b\b\b\b\b\b\b\b\b\b\b\b\b\b\b\b\b\b\b\b\b\b\b\b\b\b\b\b\b\b\b\r",
      "13824/60000 [=====>........................] - ETA: 0s - loss: 0.4081 - acc: 0.8934"
     ]
    },
    {
     "name": "stderr",
     "output_type": "stream",
     "text": [
      "\n",
      "\r",
      "Epoch: 25 - loss: 0.405, acc: 0.894 28%|██▊       | 16896/60000 [00:00<00:00, 83966.85it/s]"
     ]
    },
    {
     "name": "stdout",
     "output_type": "stream",
     "text": [
      "22016/60000 [==========>...................] - ETA: 0s - loss: 0.4072 - acc: 0.8938"
     ]
    },
    {
     "name": "stderr",
     "output_type": "stream",
     "text": [
      "\u001b[A\n",
      "Epoch: 25 - loss: 0.407, acc: 0.894 43%|████▎     | 25856/60000 [00:00<00:00, 85326.80it/s]"
     ]
    },
    {
     "name": "stdout",
     "output_type": "stream",
     "text": [
      "30976/60000 [==============>...............] - ETA: 0s - loss: 0.4095 - acc: 0.8928"
     ]
    },
    {
     "name": "stderr",
     "output_type": "stream",
     "text": [
      "\u001b[A\n",
      "Epoch: 25 - loss: 0.409, acc: 0.893 58%|█████▊    | 34816/60000 [00:00<00:00, 86319.91it/s]"
     ]
    },
    {
     "name": "stdout",
     "output_type": "stream",
     "text": [
      "40704/60000 [===================>..........] - ETA: 0s - loss: 0.4081 - acc: 0.8932"
     ]
    },
    {
     "name": "stderr",
     "output_type": "stream",
     "text": [
      "\u001b[A\n",
      "Epoch: 25 - loss: 0.408, acc: 0.893 73%|███████▎  | 44032/60000 [00:00<00:00, 87725.60it/s]"
     ]
    },
    {
     "name": "stdout",
     "output_type": "stream",
     "text": [
      "49920/60000 [=======================>......] - ETA: 0s - loss: 0.4049 - acc: 0.8936"
     ]
    },
    {
     "name": "stderr",
     "output_type": "stream",
     "text": [
      "\u001b[A\n",
      "Epoch: 25 - loss: 0.404, acc: 0.894 88%|████████▊ | 52992/60000 [00:00<00:00, 87694.11it/s]"
     ]
    },
    {
     "name": "stdout",
     "output_type": "stream",
     "text": [
      "58880/60000 [============================>.] - ETA: 0s - loss: 0.4049 - acc: 0.8936"
     ]
    },
    {
     "name": "stderr",
     "output_type": "stream",
     "text": [
      "\u001b[A\n",
      "Epoch: 25 - loss: 0.405, acc: 0.893, val_loss: 0.383, val_acc: 0.902100%|██████████| 60000/60000 [00:00<00:00, 71772.11it/s]\u001b[A\n",
      "Training:  26%|██▌       | 26/100 [00:20<00:56,  1.30it/s]"
     ]
    },
    {
     "name": "stdout",
     "output_type": "stream",
     "text": [
      "Epoch 00025: val_loss improved from 0.38622 to 0.38263, saving model to checkpoints_mnist_log_reg_keras_tensorflow/mnist_log_reg.hdf5\n",
      "\b\b\b\b\b\b\b\b\b\b\b\b\b\b\b\b\b\b\b\b\b\b\b\b\b\b\b\b\b\b\b\b\b\b\b\b\b\b\b\b\b\b\b\b\b\b\b\b\b\b\b\b\b\b\b\b\b\b\b\b\b\b\b\b\b\b\b\b\b\b\b\b\b\b\b\b\b\b\b\b\b\b\b\r",
      "60000/60000 [==============================] - 0s - loss: 0.4050 - acc: 0.8935 - val_loss: 0.3826 - val_acc: 0.9024"
     ]
    },
    {
     "name": "stderr",
     "output_type": "stream",
     "text": [
      "\n",
      "\r",
      "Epoch: 26:   0%|          | 0/60000 [00:00<?, ?it/s]"
     ]
    },
    {
     "name": "stdout",
     "output_type": "stream",
     "text": [
      "\n",
      "Epoch 27/100\n",
      "\r",
      "  256/60000 [..............................] - ETA: 0s - loss: 0.3827 - acc: 0.9141"
     ]
    },
    {
     "name": "stderr",
     "output_type": "stream",
     "text": [
      "\u001b[A"
     ]
    },
    {
     "name": "stdout",
     "output_type": "stream",
     "text": [
      "\b\b\b\b\b\b\b\b\b\b\b\b\b\b\b\b\b\b\b\b\b\b\b\b\b\b\b\b\b\b\b\b\b\b\b\b\b\b\b\b\b\b\b\b\b\b\b\b\b\b\b\b\b\b\b\b\b\b\b\b\b\b\b\b\b\b\b\b\b\b\b\b\b\b\b\b\b\b\b\b\b\b\b\r",
      " 4352/60000 [=>............................] - ETA: 0s - loss: 0.4075 - acc: 0.8925"
     ]
    },
    {
     "name": "stderr",
     "output_type": "stream",
     "text": [
      "\n",
      "\r",
      "Epoch: 26 - loss: 0.412, acc: 0.892 14%|█▎        | 8192/60000 [00:00<00:00, 81120.73it/s]"
     ]
    },
    {
     "name": "stdout",
     "output_type": "stream",
     "text": [
      "12544/60000 [=====>........................] - ETA: 0s - loss: 0.4099 - acc: 0.8913"
     ]
    },
    {
     "name": "stderr",
     "output_type": "stream",
     "text": [
      "\u001b[A\n",
      "Epoch: 26 - loss: 0.407, acc: 0.892 28%|██▊       | 16640/60000 [00:00<00:00, 81782.53it/s]"
     ]
    },
    {
     "name": "stdout",
     "output_type": "stream",
     "text": [
      "22016/60000 [==========>...................] - ETA: 0s - loss: 0.4049 - acc: 0.8926"
     ]
    },
    {
     "name": "stderr",
     "output_type": "stream",
     "text": [
      "\u001b[A\n",
      "Epoch: 26 - loss: 0.405, acc: 0.893 44%|████▎     | 26112/60000 [00:00<00:00, 84746.84it/s]"
     ]
    },
    {
     "name": "stdout",
     "output_type": "stream",
     "text": [
      "31488/60000 [==============>...............] - ETA: 0s - loss: 0.4034 - acc: 0.8934"
     ]
    },
    {
     "name": "stderr",
     "output_type": "stream",
     "text": [
      "\u001b[A\n",
      "Epoch: 26 - loss: 0.403, acc: 0.894 58%|█████▊    | 34560/60000 [00:00<00:00, 84350.77it/s]"
     ]
    },
    {
     "name": "stdout",
     "output_type": "stream",
     "text": [
      "39936/60000 [==================>...........] - ETA: 0s - loss: 0.4029 - acc: 0.8937"
     ]
    },
    {
     "name": "stderr",
     "output_type": "stream",
     "text": [
      "\u001b[A\n",
      "Epoch: 26 - loss: 0.402, acc: 0.894 72%|███████▏  | 43264/60000 [00:00<00:00, 84610.55it/s]"
     ]
    },
    {
     "name": "stdout",
     "output_type": "stream",
     "text": [
      "49408/60000 [=======================>......] - ETA: 0s - loss: 0.4016 - acc: 0.8942"
     ]
    },
    {
     "name": "stderr",
     "output_type": "stream",
     "text": [
      "\u001b[A\n",
      "Epoch: 26 - loss: 0.402, acc: 0.894 87%|████████▋ | 52480/60000 [00:00<00:00, 85964.06it/s]"
     ]
    },
    {
     "name": "stdout",
     "output_type": "stream",
     "text": [
      "58112/60000 [============================>.] - ETA: 0s - loss: 0.4017 - acc: 0.8942"
     ]
    },
    {
     "name": "stderr",
     "output_type": "stream",
     "text": [
      "\u001b[A\n",
      "Epoch: 26 - loss: 0.401, acc: 0.894, val_loss: 0.379, val_acc: 0.903100%|██████████| 60000/60000 [00:00<00:00, 70777.46it/s]\u001b[A\n",
      "Training:  27%|██▋       | 27/100 [00:21<00:56,  1.30it/s]"
     ]
    },
    {
     "name": "stdout",
     "output_type": "stream",
     "text": [
      "Epoch 00026: val_loss improved from 0.38263 to 0.37934, saving model to checkpoints_mnist_log_reg_keras_tensorflow/mnist_log_reg.hdf5\n",
      "\b\b\b\b\b\b\b\b\b\b\b\b\b\b\b\b\b\b\b\b\b\b\b\b\b\b\b\b\b\b\b\b\b\b\b\b\b\b\b\b\b\b\b\b\b\b\b\b\b\b\b\b\b\b\b\b\b\b\b\b\b\b\b\b\b\b\b\b\b\b\b\b\b\b\b\b\b\b\b\b\b\b\b\r",
      "60000/60000 [==============================] - 0s - loss: 0.4013 - acc: 0.8942 - val_loss: 0.3793 - val_acc: 0.9028"
     ]
    },
    {
     "name": "stderr",
     "output_type": "stream",
     "text": [
      "\n",
      "\r",
      "Epoch: 27:   0%|          | 0/60000 [00:00<?, ?it/s]"
     ]
    },
    {
     "name": "stdout",
     "output_type": "stream",
     "text": [
      "\n",
      "Epoch 28/100\n",
      "  256/60000 [..............................] - ETA: 1s - loss: 0.3581 - acc: 0.9102"
     ]
    },
    {
     "name": "stderr",
     "output_type": "stream",
     "text": [
      "\u001b[A"
     ]
    },
    {
     "name": "stdout",
     "output_type": "stream",
     "text": [
      "\b\b\b\b\b\b\b\b\b\b\b\b\b\b\b\b\b\b\b\b\b\b\b\b\b\b\b\b\b\b\b\b\b\b\b\b\b\b\b\b\b\b\b\b\b\b\b\b\b\b\b\b\b\b\b\b\b\b\b\b\b\b\b\b\b\b\b\b\b\b\b\b\b\b\b\b\b\b\b\b\b\b\b\r",
      " 4096/60000 [=>............................] - ETA: 0s - loss: 0.4098 - acc: 0.8916"
     ]
    },
    {
     "name": "stderr",
     "output_type": "stream",
     "text": [
      "\n",
      "\r",
      "Epoch: 27 - loss: 0.406, acc: 0.893 14%|█▍        | 8448/60000 [00:00<00:00, 83348.38it/s]"
     ]
    },
    {
     "name": "stdout",
     "output_type": "stream",
     "text": [
      "13312/60000 [=====>........................] - ETA: 0s - loss: 0.4047 - acc: 0.8921"
     ]
    },
    {
     "name": "stderr",
     "output_type": "stream",
     "text": [
      "\u001b[A\n",
      "Epoch: 27 - loss: 0.403, acc: 0.893 28%|██▊       | 16640/60000 [00:00<00:00, 82486.47it/s]"
     ]
    },
    {
     "name": "stdout",
     "output_type": "stream",
     "text": [
      "22016/60000 [==========>...................] - ETA: 0s - loss: 0.4046 - acc: 0.8927"
     ]
    },
    {
     "name": "stderr",
     "output_type": "stream",
     "text": [
      "\u001b[A\n",
      "Epoch: 27 - loss: 0.398, acc: 0.895 43%|████▎     | 25856/60000 [00:00<00:00, 84895.44it/s]"
     ]
    },
    {
     "name": "stdout",
     "output_type": "stream",
     "text": [
      "31488/60000 [==============>...............] - ETA: 0s - loss: 0.3974 - acc: 0.8946"
     ]
    },
    {
     "name": "stderr",
     "output_type": "stream",
     "text": [
      "\u001b[A\n",
      "Epoch: 27 - loss: 0.400, acc: 0.894 58%|█████▊    | 34816/60000 [00:00<00:00, 86229.97it/s]"
     ]
    },
    {
     "name": "stdout",
     "output_type": "stream",
     "text": [
      "40448/60000 [===================>..........] - ETA: 0s - loss: 0.3985 - acc: 0.8935"
     ]
    },
    {
     "name": "stderr",
     "output_type": "stream",
     "text": [
      "\u001b[A\n",
      "Epoch: 27 - loss: 0.399, acc: 0.894 72%|███████▏  | 43264/60000 [00:00<00:00, 85156.19it/s]"
     ]
    },
    {
     "name": "stdout",
     "output_type": "stream",
     "text": [
      "48896/60000 [=======================>......] - ETA: 0s - loss: 0.3980 - acc: 0.8946"
     ]
    },
    {
     "name": "stderr",
     "output_type": "stream",
     "text": [
      "\u001b[A\n",
      "Epoch: 27 - loss: 0.398, acc: 0.895 86%|████████▌ | 51712/60000 [00:00<00:00, 84640.59it/s]"
     ]
    },
    {
     "name": "stdout",
     "output_type": "stream",
     "text": [
      "57344/60000 [===========================>..] - ETA: 0s - loss: 0.3979 - acc: 0.8948"
     ]
    },
    {
     "name": "stderr",
     "output_type": "stream",
     "text": [
      "\u001b[A\n",
      "Epoch: 27 - loss: 0.398, acc: 0.895, val_loss: 0.376, val_acc: 0.904100%|██████████| 60000/60000 [00:00<00:00, 72435.01it/s]\u001b[A\n",
      "Training:  28%|██▊       | 28/100 [00:22<00:55,  1.30it/s]"
     ]
    },
    {
     "name": "stdout",
     "output_type": "stream",
     "text": [
      "Epoch 00027: val_loss improved from 0.37934 to 0.37611, saving model to checkpoints_mnist_log_reg_keras_tensorflow/mnist_log_reg.hdf5\n",
      "\b\b\b\b\b\b\b\b\b\b\b\b\b\b\b\b\b\b\b\b\b\b\b\b\b\b\b\b\b\b\b\b\b\b\b\b\b\b\b\b\b\b\b\b\b\b\b\b\b\b\b\b\b\b\b\b\b\b\b\b\b\b\b\b\b\b\b\b\b\b\b\b\b\b\b\b\b\b\b\b\b\b\b\r",
      "60000/60000 [==============================] - 0s - loss: 0.3978 - acc: 0.8948 - val_loss: 0.3761 - val_acc: 0.9039"
     ]
    },
    {
     "name": "stderr",
     "output_type": "stream",
     "text": [
      "\n",
      "\r",
      "Epoch: 28:   0%|          | 0/60000 [00:00<?, ?it/s]"
     ]
    },
    {
     "name": "stdout",
     "output_type": "stream",
     "text": [
      "\n",
      "Epoch 29/100\n",
      "  256/60000 [..............................] - ETA: 1s - loss: 0.3413 - acc: 0.9023"
     ]
    },
    {
     "name": "stderr",
     "output_type": "stream",
     "text": [
      "\u001b[A"
     ]
    },
    {
     "name": "stdout",
     "output_type": "stream",
     "text": [
      "\b\b\b\b\b\b\b\b\b\b\b\b\b\b\b\b\b\b\b\b\b\b\b\b\b\b\b\b\b\b\b\b\b\b\b\b\b\b\b\b\b\b\b\b\b\b\b\b\b\b\b\b\b\b\b\b\b\b\b\b\b\b\b\b\b\b\b\b\b\b\b\b\b\b\b\b\b\b\b\b\b\b\b\r",
      " 4608/60000 [=>............................] - ETA: 0s - loss: 0.3953 - acc: 0.8965"
     ]
    },
    {
     "name": "stderr",
     "output_type": "stream",
     "text": [
      "\n",
      "\r",
      "Epoch: 28 - loss: 0.396, acc: 0.894 15%|█▍        | 8704/60000 [00:00<00:00, 85299.64it/s]"
     ]
    },
    {
     "name": "stdout",
     "output_type": "stream",
     "text": [
      "13824/60000 [=====>........................] - ETA: 0s - loss: 0.3984 - acc: 0.8934"
     ]
    },
    {
     "name": "stderr",
     "output_type": "stream",
     "text": [
      "\u001b[A\n",
      "Epoch: 28 - loss: 0.396, acc: 0.894 29%|██▉       | 17664/60000 [00:00<00:00, 85617.66it/s]"
     ]
    },
    {
     "name": "stdout",
     "output_type": "stream",
     "text": [
      "22272/60000 [==========>...................] - ETA: 0s - loss: 0.3980 - acc: 0.8931"
     ]
    },
    {
     "name": "stderr",
     "output_type": "stream",
     "text": [
      "\u001b[A\n",
      "Epoch: 28 - loss: 0.395, acc: 0.894 44%|████▍     | 26624/60000 [00:00<00:00, 86220.22it/s]"
     ]
    },
    {
     "name": "stdout",
     "output_type": "stream",
     "text": [
      "31232/60000 [==============>...............] - ETA: 0s - loss: 0.3956 - acc: 0.8936"
     ]
    },
    {
     "name": "stderr",
     "output_type": "stream",
     "text": [
      "\u001b[A\n",
      "Epoch: 28 - loss: 0.395, acc: 0.894 59%|█████▉    | 35328/60000 [00:00<00:00, 85811.61it/s]"
     ]
    },
    {
     "name": "stdout",
     "output_type": "stream",
     "text": [
      "39936/60000 [==================>...........] - ETA: 0s - loss: 0.3968 - acc: 0.8938"
     ]
    },
    {
     "name": "stderr",
     "output_type": "stream",
     "text": [
      "\u001b[A\n",
      "Epoch: 28 - loss: 0.396, acc: 0.895 73%|███████▎  | 44032/60000 [00:00<00:00, 85907.72it/s]"
     ]
    },
    {
     "name": "stdout",
     "output_type": "stream",
     "text": [
      "48384/60000 [=======================>......] - ETA: 0s - loss: 0.3957 - acc: 0.8950"
     ]
    },
    {
     "name": "stderr",
     "output_type": "stream",
     "text": [
      "\u001b[A\n",
      "Epoch: 28 - loss: 0.395, acc: 0.895 87%|████████▋ | 52224/60000 [00:00<00:00, 84003.66it/s]"
     ]
    },
    {
     "name": "stdout",
     "output_type": "stream",
     "text": [
      "56832/60000 [===========================>..] - ETA: 0s - loss: 0.3947 - acc: 0.8952"
     ]
    },
    {
     "name": "stderr",
     "output_type": "stream",
     "text": [
      "\u001b[A\n",
      "Epoch: 28 - loss: 0.395, acc: 0.896, val_loss: 0.373, val_acc: 0.905100%|██████████| 60000/60000 [00:00<00:00, 70430.11it/s]\u001b[A\n",
      "Training:  29%|██▉       | 29/100 [00:23<00:54,  1.29it/s]"
     ]
    },
    {
     "name": "stdout",
     "output_type": "stream",
     "text": [
      "Epoch 00028: val_loss improved from 0.37611 to 0.37296, saving model to checkpoints_mnist_log_reg_keras_tensorflow/mnist_log_reg.hdf5\n",
      "\b\b\b\b\b\b\b\b\b\b\b\b\b\b\b\b\b\b\b\b\b\b\b\b\b\b\b\b\b\b\b\b\b\b\b\b\b\b\b\b\b\b\b\b\b\b\b\b\b\b\b\b\b\b\b\b\b\b\b\b\b\b\b\b\b\b\b\b\b\b\b\b\b\b\b\b\b\b\b\b\b\b\b\r",
      "60000/60000 [==============================] - 0s - loss: 0.3945 - acc: 0.8955 - val_loss: 0.3730 - val_acc: 0.9048"
     ]
    },
    {
     "name": "stderr",
     "output_type": "stream",
     "text": [
      "\n",
      "\r",
      "Epoch: 29:   0%|          | 0/60000 [00:00<?, ?it/s]"
     ]
    },
    {
     "name": "stdout",
     "output_type": "stream",
     "text": [
      "\n",
      "Epoch 30/100\n",
      "\r",
      "  256/60000 [..............................] - ETA: 1s - loss: 0.3904 - acc: 0.9102"
     ]
    },
    {
     "name": "stderr",
     "output_type": "stream",
     "text": [
      "\u001b[A"
     ]
    },
    {
     "name": "stdout",
     "output_type": "stream",
     "text": [
      "\b\b\b\b\b\b\b\b\b\b\b\b\b\b\b\b\b\b\b\b\b\b\b\b\b\b\b\b\b\b\b\b\b\b\b\b\b\b\b\b\b\b\b\b\b\b\b\b\b\b\b\b\b\b\b\b\b\b\b\b\b\b\b\b\b\b\b\b\b\b\b\b\b\b\b\b\b\b\b\b\b\b\b\r",
      " 4864/60000 [=>............................] - ETA: 0s - loss: 0.4069 - acc: 0.8921"
     ]
    },
    {
     "name": "stderr",
     "output_type": "stream",
     "text": [
      "\n",
      "\r",
      "Epoch: 29 - loss: 0.397, acc: 0.896 14%|█▎        | 8192/60000 [00:00<00:00, 81516.22it/s]"
     ]
    },
    {
     "name": "stdout",
     "output_type": "stream",
     "text": [
      "13824/60000 [=====>........................] - ETA: 0s - loss: 0.3946 - acc: 0.8969"
     ]
    },
    {
     "name": "stderr",
     "output_type": "stream",
     "text": [
      "\u001b[A\n",
      "Epoch: 29 - loss: 0.397, acc: 0.895 29%|██▊       | 17152/60000 [00:00<00:00, 83418.40it/s]"
     ]
    },
    {
     "name": "stdout",
     "output_type": "stream",
     "text": [
      "22784/60000 [==========>...................] - ETA: 0s - loss: 0.3939 - acc: 0.8965"
     ]
    },
    {
     "name": "stderr",
     "output_type": "stream",
     "text": [
      "\u001b[A\n",
      "Epoch: 29 - loss: 0.392, acc: 0.896 44%|████▍     | 26368/60000 [00:00<00:00, 85344.38it/s]"
     ]
    },
    {
     "name": "stdout",
     "output_type": "stream",
     "text": [
      "32000/60000 [===============>..............] - ETA: 0s - loss: 0.3916 - acc: 0.8958"
     ]
    },
    {
     "name": "stderr",
     "output_type": "stream",
     "text": [
      "\u001b[A\n",
      "Epoch: 29 - loss: 0.391, acc: 0.896 59%|█████▉    | 35584/60000 [00:00<00:00, 87066.98it/s]"
     ]
    },
    {
     "name": "stdout",
     "output_type": "stream",
     "text": [
      "41472/60000 [===================>..........] - ETA: 0s - loss: 0.3903 - acc: 0.8966"
     ]
    },
    {
     "name": "stderr",
     "output_type": "stream",
     "text": [
      "\u001b[A\n",
      "Epoch: 29 - loss: 0.390, acc: 0.897 75%|███████▍  | 44800/60000 [00:00<00:00, 87877.31it/s]"
     ]
    },
    {
     "name": "stdout",
     "output_type": "stream",
     "text": [
      "50176/60000 [========================>.....] - ETA: 0s - loss: 0.3899 - acc: 0.8968"
     ]
    },
    {
     "name": "stderr",
     "output_type": "stream",
     "text": [
      "\u001b[A\n",
      "Epoch: 29 - loss: 0.390, acc: 0.896 89%|████████▉ | 53504/60000 [00:00<00:00, 87570.67it/s]"
     ]
    },
    {
     "name": "stdout",
     "output_type": "stream",
     "text": [
      "59136/60000 [============================>.] - ETA: 0s - loss: 0.3913 - acc: 0.8960"
     ]
    },
    {
     "name": "stderr",
     "output_type": "stream",
     "text": [
      "\u001b[A\n",
      "Epoch: 29 - loss: 0.391, acc: 0.896, val_loss: 0.370, val_acc: 0.905100%|██████████| 60000/60000 [00:00<00:00, 70141.32it/s]\u001b[A\n",
      "Training:  30%|███       | 30/100 [00:23<00:53,  1.30it/s]"
     ]
    },
    {
     "name": "stdout",
     "output_type": "stream",
     "text": [
      "Epoch 00029: val_loss improved from 0.37296 to 0.37028, saving model to checkpoints_mnist_log_reg_keras_tensorflow/mnist_log_reg.hdf5\n",
      "\b\b\b\b\b\b\b\b\b\b\b\b\b\b\b\b\b\b\b\b\b\b\b\b\b\b\b\b\b\b\b\b\b\b\b\b\b\b\b\b\b\b\b\b\b\b\b\b\b\b\b\b\b\b\b\b\b\b\b\b\b\b\b\b\b\b\b\b\b\b\b\b\b\b\b\b\b\b\b\b\b\b\b\r",
      "60000/60000 [==============================] - 0s - loss: 0.3914 - acc: 0.8960 - val_loss: 0.3703 - val_acc: 0.9046"
     ]
    },
    {
     "name": "stderr",
     "output_type": "stream",
     "text": [
      "\n",
      "\r",
      "Epoch: 30:   0%|          | 0/60000 [00:00<?, ?it/s]"
     ]
    },
    {
     "name": "stdout",
     "output_type": "stream",
     "text": [
      "\n",
      "Epoch 31/100\n",
      "\r",
      "  256/60000 [..............................] - ETA: 0s - loss: 0.3564 - acc: 0.9180"
     ]
    },
    {
     "name": "stderr",
     "output_type": "stream",
     "text": [
      "\u001b[A"
     ]
    },
    {
     "name": "stdout",
     "output_type": "stream",
     "text": [
      "\b\b\b\b\b\b\b\b\b\b\b\b\b\b\b\b\b\b\b\b\b\b\b\b\b\b\b\b\b\b\b\b\b\b\b\b\b\b\b\b\b\b\b\b\b\b\b\b\b\b\b\b\b\b\b\b\b\b\b\b\b\b\b\b\b\b\b\b\b\b\b\b\b\b\b\b\b\b\b\b\b\b\b\r",
      " 5120/60000 [=>............................] - ETA: 0s - loss: 0.3843 - acc: 0.8994"
     ]
    },
    {
     "name": "stderr",
     "output_type": "stream",
     "text": [
      "\n",
      "\r",
      "Epoch: 30 - loss: 0.394, acc: 0.896 15%|█▌        | 9216/60000 [00:00<00:00, 92032.60it/s]"
     ]
    },
    {
     "name": "stdout",
     "output_type": "stream",
     "text": [
      "14336/60000 [======>.......................] - ETA: 0s - loss: 0.3901 - acc: 0.8975"
     ]
    },
    {
     "name": "stderr",
     "output_type": "stream",
     "text": [
      "\u001b[A\n",
      "Epoch: 30 - loss: 0.389, acc: 0.898 29%|██▉       | 17664/60000 [00:00<00:00, 88889.47it/s]"
     ]
    },
    {
     "name": "stdout",
     "output_type": "stream",
     "text": [
      "22272/60000 [==========>...................] - ETA: 0s - loss: 0.3887 - acc: 0.8984"
     ]
    },
    {
     "name": "stderr",
     "output_type": "stream",
     "text": [
      "\u001b[A\n",
      "Epoch: 30 - loss: 0.388, acc: 0.898 43%|████▎     | 25856/60000 [00:00<00:00, 85828.16it/s]"
     ]
    },
    {
     "name": "stdout",
     "output_type": "stream",
     "text": [
      "30464/60000 [==============>...............] - ETA: 0s - loss: 0.3862 - acc: 0.8985"
     ]
    },
    {
     "name": "stderr",
     "output_type": "stream",
     "text": [
      "\u001b[A\n",
      "Epoch: 30 - loss: 0.387, acc: 0.898 57%|█████▋    | 34048/60000 [00:00<00:00, 84302.29it/s]"
     ]
    },
    {
     "name": "stdout",
     "output_type": "stream",
     "text": [
      "39168/60000 [==================>...........] - ETA: 0s - loss: 0.3870 - acc: 0.8973"
     ]
    },
    {
     "name": "stderr",
     "output_type": "stream",
     "text": [
      "\u001b[A\n",
      "Epoch: 30 - loss: 0.386, acc: 0.897 72%|███████▏  | 43008/60000 [00:00<00:00, 85337.69it/s]"
     ]
    },
    {
     "name": "stdout",
     "output_type": "stream",
     "text": [
      "48384/60000 [=======================>......] - ETA: 0s - loss: 0.3871 - acc: 0.8971"
     ]
    },
    {
     "name": "stderr",
     "output_type": "stream",
     "text": [
      "\u001b[A\n",
      "Epoch: 30 - loss: 0.388, acc: 0.897 87%|████████▋ | 51968/60000 [00:00<00:00, 86120.76it/s]"
     ]
    },
    {
     "name": "stdout",
     "output_type": "stream",
     "text": [
      "56576/60000 [===========================>..] - ETA: 0s - loss: 0.3886 - acc: 0.8967"
     ]
    },
    {
     "name": "stderr",
     "output_type": "stream",
     "text": [
      "\u001b[A\n",
      "Epoch: 30 - loss: 0.388, acc: 0.897100%|█████████▉| 59904/60000 [00:00<00:00, 83616.75it/s]\u001b[A\n",
      "Epoch: 30 - loss: 0.388, acc: 0.897, val_loss: 0.368, val_acc: 0.905100%|██████████| 60000/60000 [00:00<00:00, 5482.68it/s]\u001b[A\n",
      "Training:  31%|███       | 31/100 [00:24<00:53,  1.30it/s]"
     ]
    },
    {
     "name": "stdout",
     "output_type": "stream",
     "text": [
      "Epoch 00030: val_loss improved from 0.37028 to 0.36753, saving model to checkpoints_mnist_log_reg_keras_tensorflow/mnist_log_reg.hdf5\n",
      "60000/60000 [==============================] - 0s - loss: 0.3885 - acc: 0.8968 - val_loss: 0.3675 - val_acc: 0.9051"
     ]
    },
    {
     "name": "stderr",
     "output_type": "stream",
     "text": [
      "\n",
      "\r",
      "Epoch: 31:   0%|          | 0/60000 [00:00<?, ?it/s]"
     ]
    },
    {
     "name": "stdout",
     "output_type": "stream",
     "text": [
      "\n",
      "Epoch 32/100\n",
      "\r",
      "  256/60000 [..............................] - ETA: 1s - loss: 0.3613 - acc: 0.9102"
     ]
    },
    {
     "name": "stderr",
     "output_type": "stream",
     "text": [
      "\u001b[A"
     ]
    },
    {
     "name": "stdout",
     "output_type": "stream",
     "text": [
      "\b\b\b\b\b\b\b\b\b\b\b\b\b\b\b\b\b\b\b\b\b\b\b\b\b\b\b\b\b\b\b\b\b\b\b\b\b\b\b\b\b\b\b\b\b\b\b\b\b\b\b\b\b\b\b\b\b\b\b\b\b\b\b\b\b\b\b\b\b\b\b\b\b\b\b\b\b\b\b\b\b\b\b\r",
      " 4096/60000 [=>............................] - ETA: 0s - loss: 0.3798 - acc: 0.8987"
     ]
    },
    {
     "name": "stderr",
     "output_type": "stream",
     "text": [
      "\n",
      "\r",
      "Epoch: 31 - loss: 0.391, acc: 0.895 13%|█▎        | 7936/60000 [00:00<00:00, 78659.80it/s]"
     ]
    },
    {
     "name": "stdout",
     "output_type": "stream",
     "text": [
      "\b\b\b\b\b\b\b\b\b\b\b\b\b\b\b\b\b\b\b\b\b\b\b\b\b\b\b\b\b\b\b\b\b\b\b\b\b\b\b\b\b\b\b\b\b\b\b\b\b\b\b\b\b\b\b\b\b\b\b\b\b\b\b\b\b\b\b\b\b\b\b\b\b\b\b\b\b\b\b\b\b\b\b\r",
      " 8448/60000 [===>..........................] - ETA: 0s - loss: 0.3893 - acc: 0.8948"
     ]
    },
    {
     "name": "stderr",
     "output_type": "stream",
     "text": [
      "\u001b[A"
     ]
    },
    {
     "name": "stdout",
     "output_type": "stream",
     "text": [
      "\b\b\b\b\b\b\b\b\b\b\b\b\b\b\b\b\b\b\b\b\b\b\b\b\b\b\b\b\b\b\b\b\b\b\b\b\b\b\b\b\b\b\b\b\b\b\b\b\b\b\b\b\b\b\b\b\b\b\b\b\b\b\b\b\b\b\b\b\b\b\b\b\b\b\b\b\b\b\b\b\b\b\b\r",
      "12288/60000 [=====>........................] - ETA: 0s - loss: 0.3927 - acc: 0.8946"
     ]
    },
    {
     "name": "stderr",
     "output_type": "stream",
     "text": [
      "\n",
      "\r",
      "Epoch: 31 - loss: 0.391, acc: 0.896 26%|██▌       | 15360/60000 [00:00<00:00, 76919.60it/s]"
     ]
    },
    {
     "name": "stdout",
     "output_type": "stream",
     "text": [
      "20480/60000 [=========>....................] - ETA: 0s - loss: 0.3873 - acc: 0.8974"
     ]
    },
    {
     "name": "stderr",
     "output_type": "stream",
     "text": [
      "\u001b[A\n",
      "Epoch: 31 - loss: 0.386, acc: 0.897 40%|███▉      | 23808/60000 [00:00<00:00, 78571.92it/s]"
     ]
    },
    {
     "name": "stdout",
     "output_type": "stream",
     "text": [
      "28928/60000 [=============>................] - ETA: 0s - loss: 0.3862 - acc: 0.8971"
     ]
    },
    {
     "name": "stderr",
     "output_type": "stream",
     "text": [
      "\u001b[A\n",
      "Epoch: 31 - loss: 0.387, acc: 0.897 54%|█████▍    | 32512/60000 [00:00<00:00, 80702.18it/s]"
     ]
    },
    {
     "name": "stdout",
     "output_type": "stream",
     "text": [
      "37632/60000 [=================>............] - ETA: 0s - loss: 0.3853 - acc: 0.8973"
     ]
    },
    {
     "name": "stderr",
     "output_type": "stream",
     "text": [
      "\u001b[A\n",
      "Epoch: 31 - loss: 0.385, acc: 0.897 68%|██████▊   | 40704/60000 [00:00<00:00, 81059.37it/s]"
     ]
    },
    {
     "name": "stdout",
     "output_type": "stream",
     "text": [
      "46592/60000 [======================>.......] - ETA: 0s - loss: 0.3853 - acc: 0.8971"
     ]
    },
    {
     "name": "stderr",
     "output_type": "stream",
     "text": [
      "\u001b[A\n",
      "Epoch: 31 - loss: 0.384, acc: 0.898 83%|████████▎ | 49664/60000 [00:00<00:00, 83203.61it/s]"
     ]
    },
    {
     "name": "stdout",
     "output_type": "stream",
     "text": [
      "55296/60000 [==========================>...] - ETA: 0s - loss: 0.3856 - acc: 0.8970"
     ]
    },
    {
     "name": "stderr",
     "output_type": "stream",
     "text": [
      "\u001b[A\n",
      "Epoch: 31 - loss: 0.386, acc: 0.897 96%|█████████▋| 57856/60000 [00:00<00:00, 82745.12it/s]"
     ]
    },
    {
     "name": "stdout",
     "output_type": "stream",
     "text": [
      "\b\b\b\b\b\b\b\b\b\b\b\b\b\b\b\b\b\b\b\b\b\b\b\b\b\b\b\b\b\b\b\b\b\b\b\b\b\b\b\b\b\b\b\b\b\b\b\b\b\b\b\b\b\b\b\b\b\b\b\b\b\b\b\b\b\b\b\b\b\b\b\b\b\b\b\b\b\b\b\b\b\b\b\r",
      "59648/60000 [============================>.] - ETA: 0s - loss: 0.3854 - acc: 0.8971"
     ]
    },
    {
     "name": "stderr",
     "output_type": "stream",
     "text": [
      "\u001b[A\n",
      "Epoch: 31 - loss: 0.386, acc: 0.897, val_loss: 0.365, val_acc: 0.906100%|██████████| 60000/60000 [00:00<00:00, 51490.99it/s]\u001b[A\n",
      "Training:  32%|███▏      | 32/100 [00:25<00:52,  1.28it/s]"
     ]
    },
    {
     "name": "stdout",
     "output_type": "stream",
     "text": [
      "Epoch 00031: val_loss improved from 0.36753 to 0.36514, saving model to checkpoints_mnist_log_reg_keras_tensorflow/mnist_log_reg.hdf5\n",
      "\b\b\b\b\b\b\b\b\b\b\b\b\b\b\b\b\b\b\b\b\b\b\b\b\b\b\b\b\b\b\b\b\b\b\b\b\b\b\b\b\b\b\b\b\b\b\b\b\b\b\b\b\b\b\b\b\b\b\b\b\b\b\b\b\b\b\b\b\b\b\b\b\b\b\b\b\b\b\b\b\b\b\b\r",
      "60000/60000 [==============================] - 0s - loss: 0.3857 - acc: 0.8972 - val_loss: 0.3651 - val_acc: 0.9059"
     ]
    },
    {
     "name": "stderr",
     "output_type": "stream",
     "text": [
      "\n",
      "\r",
      "Epoch: 32:   0%|          | 0/60000 [00:00<?, ?it/s]"
     ]
    },
    {
     "name": "stdout",
     "output_type": "stream",
     "text": [
      "\n",
      "Epoch 33/100\n",
      "\r",
      "  256/60000 [..............................] - ETA: 0s - loss: 0.3935 - acc: 0.8906"
     ]
    },
    {
     "name": "stderr",
     "output_type": "stream",
     "text": [
      "\u001b[A"
     ]
    },
    {
     "name": "stdout",
     "output_type": "stream",
     "text": [
      "\b\b\b\b\b\b\b\b\b\b\b\b\b\b\b\b\b\b\b\b\b\b\b\b\b\b\b\b\b\b\b\b\b\b\b\b\b\b\b\b\b\b\b\b\b\b\b\b\b\b\b\b\b\b\b\b\b\b\b\b\b\b\b\b\b\b\b\b\b\b\b\b\b\b\b\b\b\b\b\b\b\b\b\r",
      " 5120/60000 [=>............................] - ETA: 0s - loss: 0.3614 - acc: 0.9025"
     ]
    },
    {
     "name": "stderr",
     "output_type": "stream",
     "text": [
      "\n",
      "\r",
      "Epoch: 32 - loss: 0.382, acc: 0.897 15%|█▌        | 9216/60000 [00:00<00:00, 91608.60it/s]"
     ]
    },
    {
     "name": "stdout",
     "output_type": "stream",
     "text": [
      "\b\b\b\b\b\b\b\b\b\b\b\b\b\b\b\b\b\b\b\b\b\b\b\b\b\b\b\b\b\b\b\b\b\b\b\b\b\b\b\b\b\b\b\b\b\b\b\b\b\b\b\b\b\b\b\b\b\b\b\b\b\b\b\b\b\b\b\b\b\b\b\b\b\b\b\b\b\b\b\b\b\b\b\r",
      " 9728/60000 [===>..........................] - ETA: 0s - loss: 0.3807 - acc: 0.8969"
     ]
    },
    {
     "name": "stderr",
     "output_type": "stream",
     "text": [
      "\u001b[A"
     ]
    },
    {
     "name": "stdout",
     "output_type": "stream",
     "text": [
      "\b\b\b\b\b\b\b\b\b\b\b\b\b\b\b\b\b\b\b\b\b\b\b\b\b\b\b\b\b\b\b\b\b\b\b\b\b\b\b\b\b\b\b\b\b\b\b\b\b\b\b\b\b\b\b\b\b\b\b\b\b\b\b\b\b\b\b\b\b\b\b\b\b\b\b\b\b\b\b\b\b\b\b\r",
      "14080/60000 [======>.......................] - ETA: 0s - loss: 0.3805 - acc: 0.8977"
     ]
    },
    {
     "name": "stderr",
     "output_type": "stream",
     "text": [
      "\n",
      "\r",
      "Epoch: 32 - loss: 0.383, acc: 0.897 30%|██▉       | 17920/60000 [00:00<00:00, 89740.79it/s]"
     ]
    },
    {
     "name": "stdout",
     "output_type": "stream",
     "text": [
      "22784/60000 [==========>...................] - ETA: 0s - loss: 0.3832 - acc: 0.8969"
     ]
    },
    {
     "name": "stderr",
     "output_type": "stream",
     "text": [
      "\u001b[A\n",
      "Epoch: 32 - loss: 0.385, acc: 0.898 45%|████▍     | 26880/60000 [00:00<00:00, 88841.14it/s]"
     ]
    },
    {
     "name": "stdout",
     "output_type": "stream",
     "text": [
      "31488/60000 [==============>...............] - ETA: 0s - loss: 0.3845 - acc: 0.8978"
     ]
    },
    {
     "name": "stderr",
     "output_type": "stream",
     "text": [
      "\u001b[A\n",
      "Epoch: 32 - loss: 0.385, acc: 0.898 60%|█████▉    | 35840/60000 [00:00<00:00, 88706.77it/s]"
     ]
    },
    {
     "name": "stdout",
     "output_type": "stream",
     "text": [
      "40704/60000 [===================>..........] - ETA: 0s - loss: 0.3839 - acc: 0.8970"
     ]
    },
    {
     "name": "stderr",
     "output_type": "stream",
     "text": [
      "\u001b[A\n",
      "Epoch: 32 - loss: 0.385, acc: 0.897 75%|███████▍  | 44800/60000 [00:00<00:00, 88238.07it/s]"
     ]
    },
    {
     "name": "stdout",
     "output_type": "stream",
     "text": [
      "49920/60000 [=======================>......] - ETA: 0s - loss: 0.3846 - acc: 0.8966"
     ]
    },
    {
     "name": "stderr",
     "output_type": "stream",
     "text": [
      "\u001b[A\n",
      "Epoch: 32 - loss: 0.384, acc: 0.897 90%|█████████ | 54016/60000 [00:00<00:00, 89091.24it/s]"
     ]
    },
    {
     "name": "stdout",
     "output_type": "stream",
     "text": [
      "58880/60000 [============================>.] - ETA: 0s - loss: 0.3833 - acc: 0.8976"
     ]
    },
    {
     "name": "stderr",
     "output_type": "stream",
     "text": [
      "\u001b[A\n",
      "Epoch: 32 - loss: 0.383, acc: 0.898, val_loss: 0.363, val_acc: 0.906100%|██████████| 60000/60000 [00:00<00:00, 69641.19it/s]\u001b[A\n",
      "Training:  33%|███▎      | 33/100 [00:26<00:51,  1.30it/s]"
     ]
    },
    {
     "name": "stdout",
     "output_type": "stream",
     "text": [
      "Epoch 00032: val_loss improved from 0.36514 to 0.36280, saving model to checkpoints_mnist_log_reg_keras_tensorflow/mnist_log_reg.hdf5\n",
      "\b\b\b\b\b\b\b\b\b\b\b\b\b\b\b\b\b\b\b\b\b\b\b\b\b\b\b\b\b\b\b\b\b\b\b\b\b\b\b\b\b\b\b\b\b\b\b\b\b\b\b\b\b\b\b\b\b\b\b\b\b\b\b\b\b\b\b\b\b\b\b\b\b\b\b\b\b\b\b\b\b\b\b\r",
      "60000/60000 [==============================] - 0s - loss: 0.3831 - acc: 0.8977 - val_loss: 0.3628 - val_acc: 0.9058"
     ]
    },
    {
     "name": "stderr",
     "output_type": "stream",
     "text": [
      "\n",
      "\r",
      "Epoch: 33:   0%|          | 0/60000 [00:00<?, ?it/s]"
     ]
    },
    {
     "name": "stdout",
     "output_type": "stream",
     "text": [
      "\n",
      "Epoch 34/100\n",
      " 4864/60000 [=>............................] - ETA: 0s - loss: 0.3831 - acc: 0.9001"
     ]
    },
    {
     "name": "stderr",
     "output_type": "stream",
     "text": [
      "\u001b[A\n",
      "Epoch: 33 - loss: 0.375, acc: 0.901 14%|█▎        | 8192/60000 [00:00<00:00, 81795.46it/s]"
     ]
    },
    {
     "name": "stdout",
     "output_type": "stream",
     "text": [
      "13312/60000 [=====>........................] - ETA: 0s - loss: 0.3784 - acc: 0.8984"
     ]
    },
    {
     "name": "stderr",
     "output_type": "stream",
     "text": [
      "\u001b[A\n",
      "Epoch: 33 - loss: 0.380, acc: 0.898 29%|██▊       | 17152/60000 [00:00<00:00, 83397.71it/s]"
     ]
    },
    {
     "name": "stdout",
     "output_type": "stream",
     "text": [
      "22528/60000 [==========>...................] - ETA: 0s - loss: 0.3835 - acc: 0.8974"
     ]
    },
    {
     "name": "stderr",
     "output_type": "stream",
     "text": [
      "\u001b[A\n",
      "Epoch: 33 - loss: 0.386, acc: 0.896 44%|████▎     | 26112/60000 [00:00<00:00, 84910.85it/s]"
     ]
    },
    {
     "name": "stdout",
     "output_type": "stream",
     "text": [
      "31232/60000 [==============>...............] - ETA: 0s - loss: 0.3863 - acc: 0.8954"
     ]
    },
    {
     "name": "stderr",
     "output_type": "stream",
     "text": [
      "\u001b[A\n",
      "Epoch: 33 - loss: 0.386, acc: 0.896 57%|█████▋    | 34304/60000 [00:00<00:00, 83940.09it/s]"
     ]
    },
    {
     "name": "stdout",
     "output_type": "stream",
     "text": [
      "40192/60000 [===================>..........] - ETA: 0s - loss: 0.3851 - acc: 0.8968"
     ]
    },
    {
     "name": "stderr",
     "output_type": "stream",
     "text": [
      "\u001b[A\n",
      "Epoch: 33 - loss: 0.385, acc: 0.896 72%|███████▏  | 43008/60000 [00:00<00:00, 83953.64it/s]"
     ]
    },
    {
     "name": "stdout",
     "output_type": "stream",
     "text": [
      "48384/60000 [=======================>......] - ETA: 0s - loss: 0.3830 - acc: 0.8976"
     ]
    },
    {
     "name": "stderr",
     "output_type": "stream",
     "text": [
      "\u001b[A\n",
      "Epoch: 33 - loss: 0.381, acc: 0.898 86%|████████▌ | 51456/60000 [00:00<00:00, 83724.82it/s]"
     ]
    },
    {
     "name": "stdout",
     "output_type": "stream",
     "text": [
      "57344/60000 [===========================>..] - ETA: 0s - loss: 0.3804 - acc: 0.8985"
     ]
    },
    {
     "name": "stderr",
     "output_type": "stream",
     "text": [
      "\u001b[A\n",
      "Epoch: 33 - loss: 0.381, acc: 0.898, val_loss: 0.360, val_acc: 0.907100%|██████████| 60000/60000 [00:00<00:00, 72359.84it/s]\u001b[A\n",
      "Training:  34%|███▍      | 34/100 [00:26<00:50,  1.30it/s]"
     ]
    },
    {
     "name": "stdout",
     "output_type": "stream",
     "text": [
      "Epoch 00033: val_loss improved from 0.36280 to 0.36033, saving model to checkpoints_mnist_log_reg_keras_tensorflow/mnist_log_reg.hdf5\n",
      "60000/60000 [==============================] - 0s - loss: 0.3806 - acc: 0.8984 - val_loss: 0.3603 - val_acc: 0.9071"
     ]
    },
    {
     "name": "stderr",
     "output_type": "stream",
     "text": [
      "\n",
      "\r",
      "Epoch: 34:   0%|          | 0/60000 [00:00<?, ?it/s]"
     ]
    },
    {
     "name": "stdout",
     "output_type": "stream",
     "text": [
      "\n",
      "Epoch 35/100\n",
      "\r",
      "  256/60000 [..............................] - ETA: 1s - loss: 0.3137 - acc: 0.9297"
     ]
    },
    {
     "name": "stderr",
     "output_type": "stream",
     "text": [
      "\u001b[A"
     ]
    },
    {
     "name": "stdout",
     "output_type": "stream",
     "text": [
      "\b\b\b\b\b\b\b\b\b\b\b\b\b\b\b\b\b\b\b\b\b\b\b\b\b\b\b\b\b\b\b\b\b\b\b\b\b\b\b\b\b\b\b\b\b\b\b\b\b\b\b\b\b\b\b\b\b\b\b\b\b\b\b\b\b\b\b\b\b\b\b\b\b\b\b\b\b\b\b\b\b\b\b\r",
      " 4096/60000 [=>............................] - ETA: 0s - loss: 0.3718 - acc: 0.9009"
     ]
    },
    {
     "name": "stderr",
     "output_type": "stream",
     "text": [
      "\n",
      "\r",
      "Epoch: 34 - loss: 0.384, acc: 0.896 14%|█▍        | 8448/60000 [00:00<00:00, 83196.91it/s]"
     ]
    },
    {
     "name": "stdout",
     "output_type": "stream",
     "text": [
      "13568/60000 [=====>........................] - ETA: 0s - loss: 0.3857 - acc: 0.8957"
     ]
    },
    {
     "name": "stderr",
     "output_type": "stream",
     "text": [
      "\u001b[A\n",
      "Epoch: 34 - loss: 0.387, acc: 0.895 29%|██▉       | 17408/60000 [00:00<00:00, 84746.28it/s]"
     ]
    },
    {
     "name": "stdout",
     "output_type": "stream",
     "text": [
      "22272/60000 [==========>...................] - ETA: 0s - loss: 0.3849 - acc: 0.8954"
     ]
    },
    {
     "name": "stderr",
     "output_type": "stream",
     "text": [
      "\u001b[A\n",
      "Epoch: 34 - loss: 0.384, acc: 0.896 44%|████▍     | 26624/60000 [00:00<00:00, 86435.51it/s]"
     ]
    },
    {
     "name": "stdout",
     "output_type": "stream",
     "text": [
      "31232/60000 [==============>...............] - ETA: 0s - loss: 0.3835 - acc: 0.8965"
     ]
    },
    {
     "name": "stderr",
     "output_type": "stream",
     "text": [
      "\u001b[A\n",
      "Epoch: 34 - loss: 0.383, acc: 0.897 58%|█████▊    | 35072/60000 [00:00<00:00, 85409.34it/s]"
     ]
    },
    {
     "name": "stdout",
     "output_type": "stream",
     "text": [
      "39680/60000 [==================>...........] - ETA: 0s - loss: 0.3810 - acc: 0.8974"
     ]
    },
    {
     "name": "stderr",
     "output_type": "stream",
     "text": [
      "\u001b[A\n",
      "Epoch: 34 - loss: 0.380, acc: 0.897 73%|███████▎  | 43520/60000 [00:00<00:00, 84734.15it/s]"
     ]
    },
    {
     "name": "stdout",
     "output_type": "stream",
     "text": [
      "48640/60000 [=======================>......] - ETA: 0s - loss: 0.3800 - acc: 0.8980"
     ]
    },
    {
     "name": "stderr",
     "output_type": "stream",
     "text": [
      "\u001b[A\n",
      "Epoch: 34 - loss: 0.379, acc: 0.898 87%|████████▋ | 52224/60000 [00:00<00:00, 85291.41it/s]"
     ]
    },
    {
     "name": "stdout",
     "output_type": "stream",
     "text": [
      "57600/60000 [===========================>..] - ETA: 0s - loss: 0.3784 - acc: 0.8982"
     ]
    },
    {
     "name": "stderr",
     "output_type": "stream",
     "text": [
      "\u001b[A\n",
      "Epoch: 34 - loss: 0.378, acc: 0.898, val_loss: 0.358, val_acc: 0.907100%|██████████| 60000/60000 [00:00<00:00, 70797.44it/s]\u001b[A\n",
      "Training:  35%|███▌      | 35/100 [00:27<00:50,  1.30it/s]"
     ]
    },
    {
     "name": "stdout",
     "output_type": "stream",
     "text": [
      "Epoch 00034: val_loss improved from 0.36033 to 0.35816, saving model to checkpoints_mnist_log_reg_keras_tensorflow/mnist_log_reg.hdf5\n",
      "60000/60000 [==============================] - 0s - loss: 0.3782 - acc: 0.8984 - val_loss: 0.3582 - val_acc: 0.9072"
     ]
    },
    {
     "name": "stderr",
     "output_type": "stream",
     "text": [
      "\n",
      "\r",
      "Epoch: 35:   0%|          | 0/60000 [00:00<?, ?it/s]"
     ]
    },
    {
     "name": "stdout",
     "output_type": "stream",
     "text": [
      "\n",
      "Epoch 36/100\n",
      "\r",
      "  256/60000 [..............................] - ETA: 1s - loss: 0.3050 - acc: 0.9297"
     ]
    },
    {
     "name": "stderr",
     "output_type": "stream",
     "text": [
      "\u001b[A"
     ]
    },
    {
     "name": "stdout",
     "output_type": "stream",
     "text": [
      "\b\b\b\b\b\b\b\b\b\b\b\b\b\b\b\b\b\b\b\b\b\b\b\b\b\b\b\b\b\b\b\b\b\b\b\b\b\b\b\b\b\b\b\b\b\b\b\b\b\b\b\b\b\b\b\b\b\b\b\b\b\b\b\b\b\b\b\b\b\b\b\b\b\b\b\b\b\b\b\b\b\b\b\r",
      " 4352/60000 [=>............................] - ETA: 0s - loss: 0.3597 - acc: 0.9028"
     ]
    },
    {
     "name": "stderr",
     "output_type": "stream",
     "text": [
      "\n",
      "\r",
      "Epoch: 35 - loss: 0.364, acc: 0.904 14%|█▎        | 8192/60000 [00:00<00:00, 80615.98it/s]"
     ]
    },
    {
     "name": "stdout",
     "output_type": "stream",
     "text": [
      "13056/60000 [=====>........................] - ETA: 0s - loss: 0.3690 - acc: 0.9030"
     ]
    },
    {
     "name": "stderr",
     "output_type": "stream",
     "text": [
      "\u001b[A\n",
      "Epoch: 35 - loss: 0.371, acc: 0.902 28%|██▊       | 16640/60000 [00:00<00:00, 81672.63it/s]"
     ]
    },
    {
     "name": "stdout",
     "output_type": "stream",
     "text": [
      "21504/60000 [=========>....................] - ETA: 0s - loss: 0.3728 - acc: 0.9004"
     ]
    },
    {
     "name": "stderr",
     "output_type": "stream",
     "text": [
      "\u001b[A\n",
      "Epoch: 35 - loss: 0.375, acc: 0.899 42%|████▏     | 25344/60000 [00:00<00:00, 82644.83it/s]"
     ]
    },
    {
     "name": "stdout",
     "output_type": "stream",
     "text": [
      "30720/60000 [==============>...............] - ETA: 0s - loss: 0.3732 - acc: 0.9005"
     ]
    },
    {
     "name": "stderr",
     "output_type": "stream",
     "text": [
      "\u001b[A\n",
      "Epoch: 35 - loss: 0.376, acc: 0.900 57%|█████▋    | 34048/60000 [00:00<00:00, 83905.44it/s]"
     ]
    },
    {
     "name": "stdout",
     "output_type": "stream",
     "text": [
      "39680/60000 [==================>...........] - ETA: 0s - loss: 0.3758 - acc: 0.8996"
     ]
    },
    {
     "name": "stderr",
     "output_type": "stream",
     "text": [
      "\u001b[A\n",
      "Epoch: 35 - loss: 0.375, acc: 0.900 71%|███████▏  | 42752/60000 [00:00<00:00, 84124.90it/s]"
     ]
    },
    {
     "name": "stdout",
     "output_type": "stream",
     "text": [
      "48640/60000 [=======================>......] - ETA: 0s - loss: 0.3757 - acc: 0.8996"
     ]
    },
    {
     "name": "stderr",
     "output_type": "stream",
     "text": [
      "\u001b[A\n",
      "Epoch: 35 - loss: 0.376, acc: 0.899 86%|████████▌ | 51456/60000 [00:00<00:00, 84799.85it/s]"
     ]
    },
    {
     "name": "stdout",
     "output_type": "stream",
     "text": [
      "57088/60000 [===========================>..] - ETA: 0s - loss: 0.3761 - acc: 0.8988"
     ]
    },
    {
     "name": "stderr",
     "output_type": "stream",
     "text": [
      "\u001b[A\n",
      "Epoch: 35 - loss: 0.376, acc: 0.899, val_loss: 0.356, val_acc: 0.907100%|██████████| 60000/60000 [00:00<00:00, 73009.83it/s]\u001b[A\n",
      "Training:  36%|███▌      | 36/100 [00:28<00:49,  1.29it/s]"
     ]
    },
    {
     "name": "stdout",
     "output_type": "stream",
     "text": [
      "Epoch 00035: val_loss improved from 0.35816 to 0.35643, saving model to checkpoints_mnist_log_reg_keras_tensorflow/mnist_log_reg.hdf5\n",
      "\b\b\b\b\b\b\b\b\b\b\b\b\b\b\b\b\b\b\b\b\b\b\b\b\b\b\b\b\b\b\b\b\b\b\b\b\b\b\b\b\b\b\b\b\b\b\b\b\b\b\b\b\b\b\b\b\b\b\b\b\b\b\b\b\b\b\b\b\b\b\b\b\b\b\b\b\b\b\b\b\b\b\b\r",
      "60000/60000 [==============================] - 0s - loss: 0.3760 - acc: 0.8988 - val_loss: 0.3564 - val_acc: 0.9068"
     ]
    },
    {
     "name": "stderr",
     "output_type": "stream",
     "text": [
      "\n",
      "\r",
      "Epoch: 36:   0%|          | 0/60000 [00:00<?, ?it/s]"
     ]
    },
    {
     "name": "stdout",
     "output_type": "stream",
     "text": [
      "\n",
      "Epoch 37/100\n",
      "\r",
      "  256/60000 [..............................] - ETA: 1s - loss: 0.3990 - acc: 0.8945"
     ]
    },
    {
     "name": "stderr",
     "output_type": "stream",
     "text": [
      "\u001b[A"
     ]
    },
    {
     "name": "stdout",
     "output_type": "stream",
     "text": [
      "\b\b\b\b\b\b\b\b\b\b\b\b\b\b\b\b\b\b\b\b\b\b\b\b\b\b\b\b\b\b\b\b\b\b\b\b\b\b\b\b\b\b\b\b\b\b\b\b\b\b\b\b\b\b\b\b\b\b\b\b\b\b\b\b\b\b\b\b\b\b\b\b\b\b\b\b\b\b\b\b\b\b\b\r",
      " 4352/60000 [=>............................] - ETA: 0s - loss: 0.3906 - acc: 0.8989"
     ]
    },
    {
     "name": "stderr",
     "output_type": "stream",
     "text": [
      "\n",
      "\r",
      "Epoch: 36 - loss: 0.382, acc: 0.900 15%|█▍        | 8960/60000 [00:00<00:00, 88183.45it/s]"
     ]
    },
    {
     "name": "stdout",
     "output_type": "stream",
     "text": [
      "13568/60000 [=====>........................] - ETA: 0s - loss: 0.3775 - acc: 0.8995"
     ]
    },
    {
     "name": "stderr",
     "output_type": "stream",
     "text": [
      "\u001b[A\n",
      "Epoch: 36 - loss: 0.382, acc: 0.899 29%|██▉       | 17408/60000 [00:00<00:00, 86985.46it/s]"
     ]
    },
    {
     "name": "stdout",
     "output_type": "stream",
     "text": [
      "22784/60000 [==========>...................] - ETA: 0s - loss: 0.3839 - acc: 0.8977"
     ]
    },
    {
     "name": "stderr",
     "output_type": "stream",
     "text": [
      "\u001b[A\n",
      "Epoch: 36 - loss: 0.380, acc: 0.899 44%|████▍     | 26624/60000 [00:00<00:00, 88212.06it/s]"
     ]
    },
    {
     "name": "stdout",
     "output_type": "stream",
     "text": [
      "31488/60000 [==============>...............] - ETA: 0s - loss: 0.3789 - acc: 0.8991"
     ]
    },
    {
     "name": "stderr",
     "output_type": "stream",
     "text": [
      "\u001b[A\n",
      "Epoch: 36 - loss: 0.377, acc: 0.900 58%|█████▊    | 35072/60000 [00:00<00:00, 86975.91it/s]"
     ]
    },
    {
     "name": "stdout",
     "output_type": "stream",
     "text": [
      "39936/60000 [==================>...........] - ETA: 0s - loss: 0.3787 - acc: 0.8986"
     ]
    },
    {
     "name": "stderr",
     "output_type": "stream",
     "text": [
      "\u001b[A\n",
      "Epoch: 36 - loss: 0.377, acc: 0.899 72%|███████▏  | 43264/60000 [00:00<00:00, 85168.45it/s]"
     ]
    },
    {
     "name": "stdout",
     "output_type": "stream",
     "text": [
      "49408/60000 [=======================>......] - ETA: 0s - loss: 0.3735 - acc: 0.8998"
     ]
    },
    {
     "name": "stderr",
     "output_type": "stream",
     "text": [
      "\u001b[A\n",
      "Epoch: 36 - loss: 0.374, acc: 0.900 87%|████████▋ | 51968/60000 [00:00<00:00, 85084.26it/s]"
     ]
    },
    {
     "name": "stdout",
     "output_type": "stream",
     "text": [
      "57600/60000 [===========================>..] - ETA: 0s - loss: 0.3736 - acc: 0.8999"
     ]
    },
    {
     "name": "stderr",
     "output_type": "stream",
     "text": [
      "\u001b[A\n",
      "Epoch: 36 - loss: 0.374, acc: 0.900, val_loss: 0.354, val_acc: 0.908100%|██████████| 60000/60000 [00:00<00:00, 73007.49it/s]\u001b[A\n",
      "Training:  37%|███▋      | 37/100 [00:29<00:48,  1.30it/s]"
     ]
    },
    {
     "name": "stdout",
     "output_type": "stream",
     "text": [
      "Epoch 00036: val_loss improved from 0.35643 to 0.35438, saving model to checkpoints_mnist_log_reg_keras_tensorflow/mnist_log_reg.hdf5\n",
      "\b\b\b\b\b\b\b\b\b\b\b\b\b\b\b\b\b\b\b\b\b\b\b\b\b\b\b\b\b\b\b\b\b\b\b\b\b\b\b\b\b\b\b\b\b\b\b\b\b\b\b\b\b\b\b\b\b\b\b\b\b\b\b\b\b\b\b\b\b\b\b\b\b\b\b\b\b\b\b\b\b\b\b\r",
      "60000/60000 [==============================] - 0s - loss: 0.3738 - acc: 0.8996 - val_loss: 0.3544 - val_acc: 0.9082"
     ]
    },
    {
     "name": "stderr",
     "output_type": "stream",
     "text": [
      "\n",
      "\r",
      "Epoch: 37:   0%|          | 0/60000 [00:00<?, ?it/s]"
     ]
    },
    {
     "name": "stdout",
     "output_type": "stream",
     "text": [
      "\n",
      "Epoch 38/100\n",
      "\r",
      "  256/60000 [..............................] - ETA: 0s - loss: 0.3359 - acc: 0.9180"
     ]
    },
    {
     "name": "stderr",
     "output_type": "stream",
     "text": [
      "\u001b[A"
     ]
    },
    {
     "name": "stdout",
     "output_type": "stream",
     "text": [
      "\b\b\b\b\b\b\b\b\b\b\b\b\b\b\b\b\b\b\b\b\b\b\b\b\b\b\b\b\b\b\b\b\b\b\b\b\b\b\b\b\b\b\b\b\b\b\b\b\b\b\b\b\b\b\b\b\b\b\b\b\b\b\b\b\b\b\b\b\b\b\b\b\b\b\b\b\b\b\b\b\b\b\b\r",
      " 4352/60000 [=>............................] - ETA: 0s - loss: 0.3670 - acc: 0.9005"
     ]
    },
    {
     "name": "stderr",
     "output_type": "stream",
     "text": [
      "\n",
      "\r",
      "Epoch: 37 - loss: 0.373, acc: 0.899 15%|█▍        | 8704/60000 [00:00<00:00, 85932.30it/s]"
     ]
    },
    {
     "name": "stdout",
     "output_type": "stream",
     "text": [
      "13312/60000 [=====>........................] - ETA: 0s - loss: 0.3686 - acc: 0.8989"
     ]
    },
    {
     "name": "stderr",
     "output_type": "stream",
     "text": [
      "\u001b[A\n",
      "Epoch: 37 - loss: 0.371, acc: 0.899 29%|██▉       | 17664/60000 [00:00<00:00, 86353.25it/s]"
     ]
    },
    {
     "name": "stdout",
     "output_type": "stream",
     "text": [
      "22784/60000 [==========>...................] - ETA: 0s - loss: 0.3745 - acc: 0.8990"
     ]
    },
    {
     "name": "stderr",
     "output_type": "stream",
     "text": [
      "\u001b[A\n",
      "Epoch: 37 - loss: 0.375, acc: 0.899 45%|████▍     | 26880/60000 [00:00<00:00, 87709.15it/s]"
     ]
    },
    {
     "name": "stdout",
     "output_type": "stream",
     "text": [
      "31488/60000 [==============>...............] - ETA: 0s - loss: 0.3746 - acc: 0.8994"
     ]
    },
    {
     "name": "stderr",
     "output_type": "stream",
     "text": [
      "\u001b[A\n",
      "Epoch: 37 - loss: 0.377, acc: 0.899 59%|█████▉    | 35328/60000 [00:00<00:00, 86696.02it/s]"
     ]
    },
    {
     "name": "stdout",
     "output_type": "stream",
     "text": [
      "40192/60000 [===================>..........] - ETA: 0s - loss: 0.3762 - acc: 0.8995"
     ]
    },
    {
     "name": "stderr",
     "output_type": "stream",
     "text": [
      "\u001b[A\n",
      "Epoch: 37 - loss: 0.377, acc: 0.899 74%|███████▍  | 44288/60000 [00:00<00:00, 86865.96it/s]"
     ]
    },
    {
     "name": "stdout",
     "output_type": "stream",
     "text": [
      "48896/60000 [=======================>......] - ETA: 0s - loss: 0.3748 - acc: 0.8996"
     ]
    },
    {
     "name": "stderr",
     "output_type": "stream",
     "text": [
      "\u001b[A\n",
      "Epoch: 37 - loss: 0.374, acc: 0.900 88%|████████▊ | 52736/60000 [00:00<00:00, 85760.65it/s]"
     ]
    },
    {
     "name": "stdout",
     "output_type": "stream",
     "text": [
      "57600/60000 [===========================>..] - ETA: 0s - loss: 0.3719 - acc: 0.9002"
     ]
    },
    {
     "name": "stderr",
     "output_type": "stream",
     "text": [
      "\u001b[A\n",
      "Epoch: 37 - loss: 0.372, acc: 0.900, val_loss: 0.352, val_acc: 0.907100%|██████████| 60000/60000 [00:00<00:00, 69345.95it/s]\u001b[A\n",
      "Training:  38%|███▊      | 38/100 [00:29<00:47,  1.30it/s]"
     ]
    },
    {
     "name": "stdout",
     "output_type": "stream",
     "text": [
      "Epoch 00037: val_loss improved from 0.35438 to 0.35250, saving model to checkpoints_mnist_log_reg_keras_tensorflow/mnist_log_reg.hdf5\n",
      "60000/60000 [==============================] - 0s - loss: 0.3718 - acc: 0.9000 - val_loss: 0.3525 - val_acc: 0.9074"
     ]
    },
    {
     "name": "stderr",
     "output_type": "stream",
     "text": [
      "\n",
      "\r",
      "Epoch: 38:   0%|          | 0/60000 [00:00<?, ?it/s]"
     ]
    },
    {
     "name": "stdout",
     "output_type": "stream",
     "text": [
      "\n",
      "Epoch 39/100\n",
      "\r",
      "  256/60000 [..............................] - ETA: 1s - loss: 0.3568 - acc: 0.9023"
     ]
    },
    {
     "name": "stderr",
     "output_type": "stream",
     "text": [
      "\u001b[A"
     ]
    },
    {
     "name": "stdout",
     "output_type": "stream",
     "text": [
      "\b\b\b\b\b\b\b\b\b\b\b\b\b\b\b\b\b\b\b\b\b\b\b\b\b\b\b\b\b\b\b\b\b\b\b\b\b\b\b\b\b\b\b\b\b\b\b\b\b\b\b\b\b\b\b\b\b\b\b\b\b\b\b\b\b\b\b\b\b\b\b\b\b\b\b\b\b\b\b\b\b\b\b\r",
      " 4352/60000 [=>............................] - ETA: 0s - loss: 0.3587 - acc: 0.9028"
     ]
    },
    {
     "name": "stderr",
     "output_type": "stream",
     "text": [
      "\n",
      "\r",
      "Epoch: 38 - loss: 0.366, acc: 0.899 14%|█▎        | 8192/60000 [00:00<00:00, 81642.12it/s]"
     ]
    },
    {
     "name": "stdout",
     "output_type": "stream",
     "text": [
      "13312/60000 [=====>........................] - ETA: 0s - loss: 0.3724 - acc: 0.8978"
     ]
    },
    {
     "name": "stderr",
     "output_type": "stream",
     "text": [
      "\u001b[A\n",
      "Epoch: 38 - loss: 0.371, acc: 0.899 29%|██▉       | 17664/60000 [00:00<00:00, 84718.90it/s]"
     ]
    },
    {
     "name": "stdout",
     "output_type": "stream",
     "text": [
      "23040/60000 [==========>...................] - ETA: 0s - loss: 0.3712 - acc: 0.8984"
     ]
    },
    {
     "name": "stderr",
     "output_type": "stream",
     "text": [
      "\u001b[A\n",
      "Epoch: 38 - loss: 0.371, acc: 0.899 45%|████▍     | 26880/60000 [00:00<00:00, 86573.44it/s]"
     ]
    },
    {
     "name": "stdout",
     "output_type": "stream",
     "text": [
      "32000/60000 [===============>..............] - ETA: 0s - loss: 0.3698 - acc: 0.9004"
     ]
    },
    {
     "name": "stderr",
     "output_type": "stream",
     "text": [
      "\u001b[A\n",
      "Epoch: 38 - loss: 0.370, acc: 0.900 60%|█████▉    | 35840/60000 [00:00<00:00, 87006.83it/s]"
     ]
    },
    {
     "name": "stdout",
     "output_type": "stream",
     "text": [
      "41216/60000 [===================>..........] - ETA: 0s - loss: 0.3700 - acc: 0.8996"
     ]
    },
    {
     "name": "stderr",
     "output_type": "stream",
     "text": [
      "\u001b[A\n",
      "Epoch: 38 - loss: 0.370, acc: 0.900 75%|███████▍  | 44800/60000 [00:00<00:00, 87167.88it/s]"
     ]
    },
    {
     "name": "stdout",
     "output_type": "stream",
     "text": [
      "50432/60000 [========================>.....] - ETA: 0s - loss: 0.3701 - acc: 0.9006"
     ]
    },
    {
     "name": "stderr",
     "output_type": "stream",
     "text": [
      "\u001b[A\n",
      "Epoch: 38 - loss: 0.371, acc: 0.900 90%|████████▉ | 53760/60000 [00:00<00:00, 87277.69it/s]"
     ]
    },
    {
     "name": "stdout",
     "output_type": "stream",
     "text": [
      "59392/60000 [============================>.] - ETA: 0s - loss: 0.3702 - acc: 0.9003"
     ]
    },
    {
     "name": "stderr",
     "output_type": "stream",
     "text": [
      "\u001b[A\n",
      "Epoch: 38 - loss: 0.370, acc: 0.900, val_loss: 0.351, val_acc: 0.908100%|██████████| 60000/60000 [00:00<00:00, 68689.20it/s]\u001b[A\n",
      "Training:  39%|███▉      | 39/100 [00:30<00:46,  1.31it/s]"
     ]
    },
    {
     "name": "stdout",
     "output_type": "stream",
     "text": [
      "Epoch 00038: val_loss improved from 0.35250 to 0.35075, saving model to checkpoints_mnist_log_reg_keras_tensorflow/mnist_log_reg.hdf5\n",
      "\b\b\b\b\b\b\b\b\b\b\b\b\b\b\b\b\b\b\b\b\b\b\b\b\b\b\b\b\b\b\b\b\b\b\b\b\b\b\b\b\b\b\b\b\b\b\b\b\b\b\b\b\b\b\b\b\b\b\b\b\b\b\b\b\b\b\b\b\b\b\b\b\b\b\b\b\b\b\b\b\b\b\b\r",
      "60000/60000 [==============================] - 0s - loss: 0.3698 - acc: 0.9004 - val_loss: 0.3508 - val_acc: 0.9078"
     ]
    },
    {
     "name": "stderr",
     "output_type": "stream",
     "text": [
      "\n",
      "\r",
      "Epoch: 39:   0%|          | 0/60000 [00:00<?, ?it/s]"
     ]
    },
    {
     "name": "stdout",
     "output_type": "stream",
     "text": [
      "\n",
      "Epoch 40/100\n",
      "\r",
      "  256/60000 [..............................] - ETA: 1s - loss: 0.3137 - acc: 0.9180"
     ]
    },
    {
     "name": "stderr",
     "output_type": "stream",
     "text": [
      "\u001b[A"
     ]
    },
    {
     "name": "stdout",
     "output_type": "stream",
     "text": [
      "\b\b\b\b\b\b\b\b\b\b\b\b\b\b\b\b\b\b\b\b\b\b\b\b\b\b\b\b\b\b\b\b\b\b\b\b\b\b\b\b\b\b\b\b\b\b\b\b\b\b\b\b\b\b\b\b\b\b\b\b\b\b\b\b\b\b\b\b\b\b\b\b\b\b\b\b\b\b\b\b\b\b\b\r",
      " 4608/60000 [=>............................] - ETA: 0s - loss: 0.3541 - acc: 0.9058"
     ]
    },
    {
     "name": "stderr",
     "output_type": "stream",
     "text": [
      "\n",
      "\r",
      "Epoch: 39 - loss: 0.356, acc: 0.906 14%|█▍        | 8448/60000 [00:00<00:00, 82941.99it/s]"
     ]
    },
    {
     "name": "stdout",
     "output_type": "stream",
     "text": [
      "13824/60000 [=====>........................] - ETA: 0s - loss: 0.3626 - acc: 0.9033"
     ]
    },
    {
     "name": "stderr",
     "output_type": "stream",
     "text": [
      "\u001b[A\n",
      "Epoch: 39 - loss: 0.366, acc: 0.903 29%|██▉       | 17664/60000 [00:00<00:00, 85384.90it/s]"
     ]
    },
    {
     "name": "stdout",
     "output_type": "stream",
     "text": [
      "23040/60000 [==========>...................] - ETA: 0s - loss: 0.3608 - acc: 0.9036"
     ]
    },
    {
     "name": "stderr",
     "output_type": "stream",
     "text": [
      "\u001b[A\n",
      "Epoch: 39 - loss: 0.361, acc: 0.904 44%|████▍     | 26624/60000 [00:00<00:00, 86382.72it/s]"
     ]
    },
    {
     "name": "stdout",
     "output_type": "stream",
     "text": [
      "32256/60000 [===============>..............] - ETA: 0s - loss: 0.3636 - acc: 0.9021"
     ]
    },
    {
     "name": "stderr",
     "output_type": "stream",
     "text": [
      "\u001b[A\n",
      "Epoch: 39 - loss: 0.366, acc: 0.902 59%|█████▉    | 35328/60000 [00:00<00:00, 85929.86it/s]"
     ]
    },
    {
     "name": "stdout",
     "output_type": "stream",
     "text": [
      "40960/60000 [===================>..........] - ETA: 0s - loss: 0.3646 - acc: 0.9022"
     ]
    },
    {
     "name": "stderr",
     "output_type": "stream",
     "text": [
      "\u001b[A\n",
      "Epoch: 39 - loss: 0.365, acc: 0.902 73%|███████▎  | 44032/60000 [00:00<00:00, 85498.62it/s]"
     ]
    },
    {
     "name": "stdout",
     "output_type": "stream",
     "text": [
      "49664/60000 [=======================>......] - ETA: 0s - loss: 0.3683 - acc: 0.9008"
     ]
    },
    {
     "name": "stderr",
     "output_type": "stream",
     "text": [
      "\u001b[A\n",
      "Epoch: 39 - loss: 0.368, acc: 0.901 88%|████████▊ | 52736/60000 [00:00<00:00, 85652.73it/s]"
     ]
    },
    {
     "name": "stdout",
     "output_type": "stream",
     "text": [
      "58880/60000 [============================>.] - ETA: 0s - loss: 0.3676 - acc: 0.9010"
     ]
    },
    {
     "name": "stderr",
     "output_type": "stream",
     "text": [
      "\u001b[A\n",
      "Epoch: 39 - loss: 0.368, acc: 0.901, val_loss: 0.349, val_acc: 0.910100%|██████████| 60000/60000 [00:00<00:00, 70394.41it/s]\u001b[A\n",
      "Training:  40%|████      | 40/100 [00:31<00:45,  1.30it/s]"
     ]
    },
    {
     "name": "stdout",
     "output_type": "stream",
     "text": [
      "Epoch 00039: val_loss improved from 0.35075 to 0.34890, saving model to checkpoints_mnist_log_reg_keras_tensorflow/mnist_log_reg.hdf5\n",
      "\b\b\b\b\b\b\b\b\b\b\b\b\b\b\b\b\b\b\b\b\b\b\b\b\b\b\b\b\b\b\b\b\b\b\b\b\b\b\b\b\b\b\b\b\b\b\b\b\b\b\b\b\b\b\b\b\b\b\b\b\b\b\b\b\b\b\b\b\b\b\b\b\b\b\b\b\b\b\b\b\b\b\b\r",
      "60000/60000 [==============================] - 0s - loss: 0.3678 - acc: 0.9009 - val_loss: 0.3489 - val_acc: 0.9096"
     ]
    },
    {
     "name": "stderr",
     "output_type": "stream",
     "text": [
      "\n",
      "\r",
      "Epoch: 40:   0%|          | 0/60000 [00:00<?, ?it/s]"
     ]
    },
    {
     "name": "stdout",
     "output_type": "stream",
     "text": [
      "\n",
      "Epoch 41/100\n",
      "\r",
      "  256/60000 [..............................] - ETA: 0s - loss: 0.3299 - acc: 0.9219"
     ]
    },
    {
     "name": "stderr",
     "output_type": "stream",
     "text": [
      "\u001b[A"
     ]
    },
    {
     "name": "stdout",
     "output_type": "stream",
     "text": [
      "\b\b\b\b\b\b\b\b\b\b\b\b\b\b\b\b\b\b\b\b\b\b\b\b\b\b\b\b\b\b\b\b\b\b\b\b\b\b\b\b\b\b\b\b\b\b\b\b\b\b\b\b\b\b\b\b\b\b\b\b\b\b\b\b\b\b\b\b\b\b\b\b\b\b\b\b\b\b\b\b\b\b\b\r",
      " 4864/60000 [=>............................] - ETA: 0s - loss: 0.3509 - acc: 0.9079"
     ]
    },
    {
     "name": "stderr",
     "output_type": "stream",
     "text": [
      "\n",
      "\r",
      "Epoch: 40 - loss: 0.363, acc: 0.903 15%|█▍        | 8704/60000 [00:00<00:00, 85374.24it/s]"
     ]
    },
    {
     "name": "stdout",
     "output_type": "stream",
     "text": [
      "13312/60000 [=====>........................] - ETA: 0s - loss: 0.3684 - acc: 0.9006"
     ]
    },
    {
     "name": "stderr",
     "output_type": "stream",
     "text": [
      "\u001b[A\n",
      "Epoch: 40 - loss: 0.370, acc: 0.900 29%|██▊       | 17152/60000 [00:00<00:00, 84880.35it/s]"
     ]
    },
    {
     "name": "stdout",
     "output_type": "stream",
     "text": [
      "22272/60000 [==========>...................] - ETA: 0s - loss: 0.3666 - acc: 0.9008"
     ]
    },
    {
     "name": "stderr",
     "output_type": "stream",
     "text": [
      "\u001b[A\n",
      "Epoch: 40 - loss: 0.367, acc: 0.901 42%|████▏     | 25344/60000 [00:00<00:00, 83798.64it/s]"
     ]
    },
    {
     "name": "stdout",
     "output_type": "stream",
     "text": [
      "30464/60000 [==============>...............] - ETA: 0s - loss: 0.3637 - acc: 0.9019"
     ]
    },
    {
     "name": "stderr",
     "output_type": "stream",
     "text": [
      "\u001b[A\n",
      "Epoch: 40 - loss: 0.364, acc: 0.902 56%|█████▋    | 33792/60000 [00:00<00:00, 83241.46it/s]"
     ]
    },
    {
     "name": "stdout",
     "output_type": "stream",
     "text": [
      "38912/60000 [==================>...........] - ETA: 0s - loss: 0.3657 - acc: 0.9015"
     ]
    },
    {
     "name": "stderr",
     "output_type": "stream",
     "text": [
      "\u001b[A\n",
      "Epoch: 40 - loss: 0.365, acc: 0.901 70%|██████▉   | 41984/60000 [00:00<00:00, 82673.88it/s]"
     ]
    },
    {
     "name": "stdout",
     "output_type": "stream",
     "text": [
      "48384/60000 [=======================>......] - ETA: 0s - loss: 0.3654 - acc: 0.9012"
     ]
    },
    {
     "name": "stderr",
     "output_type": "stream",
     "text": [
      "\u001b[A\n",
      "Epoch: 40 - loss: 0.365, acc: 0.901 85%|████████▌ | 51200/60000 [00:00<00:00, 85153.62it/s]"
     ]
    },
    {
     "name": "stdout",
     "output_type": "stream",
     "text": [
      "57856/60000 [===========================>..] - ETA: 0s - loss: 0.3656 - acc: 0.9015"
     ]
    },
    {
     "name": "stderr",
     "output_type": "stream",
     "text": [
      "\u001b[A\n",
      "Epoch: 40 - loss: 0.366, acc: 0.901, val_loss: 0.347, val_acc: 0.908100%|██████████| 60000/60000 [00:00<00:00, 75174.94it/s]\u001b[A\n",
      "Training:  41%|████      | 41/100 [00:32<00:45,  1.30it/s]"
     ]
    },
    {
     "name": "stdout",
     "output_type": "stream",
     "text": [
      "Epoch 00040: val_loss improved from 0.34890 to 0.34748, saving model to checkpoints_mnist_log_reg_keras_tensorflow/mnist_log_reg.hdf5\n",
      "\b\b\b\b\b\b\b\b\b\b\b\b\b\b\b\b\b\b\b\b\b\b\b\b\b\b\b\b\b\b\b\b\b\b\b\b\b\b\b\b\b\b\b\b\b\b\b\b\b\b\b\b\b\b\b\b\b\b\b\b\b\b\b\b\b\b\b\b\b\b\b\b\b\b\b\b\b\b\b\b\b\b\b\r",
      "60000/60000 [==============================] - 0s - loss: 0.3660 - acc: 0.9013 - val_loss: 0.3475 - val_acc: 0.9084"
     ]
    },
    {
     "name": "stderr",
     "output_type": "stream",
     "text": [
      "\n",
      "\r",
      "Epoch: 41:   0%|          | 0/60000 [00:00<?, ?it/s]"
     ]
    },
    {
     "name": "stdout",
     "output_type": "stream",
     "text": [
      "\n",
      "Epoch 42/100\n",
      "\r",
      "  256/60000 [..............................] - ETA: 1s - loss: 0.3649 - acc: 0.9023"
     ]
    },
    {
     "name": "stderr",
     "output_type": "stream",
     "text": [
      "\u001b[A"
     ]
    },
    {
     "name": "stdout",
     "output_type": "stream",
     "text": [
      "\b\b\b\b\b\b\b\b\b\b\b\b\b\b\b\b\b\b\b\b\b\b\b\b\b\b\b\b\b\b\b\b\b\b\b\b\b\b\b\b\b\b\b\b\b\b\b\b\b\b\b\b\b\b\b\b\b\b\b\b\b\b\b\b\b\b\b\b\b\b\b\b\b\b\b\b\b\b\b\b\b\b\b\r",
      " 4096/60000 [=>............................] - ETA: 0s - loss: 0.3628 - acc: 0.9026"
     ]
    },
    {
     "name": "stderr",
     "output_type": "stream",
     "text": [
      "\n",
      "\r",
      "Epoch: 41 - loss: 0.367, acc: 0.902 14%|█▎        | 8192/60000 [00:00<00:00, 81043.62it/s]"
     ]
    },
    {
     "name": "stdout",
     "output_type": "stream",
     "text": [
      "13312/60000 [=====>........................] - ETA: 0s - loss: 0.3676 - acc: 0.9015"
     ]
    },
    {
     "name": "stderr",
     "output_type": "stream",
     "text": [
      "\u001b[A\n",
      "Epoch: 41 - loss: 0.365, acc: 0.903 28%|██▊       | 16896/60000 [00:00<00:00, 82194.30it/s]"
     ]
    },
    {
     "name": "stdout",
     "output_type": "stream",
     "text": [
      "21504/60000 [=========>....................] - ETA: 0s - loss: 0.3664 - acc: 0.9022"
     ]
    },
    {
     "name": "stderr",
     "output_type": "stream",
     "text": [
      "\u001b[A\n",
      "Epoch: 41 - loss: 0.366, acc: 0.902 42%|████▏     | 25344/60000 [00:00<00:00, 82202.20it/s]"
     ]
    },
    {
     "name": "stdout",
     "output_type": "stream",
     "text": [
      "30208/60000 [==============>...............] - ETA: 0s - loss: 0.3671 - acc: 0.9010"
     ]
    },
    {
     "name": "stderr",
     "output_type": "stream",
     "text": [
      "\u001b[A\n",
      "Epoch: 41 - loss: 0.366, acc: 0.901 57%|█████▋    | 34048/60000 [00:00<00:00, 82578.11it/s]"
     ]
    },
    {
     "name": "stdout",
     "output_type": "stream",
     "text": [
      "39424/60000 [==================>...........] - ETA: 0s - loss: 0.3629 - acc: 0.9021"
     ]
    },
    {
     "name": "stderr",
     "output_type": "stream",
     "text": [
      "\u001b[A\n",
      "Epoch: 41 - loss: 0.365, acc: 0.902 72%|███████▏  | 43264/60000 [00:00<00:00, 84453.59it/s]"
     ]
    },
    {
     "name": "stdout",
     "output_type": "stream",
     "text": [
      "48384/60000 [=======================>......] - ETA: 0s - loss: 0.3652 - acc: 0.9012"
     ]
    },
    {
     "name": "stderr",
     "output_type": "stream",
     "text": [
      "\u001b[A\n",
      "Epoch: 41 - loss: 0.366, acc: 0.901 87%|████████▋ | 51968/60000 [00:00<00:00, 84819.47it/s]"
     ]
    },
    {
     "name": "stdout",
     "output_type": "stream",
     "text": [
      "57344/60000 [===========================>..] - ETA: 0s - loss: 0.3646 - acc: 0.9017"
     ]
    },
    {
     "name": "stderr",
     "output_type": "stream",
     "text": [
      "\u001b[A\n",
      "Epoch: 41 - loss: 0.364, acc: 0.902, val_loss: 0.346, val_acc: 0.909100%|██████████| 60000/60000 [00:00<00:00, 73392.07it/s]\u001b[A\n",
      "Training:  42%|████▏     | 42/100 [00:33<00:44,  1.30it/s]"
     ]
    },
    {
     "name": "stdout",
     "output_type": "stream",
     "text": [
      "Epoch 00041: val_loss improved from 0.34748 to 0.34588, saving model to checkpoints_mnist_log_reg_keras_tensorflow/mnist_log_reg.hdf5\n",
      "\b\b\b\b\b\b\b\b\b\b\b\b\b\b\b\b\b\b\b\b\b\b\b\b\b\b\b\b\b\b\b\b\b\b\b\b\b\b\b\b\b\b\b\b\b\b\b\b\b\b\b\b\b\b\b\b\b\b\b\b\b\b\b\b\b\b\b\b\b\b\b\b\b\b\b\b\b\b\b\b\b\b\b\r",
      "60000/60000 [==============================] - 0s - loss: 0.3643 - acc: 0.9017 - val_loss: 0.3459 - val_acc: 0.9086"
     ]
    },
    {
     "name": "stderr",
     "output_type": "stream",
     "text": [
      "\n",
      "\r",
      "Epoch: 42:   0%|          | 0/60000 [00:00<?, ?it/s]"
     ]
    },
    {
     "name": "stdout",
     "output_type": "stream",
     "text": [
      "\n",
      "Epoch 43/100\n",
      "  256/60000 [..............................] - ETA: 0s - loss: 0.4194 - acc: 0.8867"
     ]
    },
    {
     "name": "stderr",
     "output_type": "stream",
     "text": [
      "\u001b[A"
     ]
    },
    {
     "name": "stdout",
     "output_type": "stream",
     "text": [
      "\b\b\b\b\b\b\b\b\b\b\b\b\b\b\b\b\b\b\b\b\b\b\b\b\b\b\b\b\b\b\b\b\b\b\b\b\b\b\b\b\b\b\b\b\b\b\b\b\b\b\b\b\b\b\b\b\b\b\b\b\b\b\b\b\b\b\b\b\b\b\b\b\b\b\b\b\b\b\b\b\b\b\b\r",
      " 4352/60000 [=>............................] - ETA: 0s - loss: 0.3747 - acc: 0.8998"
     ]
    },
    {
     "name": "stderr",
     "output_type": "stream",
     "text": [
      "\n",
      "\r",
      "Epoch: 42 - loss: 0.369, acc: 0.901 14%|█▎        | 8192/60000 [00:00<00:00, 81650.65it/s]"
     ]
    },
    {
     "name": "stdout",
     "output_type": "stream",
     "text": [
      "13056/60000 [=====>........................] - ETA: 0s - loss: 0.3636 - acc: 0.8995"
     ]
    },
    {
     "name": "stderr",
     "output_type": "stream",
     "text": [
      "\u001b[A\n",
      "Epoch: 42 - loss: 0.363, acc: 0.901 27%|██▋       | 16384/60000 [00:00<00:00, 81253.05it/s]"
     ]
    },
    {
     "name": "stdout",
     "output_type": "stream",
     "text": [
      "21760/60000 [=========>....................] - ETA: 0s - loss: 0.3621 - acc: 0.9016"
     ]
    },
    {
     "name": "stderr",
     "output_type": "stream",
     "text": [
      "\u001b[A\n",
      "Epoch: 42 - loss: 0.364, acc: 0.901 42%|████▏     | 25344/60000 [00:00<00:00, 83204.42it/s]"
     ]
    },
    {
     "name": "stdout",
     "output_type": "stream",
     "text": [
      "30464/60000 [==============>...............] - ETA: 0s - loss: 0.3616 - acc: 0.9010"
     ]
    },
    {
     "name": "stderr",
     "output_type": "stream",
     "text": [
      "\u001b[A\n",
      "Epoch: 42 - loss: 0.362, acc: 0.901 57%|█████▋    | 34048/60000 [00:00<00:00, 83828.68it/s]"
     ]
    },
    {
     "name": "stdout",
     "output_type": "stream",
     "text": [
      "39168/60000 [==================>...........] - ETA: 0s - loss: 0.3649 - acc: 0.9008"
     ]
    },
    {
     "name": "stderr",
     "output_type": "stream",
     "text": [
      "\u001b[A\n",
      "Epoch: 42 - loss: 0.364, acc: 0.901 72%|███████▏  | 43008/60000 [00:00<00:00, 85190.30it/s]"
     ]
    },
    {
     "name": "stdout",
     "output_type": "stream",
     "text": [
      "48640/60000 [=======================>......] - ETA: 0s - loss: 0.3630 - acc: 0.9016"
     ]
    },
    {
     "name": "stderr",
     "output_type": "stream",
     "text": [
      "\u001b[A\n",
      "Epoch: 42 - loss: 0.363, acc: 0.902 87%|████████▋ | 51968/60000 [00:00<00:00, 86234.84it/s]"
     ]
    },
    {
     "name": "stdout",
     "output_type": "stream",
     "text": [
      "57344/60000 [===========================>..] - ETA: 0s - loss: 0.3618 - acc: 0.9025"
     ]
    },
    {
     "name": "stderr",
     "output_type": "stream",
     "text": [
      "\u001b[A\n",
      "Epoch: 42 - loss: 0.363, acc: 0.902, val_loss: 0.344, val_acc: 0.910100%|██████████| 60000/60000 [00:00<00:00, 72858.17it/s]\u001b[A\n",
      "Training:  43%|████▎     | 43/100 [00:33<00:43,  1.30it/s]"
     ]
    },
    {
     "name": "stdout",
     "output_type": "stream",
     "text": [
      "Epoch 00042: val_loss improved from 0.34588 to 0.34424, saving model to checkpoints_mnist_log_reg_keras_tensorflow/mnist_log_reg.hdf5\n",
      "\b\b\b\b\b\b\b\b\b\b\b\b\b\b\b\b\b\b\b\b\b\b\b\b\b\b\b\b\b\b\b\b\b\b\b\b\b\b\b\b\b\b\b\b\b\b\b\b\b\b\b\b\b\b\b\b\b\b\b\b\b\b\b\b\b\b\b\b\b\b\b\b\b\b\b\b\b\b\b\b\b\b\b\r",
      "60000/60000 [==============================] - 0s - loss: 0.3626 - acc: 0.9019 - val_loss: 0.3442 - val_acc: 0.9103"
     ]
    },
    {
     "name": "stderr",
     "output_type": "stream",
     "text": [
      "\n",
      "\r",
      "Epoch: 43:   0%|          | 0/60000 [00:00<?, ?it/s]"
     ]
    },
    {
     "name": "stdout",
     "output_type": "stream",
     "text": [
      "\n",
      "Epoch 44/100\n",
      "  256/60000 [..............................] - ETA: 0s - loss: 0.3507 - acc: 0.9297"
     ]
    },
    {
     "name": "stderr",
     "output_type": "stream",
     "text": [
      "\u001b[A"
     ]
    },
    {
     "name": "stdout",
     "output_type": "stream",
     "text": [
      "\b\b\b\b\b\b\b\b\b\b\b\b\b\b\b\b\b\b\b\b\b\b\b\b\b\b\b\b\b\b\b\b\b\b\b\b\b\b\b\b\b\b\b\b\b\b\b\b\b\b\b\b\b\b\b\b\b\b\b\b\b\b\b\b\b\b\b\b\b\b\b\b\b\b\b\b\b\b\b\b\b\b\b\r",
      " 4864/60000 [=>............................] - ETA: 0s - loss: 0.3672 - acc: 0.9009"
     ]
    },
    {
     "name": "stderr",
     "output_type": "stream",
     "text": [
      "\n",
      "\r",
      "Epoch: 43 - loss: 0.364, acc: 0.900 15%|█▍        | 8960/60000 [00:00<00:00, 89009.70it/s]"
     ]
    },
    {
     "name": "stdout",
     "output_type": "stream",
     "text": [
      "13568/60000 [=====>........................] - ETA: 0s - loss: 0.3674 - acc: 0.9004"
     ]
    },
    {
     "name": "stderr",
     "output_type": "stream",
     "text": [
      "\u001b[A\n",
      "Epoch: 43 - loss: 0.363, acc: 0.901 29%|██▉       | 17408/60000 [00:00<00:00, 87064.34it/s]"
     ]
    },
    {
     "name": "stdout",
     "output_type": "stream",
     "text": [
      "22272/60000 [==========>...................] - ETA: 0s - loss: 0.3651 - acc: 0.9012"
     ]
    },
    {
     "name": "stderr",
     "output_type": "stream",
     "text": [
      "\u001b[A\n",
      "Epoch: 43 - loss: 0.362, acc: 0.902 44%|████▎     | 26112/60000 [00:00<00:00, 86754.62it/s]"
     ]
    },
    {
     "name": "stdout",
     "output_type": "stream",
     "text": [
      "31232/60000 [==============>...............] - ETA: 0s - loss: 0.3600 - acc: 0.9037"
     ]
    },
    {
     "name": "stderr",
     "output_type": "stream",
     "text": [
      "\u001b[A\n",
      "Epoch: 43 - loss: 0.360, acc: 0.903 59%|█████▉    | 35328/60000 [00:00<00:00, 88012.50it/s]"
     ]
    },
    {
     "name": "stdout",
     "output_type": "stream",
     "text": [
      "40192/60000 [===================>..........] - ETA: 0s - loss: 0.3579 - acc: 0.9036"
     ]
    },
    {
     "name": "stderr",
     "output_type": "stream",
     "text": [
      "\u001b[A\n",
      "Epoch: 43 - loss: 0.357, acc: 0.904 73%|███████▎  | 43776/60000 [00:00<00:00, 86730.02it/s]"
     ]
    },
    {
     "name": "stdout",
     "output_type": "stream",
     "text": [
      "49408/60000 [=======================>......] - ETA: 0s - loss: 0.3582 - acc: 0.9034"
     ]
    },
    {
     "name": "stderr",
     "output_type": "stream",
     "text": [
      "\u001b[A\n",
      "Epoch: 43 - loss: 0.361, acc: 0.903 89%|████████▊ | 53248/60000 [00:00<00:00, 88321.37it/s]"
     ]
    },
    {
     "name": "stdout",
     "output_type": "stream",
     "text": [
      "58112/60000 [============================>.] - ETA: 0s - loss: 0.3609 - acc: 0.9025"
     ]
    },
    {
     "name": "stderr",
     "output_type": "stream",
     "text": [
      "\u001b[A\n",
      "Epoch: 43 - loss: 0.361, acc: 0.902, val_loss: 0.343, val_acc: 0.910100%|██████████| 60000/60000 [00:00<00:00, 69903.66it/s]\u001b[A\n",
      "Training:  44%|████▍     | 44/100 [00:34<00:42,  1.31it/s]"
     ]
    },
    {
     "name": "stdout",
     "output_type": "stream",
     "text": [
      "Epoch 00043: val_loss improved from 0.34424 to 0.34286, saving model to checkpoints_mnist_log_reg_keras_tensorflow/mnist_log_reg.hdf5\n",
      "\b\b\b\b\b\b\b\b\b\b\b\b\b\b\b\b\b\b\b\b\b\b\b\b\b\b\b\b\b\b\b\b\b\b\b\b\b\b\b\b\b\b\b\b\b\b\b\b\b\b\b\b\b\b\b\b\b\b\b\b\b\b\b\b\b\b\b\b\b\b\b\b\b\b\b\b\b\b\b\b\b\b\b\r",
      "60000/60000 [==============================] - 0s - loss: 0.3610 - acc: 0.9025 - val_loss: 0.3429 - val_acc: 0.9099"
     ]
    },
    {
     "name": "stderr",
     "output_type": "stream",
     "text": [
      "\n",
      "\r",
      "Epoch: 44:   0%|          | 0/60000 [00:00<?, ?it/s]"
     ]
    },
    {
     "name": "stdout",
     "output_type": "stream",
     "text": [
      "\n",
      "Epoch 45/100\n",
      "  256/60000 [..............................] - ETA: 1s - loss: 0.3246 - acc: 0.9297"
     ]
    },
    {
     "name": "stderr",
     "output_type": "stream",
     "text": [
      "\u001b[A"
     ]
    },
    {
     "name": "stdout",
     "output_type": "stream",
     "text": [
      "\b\b\b\b\b\b\b\b\b\b\b\b\b\b\b\b\b\b\b\b\b\b\b\b\b\b\b\b\b\b\b\b\b\b\b\b\b\b\b\b\b\b\b\b\b\b\b\b\b\b\b\b\b\b\b\b\b\b\b\b\b\b\b\b\b\b\b\b\b\b\b\b\b\b\b\b\b\b\b\b\b\b\b\r",
      " 4096/60000 [=>............................] - ETA: 0s - loss: 0.3393 - acc: 0.9084"
     ]
    },
    {
     "name": "stderr",
     "output_type": "stream",
     "text": [
      "\n",
      "\r",
      "Epoch: 44 - loss: 0.338, acc: 0.909 14%|█▎        | 8192/60000 [00:00<00:00, 81036.16it/s]"
     ]
    },
    {
     "name": "stdout",
     "output_type": "stream",
     "text": [
      "13312/60000 [=====>........................] - ETA: 0s - loss: 0.3544 - acc: 0.9044"
     ]
    },
    {
     "name": "stderr",
     "output_type": "stream",
     "text": [
      "\u001b[A\n",
      "Epoch: 44 - loss: 0.352, acc: 0.906 29%|██▉       | 17408/60000 [00:00<00:00, 83363.10it/s]"
     ]
    },
    {
     "name": "stdout",
     "output_type": "stream",
     "text": [
      "22528/60000 [==========>...................] - ETA: 0s - loss: 0.3553 - acc: 0.9039"
     ]
    },
    {
     "name": "stderr",
     "output_type": "stream",
     "text": [
      "\u001b[A\n",
      "Epoch: 44 - loss: 0.356, acc: 0.903 44%|████▍     | 26368/60000 [00:00<00:00, 84697.77it/s]"
     ]
    },
    {
     "name": "stdout",
     "output_type": "stream",
     "text": [
      "31232/60000 [==============>...............] - ETA: 0s - loss: 0.3551 - acc: 0.9040"
     ]
    },
    {
     "name": "stderr",
     "output_type": "stream",
     "text": [
      "\u001b[A\n",
      "Epoch: 44 - loss: 0.356, acc: 0.904 58%|█████▊    | 34816/60000 [00:00<00:00, 84290.01it/s]"
     ]
    },
    {
     "name": "stdout",
     "output_type": "stream",
     "text": [
      "39680/60000 [==================>...........] - ETA: 0s - loss: 0.3571 - acc: 0.9029"
     ]
    },
    {
     "name": "stderr",
     "output_type": "stream",
     "text": [
      "\u001b[A\n",
      "Epoch: 44 - loss: 0.358, acc: 0.903 72%|███████▏  | 43264/60000 [00:00<00:00, 83934.49it/s]"
     ]
    },
    {
     "name": "stdout",
     "output_type": "stream",
     "text": [
      "48384/60000 [=======================>......] - ETA: 0s - loss: 0.3598 - acc: 0.9022"
     ]
    },
    {
     "name": "stderr",
     "output_type": "stream",
     "text": [
      "\u001b[A\n",
      "Epoch: 44 - loss: 0.360, acc: 0.902 87%|████████▋ | 51968/60000 [00:00<00:00, 84616.05it/s]"
     ]
    },
    {
     "name": "stdout",
     "output_type": "stream",
     "text": [
      "57856/60000 [===========================>..] - ETA: 0s - loss: 0.3590 - acc: 0.9030"
     ]
    },
    {
     "name": "stderr",
     "output_type": "stream",
     "text": [
      "\u001b[A\n",
      "Epoch: 44 - loss: 0.359, acc: 0.903, val_loss: 0.341, val_acc: 0.910100%|██████████| 60000/60000 [00:00<00:00, 72584.01it/s]\u001b[A\n",
      "Training:  45%|████▌     | 45/100 [00:35<00:42,  1.30it/s]"
     ]
    },
    {
     "name": "stdout",
     "output_type": "stream",
     "text": [
      "Epoch 00044: val_loss improved from 0.34286 to 0.34148, saving model to checkpoints_mnist_log_reg_keras_tensorflow/mnist_log_reg.hdf5\n",
      "\b\b\b\b\b\b\b\b\b\b\b\b\b\b\b\b\b\b\b\b\b\b\b\b\b\b\b\b\b\b\b\b\b\b\b\b\b\b\b\b\b\b\b\b\b\b\b\b\b\b\b\b\b\b\b\b\b\b\b\b\b\b\b\b\b\b\b\b\b\b\b\b\b\b\b\b\b\b\b\b\b\b\b\r",
      "60000/60000 [==============================] - 0s - loss: 0.3594 - acc: 0.9029 - val_loss: 0.3415 - val_acc: 0.9100"
     ]
    },
    {
     "name": "stderr",
     "output_type": "stream",
     "text": [
      "\n",
      "\r",
      "Epoch: 45:   0%|          | 0/60000 [00:00<?, ?it/s]"
     ]
    },
    {
     "name": "stdout",
     "output_type": "stream",
     "text": [
      "\n",
      "Epoch 46/100\n",
      "  256/60000 [..............................] - ETA: 1s - loss: 0.3819 - acc: 0.8945"
     ]
    },
    {
     "name": "stderr",
     "output_type": "stream",
     "text": [
      "\u001b[A"
     ]
    },
    {
     "name": "stdout",
     "output_type": "stream",
     "text": [
      "\b\b\b\b\b\b\b\b\b\b\b\b\b\b\b\b\b\b\b\b\b\b\b\b\b\b\b\b\b\b\b\b\b\b\b\b\b\b\b\b\b\b\b\b\b\b\b\b\b\b\b\b\b\b\b\b\b\b\b\b\b\b\b\b\b\b\b\b\b\b\b\b\b\b\b\b\b\b\b\b\b\b\b\r",
      " 5120/60000 [=>............................] - ETA: 0s - loss: 0.3638 - acc: 0.8994"
     ]
    },
    {
     "name": "stderr",
     "output_type": "stream",
     "text": [
      "\n",
      "\r",
      "Epoch: 45 - loss: 0.354, acc: 0.900 15%|█▍        | 8704/60000 [00:00<00:00, 85929.88it/s]"
     ]
    },
    {
     "name": "stdout",
     "output_type": "stream",
     "text": [
      "13824/60000 [=====>........................] - ETA: 0s - loss: 0.3534 - acc: 0.9009"
     ]
    },
    {
     "name": "stderr",
     "output_type": "stream",
     "text": [
      "\u001b[A\n",
      "Epoch: 45 - loss: 0.351, acc: 0.903 29%|██▉       | 17408/60000 [00:00<00:00, 85739.04it/s]"
     ]
    },
    {
     "name": "stdout",
     "output_type": "stream",
     "text": [
      "22272/60000 [==========>...................] - ETA: 0s - loss: 0.3538 - acc: 0.9027"
     ]
    },
    {
     "name": "stderr",
     "output_type": "stream",
     "text": [
      "\u001b[A\n",
      "Epoch: 45 - loss: 0.356, acc: 0.903 43%|████▎     | 25856/60000 [00:00<00:00, 84725.97it/s]"
     ]
    },
    {
     "name": "stdout",
     "output_type": "stream",
     "text": [
      "31232/60000 [==============>...............] - ETA: 0s - loss: 0.3559 - acc: 0.9033"
     ]
    },
    {
     "name": "stderr",
     "output_type": "stream",
     "text": [
      "\u001b[A\n",
      "Epoch: 45 - loss: 0.358, acc: 0.903 58%|█████▊    | 34560/60000 [00:00<00:00, 84965.72it/s]"
     ]
    },
    {
     "name": "stdout",
     "output_type": "stream",
     "text": [
      "39680/60000 [==================>...........] - ETA: 0s - loss: 0.3598 - acc: 0.9026"
     ]
    },
    {
     "name": "stderr",
     "output_type": "stream",
     "text": [
      "\u001b[A\n",
      "Epoch: 45 - loss: 0.361, acc: 0.903 71%|███████   | 42496/60000 [00:00<00:00, 82852.37it/s]"
     ]
    },
    {
     "name": "stdout",
     "output_type": "stream",
     "text": [
      "48128/60000 [=======================>......] - ETA: 0s - loss: 0.3595 - acc: 0.9027"
     ]
    },
    {
     "name": "stderr",
     "output_type": "stream",
     "text": [
      "\u001b[A\n",
      "Epoch: 45 - loss: 0.359, acc: 0.903 86%|████████▌ | 51456/60000 [00:00<00:00, 84223.57it/s]"
     ]
    },
    {
     "name": "stdout",
     "output_type": "stream",
     "text": [
      "57088/60000 [===========================>..] - ETA: 0s - loss: 0.3580 - acc: 0.9031"
     ]
    },
    {
     "name": "stderr",
     "output_type": "stream",
     "text": [
      "\u001b[A\n",
      "Epoch: 45 - loss: 0.358, acc: 0.903, val_loss: 0.340, val_acc: 0.910100%|██████████| 60000/60000 [00:00<00:00, 73047.11it/s]\u001b[A\n",
      "Training:  46%|████▌     | 46/100 [00:36<00:41,  1.30it/s]"
     ]
    },
    {
     "name": "stdout",
     "output_type": "stream",
     "text": [
      "Epoch 00045: val_loss improved from 0.34148 to 0.34003, saving model to checkpoints_mnist_log_reg_keras_tensorflow/mnist_log_reg.hdf5\n",
      "\b\b\b\b\b\b\b\b\b\b\b\b\b\b\b\b\b\b\b\b\b\b\b\b\b\b\b\b\b\b\b\b\b\b\b\b\b\b\b\b\b\b\b\b\b\b\b\b\b\b\b\b\b\b\b\b\b\b\b\b\b\b\b\b\b\b\b\b\b\b\b\b\b\b\b\b\b\b\b\b\b\b\b\r",
      "60000/60000 [==============================] - 0s - loss: 0.3579 - acc: 0.9032 - val_loss: 0.3400 - val_acc: 0.9104"
     ]
    },
    {
     "name": "stderr",
     "output_type": "stream",
     "text": [
      "\n",
      "\r",
      "Epoch: 46:   0%|          | 0/60000 [00:00<?, ?it/s]"
     ]
    },
    {
     "name": "stdout",
     "output_type": "stream",
     "text": [
      "\n",
      "Epoch 47/100\n",
      "\r",
      "  256/60000 [..............................] - ETA: 1s - loss: 0.3172 - acc: 0.9219"
     ]
    },
    {
     "name": "stderr",
     "output_type": "stream",
     "text": [
      "\u001b[A"
     ]
    },
    {
     "name": "stdout",
     "output_type": "stream",
     "text": [
      "\b\b\b\b\b\b\b\b\b\b\b\b\b\b\b\b\b\b\b\b\b\b\b\b\b\b\b\b\b\b\b\b\b\b\b\b\b\b\b\b\b\b\b\b\b\b\b\b\b\b\b\b\b\b\b\b\b\b\b\b\b\b\b\b\b\b\b\b\b\b\b\b\b\b\b\b\b\b\b\b\b\b\b\r",
      " 4096/60000 [=>............................] - ETA: 0s - loss: 0.3486 - acc: 0.9067"
     ]
    },
    {
     "name": "stderr",
     "output_type": "stream",
     "text": [
      "\n",
      "\r",
      "Epoch: 46 - loss: 0.360, acc: 0.903 13%|█▎        | 7936/60000 [00:00<00:00, 78381.22it/s]"
     ]
    },
    {
     "name": "stdout",
     "output_type": "stream",
     "text": [
      "13312/60000 [=====>........................] - ETA: 0s - loss: 0.3556 - acc: 0.9047"
     ]
    },
    {
     "name": "stderr",
     "output_type": "stream",
     "text": [
      "\u001b[A\n",
      "Epoch: 46 - loss: 0.354, acc: 0.905 29%|██▉       | 17408/60000 [00:00<00:00, 82351.80it/s]"
     ]
    },
    {
     "name": "stdout",
     "output_type": "stream",
     "text": [
      "22528/60000 [==========>...................] - ETA: 0s - loss: 0.3560 - acc: 0.9037"
     ]
    },
    {
     "name": "stderr",
     "output_type": "stream",
     "text": [
      "\u001b[A\n",
      "Epoch: 46 - loss: 0.355, acc: 0.905 44%|████▍     | 26368/60000 [00:00<00:00, 83904.37it/s]"
     ]
    },
    {
     "name": "stdout",
     "output_type": "stream",
     "text": [
      "31744/60000 [==============>...............] - ETA: 0s - loss: 0.3575 - acc: 0.9045"
     ]
    },
    {
     "name": "stderr",
     "output_type": "stream",
     "text": [
      "\u001b[A\n",
      "Epoch: 46 - loss: 0.356, acc: 0.904 59%|█████▉    | 35328/60000 [00:00<00:00, 85139.56it/s]"
     ]
    },
    {
     "name": "stdout",
     "output_type": "stream",
     "text": [
      "40704/60000 [===================>..........] - ETA: 0s - loss: 0.3553 - acc: 0.9043"
     ]
    },
    {
     "name": "stderr",
     "output_type": "stream",
     "text": [
      "\u001b[A\n",
      "Epoch: 46 - loss: 0.355, acc: 0.905 72%|███████▏  | 43008/60000 [00:00<00:00, 82024.60it/s]"
     ]
    },
    {
     "name": "stdout",
     "output_type": "stream",
     "text": [
      "48384/60000 [=======================>......] - ETA: 0s - loss: 0.3552 - acc: 0.9043"
     ]
    },
    {
     "name": "stderr",
     "output_type": "stream",
     "text": [
      "\u001b[A\n",
      "Epoch: 46 - loss: 0.356, acc: 0.904 85%|████████▌ | 51200/60000 [00:00<00:00, 81491.96it/s]"
     ]
    },
    {
     "name": "stdout",
     "output_type": "stream",
     "text": [
      "56320/60000 [===========================>..] - ETA: 0s - loss: 0.3557 - acc: 0.9039"
     ]
    },
    {
     "name": "stderr",
     "output_type": "stream",
     "text": [
      "\u001b[A\n",
      "Epoch: 46 - loss: 0.356, acc: 0.904 98%|█████████▊| 58880/60000 [00:00<00:00, 80022.42it/s]\u001b[A\n",
      "Epoch: 46 - loss: 0.356, acc: 0.903, val_loss: 0.339, val_acc: 0.911100%|██████████| 60000/60000 [00:00<00:00, 35927.83it/s]\u001b[A\n",
      "Training:  47%|████▋     | 47/100 [00:36<00:41,  1.29it/s]"
     ]
    },
    {
     "name": "stdout",
     "output_type": "stream",
     "text": [
      "Epoch 00046: val_loss improved from 0.34003 to 0.33884, saving model to checkpoints_mnist_log_reg_keras_tensorflow/mnist_log_reg.hdf5\n",
      "\b\b\b\b\b\b\b\b\b\b\b\b\b\b\b\b\b\b\b\b\b\b\b\b\b\b\b\b\b\b\b\b\b\b\b\b\b\b\b\b\b\b\b\b\b\b\b\b\b\b\b\b\b\b\b\b\b\b\b\b\b\b\b\b\b\b\b\b\b\b\b\b\b\b\b\b\b\b\b\b\b\b\b\r",
      "60000/60000 [==============================] - 0s - loss: 0.3565 - acc: 0.9035 - val_loss: 0.3388 - val_acc: 0.9107"
     ]
    },
    {
     "name": "stderr",
     "output_type": "stream",
     "text": [
      "\n",
      "\r",
      "Epoch: 47:   0%|          | 0/60000 [00:00<?, ?it/s]"
     ]
    },
    {
     "name": "stdout",
     "output_type": "stream",
     "text": [
      "\n",
      "Epoch 48/100\n",
      "\r",
      "  256/60000 [..............................] - ETA: 0s - loss: 0.3991 - acc: 0.8672"
     ]
    },
    {
     "name": "stderr",
     "output_type": "stream",
     "text": [
      "\u001b[A"
     ]
    },
    {
     "name": "stdout",
     "output_type": "stream",
     "text": [
      "\b\b\b\b\b\b\b\b\b\b\b\b\b\b\b\b\b\b\b\b\b\b\b\b\b\b\b\b\b\b\b\b\b\b\b\b\b\b\b\b\b\b\b\b\b\b\b\b\b\b\b\b\b\b\b\b\b\b\b\b\b\b\b\b\b\b\b\b\b\b\b\b\b\b\b\b\b\b\b\b\b\b\b\r",
      " 4608/60000 [=>............................] - ETA: 0s - loss: 0.3530 - acc: 0.9047"
     ]
    },
    {
     "name": "stderr",
     "output_type": "stream",
     "text": [
      "\n",
      "\r",
      "Epoch: 47 - loss: 0.347, acc: 0.907 13%|█▎        | 7936/60000 [00:00<00:00, 78453.09it/s]"
     ]
    },
    {
     "name": "stdout",
     "output_type": "stream",
     "text": [
      "\b\b\b\b\b\b\b\b\b\b\b\b\b\b\b\b\b\b\b\b\b\b\b\b\b\b\b\b\b\b\b\b\b\b\b\b\b\b\b\b\b\b\b\b\b\b\b\b\b\b\b\b\b\b\b\b\b\b\b\b\b\b\b\b\b\b\b\b\b\b\b\b\b\b\b\b\b\b\b\b\b\b\b\r",
      " 8448/60000 [===>..........................] - ETA: 0s - loss: 0.3474 - acc: 0.9057"
     ]
    },
    {
     "name": "stderr",
     "output_type": "stream",
     "text": [
      "\u001b[A"
     ]
    },
    {
     "name": "stdout",
     "output_type": "stream",
     "text": [
      "\b\b\b\b\b\b\b\b\b\b\b\b\b\b\b\b\b\b\b\b\b\b\b\b\b\b\b\b\b\b\b\b\b\b\b\b\b\b\b\b\b\b\b\b\b\b\b\b\b\b\b\b\b\b\b\b\b\b\b\b\b\b\b\b\b\b\b\b\b\b\b\b\b\b\b\b\b\b\b\b\b\b\b\r",
      "12800/60000 [=====>........................] - ETA: 0s - loss: 0.3470 - acc: 0.9058"
     ]
    },
    {
     "name": "stderr",
     "output_type": "stream",
     "text": [
      "\n",
      "\r",
      "Epoch: 47 - loss: 0.350, acc: 0.905 28%|██▊       | 16640/60000 [00:00<00:00, 79808.34it/s]"
     ]
    },
    {
     "name": "stdout",
     "output_type": "stream",
     "text": [
      "20992/60000 [=========>....................] - ETA: 0s - loss: 0.3525 - acc: 0.9042"
     ]
    },
    {
     "name": "stderr",
     "output_type": "stream",
     "text": [
      "\u001b[A\n",
      "Epoch: 47 - loss: 0.352, acc: 0.904 41%|████▏     | 24832/60000 [00:00<00:00, 80259.68it/s]"
     ]
    },
    {
     "name": "stdout",
     "output_type": "stream",
     "text": [
      "29440/60000 [=============>................] - ETA: 0s - loss: 0.3548 - acc: 0.9031"
     ]
    },
    {
     "name": "stderr",
     "output_type": "stream",
     "text": [
      "\u001b[A\n",
      "Epoch: 47 - loss: 0.355, acc: 0.904 55%|█████▌    | 33280/60000 [00:00<00:00, 81472.98it/s]"
     ]
    },
    {
     "name": "stdout",
     "output_type": "stream",
     "text": [
      "37888/60000 [=================>............] - ETA: 0s - loss: 0.3546 - acc: 0.9032"
     ]
    },
    {
     "name": "stderr",
     "output_type": "stream",
     "text": [
      "\u001b[A\n",
      "Epoch: 47 - loss: 0.355, acc: 0.903 69%|██████▊   | 41216/60000 [00:00<00:00, 80723.30it/s]\u001b[A"
     ]
    },
    {
     "name": "stdout",
     "output_type": "stream",
     "text": [
      "46336/60000 [======================>.......] - ETA: 0s - loss: 0.3555 - acc: 0.9029"
     ]
    },
    {
     "name": "stderr",
     "output_type": "stream",
     "text": [
      "\n",
      "\r",
      "Epoch: 47 - loss: 0.354, acc: 0.904 84%|████████▎ | 50176/60000 [00:00<00:00, 82317.35it/s]"
     ]
    },
    {
     "name": "stdout",
     "output_type": "stream",
     "text": [
      "54784/60000 [==========================>...] - ETA: 0s - loss: 0.3536 - acc: 0.9042"
     ]
    },
    {
     "name": "stderr",
     "output_type": "stream",
     "text": [
      "\u001b[A\n",
      "Epoch: 47 - loss: 0.354, acc: 0.904 97%|█████████▋| 58368/60000 [00:00<00:00, 82078.12it/s]"
     ]
    },
    {
     "name": "stdout",
     "output_type": "stream",
     "text": [
      "\b\b\b\b\b\b\b\b\b\b\b\b\b\b\b\b\b\b\b\b\b\b\b\b\b\b\b\b\b\b\b\b\b\b\b\b\b\b\b\b\b\b\b\b\b\b\b\b\b\b\b\b\b\b\b\b\b\b\b\b\b\b\b\b\b\b\b\b\b\b\b\b\b\b\b\b\b\b\b\b\b\b\b\r",
      "58880/60000 [============================>.] - ETA: 0s - loss: 0.3548 - acc: 0.9037"
     ]
    },
    {
     "name": "stderr",
     "output_type": "stream",
     "text": [
      "\u001b[A\n",
      "Epoch: 47 - loss: 0.355, acc: 0.904, val_loss: 0.338, val_acc: 0.911100%|██████████| 60000/60000 [00:00<00:00, 42633.40it/s]\u001b[A\n",
      "Training:  48%|████▊     | 48/100 [00:37<00:40,  1.28it/s]"
     ]
    },
    {
     "name": "stdout",
     "output_type": "stream",
     "text": [
      "Epoch 00047: val_loss improved from 0.33884 to 0.33760, saving model to checkpoints_mnist_log_reg_keras_tensorflow/mnist_log_reg.hdf5\n",
      "\b\b\b\b\b\b\b\b\b\b\b\b\b\b\b\b\b\b\b\b\b\b\b\b\b\b\b\b\b\b\b\b\b\b\b\b\b\b\b\b\b\b\b\b\b\b\b\b\b\b\b\b\b\b\b\b\b\b\b\b\b\b\b\b\b\b\b\b\b\b\b\b\b\b\b\b\b\b\b\b\b\b\b\r",
      "60000/60000 [==============================] - 0s - loss: 0.3550 - acc: 0.9037 - val_loss: 0.3376 - val_acc: 0.9107"
     ]
    },
    {
     "name": "stderr",
     "output_type": "stream",
     "text": [
      "\n",
      "\r",
      "Epoch: 48:   0%|          | 0/60000 [00:00<?, ?it/s]"
     ]
    },
    {
     "name": "stdout",
     "output_type": "stream",
     "text": [
      "\n",
      "Epoch 49/100\n",
      "\r",
      "  256/60000 [..............................] - ETA: 1s - loss: 0.3358 - acc: 0.9180"
     ]
    },
    {
     "name": "stderr",
     "output_type": "stream",
     "text": [
      "\u001b[A"
     ]
    },
    {
     "name": "stdout",
     "output_type": "stream",
     "text": [
      "\b\b\b\b\b\b\b\b\b\b\b\b\b\b\b\b\b\b\b\b\b\b\b\b\b\b\b\b\b\b\b\b\b\b\b\b\b\b\b\b\b\b\b\b\b\b\b\b\b\b\b\b\b\b\b\b\b\b\b\b\b\b\b\b\b\b\b\b\b\b\b\b\b\b\b\b\b\b\b\b\b\b\b\r",
      " 4096/60000 [=>............................] - ETA: 0s - loss: 0.3364 - acc: 0.9062"
     ]
    },
    {
     "name": "stderr",
     "output_type": "stream",
     "text": [
      "\n",
      "Epoch: 48 - loss: 0.336, acc: 0.905 12%|█▏        | 6912/60000 [00:00<00:00, 67903.59it/s]\u001b[A"
     ]
    },
    {
     "name": "stdout",
     "output_type": "stream",
     "text": [
      "12288/60000 [=====>........................] - ETA: 0s - loss: 0.3496 - acc: 0.9001"
     ]
    },
    {
     "name": "stderr",
     "output_type": "stream",
     "text": [
      "\n",
      "\r",
      "Epoch: 48 - loss: 0.353, acc: 0.900 26%|██▋       | 15872/60000 [00:00<00:00, 72806.44it/s]"
     ]
    },
    {
     "name": "stdout",
     "output_type": "stream",
     "text": [
      "20480/60000 [=========>....................] - ETA: 0s - loss: 0.3526 - acc: 0.9008"
     ]
    },
    {
     "name": "stderr",
     "output_type": "stream",
     "text": [
      "\u001b[A\n",
      "Epoch: 48 - loss: 0.351, acc: 0.902 40%|████      | 24064/60000 [00:00<00:00, 74662.27it/s]"
     ]
    },
    {
     "name": "stdout",
     "output_type": "stream",
     "text": [
      "28416/60000 [=============>................] - ETA: 0s - loss: 0.3510 - acc: 0.9026"
     ]
    },
    {
     "name": "stderr",
     "output_type": "stream",
     "text": [
      "\u001b[A\n",
      "Epoch: 48 - loss: 0.351, acc: 0.902 53%|█████▎    | 32000/60000 [00:00<00:00, 75952.11it/s]"
     ]
    },
    {
     "name": "stdout",
     "output_type": "stream",
     "text": [
      "37376/60000 [=================>............] - ETA: 0s - loss: 0.3528 - acc: 0.9033"
     ]
    },
    {
     "name": "stderr",
     "output_type": "stream",
     "text": [
      "\u001b[A\n",
      "Epoch: 48 - loss: 0.354, acc: 0.903 68%|██████▊   | 40960/60000 [00:00<00:00, 79097.70it/s]"
     ]
    },
    {
     "name": "stdout",
     "output_type": "stream",
     "text": [
      "46592/60000 [======================>.......] - ETA: 0s - loss: 0.3545 - acc: 0.9036"
     ]
    },
    {
     "name": "stderr",
     "output_type": "stream",
     "text": [
      "\u001b[A\n",
      "Epoch: 48 - loss: 0.354, acc: 0.904 84%|████████▎ | 50176/60000 [00:00<00:00, 82130.39it/s]"
     ]
    },
    {
     "name": "stdout",
     "output_type": "stream",
     "text": [
      "55296/60000 [==========================>...] - ETA: 0s - loss: 0.3532 - acc: 0.9038"
     ]
    },
    {
     "name": "stderr",
     "output_type": "stream",
     "text": [
      "\u001b[A\n",
      "Epoch: 48 - loss: 0.353, acc: 0.904 97%|█████████▋| 58368/60000 [00:00<00:00, 82051.95it/s]"
     ]
    },
    {
     "name": "stdout",
     "output_type": "stream",
     "text": [
      "\b\b\b\b\b\b\b\b\b\b\b\b\b\b\b\b\b\b\b\b\b\b\b\b\b\b\b\b\b\b\b\b\b\b\b\b\b\b\b\b\b\b\b\b\b\b\b\b\b\b\b\b\b\b\b\b\b\b\b\b\b\b\b\b\b\b\b\b\b\b\b\b\b\b\b\b\b\b\b\b\b\b\b\r",
      "59392/60000 [============================>.] - ETA: 0s - loss: 0.3535 - acc: 0.9041"
     ]
    },
    {
     "name": "stderr",
     "output_type": "stream",
     "text": [
      "\u001b[A\n",
      "Epoch: 48 - loss: 0.354, acc: 0.904, val_loss: 0.336, val_acc: 0.911100%|██████████| 60000/60000 [00:00<00:00, 42242.23it/s]\u001b[A\n",
      "Training:  49%|████▉     | 49/100 [00:38<00:40,  1.27it/s]"
     ]
    },
    {
     "name": "stdout",
     "output_type": "stream",
     "text": [
      "Epoch 00048: val_loss improved from 0.33760 to 0.33637, saving model to checkpoints_mnist_log_reg_keras_tensorflow/mnist_log_reg.hdf5\n",
      "\b\b\b\b\b\b\b\b\b\b\b\b\b\b\b\b\b\b\b\b\b\b\b\b\b\b\b\b\b\b\b\b\b\b\b\b\b\b\b\b\b\b\b\b\b\b\b\b\b\b\b\b\b\b\b\b\b\b\b\b\b\b\b\b\b\b\b\b\b\b\b\b\b\b\b\b\b\b\b\b\b\b\b\r",
      "60000/60000 [==============================] - 0s - loss: 0.3537 - acc: 0.9041 - val_loss: 0.3364 - val_acc: 0.9110"
     ]
    },
    {
     "name": "stderr",
     "output_type": "stream",
     "text": [
      "\n",
      "\r",
      "Epoch: 49:   0%|          | 0/60000 [00:00<?, ?it/s]"
     ]
    },
    {
     "name": "stdout",
     "output_type": "stream",
     "text": [
      "\n",
      "Epoch 50/100\n",
      "\r",
      "  256/60000 [..............................] - ETA: 1s - loss: 0.4226 - acc: 0.8867"
     ]
    },
    {
     "name": "stderr",
     "output_type": "stream",
     "text": [
      "\u001b[A"
     ]
    },
    {
     "name": "stdout",
     "output_type": "stream",
     "text": [
      "\b\b\b\b\b\b\b\b\b\b\b\b\b\b\b\b\b\b\b\b\b\b\b\b\b\b\b\b\b\b\b\b\b\b\b\b\b\b\b\b\b\b\b\b\b\b\b\b\b\b\b\b\b\b\b\b\b\b\b\b\b\b\b\b\b\b\b\b\b\b\b\b\b\b\b\b\b\b\b\b\b\b\b\r",
      " 4864/60000 [=>............................] - ETA: 0s - loss: 0.3651 - acc: 0.9025"
     ]
    },
    {
     "name": "stderr",
     "output_type": "stream",
     "text": [
      "\n",
      "Epoch: 49 - loss: 0.361, acc: 0.903 14%|█▎        | 8192/60000 [00:00<00:00, 80632.62it/s]\u001b[A"
     ]
    },
    {
     "name": "stdout",
     "output_type": "stream",
     "text": [
      "13056/60000 [=====>........................] - ETA: 0s - loss: 0.3486 - acc: 0.9058"
     ]
    },
    {
     "name": "stderr",
     "output_type": "stream",
     "text": [
      "\n",
      "\r",
      "Epoch: 49 - loss: 0.348, acc: 0.907 28%|██▊       | 16640/60000 [00:00<00:00, 81287.81it/s]"
     ]
    },
    {
     "name": "stdout",
     "output_type": "stream",
     "text": [
      "21504/60000 [=========>....................] - ETA: 0s - loss: 0.3487 - acc: 0.9050"
     ]
    },
    {
     "name": "stderr",
     "output_type": "stream",
     "text": [
      "\u001b[A\n",
      "Epoch: 49 - loss: 0.349, acc: 0.905 42%|████▏     | 25088/60000 [00:00<00:00, 81890.55it/s]"
     ]
    },
    {
     "name": "stdout",
     "output_type": "stream",
     "text": [
      "30208/60000 [==============>...............] - ETA: 0s - loss: 0.3516 - acc: 0.9047"
     ]
    },
    {
     "name": "stderr",
     "output_type": "stream",
     "text": [
      "\u001b[A\n",
      "Epoch: 49 - loss: 0.351, acc: 0.905 56%|█████▋    | 33792/60000 [00:00<00:00, 82814.43it/s]"
     ]
    },
    {
     "name": "stdout",
     "output_type": "stream",
     "text": [
      "38912/60000 [==================>...........] - ETA: 0s - loss: 0.3521 - acc: 0.9043"
     ]
    },
    {
     "name": "stderr",
     "output_type": "stream",
     "text": [
      "\u001b[A\n",
      "Epoch: 49 - loss: 0.354, acc: 0.904 70%|███████   | 42240/60000 [00:00<00:00, 82556.96it/s]"
     ]
    },
    {
     "name": "stdout",
     "output_type": "stream",
     "text": [
      "46592/60000 [======================>.......] - ETA: 0s - loss: 0.3534 - acc: 0.9043"
     ]
    },
    {
     "name": "stderr",
     "output_type": "stream",
     "text": [
      "\u001b[A\n",
      "Epoch: 49 - loss: 0.353, acc: 0.904 83%|████████▎ | 49920/60000 [00:00<00:00, 80676.29it/s]"
     ]
    },
    {
     "name": "stdout",
     "output_type": "stream",
     "text": [
      "55296/60000 [==========================>...] - ETA: 0s - loss: 0.3522 - acc: 0.9044"
     ]
    },
    {
     "name": "stderr",
     "output_type": "stream",
     "text": [
      "\u001b[A\n",
      "Epoch: 49 - loss: 0.352, acc: 0.904 98%|█████████▊| 58624/60000 [00:00<00:00, 81716.39it/s]"
     ]
    },
    {
     "name": "stdout",
     "output_type": "stream",
     "text": [
      "\b\b\b\b\b\b\b\b\b\b\b\b\b\b\b\b\b\b\b\b\b\b\b\b\b\b\b\b\b\b\b\b\b\b\b\b\b\b\b\b\b\b\b\b\b\b\b\b\b\b\b\b\b\b\b\b\b\b\b\b\b\b\b\b\b\b\b\b\b\b\b\b\b\b\b\b\b\b\b\b\b\b\b\r",
      "59648/60000 [============================>.] - ETA: 0s - loss: 0.3521 - acc: 0.9044"
     ]
    },
    {
     "name": "stderr",
     "output_type": "stream",
     "text": [
      "\u001b[A\n",
      "Epoch: 49 - loss: 0.352, acc: 0.904, val_loss: 0.335, val_acc: 0.911100%|██████████| 60000/60000 [00:00<00:00, 40395.87it/s]\u001b[A\n",
      "Training:  50%|█████     | 50/100 [00:39<00:39,  1.26it/s]"
     ]
    },
    {
     "name": "stdout",
     "output_type": "stream",
     "text": [
      "Epoch 00049: val_loss improved from 0.33637 to 0.33514, saving model to checkpoints_mnist_log_reg_keras_tensorflow/mnist_log_reg.hdf5\n",
      "\b\b\b\b\b\b\b\b\b\b\b\b\b\b\b\b\b\b\b\b\b\b\b\b\b\b\b\b\b\b\b\b\b\b\b\b\b\b\b\b\b\b\b\b\b\b\b\b\b\b\b\b\b\b\b\b\b\b\b\b\b\b\b\b\b\b\b\b\b\b\b\b\b\b\b\b\b\b\b\b\b\b\b\r",
      "60000/60000 [==============================] - 0s - loss: 0.3524 - acc: 0.9043 - val_loss: 0.3351 - val_acc: 0.9109"
     ]
    },
    {
     "name": "stderr",
     "output_type": "stream",
     "text": [
      "\n",
      "\r",
      "Epoch: 50:   0%|          | 0/60000 [00:00<?, ?it/s]"
     ]
    },
    {
     "name": "stdout",
     "output_type": "stream",
     "text": [
      "\n",
      "Epoch 51/100\n",
      "\r",
      "  256/60000 [..............................] - ETA: 1s - loss: 0.3454 - acc: 0.9219"
     ]
    },
    {
     "name": "stderr",
     "output_type": "stream",
     "text": [
      "\u001b[A"
     ]
    },
    {
     "name": "stdout",
     "output_type": "stream",
     "text": [
      "\b\b\b\b\b\b\b\b\b\b\b\b\b\b\b\b\b\b\b\b\b\b\b\b\b\b\b\b\b\b\b\b\b\b\b\b\b\b\b\b\b\b\b\b\b\b\b\b\b\b\b\b\b\b\b\b\b\b\b\b\b\b\b\b\b\b\b\b\b\b\b\b\b\b\b\b\b\b\b\b\b\b\b\r",
      " 4608/60000 [=>............................] - ETA: 0s - loss: 0.3529 - acc: 0.9026"
     ]
    },
    {
     "name": "stderr",
     "output_type": "stream",
     "text": [
      "\n",
      "\r",
      "Epoch: 50 - loss: 0.345, acc: 0.906 14%|█▎        | 8192/60000 [00:00<00:00, 80010.75it/s]"
     ]
    },
    {
     "name": "stdout",
     "output_type": "stream",
     "text": [
      "\b\b\b\b\b\b\b\b\b\b\b\b\b\b\b\b\b\b\b\b\b\b\b\b\b\b\b\b\b\b\b\b\b\b\b\b\b\b\b\b\b\b\b\b\b\b\b\b\b\b\b\b\b\b\b\b\b\b\b\b\b\b\b\b\b\b\b\b\b\b\b\b\b\b\b\b\b\b\b\b\b\b\b\r",
      " 8704/60000 [===>..........................] - ETA: 0s - loss: 0.3502 - acc: 0.9052"
     ]
    },
    {
     "name": "stderr",
     "output_type": "stream",
     "text": [
      "\u001b[A"
     ]
    },
    {
     "name": "stdout",
     "output_type": "stream",
     "text": [
      "\b\b\b\b\b\b\b\b\b\b\b\b\b\b\b\b\b\b\b\b\b\b\b\b\b\b\b\b\b\b\b\b\b\b\b\b\b\b\b\b\b\b\b\b\b\b\b\b\b\b\b\b\b\b\b\b\b\b\b\b\b\b\b\b\b\b\b\b\b\b\b\b\b\b\b\b\b\b\b\b\b\b\b\r",
      "12544/60000 [=====>........................] - ETA: 0s - loss: 0.3488 - acc: 0.9052"
     ]
    },
    {
     "name": "stderr",
     "output_type": "stream",
     "text": [
      "\n",
      "\r",
      "Epoch: 50 - loss: 0.348, acc: 0.906 27%|██▋       | 16128/60000 [00:00<00:00, 79287.65it/s]"
     ]
    },
    {
     "name": "stdout",
     "output_type": "stream",
     "text": [
      "20480/60000 [=========>....................] - ETA: 0s - loss: 0.3502 - acc: 0.9056"
     ]
    },
    {
     "name": "stderr",
     "output_type": "stream",
     "text": [
      "\u001b[A\n",
      "Epoch: 50 - loss: 0.352, acc: 0.905 40%|███▉      | 23808/60000 [00:00<00:00, 78371.71it/s]"
     ]
    },
    {
     "name": "stdout",
     "output_type": "stream",
     "text": [
      "28416/60000 [=============>................] - ETA: 0s - loss: 0.3524 - acc: 0.9052"
     ]
    },
    {
     "name": "stderr",
     "output_type": "stream",
     "text": [
      "\u001b[A\n",
      "Epoch: 50 - loss: 0.353, acc: 0.905 53%|█████▎    | 31744/60000 [00:00<00:00, 78236.90it/s]"
     ]
    },
    {
     "name": "stdout",
     "output_type": "stream",
     "text": [
      "36352/60000 [=================>............] - ETA: 0s - loss: 0.3511 - acc: 0.9052"
     ]
    },
    {
     "name": "stderr",
     "output_type": "stream",
     "text": [
      "\u001b[A\n",
      "Epoch: 50 - loss: 0.352, acc: 0.905 67%|██████▋   | 39936/60000 [00:00<00:00, 78985.99it/s]"
     ]
    },
    {
     "name": "stdout",
     "output_type": "stream",
     "text": [
      "45568/60000 [=====================>........] - ETA: 0s - loss: 0.3505 - acc: 0.9053"
     ]
    },
    {
     "name": "stderr",
     "output_type": "stream",
     "text": [
      "\u001b[A\n",
      "Epoch: 50 - loss: 0.351, acc: 0.905 81%|████████  | 48640/60000 [00:00<00:00, 80878.88it/s]"
     ]
    },
    {
     "name": "stdout",
     "output_type": "stream",
     "text": [
      "53504/60000 [=========================>....] - ETA: 0s - loss: 0.3520 - acc: 0.9045"
     ]
    },
    {
     "name": "stderr",
     "output_type": "stream",
     "text": [
      "\u001b[A\n",
      "Epoch: 50 - loss: 0.352, acc: 0.904 93%|█████████▎| 56064/60000 [00:00<00:00, 78425.64it/s]"
     ]
    },
    {
     "name": "stdout",
     "output_type": "stream",
     "text": [
      "\b\b\b\b\b\b\b\b\b\b\b\b\b\b\b\b\b\b\b\b\b\b\b\b\b\b\b\b\b\b\b\b\b\b\b\b\b\b\b\b\b\b\b\b\b\b\b\b\b\b\b\b\b\b\b\b\b\b\b\b\b\b\b\b\b\b\b\b\b\b\b\b\b\b\b\b\b\b\b\b\b\b\b\r",
      "57600/60000 [===========================>..] - ETA: 0s - loss: 0.3511 - acc: 0.9046"
     ]
    },
    {
     "name": "stderr",
     "output_type": "stream",
     "text": [
      "\u001b[A\n",
      "Epoch: 50 - loss: 0.351, acc: 0.905, val_loss: 0.334, val_acc: 0.912100%|██████████| 60000/60000 [00:00<00:00, 57818.24it/s]\u001b[A\n",
      "Training:  51%|█████     | 51/100 [00:40<00:39,  1.24it/s]"
     ]
    },
    {
     "name": "stdout",
     "output_type": "stream",
     "text": [
      "Epoch 00050: val_loss improved from 0.33514 to 0.33409, saving model to checkpoints_mnist_log_reg_keras_tensorflow/mnist_log_reg.hdf5\n",
      "60000/60000 [==============================] - 0s - loss: 0.3511 - acc: 0.9046 - val_loss: 0.3341 - val_acc: 0.9116"
     ]
    },
    {
     "name": "stderr",
     "output_type": "stream",
     "text": [
      "\n",
      "\r",
      "Epoch: 51:   0%|          | 0/60000 [00:00<?, ?it/s]"
     ]
    },
    {
     "name": "stdout",
     "output_type": "stream",
     "text": [
      "\n",
      "Epoch 52/100\n",
      " 4352/60000 [=>............................] - ETA: 0s - loss: 0.3551 - acc: 0.8975"
     ]
    },
    {
     "name": "stderr",
     "output_type": "stream",
     "text": [
      "\u001b[A\n",
      "Epoch: 51 - loss: 0.354, acc: 0.900 14%|█▍        | 8448/60000 [00:00<00:00, 83243.62it/s]"
     ]
    },
    {
     "name": "stdout",
     "output_type": "stream",
     "text": [
      "13056/60000 [=====>........................] - ETA: 0s - loss: 0.3489 - acc: 0.9040"
     ]
    },
    {
     "name": "stderr",
     "output_type": "stream",
     "text": [
      "\u001b[A\n",
      "Epoch: 51 - loss: 0.349, acc: 0.903 27%|██▋       | 16384/60000 [00:00<00:00, 81706.47it/s]"
     ]
    },
    {
     "name": "stdout",
     "output_type": "stream",
     "text": [
      "21504/60000 [=========>....................] - ETA: 0s - loss: 0.3520 - acc: 0.9018"
     ]
    },
    {
     "name": "stderr",
     "output_type": "stream",
     "text": [
      "\u001b[A\n",
      "Epoch: 51 - loss: 0.353, acc: 0.903 41%|████      | 24576/60000 [00:00<00:00, 81268.66it/s]"
     ]
    },
    {
     "name": "stdout",
     "output_type": "stream",
     "text": [
      "30464/60000 [==============>...............] - ETA: 0s - loss: 0.3506 - acc: 0.9046"
     ]
    },
    {
     "name": "stderr",
     "output_type": "stream",
     "text": [
      "\u001b[A\n",
      "Epoch: 51 - loss: 0.352, acc: 0.905 56%|█████▌    | 33536/60000 [00:00<00:00, 82929.30it/s]"
     ]
    },
    {
     "name": "stdout",
     "output_type": "stream",
     "text": [
      "39168/60000 [==================>...........] - ETA: 0s - loss: 0.3500 - acc: 0.9048"
     ]
    },
    {
     "name": "stderr",
     "output_type": "stream",
     "text": [
      "\u001b[A\n",
      "Epoch: 51 - loss: 0.352, acc: 0.904 71%|███████   | 42496/60000 [00:00<00:00, 84293.27it/s]"
     ]
    },
    {
     "name": "stdout",
     "output_type": "stream",
     "text": [
      "47872/60000 [======================>.......] - ETA: 0s - loss: 0.3529 - acc: 0.9038"
     ]
    },
    {
     "name": "stderr",
     "output_type": "stream",
     "text": [
      "\u001b[A\n",
      "Epoch: 51 - loss: 0.353, acc: 0.903 85%|████████▌ | 51200/60000 [00:00<00:00, 84829.79it/s]"
     ]
    },
    {
     "name": "stdout",
     "output_type": "stream",
     "text": [
      "56064/60000 [===========================>..] - ETA: 0s - loss: 0.3514 - acc: 0.9041"
     ]
    },
    {
     "name": "stderr",
     "output_type": "stream",
     "text": [
      "\u001b[A\n",
      "Epoch: 51 - loss: 0.350, acc: 0.905 98%|█████████▊| 58880/60000 [00:00<00:00, 81592.43it/s]"
     ]
    },
    {
     "name": "stdout",
     "output_type": "stream",
     "text": [
      "\b\b\b\b\b\b\b\b\b\b\b\b\b\b\b\b\b\b\b\b\b\b\b\b\b\b\b\b\b\b\b\b\b\b\b\b\b\b\b\b\b\b\b\b\b\b\b\b\b\b\b\b\b\b\b\b\b\b\b\b\b\b\b\b\b\b\b\b\b\b\b\b\b\b\b\b\b\b\b\b\b\b\b\r",
      "59648/60000 [============================>.] - ETA: 0s - loss: 0.3497 - acc: 0.9047"
     ]
    },
    {
     "name": "stderr",
     "output_type": "stream",
     "text": [
      "\u001b[A\n",
      "Epoch: 51 - loss: 0.350, acc: 0.905, val_loss: 0.333, val_acc: 0.912100%|██████████| 60000/60000 [00:00<00:00, 31945.79it/s]\u001b[A\n",
      "Training:  52%|█████▏    | 52/100 [00:40<00:38,  1.24it/s]"
     ]
    },
    {
     "name": "stdout",
     "output_type": "stream",
     "text": [
      "Epoch 00051: val_loss improved from 0.33409 to 0.33301, saving model to checkpoints_mnist_log_reg_keras_tensorflow/mnist_log_reg.hdf5\n",
      "\b\b\b\b\b\b\b\b\b\b\b\b\b\b\b\b\b\b\b\b\b\b\b\b\b\b\b\b\b\b\b\b\b\b\b\b\b\b\b\b\b\b\b\b\b\b\b\b\b\b\b\b\b\b\b\b\b\b\b\b\b\b\b\b\b\b\b\b\b\b\b\b\b\b\b\b\b\b\b\b\b\b\b\r",
      "60000/60000 [==============================] - 0s - loss: 0.3499 - acc: 0.9047 - val_loss: 0.3330 - val_acc: 0.9117"
     ]
    },
    {
     "name": "stderr",
     "output_type": "stream",
     "text": [
      "\n",
      "Epoch: 52:   0%|          | 0/60000 [00:00<?, ?it/s]\u001b[A"
     ]
    },
    {
     "name": "stdout",
     "output_type": "stream",
     "text": [
      "\n",
      "Epoch 53/100\n",
      " 4608/60000 [=>............................] - ETA: 0s - loss: 0.3500 - acc: 0.9110"
     ]
    },
    {
     "name": "stderr",
     "output_type": "stream",
     "text": [
      "\n",
      "Epoch: 52 - loss: 0.351, acc: 0.908 14%|█▍        | 8448/60000 [00:00<00:00, 83500.80it/s]\u001b[A"
     ]
    },
    {
     "name": "stdout",
     "output_type": "stream",
     "text": [
      "13824/60000 [=====>........................] - ETA: 0s - loss: 0.3537 - acc: 0.9047"
     ]
    },
    {
     "name": "stderr",
     "output_type": "stream",
     "text": [
      "\n",
      "\r",
      "Epoch: 52 - loss: 0.352, acc: 0.904 29%|██▉       | 17664/60000 [00:00<00:00, 85442.17it/s]"
     ]
    },
    {
     "name": "stdout",
     "output_type": "stream",
     "text": [
      "23040/60000 [==========>...................] - ETA: 0s - loss: 0.3498 - acc: 0.9047"
     ]
    },
    {
     "name": "stderr",
     "output_type": "stream",
     "text": [
      "\u001b[A\n",
      "Epoch: 52 - loss: 0.348, acc: 0.906 45%|████▍     | 26880/60000 [00:00<00:00, 86655.49it/s]"
     ]
    },
    {
     "name": "stdout",
     "output_type": "stream",
     "text": [
      "31488/60000 [==============>...............] - ETA: 0s - loss: 0.3482 - acc: 0.9048"
     ]
    },
    {
     "name": "stderr",
     "output_type": "stream",
     "text": [
      "\u001b[A\n",
      "Epoch: 52 - loss: 0.349, acc: 0.905 58%|█████▊    | 34816/60000 [00:00<00:00, 84259.49it/s]"
     ]
    },
    {
     "name": "stdout",
     "output_type": "stream",
     "text": [
      "40192/60000 [===================>..........] - ETA: 0s - loss: 0.3477 - acc: 0.9055"
     ]
    },
    {
     "name": "stderr",
     "output_type": "stream",
     "text": [
      "\u001b[A\n",
      "Epoch: 52 - loss: 0.350, acc: 0.905 73%|███████▎  | 44032/60000 [00:00<00:00, 85910.17it/s]"
     ]
    },
    {
     "name": "stdout",
     "output_type": "stream",
     "text": [
      "49408/60000 [=======================>......] - ETA: 0s - loss: 0.3492 - acc: 0.9047"
     ]
    },
    {
     "name": "stderr",
     "output_type": "stream",
     "text": [
      "\u001b[A\n",
      "Epoch: 52 - loss: 0.348, acc: 0.905 88%|████████▊ | 52736/60000 [00:00<00:00, 85583.93it/s]"
     ]
    },
    {
     "name": "stdout",
     "output_type": "stream",
     "text": [
      "58112/60000 [============================>.] - ETA: 0s - loss: 0.3482 - acc: 0.9053"
     ]
    },
    {
     "name": "stderr",
     "output_type": "stream",
     "text": [
      "\u001b[A\n",
      "Epoch: 52 - loss: 0.349, acc: 0.905, val_loss: 0.332, val_acc: 0.912100%|██████████| 60000/60000 [00:00<00:00, 69095.72it/s]\u001b[A\n",
      "Training:  53%|█████▎    | 53/100 [00:41<00:37,  1.26it/s]"
     ]
    },
    {
     "name": "stdout",
     "output_type": "stream",
     "text": [
      "Epoch 00052: val_loss improved from 0.33301 to 0.33197, saving model to checkpoints_mnist_log_reg_keras_tensorflow/mnist_log_reg.hdf5\n",
      "60000/60000 [==============================] - 0s - loss: 0.3486 - acc: 0.9050 - val_loss: 0.3320 - val_acc: 0.9116"
     ]
    },
    {
     "name": "stderr",
     "output_type": "stream",
     "text": [
      "\n",
      "\r",
      "Epoch: 53:   0%|          | 0/60000 [00:00<?, ?it/s]"
     ]
    },
    {
     "name": "stdout",
     "output_type": "stream",
     "text": [
      "\n",
      "Epoch 54/100\n",
      "\r",
      "  256/60000 [..............................] - ETA: 1s - loss: 0.3214 - acc: 0.9102"
     ]
    },
    {
     "name": "stderr",
     "output_type": "stream",
     "text": [
      "\u001b[A"
     ]
    },
    {
     "name": "stdout",
     "output_type": "stream",
     "text": [
      "\b\b\b\b\b\b\b\b\b\b\b\b\b\b\b\b\b\b\b\b\b\b\b\b\b\b\b\b\b\b\b\b\b\b\b\b\b\b\b\b\b\b\b\b\b\b\b\b\b\b\b\b\b\b\b\b\b\b\b\b\b\b\b\b\b\b\b\b\b\b\b\b\b\b\b\b\b\b\b\b\b\b\b\r",
      " 3840/60000 [>.............................] - ETA: 0s - loss: 0.3643 - acc: 0.9010"
     ]
    },
    {
     "name": "stderr",
     "output_type": "stream",
     "text": [
      "\n",
      "\r",
      "Epoch: 53 - loss: 0.358, acc: 0.904 12%|█▏        | 7424/60000 [00:00<00:00, 73362.72it/s]"
     ]
    },
    {
     "name": "stdout",
     "output_type": "stream",
     "text": [
      "12032/60000 [=====>........................] - ETA: 0s - loss: 0.3529 - acc: 0.9043"
     ]
    },
    {
     "name": "stderr",
     "output_type": "stream",
     "text": [
      "\u001b[A\n",
      "Epoch: 53 - loss: 0.353, acc: 0.903 26%|██▌       | 15616/60000 [00:00<00:00, 75295.89it/s]"
     ]
    },
    {
     "name": "stdout",
     "output_type": "stream",
     "text": [
      "20480/60000 [=========>....................] - ETA: 0s - loss: 0.3514 - acc: 0.9037"
     ]
    },
    {
     "name": "stderr",
     "output_type": "stream",
     "text": [
      "\u001b[A\n",
      "Epoch: 53 - loss: 0.349, acc: 0.905 41%|████      | 24320/60000 [00:00<00:00, 78431.82it/s]"
     ]
    },
    {
     "name": "stdout",
     "output_type": "stream",
     "text": [
      "29440/60000 [=============>................] - ETA: 0s - loss: 0.3479 - acc: 0.9062"
     ]
    },
    {
     "name": "stderr",
     "output_type": "stream",
     "text": [
      "\u001b[A\n",
      "Epoch: 53 - loss: 0.349, acc: 0.905 55%|█████▍    | 32768/60000 [00:00<00:00, 79289.54it/s]"
     ]
    },
    {
     "name": "stdout",
     "output_type": "stream",
     "text": [
      "37376/60000 [=================>............] - ETA: 0s - loss: 0.3479 - acc: 0.9054"
     ]
    },
    {
     "name": "stderr",
     "output_type": "stream",
     "text": [
      "\u001b[A\n",
      "Epoch: 53 - loss: 0.348, acc: 0.905 68%|██████▊   | 40960/60000 [00:00<00:00, 79942.71it/s]"
     ]
    },
    {
     "name": "stdout",
     "output_type": "stream",
     "text": [
      "45312/60000 [=====================>........] - ETA: 0s - loss: 0.3480 - acc: 0.9052"
     ]
    },
    {
     "name": "stderr",
     "output_type": "stream",
     "text": [
      "\u001b[A\n",
      "Epoch: 53 - loss: 0.349, acc: 0.905 81%|████████▏ | 48896/60000 [00:00<00:00, 79244.83it/s]"
     ]
    },
    {
     "name": "stdout",
     "output_type": "stream",
     "text": [
      "54272/60000 [==========================>...] - ETA: 0s - loss: 0.3491 - acc: 0.9048"
     ]
    },
    {
     "name": "stderr",
     "output_type": "stream",
     "text": [
      "\u001b[A\n",
      "Epoch: 53 - loss: 0.347, acc: 0.905 96%|█████████▌| 57600/60000 [00:00<00:00, 81270.63it/s]"
     ]
    },
    {
     "name": "stdout",
     "output_type": "stream",
     "text": [
      "\b\b\b\b\b\b\b\b\b\b\b\b\b\b\b\b\b\b\b\b\b\b\b\b\b\b\b\b\b\b\b\b\b\b\b\b\b\b\b\b\b\b\b\b\b\b\b\b\b\b\b\b\b\b\b\b\b\b\b\b\b\b\b\b\b\b\b\b\b\b\b\b\b\b\b\b\b\b\b\b\b\b\b\r",
      "58624/60000 [============================>.] - ETA: 0s - loss: 0.3474 - acc: 0.9054"
     ]
    },
    {
     "name": "stderr",
     "output_type": "stream",
     "text": [
      "\u001b[A\n",
      "Epoch: 53 - loss: 0.347, acc: 0.905, val_loss: 0.331, val_acc: 0.912100%|██████████| 60000/60000 [00:00<00:00, 52327.01it/s]\u001b[A\n",
      "Training:  54%|█████▍    | 54/100 [00:42<00:36,  1.25it/s]"
     ]
    },
    {
     "name": "stdout",
     "output_type": "stream",
     "text": [
      "Epoch 00053: val_loss improved from 0.33197 to 0.33089, saving model to checkpoints_mnist_log_reg_keras_tensorflow/mnist_log_reg.hdf5\n",
      "\b\b\b\b\b\b\b\b\b\b\b\b\b\b\b\b\b\b\b\b\b\b\b\b\b\b\b\b\b\b\b\b\b\b\b\b\b\b\b\b\b\b\b\b\b\b\b\b\b\b\b\b\b\b\b\b\b\b\b\b\b\b\b\b\b\b\b\b\b\b\b\b\b\b\b\b\b\b\b\b\b\b\b\r",
      "60000/60000 [==============================] - 0s - loss: 0.3475 - acc: 0.9053 - val_loss: 0.3309 - val_acc: 0.9120"
     ]
    },
    {
     "name": "stderr",
     "output_type": "stream",
     "text": [
      "\n",
      "Epoch: 54:   0%|          | 0/60000 [00:00<?, ?it/s]\u001b[A"
     ]
    },
    {
     "name": "stdout",
     "output_type": "stream",
     "text": [
      "\n",
      "Epoch 55/100\n",
      " 4352/60000 [=>............................] - ETA: 0s - loss: 0.3462 - acc: 0.9051"
     ]
    },
    {
     "name": "stderr",
     "output_type": "stream",
     "text": [
      "\n",
      "Epoch: 54 - loss: 0.342, acc: 0.907 13%|█▎        | 7936/60000 [00:00<00:00, 78126.42it/s]\u001b[A"
     ]
    },
    {
     "name": "stdout",
     "output_type": "stream",
     "text": [
      "13056/60000 [=====>........................] - ETA: 0s - loss: 0.3435 - acc: 0.9066"
     ]
    },
    {
     "name": "stderr",
     "output_type": "stream",
     "text": [
      "\n",
      "\r",
      "Epoch: 54 - loss: 0.348, acc: 0.905 27%|██▋       | 16384/60000 [00:00<00:00, 79559.81it/s]"
     ]
    },
    {
     "name": "stdout",
     "output_type": "stream",
     "text": [
      "22016/60000 [==========>...................] - ETA: 0s - loss: 0.3432 - acc: 0.9064"
     ]
    },
    {
     "name": "stderr",
     "output_type": "stream",
     "text": [
      "\u001b[A\n",
      "Epoch: 54 - loss: 0.344, acc: 0.906 41%|████      | 24320/60000 [00:00<00:00, 79006.04it/s]"
     ]
    },
    {
     "name": "stdout",
     "output_type": "stream",
     "text": [
      "29952/60000 [=============>................] - ETA: 0s - loss: 0.3457 - acc: 0.9059"
     ]
    },
    {
     "name": "stderr",
     "output_type": "stream",
     "text": [
      "\u001b[A\n",
      "Epoch: 54 - loss: 0.345, acc: 0.906 55%|█████▍    | 32768/60000 [00:00<00:00, 80050.40it/s]"
     ]
    },
    {
     "name": "stdout",
     "output_type": "stream",
     "text": [
      "38400/60000 [==================>...........] - ETA: 0s - loss: 0.3463 - acc: 0.9063"
     ]
    },
    {
     "name": "stderr",
     "output_type": "stream",
     "text": [
      "\u001b[A\n",
      "Epoch: 54 - loss: 0.347, acc: 0.906 67%|██████▋   | 40448/60000 [00:00<00:00, 78882.55it/s]"
     ]
    },
    {
     "name": "stdout",
     "output_type": "stream",
     "text": [
      "45824/60000 [=====================>........] - ETA: 0s - loss: 0.3492 - acc: 0.9054"
     ]
    },
    {
     "name": "stderr",
     "output_type": "stream",
     "text": [
      "\u001b[A\n",
      "Epoch: 54 - loss: 0.347, acc: 0.906 81%|████████  | 48384/60000 [00:00<00:00, 78925.53it/s]"
     ]
    },
    {
     "name": "stdout",
     "output_type": "stream",
     "text": [
      "55040/60000 [==========================>...] - ETA: 0s - loss: 0.3474 - acc: 0.9057"
     ]
    },
    {
     "name": "stderr",
     "output_type": "stream",
     "text": [
      "\u001b[A\n",
      "Epoch: 54 - loss: 0.346, acc: 0.906 96%|█████████▌| 57344/60000 [00:00<00:00, 81169.96it/s]"
     ]
    },
    {
     "name": "stdout",
     "output_type": "stream",
     "text": [
      "\b\b\b\b\b\b\b\b\b\b\b\b\b\b\b\b\b\b\b\b\b\b\b\b\b\b\b\b\b\b\b\b\b\b\b\b\b\b\b\b\b\b\b\b\b\b\b\b\b\b\b\b\b\b\b\b\b\b\b\b\b\b\b\b\b\b\b\b\b\b\b\b\b\b\b\b\b\b\b\b\b\b\b\r",
      "59136/60000 [============================>.] - ETA: 0s - loss: 0.3464 - acc: 0.9058"
     ]
    },
    {
     "name": "stderr",
     "output_type": "stream",
     "text": [
      "\u001b[A\n",
      "Epoch: 54 - loss: 0.346, acc: 0.906, val_loss: 0.330, val_acc: 0.912100%|██████████| 60000/60000 [00:00<00:00, 53434.10it/s]\u001b[A\n",
      "Training:  55%|█████▌    | 55/100 [00:43<00:36,  1.25it/s]"
     ]
    },
    {
     "name": "stdout",
     "output_type": "stream",
     "text": [
      "Epoch 00054: val_loss improved from 0.33089 to 0.33006, saving model to checkpoints_mnist_log_reg_keras_tensorflow/mnist_log_reg.hdf5\n",
      "\b\b\b\b\b\b\b\b\b\b\b\b\b\b\b\b\b\b\b\b\b\b\b\b\b\b\b\b\b\b\b\b\b\b\b\b\b\b\b\b\b\b\b\b\b\b\b\b\b\b\b\b\b\b\b\b\b\b\b\b\b\b\b\b\b\b\b\b\b\b\b\b\b\b\b\b\b\b\b\b\b\b\b\r",
      "60000/60000 [==============================] - 0s - loss: 0.3463 - acc: 0.9057 - val_loss: 0.3301 - val_acc: 0.9121"
     ]
    },
    {
     "name": "stderr",
     "output_type": "stream",
     "text": [
      "\n",
      "\r",
      "Epoch: 55:   0%|          | 0/60000 [00:00<?, ?it/s]"
     ]
    },
    {
     "name": "stdout",
     "output_type": "stream",
     "text": [
      "\n",
      "Epoch 56/100\n",
      " 5120/60000 [=>............................] - ETA: 0s - loss: 0.3420 - acc: 0.9076"
     ]
    },
    {
     "name": "stderr",
     "output_type": "stream",
     "text": [
      "\u001b[A\n",
      "Epoch: 55 - loss: 0.341, acc: 0.909 15%|█▌        | 9216/60000 [00:00<00:00, 90341.75it/s]"
     ]
    },
    {
     "name": "stdout",
     "output_type": "stream",
     "text": [
      "13824/60000 [=====>........................] - ETA: 0s - loss: 0.3479 - acc: 0.9070"
     ]
    },
    {
     "name": "stderr",
     "output_type": "stream",
     "text": [
      "\u001b[A\n",
      "Epoch: 55 - loss: 0.347, acc: 0.907 30%|██▉       | 17920/60000 [00:00<00:00, 89133.67it/s]"
     ]
    },
    {
     "name": "stdout",
     "output_type": "stream",
     "text": [
      "22784/60000 [==========>...................] - ETA: 0s - loss: 0.3458 - acc: 0.9072"
     ]
    },
    {
     "name": "stderr",
     "output_type": "stream",
     "text": [
      "\u001b[A\n",
      "Epoch: 55 - loss: 0.343, acc: 0.908 45%|████▌     | 27136/60000 [00:00<00:00, 88858.30it/s]"
     ]
    },
    {
     "name": "stdout",
     "output_type": "stream",
     "text": [
      "31744/60000 [==============>...............] - ETA: 0s - loss: 0.3439 - acc: 0.9076"
     ]
    },
    {
     "name": "stderr",
     "output_type": "stream",
     "text": [
      "\u001b[A\n",
      "Epoch: 55 - loss: 0.347, acc: 0.907 61%|██████    | 36352/60000 [00:00<00:00, 89240.31it/s]"
     ]
    },
    {
     "name": "stdout",
     "output_type": "stream",
     "text": [
      "40704/60000 [===================>..........] - ETA: 0s - loss: 0.3489 - acc: 0.9054"
     ]
    },
    {
     "name": "stderr",
     "output_type": "stream",
     "text": [
      "\u001b[A\n",
      "Epoch: 55 - loss: 0.350, acc: 0.905 74%|███████▍  | 44544/60000 [00:00<00:00, 86699.14it/s]"
     ]
    },
    {
     "name": "stdout",
     "output_type": "stream",
     "text": [
      "49408/60000 [=======================>......] - ETA: 0s - loss: 0.3491 - acc: 0.9046"
     ]
    },
    {
     "name": "stderr",
     "output_type": "stream",
     "text": [
      "\u001b[A\n",
      "Epoch: 55 - loss: 0.348, acc: 0.905 88%|████████▊ | 52736/60000 [00:00<00:00, 84808.43it/s]"
     ]
    },
    {
     "name": "stdout",
     "output_type": "stream",
     "text": [
      "57088/60000 [===========================>..] - ETA: 0s - loss: 0.3463 - acc: 0.9054"
     ]
    },
    {
     "name": "stderr",
     "output_type": "stream",
     "text": [
      "\u001b[A\n",
      "Epoch: 55 - loss: 0.345, acc: 0.906, val_loss: 0.329, val_acc: 0.912100%|██████████| 60000/60000 [00:00<00:00, 67880.62it/s]\u001b[A\n",
      "Training:  56%|█████▌    | 56/100 [00:44<00:35,  1.26it/s]"
     ]
    },
    {
     "name": "stdout",
     "output_type": "stream",
     "text": [
      "Epoch 00055: val_loss improved from 0.33006 to 0.32888, saving model to checkpoints_mnist_log_reg_keras_tensorflow/mnist_log_reg.hdf5\n",
      "\b\b\b\b\b\b\b\b\b\b\b\b\b\b\b\b\b\b\b\b\b\b\b\b\b\b\b\b\b\b\b\b\b\b\b\b\b\b\b\b\b\b\b\b\b\b\b\b\b\b\b\b\b\b\b\b\b\b\b\b\b\b\b\b\b\b\b\b\b\b\b\b\b\b\b\b\b\b\b\b\b\b\b\r",
      "60000/60000 [==============================] - 0s - loss: 0.3453 - acc: 0.9055 - val_loss: 0.3289 - val_acc: 0.9123"
     ]
    },
    {
     "name": "stderr",
     "output_type": "stream",
     "text": [
      "\n",
      "\r",
      "Epoch: 56:   0%|          | 0/60000 [00:00<?, ?it/s]"
     ]
    },
    {
     "name": "stdout",
     "output_type": "stream",
     "text": [
      "\n",
      "Epoch 57/100\n",
      "\r",
      "  256/60000 [..............................] - ETA: 0s - loss: 0.3731 - acc: 0.9102"
     ]
    },
    {
     "name": "stderr",
     "output_type": "stream",
     "text": [
      "\u001b[A"
     ]
    },
    {
     "name": "stdout",
     "output_type": "stream",
     "text": [
      "\b\b\b\b\b\b\b\b\b\b\b\b\b\b\b\b\b\b\b\b\b\b\b\b\b\b\b\b\b\b\b\b\b\b\b\b\b\b\b\b\b\b\b\b\b\b\b\b\b\b\b\b\b\b\b\b\b\b\b\b\b\b\b\b\b\b\b\b\b\b\b\b\b\b\b\b\b\b\b\b\b\b\b\r",
      " 4096/60000 [=>............................] - ETA: 0s - loss: 0.3528 - acc: 0.9033"
     ]
    },
    {
     "name": "stderr",
     "output_type": "stream",
     "text": [
      "\n",
      "\r",
      "Epoch: 56 - loss: 0.348, acc: 0.903 13%|█▎        | 7936/60000 [00:00<00:00, 77500.49it/s]"
     ]
    },
    {
     "name": "stdout",
     "output_type": "stream",
     "text": [
      "12544/60000 [=====>........................] - ETA: 0s - loss: 0.3398 - acc: 0.9064"
     ]
    },
    {
     "name": "stderr",
     "output_type": "stream",
     "text": [
      "\u001b[A\n",
      "Epoch: 56 - loss: 0.341, acc: 0.905 27%|██▋       | 16384/60000 [00:00<00:00, 78936.43it/s]"
     ]
    },
    {
     "name": "stdout",
     "output_type": "stream",
     "text": [
      "21248/60000 [=========>....................] - ETA: 0s - loss: 0.3390 - acc: 0.9060"
     ]
    },
    {
     "name": "stderr",
     "output_type": "stream",
     "text": [
      "\u001b[A\n",
      "Epoch: 56 - loss: 0.338, acc: 0.906 41%|████      | 24320/60000 [00:00<00:00, 78791.97it/s]"
     ]
    },
    {
     "name": "stdout",
     "output_type": "stream",
     "text": [
      "28928/60000 [=============>................] - ETA: 0s - loss: 0.3403 - acc: 0.9062"
     ]
    },
    {
     "name": "stderr",
     "output_type": "stream",
     "text": [
      "\u001b[A\n",
      "Epoch: 56 - loss: 0.340, acc: 0.906 53%|█████▎    | 32000/60000 [00:00<00:00, 77645.91it/s]"
     ]
    },
    {
     "name": "stdout",
     "output_type": "stream",
     "text": [
      "37376/60000 [=================>............] - ETA: 0s - loss: 0.3416 - acc: 0.9061"
     ]
    },
    {
     "name": "stderr",
     "output_type": "stream",
     "text": [
      "\u001b[A\n",
      "Epoch: 56 - loss: 0.342, acc: 0.906 67%|██████▋   | 40448/60000 [00:00<00:00, 79533.77it/s]"
     ]
    },
    {
     "name": "stdout",
     "output_type": "stream",
     "text": [
      "45824/60000 [=====================>........] - ETA: 0s - loss: 0.3417 - acc: 0.9064"
     ]
    },
    {
     "name": "stderr",
     "output_type": "stream",
     "text": [
      "\u001b[A\n",
      "Epoch: 56 - loss: 0.342, acc: 0.906 81%|████████▏ | 48896/60000 [00:00<00:00, 80336.13it/s]"
     ]
    },
    {
     "name": "stdout",
     "output_type": "stream",
     "text": [
      "54528/60000 [==========================>...] - ETA: 0s - loss: 0.3433 - acc: 0.9061"
     ]
    },
    {
     "name": "stderr",
     "output_type": "stream",
     "text": [
      "\u001b[A\n",
      "Epoch: 56 - loss: 0.343, acc: 0.906 96%|█████████▌| 57600/60000 [00:00<00:00, 82082.16it/s]"
     ]
    },
    {
     "name": "stdout",
     "output_type": "stream",
     "text": [
      "\b\b\b\b\b\b\b\b\b\b\b\b\b\b\b\b\b\b\b\b\b\b\b\b\b\b\b\b\b\b\b\b\b\b\b\b\b\b\b\b\b\b\b\b\b\b\b\b\b\b\b\b\b\b\b\b\b\b\b\b\b\b\b\b\b\b\b\b\b\b\b\b\b\b\b\b\b\b\b\b\b\b\b\r",
      "58880/60000 [============================>.] - ETA: 0s - loss: 0.3444 - acc: 0.9058"
     ]
    },
    {
     "name": "stderr",
     "output_type": "stream",
     "text": [
      "\u001b[A\n",
      "Epoch: 56 - loss: 0.344, acc: 0.906, val_loss: 0.328, val_acc: 0.913100%|██████████| 60000/60000 [00:00<00:00, 50763.71it/s]\u001b[A\n",
      "Training:  57%|█████▋    | 57/100 [00:44<00:34,  1.25it/s]"
     ]
    },
    {
     "name": "stdout",
     "output_type": "stream",
     "text": [
      "Epoch 00056: val_loss improved from 0.32888 to 0.32805, saving model to checkpoints_mnist_log_reg_keras_tensorflow/mnist_log_reg.hdf5\n",
      "\b\b\b\b\b\b\b\b\b\b\b\b\b\b\b\b\b\b\b\b\b\b\b\b\b\b\b\b\b\b\b\b\b\b\b\b\b\b\b\b\b\b\b\b\b\b\b\b\b\b\b\b\b\b\b\b\b\b\b\b\b\b\b\b\b\b\b\b\b\b\b\b\b\b\b\b\b\b\b\b\b\b\b\r",
      "60000/60000 [==============================] - 0s - loss: 0.3442 - acc: 0.9059 - val_loss: 0.3281 - val_acc: 0.9127"
     ]
    },
    {
     "name": "stderr",
     "output_type": "stream",
     "text": [
      "\n",
      "Epoch: 57:   0%|          | 0/60000 [00:00<?, ?it/s]\u001b[A"
     ]
    },
    {
     "name": "stdout",
     "output_type": "stream",
     "text": [
      "\n",
      "Epoch 58/100\n",
      " 4608/60000 [=>............................] - ETA: 0s - loss: 0.3489 - acc: 0.9082"
     ]
    },
    {
     "name": "stderr",
     "output_type": "stream",
     "text": [
      "\n",
      "\r",
      "Epoch: 57 - loss: 0.358, acc: 0.904 15%|█▍        | 8960/60000 [00:00<00:00, 87235.90it/s]"
     ]
    },
    {
     "name": "stdout",
     "output_type": "stream",
     "text": [
      "13568/60000 [=====>........................] - ETA: 0s - loss: 0.3568 - acc: 0.9034"
     ]
    },
    {
     "name": "stderr",
     "output_type": "stream",
     "text": [
      "\u001b[A\n",
      "Epoch: 57 - loss: 0.359, acc: 0.903 29%|██▊       | 17152/60000 [00:00<00:00, 85279.56it/s]"
     ]
    },
    {
     "name": "stdout",
     "output_type": "stream",
     "text": [
      "22016/60000 [==========>...................] - ETA: 0s - loss: 0.3515 - acc: 0.9043"
     ]
    },
    {
     "name": "stderr",
     "output_type": "stream",
     "text": [
      "\u001b[A\n",
      "Epoch: 57 - loss: 0.349, acc: 0.904 43%|████▎     | 25856/60000 [00:00<00:00, 85687.82it/s]"
     ]
    },
    {
     "name": "stdout",
     "output_type": "stream",
     "text": [
      "30464/60000 [==============>...............] - ETA: 0s - loss: 0.3501 - acc: 0.9040"
     ]
    },
    {
     "name": "stderr",
     "output_type": "stream",
     "text": [
      "\u001b[A\n",
      "Epoch: 57 - loss: 0.347, acc: 0.905 58%|█████▊    | 34560/60000 [00:00<00:00, 85640.91it/s]"
     ]
    },
    {
     "name": "stdout",
     "output_type": "stream",
     "text": [
      "39168/60000 [==================>...........] - ETA: 0s - loss: 0.3450 - acc: 0.9061"
     ]
    },
    {
     "name": "stderr",
     "output_type": "stream",
     "text": [
      "\u001b[A\n",
      "Epoch: 57 - loss: 0.345, acc: 0.906 72%|███████▏  | 43264/60000 [00:00<00:00, 85736.28it/s]"
     ]
    },
    {
     "name": "stdout",
     "output_type": "stream",
     "text": [
      "48384/60000 [=======================>......] - ETA: 0s - loss: 0.3437 - acc: 0.9060"
     ]
    },
    {
     "name": "stderr",
     "output_type": "stream",
     "text": [
      "\u001b[A\n",
      "Epoch: 57 - loss: 0.342, acc: 0.907 86%|████████▌ | 51712/60000 [00:00<00:00, 84601.31it/s]"
     ]
    },
    {
     "name": "stdout",
     "output_type": "stream",
     "text": [
      "56320/60000 [===========================>..] - ETA: 0s - loss: 0.3431 - acc: 0.9064"
     ]
    },
    {
     "name": "stderr",
     "output_type": "stream",
     "text": [
      "\u001b[A\n",
      "Epoch: 57 - loss: 0.343, acc: 0.906100%|█████████▉| 59904/60000 [00:00<00:00, 83319.82it/s]\u001b[A\n",
      "Epoch: 57 - loss: 0.343, acc: 0.906, val_loss: 0.327, val_acc: 0.913100%|██████████| 60000/60000 [00:00<00:00, 5184.33it/s]\u001b[A\n",
      "Training:  58%|█████▊    | 58/100 [00:45<00:33,  1.26it/s]"
     ]
    },
    {
     "name": "stdout",
     "output_type": "stream",
     "text": [
      "Epoch 00057: val_loss improved from 0.32805 to 0.32724, saving model to checkpoints_mnist_log_reg_keras_tensorflow/mnist_log_reg.hdf5\n",
      "\b\b\b\b\b\b\b\b\b\b\b\b\b\b\b\b\b\b\b\b\b\b\b\b\b\b\b\b\b\b\b\b\b\b\b\b\b\b\b\b\b\b\b\b\b\b\b\b\b\b\b\b\b\b\b\b\b\b\b\b\b\b\b\b\b\b\b\b\b\b\b\b\b\b\b\b\b\b\b\b\b\b\b\r",
      "60000/60000 [==============================] - 0s - loss: 0.3431 - acc: 0.9062 - val_loss: 0.3272 - val_acc: 0.9129"
     ]
    },
    {
     "name": "stderr",
     "output_type": "stream",
     "text": [
      "\n",
      "\r",
      "Epoch: 58:   0%|          | 0/60000 [00:00<?, ?it/s]"
     ]
    },
    {
     "name": "stdout",
     "output_type": "stream",
     "text": [
      "\n",
      "Epoch 59/100\n",
      "\r",
      "  256/60000 [..............................] - ETA: 1s - loss: 0.3235 - acc: 0.9062"
     ]
    },
    {
     "name": "stderr",
     "output_type": "stream",
     "text": [
      "\u001b[A"
     ]
    },
    {
     "name": "stdout",
     "output_type": "stream",
     "text": [
      "\b\b\b\b\b\b\b\b\b\b\b\b\b\b\b\b\b\b\b\b\b\b\b\b\b\b\b\b\b\b\b\b\b\b\b\b\b\b\b\b\b\b\b\b\b\b\b\b\b\b\b\b\b\b\b\b\b\b\b\b\b\b\b\b\b\b\b\b\b\b\b\b\b\b\b\b\b\b\b\b\b\b\b\r",
      " 4608/60000 [=>............................] - ETA: 0s - loss: 0.3424 - acc: 0.9089"
     ]
    },
    {
     "name": "stderr",
     "output_type": "stream",
     "text": [
      "\n",
      "\r",
      "Epoch: 58 - loss: 0.352, acc: 0.909 14%|█▎        | 8192/60000 [00:00<00:00, 78843.63it/s]"
     ]
    },
    {
     "name": "stdout",
     "output_type": "stream",
     "text": [
      "\b\b\b\b\b\b\b\b\b\b\b\b\b\b\b\b\b\b\b\b\b\b\b\b\b\b\b\b\b\b\b\b\b\b\b\b\b\b\b\b\b\b\b\b\b\b\b\b\b\b\b\b\b\b\b\b\b\b\b\b\b\b\b\b\b\b\b\b\b\b\b\b\b\b\b\b\b\b\b\b\b\b\b\r",
      " 8448/60000 [===>..........................] - ETA: 0s - loss: 0.3506 - acc: 0.9098"
     ]
    },
    {
     "name": "stderr",
     "output_type": "stream",
     "text": [
      "\u001b[A"
     ]
    },
    {
     "name": "stdout",
     "output_type": "stream",
     "text": [
      "\b\b\b\b\b\b\b\b\b\b\b\b\b\b\b\b\b\b\b\b\b\b\b\b\b\b\b\b\b\b\b\b\b\b\b\b\b\b\b\b\b\b\b\b\b\b\b\b\b\b\b\b\b\b\b\b\b\b\b\b\b\b\b\b\b\b\b\b\b\b\b\b\b\b\b\b\b\b\b\b\b\b\b\r",
      "12544/60000 [=====>........................] - ETA: 0s - loss: 0.3501 - acc: 0.9073"
     ]
    },
    {
     "name": "stderr",
     "output_type": "stream",
     "text": [
      "\n",
      "\r",
      "Epoch: 58 - loss: 0.346, acc: 0.909 27%|██▋       | 16384/60000 [00:00<00:00, 79511.12it/s]"
     ]
    },
    {
     "name": "stdout",
     "output_type": "stream",
     "text": [
      "20736/60000 [=========>....................] - ETA: 0s - loss: 0.3451 - acc: 0.9083"
     ]
    },
    {
     "name": "stderr",
     "output_type": "stream",
     "text": [
      "\u001b[A\n",
      "Epoch: 58 - loss: 0.342, acc: 0.909 40%|████      | 24064/60000 [00:00<00:00, 77970.79it/s]"
     ]
    },
    {
     "name": "stdout",
     "output_type": "stream",
     "text": [
      "28416/60000 [=============>................] - ETA: 0s - loss: 0.3420 - acc: 0.9089"
     ]
    },
    {
     "name": "stderr",
     "output_type": "stream",
     "text": [
      "\u001b[A\n",
      "Epoch: 58 - loss: 0.343, acc: 0.908 54%|█████▍    | 32256/60000 [00:00<00:00, 78919.19it/s]"
     ]
    },
    {
     "name": "stdout",
     "output_type": "stream",
     "text": [
      "37376/60000 [=================>............] - ETA: 0s - loss: 0.3420 - acc: 0.9077"
     ]
    },
    {
     "name": "stderr",
     "output_type": "stream",
     "text": [
      "\u001b[A\n",
      "Epoch: 58 - loss: 0.341, acc: 0.908 69%|██████▊   | 41216/60000 [00:00<00:00, 81309.77it/s]"
     ]
    },
    {
     "name": "stdout",
     "output_type": "stream",
     "text": [
      "46592/60000 [======================>.......] - ETA: 0s - loss: 0.3418 - acc: 0.9072"
     ]
    },
    {
     "name": "stderr",
     "output_type": "stream",
     "text": [
      "\u001b[A\n",
      "Epoch: 58 - loss: 0.342, acc: 0.907 83%|████████▎ | 49920/60000 [00:00<00:00, 82764.64it/s]"
     ]
    },
    {
     "name": "stdout",
     "output_type": "stream",
     "text": [
      "55808/60000 [==========================>...] - ETA: 0s - loss: 0.3406 - acc: 0.9072"
     ]
    },
    {
     "name": "stderr",
     "output_type": "stream",
     "text": [
      "\u001b[A\n",
      "Epoch: 58 - loss: 0.342, acc: 0.907 97%|█████████▋| 58368/60000 [00:00<00:00, 83236.88it/s]"
     ]
    },
    {
     "name": "stdout",
     "output_type": "stream",
     "text": [
      "\b\b\b\b\b\b\b\b\b\b\b\b\b\b\b\b\b\b\b\b\b\b\b\b\b\b\b\b\b\b\b\b\b\b\b\b\b\b\b\b\b\b\b\b\b\b\b\b\b\b\b\b\b\b\b\b\b\b\b\b\b\b\b\b\b\b\b\b\b\b\b\b\b\b\b\b\b\b\b\b\b\b\b\r",
      "59648/60000 [============================>.] - ETA: 0s - loss: 0.3419 - acc: 0.9066"
     ]
    },
    {
     "name": "stderr",
     "output_type": "stream",
     "text": [
      "\u001b[A\n",
      "Epoch: 58 - loss: 0.342, acc: 0.906, val_loss: 0.326, val_acc: 0.913100%|██████████| 60000/60000 [00:00<00:00, 42849.90it/s]\u001b[A\n",
      "Training:  59%|█████▉    | 59/100 [00:46<00:32,  1.25it/s]"
     ]
    },
    {
     "name": "stdout",
     "output_type": "stream",
     "text": [
      "Epoch 00058: val_loss improved from 0.32724 to 0.32629, saving model to checkpoints_mnist_log_reg_keras_tensorflow/mnist_log_reg.hdf5\n",
      "\b\b\b\b\b\b\b\b\b\b\b\b\b\b\b\b\b\b\b\b\b\b\b\b\b\b\b\b\b\b\b\b\b\b\b\b\b\b\b\b\b\b\b\b\b\b\b\b\b\b\b\b\b\b\b\b\b\b\b\b\b\b\b\b\b\b\b\b\b\b\b\b\b\b\b\b\b\b\b\b\b\b\b\r",
      "60000/60000 [==============================] - 0s - loss: 0.3421 - acc: 0.9065 - val_loss: 0.3263 - val_acc: 0.9135"
     ]
    },
    {
     "name": "stderr",
     "output_type": "stream",
     "text": [
      "\n",
      "\r",
      "Epoch: 59:   0%|          | 0/60000 [00:00<?, ?it/s]"
     ]
    },
    {
     "name": "stdout",
     "output_type": "stream",
     "text": [
      "\n",
      "Epoch 60/100\n",
      "\r",
      "  256/60000 [..............................] - ETA: 1s - loss: 0.3138 - acc: 0.8984"
     ]
    },
    {
     "name": "stderr",
     "output_type": "stream",
     "text": [
      "\u001b[A"
     ]
    },
    {
     "name": "stdout",
     "output_type": "stream",
     "text": [
      "\b\b\b\b\b\b\b\b\b\b\b\b\b\b\b\b\b\b\b\b\b\b\b\b\b\b\b\b\b\b\b\b\b\b\b\b\b\b\b\b\b\b\b\b\b\b\b\b\b\b\b\b\b\b\b\b\b\b\b\b\b\b\b\b\b\b\b\b\b\b\b\b\b\b\b\b\b\b\b\b\b\b\b\r",
      " 4096/60000 [=>............................] - ETA: 0s - loss: 0.3368 - acc: 0.9082"
     ]
    },
    {
     "name": "stderr",
     "output_type": "stream",
     "text": [
      "\n",
      "\r",
      "Epoch: 59 - loss: 0.337, acc: 0.910 14%|█▍        | 8448/60000 [00:00<00:00, 81969.77it/s]"
     ]
    },
    {
     "name": "stdout",
     "output_type": "stream",
     "text": [
      "\b\b\b\b\b\b\b\b\b\b\b\b\b\b\b\b\b\b\b\b\b\b\b\b\b\b\b\b\b\b\b\b\b\b\b\b\b\b\b\b\b\b\b\b\b\b\b\b\b\b\b\b\b\b\b\b\b\b\b\b\b\b\b\b\b\b\b\b\b\b\b\b\b\b\b\b\b\b\b\b\b\b\b\r",
      " 8704/60000 [===>..........................] - ETA: 0s - loss: 0.3369 - acc: 0.9102"
     ]
    },
    {
     "name": "stderr",
     "output_type": "stream",
     "text": [
      "\u001b[A"
     ]
    },
    {
     "name": "stdout",
     "output_type": "stream",
     "text": [
      "\b\b\b\b\b\b\b\b\b\b\b\b\b\b\b\b\b\b\b\b\b\b\b\b\b\b\b\b\b\b\b\b\b\b\b\b\b\b\b\b\b\b\b\b\b\b\b\b\b\b\b\b\b\b\b\b\b\b\b\b\b\b\b\b\b\b\b\b\b\b\b\b\b\b\b\b\b\b\b\b\b\b\b\r",
      "13568/60000 [=====>........................] - ETA: 0s - loss: 0.3368 - acc: 0.9081"
     ]
    },
    {
     "name": "stderr",
     "output_type": "stream",
     "text": [
      "\n",
      "\r",
      "Epoch: 59 - loss: 0.339, acc: 0.908 29%|██▉       | 17664/60000 [00:00<00:00, 84596.32it/s]"
     ]
    },
    {
     "name": "stdout",
     "output_type": "stream",
     "text": [
      "22528/60000 [==========>...................] - ETA: 0s - loss: 0.3415 - acc: 0.9078"
     ]
    },
    {
     "name": "stderr",
     "output_type": "stream",
     "text": [
      "\u001b[A\n",
      "Epoch: 59 - loss: 0.340, acc: 0.908 44%|████▍     | 26624/60000 [00:00<00:00, 85237.14it/s]"
     ]
    },
    {
     "name": "stdout",
     "output_type": "stream",
     "text": [
      "31488/60000 [==============>...............] - ETA: 0s - loss: 0.3388 - acc: 0.9082"
     ]
    },
    {
     "name": "stderr",
     "output_type": "stream",
     "text": [
      "\u001b[A\n",
      "Epoch: 59 - loss: 0.341, acc: 0.908 58%|█████▊    | 35072/60000 [00:00<00:00, 84569.38it/s]"
     ]
    },
    {
     "name": "stdout",
     "output_type": "stream",
     "text": [
      "39936/60000 [==================>...........] - ETA: 0s - loss: 0.3400 - acc: 0.9076"
     ]
    },
    {
     "name": "stderr",
     "output_type": "stream",
     "text": [
      "\u001b[A\n",
      "Epoch: 59 - loss: 0.340, acc: 0.907 72%|███████▏  | 43008/60000 [00:00<00:00, 82650.56it/s]"
     ]
    },
    {
     "name": "stdout",
     "output_type": "stream",
     "text": [
      "48128/60000 [=======================>......] - ETA: 0s - loss: 0.3395 - acc: 0.9073"
     ]
    },
    {
     "name": "stderr",
     "output_type": "stream",
     "text": [
      "\u001b[A\n",
      "Epoch: 59 - loss: 0.339, acc: 0.907 86%|████████▌ | 51456/60000 [00:00<00:00, 82366.37it/s]"
     ]
    },
    {
     "name": "stdout",
     "output_type": "stream",
     "text": [
      "57088/60000 [===========================>..] - ETA: 0s - loss: 0.3416 - acc: 0.9066"
     ]
    },
    {
     "name": "stderr",
     "output_type": "stream",
     "text": [
      "\u001b[A\n",
      "Epoch: 59 - loss: 0.341, acc: 0.907, val_loss: 0.326, val_acc: 0.913100%|██████████| 60000/60000 [00:00<00:00, 72333.91it/s]\u001b[A\n",
      "Training:  60%|██████    | 60/100 [00:47<00:31,  1.27it/s]"
     ]
    },
    {
     "name": "stdout",
     "output_type": "stream",
     "text": [
      "Epoch 00059: val_loss improved from 0.32629 to 0.32561, saving model to checkpoints_mnist_log_reg_keras_tensorflow/mnist_log_reg.hdf5\n",
      "60000/60000 [==============================] - 0s - loss: 0.3411 - acc: 0.9068 - val_loss: 0.3256 - val_acc: 0.9134"
     ]
    },
    {
     "name": "stderr",
     "output_type": "stream",
     "text": [
      "\n",
      "\r",
      "Epoch: 60:   0%|          | 0/60000 [00:00<?, ?it/s]"
     ]
    },
    {
     "name": "stdout",
     "output_type": "stream",
     "text": [
      "\n",
      "Epoch 61/100\n",
      "\r",
      "  256/60000 [..............................] - ETA: 1s - loss: 0.3255 - acc: 0.9023"
     ]
    },
    {
     "name": "stderr",
     "output_type": "stream",
     "text": [
      "\u001b[A"
     ]
    },
    {
     "name": "stdout",
     "output_type": "stream",
     "text": [
      "\b\b\b\b\b\b\b\b\b\b\b\b\b\b\b\b\b\b\b\b\b\b\b\b\b\b\b\b\b\b\b\b\b\b\b\b\b\b\b\b\b\b\b\b\b\b\b\b\b\b\b\b\b\b\b\b\b\b\b\b\b\b\b\b\b\b\b\b\b\b\b\b\b\b\b\b\b\b\b\b\b\b\b\r",
      " 4864/60000 [=>............................] - ETA: 0s - loss: 0.3394 - acc: 0.9034"
     ]
    },
    {
     "name": "stderr",
     "output_type": "stream",
     "text": [
      "\n",
      "\r",
      "Epoch: 60 - loss: 0.338, acc: 0.903 15%|█▍        | 8704/60000 [00:00<00:00, 85828.06it/s]"
     ]
    },
    {
     "name": "stdout",
     "output_type": "stream",
     "text": [
      "13824/60000 [=====>........................] - ETA: 0s - loss: 0.3381 - acc: 0.9053"
     ]
    },
    {
     "name": "stderr",
     "output_type": "stream",
     "text": [
      "\u001b[A\n",
      "Epoch: 60 - loss: 0.340, acc: 0.905 29%|██▉       | 17408/60000 [00:00<00:00, 86018.50it/s]"
     ]
    },
    {
     "name": "stdout",
     "output_type": "stream",
     "text": [
      "22272/60000 [==========>...................] - ETA: 0s - loss: 0.3426 - acc: 0.9050"
     ]
    },
    {
     "name": "stderr",
     "output_type": "stream",
     "text": [
      "\u001b[A\n",
      "Epoch: 60 - loss: 0.344, acc: 0.905 43%|████▎     | 25856/60000 [00:00<00:00, 85343.85it/s]"
     ]
    },
    {
     "name": "stdout",
     "output_type": "stream",
     "text": [
      "30464/60000 [==============>...............] - ETA: 0s - loss: 0.3411 - acc: 0.9064"
     ]
    },
    {
     "name": "stderr",
     "output_type": "stream",
     "text": [
      "\u001b[A\n",
      "Epoch: 60 - loss: 0.342, acc: 0.907 57%|█████▋    | 34048/60000 [00:00<00:00, 83319.16it/s]"
     ]
    },
    {
     "name": "stdout",
     "output_type": "stream",
     "text": [
      "38400/60000 [==================>...........] - ETA: 0s - loss: 0.3404 - acc: 0.9068"
     ]
    },
    {
     "name": "stderr",
     "output_type": "stream",
     "text": [
      "\u001b[A\n",
      "Epoch: 60 - loss: 0.339, acc: 0.907 70%|███████   | 42240/60000 [00:00<00:00, 82324.29it/s]"
     ]
    },
    {
     "name": "stdout",
     "output_type": "stream",
     "text": [
      "47872/60000 [======================>.......] - ETA: 0s - loss: 0.3373 - acc: 0.9076"
     ]
    },
    {
     "name": "stderr",
     "output_type": "stream",
     "text": [
      "\u001b[A\n",
      "Epoch: 60 - loss: 0.339, acc: 0.907 86%|████████▌ | 51712/60000 [00:00<00:00, 85479.43it/s]"
     ]
    },
    {
     "name": "stdout",
     "output_type": "stream",
     "text": [
      "56576/60000 [===========================>..] - ETA: 0s - loss: 0.3391 - acc: 0.9068"
     ]
    },
    {
     "name": "stderr",
     "output_type": "stream",
     "text": [
      "\u001b[A\n",
      "Epoch: 60 - loss: 0.340, acc: 0.907 99%|█████████▉| 59392/60000 [00:00<00:00, 82370.63it/s]\u001b[A\n",
      "Epoch: 60 - loss: 0.340, acc: 0.907, val_loss: 0.325, val_acc: 0.914100%|██████████| 60000/60000 [00:00<00:00, 17976.98it/s]\u001b[A\n",
      "Training:  61%|██████    | 61/100 [00:48<00:31,  1.25it/s]"
     ]
    },
    {
     "name": "stdout",
     "output_type": "stream",
     "text": [
      "Epoch 00060: val_loss improved from 0.32561 to 0.32463, saving model to checkpoints_mnist_log_reg_keras_tensorflow/mnist_log_reg.hdf5\n",
      "\b\b\b\b\b\b\b\b\b\b\b\b\b\b\b\b\b\b\b\b\b\b\b\b\b\b\b\b\b\b\b\b\b\b\b\b\b\b\b\b\b\b\b\b\b\b\b\b\b\b\b\b\b\b\b\b\b\b\b\b\b\b\b\b\b\b\b\b\b\b\b\b\b\b\b\b\b\b\b\b\b\b\b\r",
      "60000/60000 [==============================] - 0s - loss: 0.3402 - acc: 0.9069 - val_loss: 0.3246 - val_acc: 0.9140"
     ]
    },
    {
     "name": "stderr",
     "output_type": "stream",
     "text": [
      "\n",
      "\r",
      "Epoch: 61:   0%|          | 0/60000 [00:00<?, ?it/s]"
     ]
    },
    {
     "name": "stdout",
     "output_type": "stream",
     "text": [
      "\n",
      "Epoch 62/100\n",
      " 3840/60000 [>.............................] - ETA: 0s - loss: 0.3662 - acc: 0.9023"
     ]
    },
    {
     "name": "stderr",
     "output_type": "stream",
     "text": [
      "\u001b[A\n",
      "Epoch: 61 - loss: 0.358, acc: 0.903 12%|█▏        | 7168/60000 [00:00<00:00, 70529.05it/s]"
     ]
    },
    {
     "name": "stdout",
     "output_type": "stream",
     "text": [
      "12288/60000 [=====>........................] - ETA: 0s - loss: 0.3406 - acc: 0.9073"
     ]
    },
    {
     "name": "stderr",
     "output_type": "stream",
     "text": [
      "\u001b[A\n",
      "Epoch: 61 - loss: 0.340, acc: 0.908 25%|██▍       | 14848/60000 [00:00<00:00, 71876.40it/s]"
     ]
    },
    {
     "name": "stdout",
     "output_type": "stream",
     "text": [
      "19968/60000 [========>.....................] - ETA: 0s - loss: 0.3394 - acc: 0.9059"
     ]
    },
    {
     "name": "stderr",
     "output_type": "stream",
     "text": [
      "\u001b[A\n",
      "Epoch: 61 - loss: 0.337, acc: 0.907 39%|███▉      | 23296/60000 [00:00<00:00, 74777.04it/s]"
     ]
    },
    {
     "name": "stdout",
     "output_type": "stream",
     "text": [
      "28672/60000 [=============>................] - ETA: 0s - loss: 0.3356 - acc: 0.9078"
     ]
    },
    {
     "name": "stderr",
     "output_type": "stream",
     "text": [
      "\u001b[A\n",
      "Epoch: 61 - loss: 0.338, acc: 0.907 54%|█████▍    | 32512/60000 [00:00<00:00, 79081.49it/s]"
     ]
    },
    {
     "name": "stdout",
     "output_type": "stream",
     "text": [
      "37632/60000 [=================>............] - ETA: 0s - loss: 0.3360 - acc: 0.9079"
     ]
    },
    {
     "name": "stderr",
     "output_type": "stream",
     "text": [
      "\u001b[A\n",
      "Epoch: 61 - loss: 0.336, acc: 0.908 68%|██████▊   | 40960/60000 [00:00<00:00, 80421.17it/s]"
     ]
    },
    {
     "name": "stdout",
     "output_type": "stream",
     "text": [
      "46336/60000 [======================>.......] - ETA: 0s - loss: 0.3349 - acc: 0.9085"
     ]
    },
    {
     "name": "stderr",
     "output_type": "stream",
     "text": [
      "\u001b[A\n",
      "Epoch: 61 - loss: 0.335, acc: 0.909 83%|████████▎ | 49664/60000 [00:00<00:00, 82214.61it/s]"
     ]
    },
    {
     "name": "stdout",
     "output_type": "stream",
     "text": [
      "55040/60000 [==========================>...] - ETA: 0s - loss: 0.3367 - acc: 0.9077"
     ]
    },
    {
     "name": "stderr",
     "output_type": "stream",
     "text": [
      "\u001b[A\n",
      "Epoch: 61 - loss: 0.338, acc: 0.907 96%|█████████▌| 57600/60000 [00:00<00:00, 81319.09it/s]"
     ]
    },
    {
     "name": "stdout",
     "output_type": "stream",
     "text": [
      "\b\b\b\b\b\b\b\b\b\b\b\b\b\b\b\b\b\b\b\b\b\b\b\b\b\b\b\b\b\b\b\b\b\b\b\b\b\b\b\b\b\b\b\b\b\b\b\b\b\b\b\b\b\b\b\b\b\b\b\b\b\b\b\b\b\b\b\b\b\b\b\b\b\b\b\b\b\b\b\b\b\b\b\r",
      "58880/60000 [============================>.] - ETA: 0s - loss: 0.3392 - acc: 0.9071"
     ]
    },
    {
     "name": "stderr",
     "output_type": "stream",
     "text": [
      "\u001b[A\n",
      "Epoch: 61 - loss: 0.339, acc: 0.907, val_loss: 0.324, val_acc: 0.914100%|██████████| 60000/60000 [00:00<00:00, 51643.28it/s]\u001b[A\n",
      "Training:  62%|██████▏   | 62/100 [00:48<00:30,  1.25it/s]"
     ]
    },
    {
     "name": "stdout",
     "output_type": "stream",
     "text": [
      "Epoch 00061: val_loss improved from 0.32463 to 0.32377, saving model to checkpoints_mnist_log_reg_keras_tensorflow/mnist_log_reg.hdf5\n",
      "\b\b\b\b\b\b\b\b\b\b\b\b\b\b\b\b\b\b\b\b\b\b\b\b\b\b\b\b\b\b\b\b\b\b\b\b\b\b\b\b\b\b\b\b\b\b\b\b\b\b\b\b\b\b\b\b\b\b\b\b\b\b\b\b\b\b\b\b\b\b\b\b\b\b\b\b\b\b\b\b\b\b\b\r",
      "60000/60000 [==============================] - 0s - loss: 0.3392 - acc: 0.9071 - val_loss: 0.3238 - val_acc: 0.9144"
     ]
    },
    {
     "name": "stderr",
     "output_type": "stream",
     "text": [
      "\n",
      "Epoch: 62:   0%|          | 0/60000 [00:00<?, ?it/s]\u001b[A"
     ]
    },
    {
     "name": "stdout",
     "output_type": "stream",
     "text": [
      "\n",
      "Epoch 63/100\n",
      " 4608/60000 [=>............................] - ETA: 0s - loss: 0.3335 - acc: 0.9067"
     ]
    },
    {
     "name": "stderr",
     "output_type": "stream",
     "text": [
      "\n",
      "\r",
      "Epoch: 62 - loss: 0.327, acc: 0.908 14%|█▍        | 8448/60000 [00:00<00:00, 83577.02it/s]"
     ]
    },
    {
     "name": "stdout",
     "output_type": "stream",
     "text": [
      "13056/60000 [=====>........................] - ETA: 0s - loss: 0.3235 - acc: 0.9101"
     ]
    },
    {
     "name": "stderr",
     "output_type": "stream",
     "text": [
      "\u001b[A\n",
      "Epoch: 62 - loss: 0.327, acc: 0.910 27%|██▋       | 16384/60000 [00:00<00:00, 81592.78it/s]"
     ]
    },
    {
     "name": "stdout",
     "output_type": "stream",
     "text": [
      "20992/60000 [=========>....................] - ETA: 0s - loss: 0.3294 - acc: 0.9097"
     ]
    },
    {
     "name": "stderr",
     "output_type": "stream",
     "text": [
      "\u001b[A\n",
      "Epoch: 62 - loss: 0.333, acc: 0.908 41%|████      | 24320/60000 [00:00<00:00, 80777.35it/s]"
     ]
    },
    {
     "name": "stdout",
     "output_type": "stream",
     "text": [
      "29696/60000 [=============>................] - ETA: 0s - loss: 0.3361 - acc: 0.9078"
     ]
    },
    {
     "name": "stderr",
     "output_type": "stream",
     "text": [
      "\u001b[A\n",
      "Epoch: 62 - loss: 0.338, acc: 0.908 55%|█████▍    | 32768/60000 [00:00<00:00, 81363.80it/s]"
     ]
    },
    {
     "name": "stdout",
     "output_type": "stream",
     "text": [
      "37888/60000 [=================>............] - ETA: 0s - loss: 0.3368 - acc: 0.9077"
     ]
    },
    {
     "name": "stderr",
     "output_type": "stream",
     "text": [
      "\u001b[A\n",
      "Epoch: 62 - loss: 0.337, acc: 0.908 68%|██████▊   | 40960/60000 [00:00<00:00, 81520.49it/s]"
     ]
    },
    {
     "name": "stdout",
     "output_type": "stream",
     "text": [
      "45824/60000 [=====================>........] - ETA: 0s - loss: 0.3366 - acc: 0.9076"
     ]
    },
    {
     "name": "stderr",
     "output_type": "stream",
     "text": [
      "\u001b[A\n",
      "Epoch: 62 - loss: 0.338, acc: 0.907 81%|████████▏ | 48896/60000 [00:00<00:00, 80651.93it/s]"
     ]
    },
    {
     "name": "stdout",
     "output_type": "stream",
     "text": [
      "54784/60000 [==========================>...] - ETA: 0s - loss: 0.3383 - acc: 0.9073"
     ]
    },
    {
     "name": "stderr",
     "output_type": "stream",
     "text": [
      "\u001b[A\n",
      "Epoch: 62 - loss: 0.339, acc: 0.907 95%|█████████▌| 57088/60000 [00:00<00:00, 80654.71it/s]"
     ]
    },
    {
     "name": "stdout",
     "output_type": "stream",
     "text": [
      "\b\b\b\b\b\b\b\b\b\b\b\b\b\b\b\b\b\b\b\b\b\b\b\b\b\b\b\b\b\b\b\b\b\b\b\b\b\b\b\b\b\b\b\b\b\b\b\b\b\b\b\b\b\b\b\b\b\b\b\b\b\b\b\b\b\b\b\b\b\b\b\b\b\b\b\b\b\b\b\b\b\b\b\r",
      "58368/60000 [============================>.] - ETA: 0s - loss: 0.3391 - acc: 0.9070"
     ]
    },
    {
     "name": "stderr",
     "output_type": "stream",
     "text": [
      "\u001b[A\n",
      "Epoch: 62 - loss: 0.338, acc: 0.907, val_loss: 0.323, val_acc: 0.914100%|██████████| 60000/60000 [00:00<00:00, 51540.98it/s]\u001b[A\n",
      "Training:  63%|██████▎   | 63/100 [00:49<00:29,  1.24it/s]"
     ]
    },
    {
     "name": "stdout",
     "output_type": "stream",
     "text": [
      "Epoch 00062: val_loss improved from 0.32377 to 0.32300, saving model to checkpoints_mnist_log_reg_keras_tensorflow/mnist_log_reg.hdf5\n",
      "60000/60000 [==============================] - 0s - loss: 0.3383 - acc: 0.9073 - val_loss: 0.3230 - val_acc: 0.9143"
     ]
    },
    {
     "name": "stderr",
     "output_type": "stream",
     "text": [
      "\n",
      "\r",
      "Epoch: 63:   0%|          | 0/60000 [00:00<?, ?it/s]"
     ]
    },
    {
     "name": "stdout",
     "output_type": "stream",
     "text": [
      "\n",
      "Epoch 64/100\n",
      " 4096/60000 [=>............................] - ETA: 0s - loss: 0.3247 - acc: 0.9138"
     ]
    },
    {
     "name": "stderr",
     "output_type": "stream",
     "text": [
      "\u001b[A\n",
      "Epoch: 63 - loss: 0.327, acc: 0.913 12%|█▏        | 7424/60000 [00:00<00:00, 73152.80it/s]"
     ]
    },
    {
     "name": "stdout",
     "output_type": "stream",
     "text": [
      "12544/60000 [=====>........................] - ETA: 0s - loss: 0.3251 - acc: 0.9136"
     ]
    },
    {
     "name": "stderr",
     "output_type": "stream",
     "text": [
      "\u001b[A\n",
      "Epoch: 63 - loss: 0.327, acc: 0.913 26%|██▌       | 15360/60000 [00:00<00:00, 74608.04it/s]"
     ]
    },
    {
     "name": "stdout",
     "output_type": "stream",
     "text": [
      "21248/60000 [=========>....................] - ETA: 0s - loss: 0.3289 - acc: 0.9104"
     ]
    },
    {
     "name": "stderr",
     "output_type": "stream",
     "text": [
      "\u001b[A\n",
      "Epoch: 63 - loss: 0.332, acc: 0.910 40%|████      | 24064/60000 [00:00<00:00, 77427.66it/s]"
     ]
    },
    {
     "name": "stdout",
     "output_type": "stream",
     "text": [
      "29696/60000 [=============>................] - ETA: 0s - loss: 0.3319 - acc: 0.9109"
     ]
    },
    {
     "name": "stderr",
     "output_type": "stream",
     "text": [
      "\u001b[A\n",
      "Epoch: 63 - loss: 0.334, acc: 0.910 55%|█████▍    | 32768/60000 [00:00<00:00, 79434.46it/s]"
     ]
    },
    {
     "name": "stdout",
     "output_type": "stream",
     "text": [
      "38656/60000 [==================>...........] - ETA: 0s - loss: 0.3324 - acc: 0.9103"
     ]
    },
    {
     "name": "stderr",
     "output_type": "stream",
     "text": [
      "\u001b[A\n",
      "Epoch: 63 - loss: 0.332, acc: 0.910 68%|██████▊   | 40704/60000 [00:00<00:00, 78680.50it/s]"
     ]
    },
    {
     "name": "stdout",
     "output_type": "stream",
     "text": [
      "45312/60000 [=====================>........] - ETA: 0s - loss: 0.3341 - acc: 0.9089"
     ]
    },
    {
     "name": "stderr",
     "output_type": "stream",
     "text": [
      "\u001b[A\n",
      "Epoch: 63 - loss: 0.335, acc: 0.908 80%|███████▉  | 47872/60000 [00:00<00:00, 76257.26it/s]"
     ]
    },
    {
     "name": "stdout",
     "output_type": "stream",
     "text": [
      "52992/60000 [=========================>....] - ETA: 0s - loss: 0.3370 - acc: 0.9079"
     ]
    },
    {
     "name": "stderr",
     "output_type": "stream",
     "text": [
      "\u001b[A\n",
      "Epoch: 63 - loss: 0.336, acc: 0.908 92%|█████████▏| 55040/60000 [00:00<00:00, 74341.04it/s]"
     ]
    },
    {
     "name": "stdout",
     "output_type": "stream",
     "text": [
      "\b\b\b\b\b\b\b\b\b\b\b\b\b\b\b\b\b\b\b\b\b\b\b\b\b\b\b\b\b\b\b\b\b\b\b\b\b\b\b\b\b\b\b\b\b\b\b\b\b\b\b\b\b\b\b\b\b\b\b\b\b\b\b\b\b\b\b\b\b\b\b\b\b\b\b\b\b\b\b\b\b\b\b\r",
      "56576/60000 [===========================>..] - ETA: 0s - loss: 0.3370 - acc: 0.9079"
     ]
    },
    {
     "name": "stderr",
     "output_type": "stream",
     "text": [
      "\u001b[A\n",
      "Epoch: 63 - loss: 0.337, acc: 0.908, val_loss: 0.322, val_acc: 0.915100%|██████████| 60000/60000 [00:00<00:00, 60375.81it/s]\u001b[A\n",
      "Training:  64%|██████▍   | 64/100 [00:50<00:29,  1.22it/s]"
     ]
    },
    {
     "name": "stdout",
     "output_type": "stream",
     "text": [
      "Epoch 00063: val_loss improved from 0.32300 to 0.32232, saving model to checkpoints_mnist_log_reg_keras_tensorflow/mnist_log_reg.hdf5\n",
      "\b\b\b\b\b\b\b\b\b\b\b\b\b\b\b\b\b\b\b\b\b\b\b\b\b\b\b\b\b\b\b\b\b\b\b\b\b\b\b\b\b\b\b\b\b\b\b\b\b\b\b\b\b\b\b\b\b\b\b\b\b\b\b\b\b\b\b\b\b\b\b\b\b\b\b\b\b\b\b\b\b\b\b\r",
      "60000/60000 [==============================] - 0s - loss: 0.3375 - acc: 0.9079 - val_loss: 0.3223 - val_acc: 0.9148"
     ]
    },
    {
     "name": "stderr",
     "output_type": "stream",
     "text": [
      "\n",
      "\r",
      "Epoch: 64:   0%|          | 0/60000 [00:00<?, ?it/s]"
     ]
    },
    {
     "name": "stdout",
     "output_type": "stream",
     "text": [
      "\n",
      "Epoch 65/100\n",
      " 4352/60000 [=>............................] - ETA: 0s - loss: 0.3326 - acc: 0.9069"
     ]
    },
    {
     "name": "stderr",
     "output_type": "stream",
     "text": [
      "\u001b[A\n",
      "Epoch: 64 - loss: 0.348, acc: 0.902 13%|█▎        | 7680/60000 [00:00<00:00, 76398.26it/s]"
     ]
    },
    {
     "name": "stdout",
     "output_type": "stream",
     "text": [
      "12032/60000 [=====>........................] - ETA: 0s - loss: 0.3433 - acc: 0.9044"
     ]
    },
    {
     "name": "stderr",
     "output_type": "stream",
     "text": [
      "\u001b[A\n",
      "Epoch: 64 - loss: 0.340, acc: 0.905 26%|██▌       | 15616/60000 [00:00<00:00, 76523.27it/s]"
     ]
    },
    {
     "name": "stdout",
     "output_type": "stream",
     "text": [
      "19712/60000 [========>.....................] - ETA: 0s - loss: 0.3414 - acc: 0.9048"
     ]
    },
    {
     "name": "stderr",
     "output_type": "stream",
     "text": [
      "\u001b[A\n",
      "Epoch: 64 - loss: 0.340, acc: 0.905 39%|███▉      | 23552/60000 [00:00<00:00, 77009.66it/s]"
     ]
    },
    {
     "name": "stdout",
     "output_type": "stream",
     "text": [
      "27904/60000 [============>.................] - ETA: 0s - loss: 0.3398 - acc: 0.9065"
     ]
    },
    {
     "name": "stderr",
     "output_type": "stream",
     "text": [
      "\u001b[A\n",
      "Epoch: 64 - loss: 0.339, acc: 0.907 53%|█████▎    | 32000/60000 [00:00<00:00, 78876.83it/s]"
     ]
    },
    {
     "name": "stdout",
     "output_type": "stream",
     "text": [
      "36608/60000 [=================>............] - ETA: 0s - loss: 0.3372 - acc: 0.9074"
     ]
    },
    {
     "name": "stderr",
     "output_type": "stream",
     "text": [
      "\u001b[A\n",
      "Epoch: 64 - loss: 0.338, acc: 0.907 67%|██████▋   | 39936/60000 [00:00<00:00, 78127.90it/s]"
     ]
    },
    {
     "name": "stdout",
     "output_type": "stream",
     "text": [
      "44544/60000 [=====================>........] - ETA: 0s - loss: 0.3381 - acc: 0.9069"
     ]
    },
    {
     "name": "stderr",
     "output_type": "stream",
     "text": [
      "\u001b[A\n",
      "Epoch: 64 - loss: 0.338, acc: 0.907 79%|███████▉  | 47616/60000 [00:00<00:00, 77605.49it/s]"
     ]
    },
    {
     "name": "stdout",
     "output_type": "stream",
     "text": [
      "52992/60000 [=========================>....] - ETA: 0s - loss: 0.3376 - acc: 0.9076"
     ]
    },
    {
     "name": "stderr",
     "output_type": "stream",
     "text": [
      "\u001b[A\n",
      "Epoch: 64 - loss: 0.337, acc: 0.908 93%|█████████▎| 55808/60000 [00:00<00:00, 78839.55it/s]"
     ]
    },
    {
     "name": "stdout",
     "output_type": "stream",
     "text": [
      "\b\b\b\b\b\b\b\b\b\b\b\b\b\b\b\b\b\b\b\b\b\b\b\b\b\b\b\b\b\b\b\b\b\b\b\b\b\b\b\b\b\b\b\b\b\b\b\b\b\b\b\b\b\b\b\b\b\b\b\b\b\b\b\b\b\b\b\b\b\b\b\b\b\b\b\b\b\b\b\b\b\b\b\r",
      "56832/60000 [===========================>..] - ETA: 0s - loss: 0.3366 - acc: 0.9080"
     ]
    },
    {
     "name": "stderr",
     "output_type": "stream",
     "text": [
      "\u001b[A\n",
      "Epoch: 64 - loss: 0.337, acc: 0.908, val_loss: 0.321, val_acc: 0.915100%|██████████| 60000/60000 [00:00<00:00, 59414.43it/s]\u001b[A\n",
      "Training:  65%|██████▌   | 65/100 [00:51<00:28,  1.21it/s]"
     ]
    },
    {
     "name": "stdout",
     "output_type": "stream",
     "text": [
      "Epoch 00064: val_loss improved from 0.32232 to 0.32145, saving model to checkpoints_mnist_log_reg_keras_tensorflow/mnist_log_reg.hdf5\n",
      "\b\b\b\b\b\b\b\b\b\b\b\b\b\b\b\b\b\b\b\b\b\b\b\b\b\b\b\b\b\b\b\b\b\b\b\b\b\b\b\b\b\b\b\b\b\b\b\b\b\b\b\b\b\b\b\b\b\b\b\b\b\b\b\b\b\b\b\b\b\b\b\b\b\b\b\b\b\b\b\b\b\b\b\r",
      "60000/60000 [==============================] - 0s - loss: 0.3366 - acc: 0.9081 - val_loss: 0.3214 - val_acc: 0.9147"
     ]
    },
    {
     "name": "stderr",
     "output_type": "stream",
     "text": [
      "\n",
      "\r",
      "Epoch: 65:   0%|          | 0/60000 [00:00<?, ?it/s]"
     ]
    },
    {
     "name": "stdout",
     "output_type": "stream",
     "text": [
      "\n",
      "Epoch 66/100\n",
      " 5120/60000 [=>............................] - ETA: 0s - loss: 0.3512 - acc: 0.9008"
     ]
    },
    {
     "name": "stderr",
     "output_type": "stream",
     "text": [
      "\u001b[A\n",
      "Epoch: 65 - loss: 0.347, acc: 0.903 15%|█▍        | 8960/60000 [00:00<00:00, 88641.87it/s]"
     ]
    },
    {
     "name": "stdout",
     "output_type": "stream",
     "text": [
      "13568/60000 [=====>........................] - ETA: 0s - loss: 0.3436 - acc: 0.9051"
     ]
    },
    {
     "name": "stderr",
     "output_type": "stream",
     "text": [
      "\u001b[A\n",
      "Epoch: 65 - loss: 0.343, acc: 0.907 30%|██▉       | 17920/60000 [00:00<00:00, 88440.30it/s]"
     ]
    },
    {
     "name": "stdout",
     "output_type": "stream",
     "text": [
      "23040/60000 [==========>...................] - ETA: 0s - loss: 0.3413 - acc: 0.9068"
     ]
    },
    {
     "name": "stderr",
     "output_type": "stream",
     "text": [
      "\u001b[A\n",
      "Epoch: 65 - loss: 0.341, acc: 0.906 45%|████▍     | 26880/60000 [00:00<00:00, 88233.63it/s]"
     ]
    },
    {
     "name": "stdout",
     "output_type": "stream",
     "text": [
      "32000/60000 [===============>..............] - ETA: 0s - loss: 0.3399 - acc: 0.9063"
     ]
    },
    {
     "name": "stderr",
     "output_type": "stream",
     "text": [
      "\u001b[A\n",
      "Epoch: 65 - loss: 0.340, acc: 0.906 59%|█████▉    | 35328/60000 [00:00<00:00, 86094.93it/s]"
     ]
    },
    {
     "name": "stdout",
     "output_type": "stream",
     "text": [
      "40448/60000 [===================>..........] - ETA: 0s - loss: 0.3385 - acc: 0.9068"
     ]
    },
    {
     "name": "stderr",
     "output_type": "stream",
     "text": [
      "\u001b[A\n",
      "Epoch: 65 - loss: 0.339, acc: 0.907 74%|███████▍  | 44544/60000 [00:00<00:00, 87540.58it/s]"
     ]
    },
    {
     "name": "stdout",
     "output_type": "stream",
     "text": [
      "49664/60000 [=======================>......] - ETA: 0s - loss: 0.3382 - acc: 0.9070"
     ]
    },
    {
     "name": "stderr",
     "output_type": "stream",
     "text": [
      "\u001b[A\n",
      "Epoch: 65 - loss: 0.338, acc: 0.907 89%|████████▊ | 53248/60000 [00:00<00:00, 87063.83it/s]"
     ]
    },
    {
     "name": "stdout",
     "output_type": "stream",
     "text": [
      "58368/60000 [============================>.] - ETA: 0s - loss: 0.3364 - acc: 0.9080"
     ]
    },
    {
     "name": "stderr",
     "output_type": "stream",
     "text": [
      "\u001b[A\n",
      "Epoch: 65 - loss: 0.336, acc: 0.908, val_loss: 0.321, val_acc: 0.915100%|██████████| 60000/60000 [00:00<00:00, 71716.53it/s]\u001b[A\n",
      "Training:  66%|██████▌   | 66/100 [00:52<00:27,  1.24it/s]"
     ]
    },
    {
     "name": "stdout",
     "output_type": "stream",
     "text": [
      "Epoch 00065: val_loss improved from 0.32145 to 0.32070, saving model to checkpoints_mnist_log_reg_keras_tensorflow/mnist_log_reg.hdf5\n",
      "\b\b\b\b\b\b\b\b\b\b\b\b\b\b\b\b\b\b\b\b\b\b\b\b\b\b\b\b\b\b\b\b\b\b\b\b\b\b\b\b\b\b\b\b\b\b\b\b\b\b\b\b\b\b\b\b\b\b\b\b\b\b\b\b\b\b\b\b\b\b\b\b\b\b\b\b\b\b\b\b\b\b\b\r",
      "60000/60000 [==============================] - 0s - loss: 0.3357 - acc: 0.9083 - val_loss: 0.3207 - val_acc: 0.9151"
     ]
    },
    {
     "name": "stderr",
     "output_type": "stream",
     "text": [
      "\n",
      "\r",
      "Epoch: 66:   0%|          | 0/60000 [00:00<?, ?it/s]"
     ]
    },
    {
     "name": "stdout",
     "output_type": "stream",
     "text": [
      "\n",
      "Epoch 67/100\n",
      " 4864/60000 [=>............................] - ETA: 0s - loss: 0.3414 - acc: 0.9017"
     ]
    },
    {
     "name": "stderr",
     "output_type": "stream",
     "text": [
      "\u001b[A\n",
      "Epoch: 66 - loss: 0.343, acc: 0.904 15%|█▍        | 8960/60000 [00:00<00:00, 88262.98it/s]"
     ]
    },
    {
     "name": "stdout",
     "output_type": "stream",
     "text": [
      "13568/60000 [=====>........................] - ETA: 0s - loss: 0.3362 - acc: 0.9077"
     ]
    },
    {
     "name": "stderr",
     "output_type": "stream",
     "text": [
      "\u001b[A\n",
      "Epoch: 66 - loss: 0.334, acc: 0.910 29%|██▊       | 17152/60000 [00:00<00:00, 85578.76it/s]"
     ]
    },
    {
     "name": "stdout",
     "output_type": "stream",
     "text": [
      "21760/60000 [=========>....................] - ETA: 0s - loss: 0.3338 - acc: 0.9091"
     ]
    },
    {
     "name": "stderr",
     "output_type": "stream",
     "text": [
      "\u001b[A\n",
      "Epoch: 66 - loss: 0.333, acc: 0.910 41%|████▏     | 24832/60000 [00:00<00:00, 82670.51it/s]"
     ]
    },
    {
     "name": "stdout",
     "output_type": "stream",
     "text": [
      "29696/60000 [=============>................] - ETA: 0s - loss: 0.3346 - acc: 0.9095"
     ]
    },
    {
     "name": "stderr",
     "output_type": "stream",
     "text": [
      "\u001b[A\n",
      "Epoch: 66 - loss: 0.333, acc: 0.910 54%|█████▍    | 32512/60000 [00:00<00:00, 79663.44it/s]"
     ]
    },
    {
     "name": "stdout",
     "output_type": "stream",
     "text": [
      "37120/60000 [=================>............] - ETA: 0s - loss: 0.3336 - acc: 0.9096"
     ]
    },
    {
     "name": "stderr",
     "output_type": "stream",
     "text": [
      "\u001b[A\n",
      "Epoch: 66 - loss: 0.335, acc: 0.909 67%|██████▋   | 40192/60000 [00:00<00:00, 78019.71it/s]"
     ]
    },
    {
     "name": "stdout",
     "output_type": "stream",
     "text": [
      "44544/60000 [=====================>........] - ETA: 0s - loss: 0.3335 - acc: 0.9097"
     ]
    },
    {
     "name": "stderr",
     "output_type": "stream",
     "text": [
      "\u001b[A\n",
      "Epoch: 66 - loss: 0.336, acc: 0.909 80%|████████  | 48128/60000 [00:00<00:00, 77666.46it/s]"
     ]
    },
    {
     "name": "stdout",
     "output_type": "stream",
     "text": [
      "53504/60000 [=========================>....] - ETA: 0s - loss: 0.3349 - acc: 0.9090"
     ]
    },
    {
     "name": "stderr",
     "output_type": "stream",
     "text": [
      "\u001b[A\n",
      "Epoch: 66 - loss: 0.335, acc: 0.909 96%|█████████▌| 57600/60000 [00:00<00:00, 81400.34it/s]"
     ]
    },
    {
     "name": "stdout",
     "output_type": "stream",
     "text": [
      "\b\b\b\b\b\b\b\b\b\b\b\b\b\b\b\b\b\b\b\b\b\b\b\b\b\b\b\b\b\b\b\b\b\b\b\b\b\b\b\b\b\b\b\b\b\b\b\b\b\b\b\b\b\b\b\b\b\b\b\b\b\b\b\b\b\b\b\b\b\b\b\b\b\b\b\b\b\b\b\b\b\b\b\r",
      "58368/60000 [============================>.] - ETA: 0s - loss: 0.3353 - acc: 0.9086"
     ]
    },
    {
     "name": "stderr",
     "output_type": "stream",
     "text": [
      "\u001b[A\n",
      "Epoch: 66 - loss: 0.335, acc: 0.909, val_loss: 0.320, val_acc: 0.915100%|██████████| 60000/60000 [00:00<00:00, 55132.04it/s]\u001b[A\n",
      "Training:  67%|██████▋   | 67/100 [00:52<00:26,  1.24it/s]"
     ]
    },
    {
     "name": "stdout",
     "output_type": "stream",
     "text": [
      "Epoch 00066: val_loss improved from 0.32070 to 0.32005, saving model to checkpoints_mnist_log_reg_keras_tensorflow/mnist_log_reg.hdf5\n",
      "\b\b\b\b\b\b\b\b\b\b\b\b\b\b\b\b\b\b\b\b\b\b\b\b\b\b\b\b\b\b\b\b\b\b\b\b\b\b\b\b\b\b\b\b\b\b\b\b\b\b\b\b\b\b\b\b\b\b\b\b\b\b\b\b\b\b\b\b\b\b\b\b\b\b\b\b\b\b\b\b\b\b\b\r",
      "60000/60000 [==============================] - 0s - loss: 0.3349 - acc: 0.9086 - val_loss: 0.3200 - val_acc: 0.9149"
     ]
    },
    {
     "name": "stderr",
     "output_type": "stream",
     "text": [
      "\n",
      "\r",
      "Epoch: 67:   0%|          | 0/60000 [00:00<?, ?it/s]"
     ]
    },
    {
     "name": "stdout",
     "output_type": "stream",
     "text": [
      "\n",
      "Epoch 68/100\n",
      "\r",
      "  256/60000 [..............................] - ETA: 1s - loss: 0.3483 - acc: 0.9180"
     ]
    },
    {
     "name": "stderr",
     "output_type": "stream",
     "text": [
      "\u001b[A"
     ]
    },
    {
     "name": "stdout",
     "output_type": "stream",
     "text": [
      "\b\b\b\b\b\b\b\b\b\b\b\b\b\b\b\b\b\b\b\b\b\b\b\b\b\b\b\b\b\b\b\b\b\b\b\b\b\b\b\b\b\b\b\b\b\b\b\b\b\b\b\b\b\b\b\b\b\b\b\b\b\b\b\b\b\b\b\b\b\b\b\b\b\b\b\b\b\b\b\b\b\b\b\r",
      " 5120/60000 [=>............................] - ETA: 0s - loss: 0.3288 - acc: 0.9141"
     ]
    },
    {
     "name": "stderr",
     "output_type": "stream",
     "text": [
      "\n",
      "\r",
      "Epoch: 67 - loss: 0.328, acc: 0.911 15%|█▍        | 8960/60000 [00:00<00:00, 89507.26it/s]"
     ]
    },
    {
     "name": "stdout",
     "output_type": "stream",
     "text": [
      "\b\b\b\b\b\b\b\b\b\b\b\b\b\b\b\b\b\b\b\b\b\b\b\b\b\b\b\b\b\b\b\b\b\b\b\b\b\b\b\b\b\b\b\b\b\b\b\b\b\b\b\b\b\b\b\b\b\b\b\b\b\b\b\b\b\b\b\b\b\b\b\b\b\b\b\b\b\b\b\b\b\b\b\r",
      " 9472/60000 [===>..........................] - ETA: 0s - loss: 0.3299 - acc: 0.9110"
     ]
    },
    {
     "name": "stderr",
     "output_type": "stream",
     "text": [
      "\u001b[A"
     ]
    },
    {
     "name": "stdout",
     "output_type": "stream",
     "text": [
      "\b\b\b\b\b\b\b\b\b\b\b\b\b\b\b\b\b\b\b\b\b\b\b\b\b\b\b\b\b\b\b\b\b\b\b\b\b\b\b\b\b\b\b\b\b\b\b\b\b\b\b\b\b\b\b\b\b\b\b\b\b\b\b\b\b\b\b\b\b\b\b\b\b\b\b\b\b\b\b\b\b\b\b\r",
      "14592/60000 [======>.......................] - ETA: 0s - loss: 0.3284 - acc: 0.9108"
     ]
    },
    {
     "name": "stderr",
     "output_type": "stream",
     "text": [
      "\n",
      "\r",
      "Epoch: 67 - loss: 0.330, acc: 0.910 31%|███       | 18432/60000 [00:00<00:00, 90326.02it/s]"
     ]
    },
    {
     "name": "stdout",
     "output_type": "stream",
     "text": [
      "24064/60000 [===========>..................] - ETA: 0s - loss: 0.3324 - acc: 0.9089"
     ]
    },
    {
     "name": "stderr",
     "output_type": "stream",
     "text": [
      "\u001b[A\n",
      "Epoch: 67 - loss: 0.333, acc: 0.909 46%|████▌     | 27648/60000 [00:00<00:00, 90650.34it/s]"
     ]
    },
    {
     "name": "stdout",
     "output_type": "stream",
     "text": [
      "33024/60000 [===============>..............] - ETA: 0s - loss: 0.3332 - acc: 0.9086"
     ]
    },
    {
     "name": "stderr",
     "output_type": "stream",
     "text": [
      "\u001b[A\n",
      "Epoch: 67 - loss: 0.332, acc: 0.909 61%|██████    | 36608/60000 [00:00<00:00, 89652.52it/s]"
     ]
    },
    {
     "name": "stdout",
     "output_type": "stream",
     "text": [
      "41984/60000 [===================>..........] - ETA: 0s - loss: 0.3327 - acc: 0.9083"
     ]
    },
    {
     "name": "stderr",
     "output_type": "stream",
     "text": [
      "\u001b[A\n",
      "Epoch: 67 - loss: 0.333, acc: 0.908 75%|███████▍  | 44800/60000 [00:00<00:00, 86901.01it/s]"
     ]
    },
    {
     "name": "stdout",
     "output_type": "stream",
     "text": [
      "51200/60000 [========================>.....] - ETA: 0s - loss: 0.3348 - acc: 0.9084"
     ]
    },
    {
     "name": "stderr",
     "output_type": "stream",
     "text": [
      "\u001b[A\n",
      "Epoch: 67 - loss: 0.334, acc: 0.909 90%|█████████ | 54272/60000 [00:00<00:00, 88659.48it/s]"
     ]
    },
    {
     "name": "stdout",
     "output_type": "stream",
     "text": [
      "59904/60000 [============================>.] - ETA: 0s - loss: 0.3343 - acc: 0.9084"
     ]
    },
    {
     "name": "stderr",
     "output_type": "stream",
     "text": [
      "\u001b[A\n",
      "Epoch: 67 - loss: 0.334, acc: 0.908, val_loss: 0.319, val_acc: 0.915100%|██████████| 60000/60000 [00:00<00:00, 67939.05it/s]\u001b[A\n",
      "Training:  68%|██████▊   | 68/100 [00:53<00:25,  1.27it/s]"
     ]
    },
    {
     "name": "stdout",
     "output_type": "stream",
     "text": [
      "Epoch 00067: val_loss improved from 0.32005 to 0.31939, saving model to checkpoints_mnist_log_reg_keras_tensorflow/mnist_log_reg.hdf5\n",
      "\b\b\b\b\b\b\b\b\b\b\b\b\b\b\b\b\b\b\b\b\b\b\b\b\b\b\b\b\b\b\b\b\b\b\b\b\b\b\b\b\b\b\b\b\b\b\b\b\b\b\b\b\b\b\b\b\b\b\b\b\b\b\b\b\b\b\b\b\b\b\b\b\b\b\b\b\b\b\b\b\b\b\b\r",
      "60000/60000 [==============================] - 0s - loss: 0.3341 - acc: 0.9084 - val_loss: 0.3194 - val_acc: 0.9152"
     ]
    },
    {
     "name": "stderr",
     "output_type": "stream",
     "text": [
      "\n",
      "\r",
      "Epoch: 68:   0%|          | 0/60000 [00:00<?, ?it/s]"
     ]
    },
    {
     "name": "stdout",
     "output_type": "stream",
     "text": [
      "\n",
      "Epoch 69/100\n",
      " 5376/60000 [=>............................] - ETA: 0s - loss: 0.3408 - acc: 0.9096"
     ]
    },
    {
     "name": "stderr",
     "output_type": "stream",
     "text": [
      "\u001b[A\n",
      "Epoch: 68 - loss: 0.327, acc: 0.912 16%|█▌        | 9728/60000 [00:00<00:00, 96074.10it/s]"
     ]
    },
    {
     "name": "stdout",
     "output_type": "stream",
     "text": [
      "14592/60000 [======>.......................] - ETA: 0s - loss: 0.3268 - acc: 0.9110"
     ]
    },
    {
     "name": "stderr",
     "output_type": "stream",
     "text": [
      "\u001b[A\n",
      "Epoch: 68 - loss: 0.327, acc: 0.911 30%|███       | 18176/60000 [00:00<00:00, 90980.20it/s]"
     ]
    },
    {
     "name": "stdout",
     "output_type": "stream",
     "text": [
      "23040/60000 [==========>...................] - ETA: 0s - loss: 0.3268 - acc: 0.9118"
     ]
    },
    {
     "name": "stderr",
     "output_type": "stream",
     "text": [
      "\u001b[A\n",
      "Epoch: 68 - loss: 0.330, acc: 0.911 44%|████▎     | 26112/60000 [00:00<00:00, 87065.99it/s]"
     ]
    },
    {
     "name": "stdout",
     "output_type": "stream",
     "text": [
      "31488/60000 [==============>...............] - ETA: 0s - loss: 0.3298 - acc: 0.9104"
     ]
    },
    {
     "name": "stderr",
     "output_type": "stream",
     "text": [
      "\u001b[A\n",
      "Epoch: 68 - loss: 0.331, acc: 0.910 58%|█████▊    | 35072/60000 [00:00<00:00, 87688.91it/s]"
     ]
    },
    {
     "name": "stdout",
     "output_type": "stream",
     "text": [
      "40960/60000 [===================>..........] - ETA: 0s - loss: 0.3315 - acc: 0.9095"
     ]
    },
    {
     "name": "stderr",
     "output_type": "stream",
     "text": [
      "\u001b[A\n",
      "Epoch: 68 - loss: 0.332, acc: 0.909 74%|███████▍  | 44288/60000 [00:00<00:00, 88843.28it/s]"
     ]
    },
    {
     "name": "stdout",
     "output_type": "stream",
     "text": [
      "49152/60000 [=======================>......] - ETA: 0s - loss: 0.3317 - acc: 0.9095"
     ]
    },
    {
     "name": "stderr",
     "output_type": "stream",
     "text": [
      "\u001b[A\n",
      "Epoch: 68 - loss: 0.332, acc: 0.909 87%|████████▋ | 52480/60000 [00:00<00:00, 85919.66it/s]"
     ]
    },
    {
     "name": "stdout",
     "output_type": "stream",
     "text": [
      "58368/60000 [============================>.] - ETA: 0s - loss: 0.3327 - acc: 0.9092"
     ]
    },
    {
     "name": "stderr",
     "output_type": "stream",
     "text": [
      "\u001b[A\n",
      "Epoch: 68 - loss: 0.333, acc: 0.909, val_loss: 0.319, val_acc: 0.915100%|██████████| 60000/60000 [00:00<00:00, 72176.75it/s]\u001b[A\n",
      "Training:  69%|██████▉   | 69/100 [00:54<00:24,  1.28it/s]"
     ]
    },
    {
     "name": "stdout",
     "output_type": "stream",
     "text": [
      "Epoch 00068: val_loss improved from 0.31939 to 0.31865, saving model to checkpoints_mnist_log_reg_keras_tensorflow/mnist_log_reg.hdf5\n",
      "\b\b\b\b\b\b\b\b\b\b\b\b\b\b\b\b\b\b\b\b\b\b\b\b\b\b\b\b\b\b\b\b\b\b\b\b\b\b\b\b\b\b\b\b\b\b\b\b\b\b\b\b\b\b\b\b\b\b\b\b\b\b\b\b\b\b\b\b\b\b\b\b\b\b\b\b\b\b\b\b\b\b\b\r",
      "60000/60000 [==============================] - 0s - loss: 0.3333 - acc: 0.9089 - val_loss: 0.3187 - val_acc: 0.9152"
     ]
    },
    {
     "name": "stderr",
     "output_type": "stream",
     "text": [
      "\n",
      "\r",
      "Epoch: 69:   0%|          | 0/60000 [00:00<?, ?it/s]"
     ]
    },
    {
     "name": "stdout",
     "output_type": "stream",
     "text": [
      "\n",
      "Epoch 70/100\n",
      "\r",
      "  256/60000 [..............................] - ETA: 0s - loss: 0.2688 - acc: 0.9336"
     ]
    },
    {
     "name": "stderr",
     "output_type": "stream",
     "text": [
      "\u001b[A"
     ]
    },
    {
     "name": "stdout",
     "output_type": "stream",
     "text": [
      "\b\b\b\b\b\b\b\b\b\b\b\b\b\b\b\b\b\b\b\b\b\b\b\b\b\b\b\b\b\b\b\b\b\b\b\b\b\b\b\b\b\b\b\b\b\b\b\b\b\b\b\b\b\b\b\b\b\b\b\b\b\b\b\b\b\b\b\b\b\b\b\b\b\b\b\b\b\b\b\b\b\b\b\r",
      " 5376/60000 [=>............................] - ETA: 0s - loss: 0.3329 - acc: 0.9115"
     ]
    },
    {
     "name": "stderr",
     "output_type": "stream",
     "text": [
      "\n",
      "\r",
      "Epoch: 69 - loss: 0.333, acc: 0.911 15%|█▌        | 9216/60000 [00:00<00:00, 89696.29it/s]"
     ]
    },
    {
     "name": "stdout",
     "output_type": "stream",
     "text": [
      "14080/60000 [======>.......................] - ETA: 0s - loss: 0.3336 - acc: 0.9106"
     ]
    },
    {
     "name": "stderr",
     "output_type": "stream",
     "text": [
      "\u001b[A\n",
      "Epoch: 69 - loss: 0.335, acc: 0.909 30%|███       | 18176/60000 [00:00<00:00, 89198.13it/s]"
     ]
    },
    {
     "name": "stdout",
     "output_type": "stream",
     "text": [
      "24064/60000 [===========>..................] - ETA: 0s - loss: 0.3359 - acc: 0.9082"
     ]
    },
    {
     "name": "stderr",
     "output_type": "stream",
     "text": [
      "\u001b[A\n",
      "Epoch: 69 - loss: 0.334, acc: 0.909 48%|████▊     | 28672/60000 [00:00<00:00, 93336.27it/s]"
     ]
    },
    {
     "name": "stdout",
     "output_type": "stream",
     "text": [
      "34304/60000 [================>.............] - ETA: 0s - loss: 0.3359 - acc: 0.9078"
     ]
    },
    {
     "name": "stderr",
     "output_type": "stream",
     "text": [
      "\u001b[A\n",
      "Epoch: 69 - loss: 0.335, acc: 0.909 63%|██████▎   | 37888/60000 [00:00<00:00, 92864.95it/s]"
     ]
    },
    {
     "name": "stdout",
     "output_type": "stream",
     "text": [
      "43520/60000 [====================>.........] - ETA: 0s - loss: 0.3345 - acc: 0.9084"
     ]
    },
    {
     "name": "stderr",
     "output_type": "stream",
     "text": [
      "\u001b[A\n",
      "Epoch: 69 - loss: 0.334, acc: 0.908 77%|███████▋  | 46336/60000 [00:00<00:00, 89284.97it/s]"
     ]
    },
    {
     "name": "stdout",
     "output_type": "stream",
     "text": [
      "48640/60000 [=======================>......] - ETA: 0s - loss: 0.3335 - acc: 0.9091"
     ]
    },
    {
     "name": "stderr",
     "output_type": "stream",
     "text": [
      "\u001b[A"
     ]
    },
    {
     "name": "stdout",
     "output_type": "stream",
     "text": [
      "\b\b\b\b\b\b\b\b\b\b\b\b\b\b\b\b\b\b\b\b\b\b\b\b\b\b\b\b\b\b\b\b\b\b\b\b\b\b\b\b\b\b\b\b\b\b\b\b\b\b\b\b\b\b\b\b\b\b\b\b\b\b\b\b\b\b\b\b\b\b\b\b\b\b\b\b\b\b\b\b\b\b\b\r",
      "52224/60000 [=========================>....] - ETA: 0s - loss: 0.3340 - acc: 0.9088"
     ]
    },
    {
     "name": "stderr",
     "output_type": "stream",
     "text": [
      "\n",
      "\r",
      "Epoch: 69 - loss: 0.334, acc: 0.908 90%|█████████ | 54016/60000 [00:00<00:00, 74982.62it/s]"
     ]
    },
    {
     "name": "stdout",
     "output_type": "stream",
     "text": [
      "\b\b\b\b\b\b\b\b\b\b\b\b\b\b\b\b\b\b\b\b\b\b\b\b\b\b\b\b\b\b\b\b\b\b\b\b\b\b\b\b\b\b\b\b\b\b\b\b\b\b\b\b\b\b\b\b\b\b\b\b\b\b\b\b\b\b\b\b\b\b\b\b\b\b\b\b\b\b\b\b\b\b\b\r",
      "56576/60000 [===========================>..] - ETA: 0s - loss: 0.3333 - acc: 0.9087"
     ]
    },
    {
     "name": "stderr",
     "output_type": "stream",
     "text": [
      "\u001b[A\n",
      "Epoch: 69 - loss: 0.333, acc: 0.909, val_loss: 0.318, val_acc: 0.915100%|██████████| 60000/60000 [00:00<00:00, 60142.00it/s]\u001b[A\n",
      "Training:  70%|███████   | 70/100 [00:55<00:23,  1.27it/s]"
     ]
    },
    {
     "name": "stdout",
     "output_type": "stream",
     "text": [
      "Epoch 00069: val_loss improved from 0.31865 to 0.31795, saving model to checkpoints_mnist_log_reg_keras_tensorflow/mnist_log_reg.hdf5\n",
      "\b\b\b\b\b\b\b\b\b\b\b\b\b\b\b\b\b\b\b\b\b\b\b\b\b\b\b\b\b\b\b\b\b\b\b\b\b\b\b\b\b\b\b\b\b\b\b\b\b\b\b\b\b\b\b\b\b\b\b\b\b\b\b\b\b\b\b\b\b\b\b\b\b\b\b\b\b\b\b\b\b\b\b\r",
      "60000/60000 [==============================] - 0s - loss: 0.3325 - acc: 0.9089 - val_loss: 0.3179 - val_acc: 0.9154"
     ]
    },
    {
     "name": "stderr",
     "output_type": "stream",
     "text": [
      "\n",
      "\r",
      "Epoch: 70:   0%|          | 0/60000 [00:00<?, ?it/s]"
     ]
    },
    {
     "name": "stdout",
     "output_type": "stream",
     "text": [
      "\n",
      "Epoch 71/100\n",
      "\r",
      "  256/60000 [..............................] - ETA: 1s - loss: 0.3185 - acc: 0.9102"
     ]
    },
    {
     "name": "stderr",
     "output_type": "stream",
     "text": [
      "\u001b[A"
     ]
    },
    {
     "name": "stdout",
     "output_type": "stream",
     "text": [
      "\b\b\b\b\b\b\b\b\b\b\b\b\b\b\b\b\b\b\b\b\b\b\b\b\b\b\b\b\b\b\b\b\b\b\b\b\b\b\b\b\b\b\b\b\b\b\b\b\b\b\b\b\b\b\b\b\b\b\b\b\b\b\b\b\b\b\b\b\b\b\b\b\b\b\b\b\b\b\b\b\b\b\b\r",
      " 5376/60000 [=>............................] - ETA: 0s - loss: 0.3539 - acc: 0.8992"
     ]
    },
    {
     "name": "stderr",
     "output_type": "stream",
     "text": [
      "\n",
      "\r",
      "Epoch: 70 - loss: 0.346, acc: 0.904 17%|█▋        | 9984/60000 [00:00<00:00, 98870.55it/s]"
     ]
    },
    {
     "name": "stdout",
     "output_type": "stream",
     "text": [
      "15360/60000 [======>.......................] - ETA: 0s - loss: 0.3367 - acc: 0.9070"
     ]
    },
    {
     "name": "stderr",
     "output_type": "stream",
     "text": [
      "\u001b[A\n",
      "Epoch: 70 - loss: 0.332, acc: 0.908 32%|███▏      | 19456/60000 [00:00<00:00, 97323.22it/s]"
     ]
    },
    {
     "name": "stdout",
     "output_type": "stream",
     "text": [
      "25088/60000 [===========>..................] - ETA: 0s - loss: 0.3324 - acc: 0.9087"
     ]
    },
    {
     "name": "stderr",
     "output_type": "stream",
     "text": [
      "\u001b[A\n",
      "Epoch: 70 - loss: 0.332, acc: 0.909 47%|████▋     | 28416/60000 [00:00<00:00, 94732.90it/s]"
     ]
    },
    {
     "name": "stdout",
     "output_type": "stream",
     "text": [
      "34560/60000 [================>.............] - ETA: 0s - loss: 0.3318 - acc: 0.9090"
     ]
    },
    {
     "name": "stderr",
     "output_type": "stream",
     "text": [
      "\u001b[A\n",
      "Epoch: 70 - loss: 0.332, acc: 0.909 63%|██████▎   | 37888/60000 [00:00<00:00, 93739.34it/s]"
     ]
    },
    {
     "name": "stdout",
     "output_type": "stream",
     "text": [
      "42752/60000 [====================>.........] - ETA: 0s - loss: 0.3323 - acc: 0.9083"
     ]
    },
    {
     "name": "stderr",
     "output_type": "stream",
     "text": [
      "\u001b[A\n",
      "Epoch: 70 - loss: 0.333, acc: 0.908 79%|███████▊  | 47104/60000 [00:00<00:00, 92992.77it/s]"
     ]
    },
    {
     "name": "stdout",
     "output_type": "stream",
     "text": [
      "52224/60000 [=========================>....] - ETA: 0s - loss: 0.3332 - acc: 0.9083"
     ]
    },
    {
     "name": "stderr",
     "output_type": "stream",
     "text": [
      "\u001b[A\n",
      "Epoch: 70 - loss: 0.333, acc: 0.909 94%|█████████▍| 56320/60000 [00:00<00:00, 92710.69it/s]"
     ]
    },
    {
     "name": "stdout",
     "output_type": "stream",
     "text": [
      "\b\b\b\b\b\b\b\b\b\b\b\b\b\b\b\b\b\b\b\b\b\b\b\b\b\b\b\b\b\b\b\b\b\b\b\b\b\b\b\b\b\b\b\b\b\b\b\b\b\b\b\b\b\b\b\b\b\b\b\b\b\b\b\b\b\b\b\b\b\b\b\b\b\b\b\b\b\b\b\b\b\b\b\r",
      "56832/60000 [===========================>..] - ETA: 0s - loss: 0.3325 - acc: 0.9090"
     ]
    },
    {
     "name": "stderr",
     "output_type": "stream",
     "text": [
      "\u001b[A\n",
      "Epoch: 70 - loss: 0.332, acc: 0.909, val_loss: 0.317, val_acc: 0.915100%|██████████| 60000/60000 [00:00<00:00, 60316.29it/s]\u001b[A\n",
      "Training:  71%|███████   | 71/100 [00:55<00:22,  1.30it/s]"
     ]
    },
    {
     "name": "stdout",
     "output_type": "stream",
     "text": [
      "Epoch 00070: val_loss improved from 0.31795 to 0.31739, saving model to checkpoints_mnist_log_reg_keras_tensorflow/mnist_log_reg.hdf5\n",
      "\b\b\b\b\b\b\b\b\b\b\b\b\b\b\b\b\b\b\b\b\b\b\b\b\b\b\b\b\b\b\b\b\b\b\b\b\b\b\b\b\b\b\b\b\b\b\b\b\b\b\b\b\b\b\b\b\b\b\b\b\b\b\b\b\b\b\b\b\b\b\b\b\b\b\b\b\b\b\b\b\b\b\b\r",
      "60000/60000 [==============================] - 0s - loss: 0.3318 - acc: 0.9091 - val_loss: 0.3174 - val_acc: 0.9154"
     ]
    },
    {
     "name": "stderr",
     "output_type": "stream",
     "text": [
      "\n",
      "\r",
      "Epoch: 71:   0%|          | 0/60000 [00:00<?, ?it/s]"
     ]
    },
    {
     "name": "stdout",
     "output_type": "stream",
     "text": [
      "\n",
      "Epoch 72/100\n",
      " 4864/60000 [=>............................] - ETA: 0s - loss: 0.3413 - acc: 0.9067"
     ]
    },
    {
     "name": "stderr",
     "output_type": "stream",
     "text": [
      "\u001b[A\n",
      "Epoch: 71 - loss: 0.338, acc: 0.907 15%|█▍        | 8704/60000 [00:00<00:00, 85681.41it/s]"
     ]
    },
    {
     "name": "stdout",
     "output_type": "stream",
     "text": [
      "14080/60000 [======>.......................] - ETA: 0s - loss: 0.3407 - acc: 0.9070"
     ]
    },
    {
     "name": "stderr",
     "output_type": "stream",
     "text": [
      "\u001b[A\n",
      "Epoch: 71 - loss: 0.341, acc: 0.907 30%|██▉       | 17920/60000 [00:00<00:00, 87277.06it/s]"
     ]
    },
    {
     "name": "stdout",
     "output_type": "stream",
     "text": [
      "23552/60000 [==========>...................] - ETA: 0s - loss: 0.3377 - acc: 0.9080"
     ]
    },
    {
     "name": "stderr",
     "output_type": "stream",
     "text": [
      "\u001b[A\n",
      "Epoch: 71 - loss: 0.337, acc: 0.908 45%|████▌     | 27136/60000 [00:00<00:00, 88577.63it/s]"
     ]
    },
    {
     "name": "stdout",
     "output_type": "stream",
     "text": [
      "32512/60000 [===============>..............] - ETA: 0s - loss: 0.3355 - acc: 0.9082"
     ]
    },
    {
     "name": "stderr",
     "output_type": "stream",
     "text": [
      "\u001b[A\n",
      "Epoch: 71 - loss: 0.333, acc: 0.909 60%|██████    | 36096/60000 [00:00<00:00, 88621.15it/s]"
     ]
    },
    {
     "name": "stdout",
     "output_type": "stream",
     "text": [
      "41472/60000 [===================>..........] - ETA: 0s - loss: 0.3315 - acc: 0.9099"
     ]
    },
    {
     "name": "stderr",
     "output_type": "stream",
     "text": [
      "\u001b[A\n",
      "Epoch: 71 - loss: 0.331, acc: 0.910 74%|███████▍  | 44288/60000 [00:00<00:00, 85852.87it/s]"
     ]
    },
    {
     "name": "stdout",
     "output_type": "stream",
     "text": [
      "51456/60000 [========================>.....] - ETA: 0s - loss: 0.3325 - acc: 0.9094"
     ]
    },
    {
     "name": "stderr",
     "output_type": "stream",
     "text": [
      "\u001b[A\n",
      "Epoch: 71 - loss: 0.331, acc: 0.910 91%|█████████ | 54528/60000 [00:00<00:00, 89848.76it/s]"
     ]
    },
    {
     "name": "stdout",
     "output_type": "stream",
     "text": [
      "\b\b\b\b\b\b\b\b\b\b\b\b\b\b\b\b\b\b\b\b\b\b\b\b\b\b\b\b\b\b\b\b\b\b\b\b\b\b\b\b\b\b\b\b\b\b\b\b\b\b\b\b\b\b\b\b\b\b\b\b\b\b\b\b\b\b\b\b\b\b\b\b\b\b\b\b\b\b\b\b\b\b\b\r",
      "56320/60000 [===========================>..] - ETA: 0s - loss: 0.3318 - acc: 0.9095"
     ]
    },
    {
     "name": "stderr",
     "output_type": "stream",
     "text": [
      "\u001b[A\n",
      "Epoch: 71 - loss: 0.331, acc: 0.909, val_loss: 0.317, val_acc: 0.915100%|██████████| 60000/60000 [00:00<00:00, 74525.78it/s]\u001b[A\n",
      "Training:  72%|███████▏  | 72/100 [00:56<00:21,  1.32it/s]"
     ]
    },
    {
     "name": "stdout",
     "output_type": "stream",
     "text": [
      "Epoch 00071: val_loss improved from 0.31739 to 0.31688, saving model to checkpoints_mnist_log_reg_keras_tensorflow/mnist_log_reg.hdf5\n",
      "\b\b\b\b\b\b\b\b\b\b\b\b\b\b\b\b\b\b\b\b\b\b\b\b\b\b\b\b\b\b\b\b\b\b\b\b\b\b\b\b\b\b\b\b\b\b\b\b\b\b\b\b\b\b\b\b\b\b\b\b\b\b\b\b\b\b\b\b\b\b\b\b\b\b\b\b\b\b\b\b\b\b\b\r",
      "60000/60000 [==============================] - 0s - loss: 0.3310 - acc: 0.9095 - val_loss: 0.3169 - val_acc: 0.9152"
     ]
    },
    {
     "name": "stderr",
     "output_type": "stream",
     "text": [
      "\n",
      "\r",
      "Epoch: 72:   0%|          | 0/60000 [00:00<?, ?it/s]"
     ]
    },
    {
     "name": "stdout",
     "output_type": "stream",
     "text": [
      "\n",
      "Epoch 73/100\n",
      " 4864/60000 [=>............................] - ETA: 0s - loss: 0.3337 - acc: 0.9141"
     ]
    },
    {
     "name": "stderr",
     "output_type": "stream",
     "text": [
      "\u001b[A\n",
      "Epoch: 72 - loss: 0.339, acc: 0.911 15%|█▍        | 8960/60000 [00:00<00:00, 88716.79it/s]"
     ]
    },
    {
     "name": "stdout",
     "output_type": "stream",
     "text": [
      "14080/60000 [======>.......................] - ETA: 0s - loss: 0.3318 - acc: 0.9124"
     ]
    },
    {
     "name": "stderr",
     "output_type": "stream",
     "text": [
      "\u001b[A\n",
      "Epoch: 72 - loss: 0.332, acc: 0.912 29%|██▉       | 17408/60000 [00:00<00:00, 86940.47it/s]"
     ]
    },
    {
     "name": "stdout",
     "output_type": "stream",
     "text": [
      "22784/60000 [==========>...................] - ETA: 0s - loss: 0.3329 - acc: 0.9112"
     ]
    },
    {
     "name": "stderr",
     "output_type": "stream",
     "text": [
      "\u001b[A\n",
      "Epoch: 72 - loss: 0.334, acc: 0.911 43%|████▎     | 25600/60000 [00:00<00:00, 84798.37it/s]"
     ]
    },
    {
     "name": "stdout",
     "output_type": "stream",
     "text": [
      "30464/60000 [==============>...............] - ETA: 0s - loss: 0.3327 - acc: 0.9109"
     ]
    },
    {
     "name": "stderr",
     "output_type": "stream",
     "text": [
      "\u001b[A\n",
      "Epoch: 72 - loss: 0.332, acc: 0.910 55%|█████▍    | 32768/60000 [00:00<00:00, 80360.85it/s]"
     ]
    },
    {
     "name": "stdout",
     "output_type": "stream",
     "text": [
      "37632/60000 [=================>............] - ETA: 0s - loss: 0.3318 - acc: 0.9097"
     ]
    },
    {
     "name": "stderr",
     "output_type": "stream",
     "text": [
      "\u001b[A\n",
      "Epoch: 72 - loss: 0.330, acc: 0.910 67%|██████▋   | 40192/60000 [00:00<00:00, 78295.67it/s]"
     ]
    },
    {
     "name": "stdout",
     "output_type": "stream",
     "text": [
      "45568/60000 [=====================>........] - ETA: 0s - loss: 0.3290 - acc: 0.9101"
     ]
    },
    {
     "name": "stderr",
     "output_type": "stream",
     "text": [
      "\u001b[A\n",
      "Epoch: 72 - loss: 0.329, acc: 0.910 81%|████████  | 48384/60000 [00:00<00:00, 78721.88it/s]"
     ]
    },
    {
     "name": "stdout",
     "output_type": "stream",
     "text": [
      "52992/60000 [=========================>....] - ETA: 0s - loss: 0.3296 - acc: 0.9100"
     ]
    },
    {
     "name": "stderr",
     "output_type": "stream",
     "text": [
      "\u001b[A\n",
      "Epoch: 72 - loss: 0.330, acc: 0.910 94%|█████████▍| 56320/60000 [00:00<00:00, 78539.57it/s]"
     ]
    },
    {
     "name": "stdout",
     "output_type": "stream",
     "text": [
      "\b\b\b\b\b\b\b\b\b\b\b\b\b\b\b\b\b\b\b\b\b\b\b\b\b\b\b\b\b\b\b\b\b\b\b\b\b\b\b\b\b\b\b\b\b\b\b\b\b\b\b\b\b\b\b\b\b\b\b\b\b\b\b\b\b\b\b\b\b\b\b\b\b\b\b\b\b\b\b\b\b\b\b\r",
      "57600/60000 [===========================>..] - ETA: 0s - loss: 0.3302 - acc: 0.9099"
     ]
    },
    {
     "name": "stderr",
     "output_type": "stream",
     "text": [
      "\u001b[A\n",
      "Epoch: 72 - loss: 0.330, acc: 0.910, val_loss: 0.316, val_acc: 0.915100%|██████████| 60000/60000 [00:00<00:00, 54570.83it/s]\u001b[A\n",
      "Training:  73%|███████▎  | 73/100 [00:57<00:21,  1.28it/s]"
     ]
    },
    {
     "name": "stdout",
     "output_type": "stream",
     "text": [
      "Epoch 00072: val_loss improved from 0.31688 to 0.31626, saving model to checkpoints_mnist_log_reg_keras_tensorflow/mnist_log_reg.hdf5\n",
      "\b\b\b\b\b\b\b\b\b\b\b\b\b\b\b\b\b\b\b\b\b\b\b\b\b\b\b\b\b\b\b\b\b\b\b\b\b\b\b\b\b\b\b\b\b\b\b\b\b\b\b\b\b\b\b\b\b\b\b\b\b\b\b\b\b\b\b\b\b\b\b\b\b\b\b\b\b\b\b\b\b\b\b\r",
      "60000/60000 [==============================] - 0s - loss: 0.3303 - acc: 0.9099 - val_loss: 0.3163 - val_acc: 0.9153"
     ]
    },
    {
     "name": "stderr",
     "output_type": "stream",
     "text": [
      "\n",
      "\r",
      "Epoch: 73:   0%|          | 0/60000 [00:00<?, ?it/s]"
     ]
    },
    {
     "name": "stdout",
     "output_type": "stream",
     "text": [
      "\n",
      "Epoch 74/100\n",
      " 4608/60000 [=>............................] - ETA: 0s - loss: 0.3431 - acc: 0.9034"
     ]
    },
    {
     "name": "stderr",
     "output_type": "stream",
     "text": [
      "\u001b[A\n",
      "Epoch: 73 - loss: 0.332, acc: 0.908 15%|█▍        | 8704/60000 [00:00<00:00, 85449.78it/s]"
     ]
    },
    {
     "name": "stdout",
     "output_type": "stream",
     "text": [
      "13312/60000 [=====>........................] - ETA: 0s - loss: 0.3254 - acc: 0.9096"
     ]
    },
    {
     "name": "stderr",
     "output_type": "stream",
     "text": [
      "\u001b[A\n",
      "Epoch: 73 - loss: 0.325, acc: 0.911 27%|██▋       | 16384/60000 [00:00<00:00, 82598.54it/s]"
     ]
    },
    {
     "name": "stdout",
     "output_type": "stream",
     "text": [
      "22016/60000 [==========>...................] - ETA: 0s - loss: 0.3241 - acc: 0.9107"
     ]
    },
    {
     "name": "stderr",
     "output_type": "stream",
     "text": [
      "\u001b[A\n",
      "Epoch: 73 - loss: 0.326, acc: 0.910 43%|████▎     | 25600/60000 [00:00<00:00, 84522.58it/s]"
     ]
    },
    {
     "name": "stdout",
     "output_type": "stream",
     "text": [
      "30464/60000 [==============>...............] - ETA: 0s - loss: 0.3278 - acc: 0.9090"
     ]
    },
    {
     "name": "stderr",
     "output_type": "stream",
     "text": [
      "\u001b[A\n",
      "Epoch: 73 - loss: 0.327, acc: 0.909 57%|█████▋    | 34304/60000 [00:00<00:00, 84720.81it/s]"
     ]
    },
    {
     "name": "stdout",
     "output_type": "stream",
     "text": [
      "39936/60000 [==================>...........] - ETA: 0s - loss: 0.3249 - acc: 0.9106"
     ]
    },
    {
     "name": "stderr",
     "output_type": "stream",
     "text": [
      "\u001b[A\n",
      "Epoch: 73 - loss: 0.328, acc: 0.910 71%|███████▏  | 42752/60000 [00:00<00:00, 83939.19it/s]"
     ]
    },
    {
     "name": "stdout",
     "output_type": "stream",
     "text": [
      "47872/60000 [======================>.......] - ETA: 0s - loss: 0.3263 - acc: 0.9102"
     ]
    },
    {
     "name": "stderr",
     "output_type": "stream",
     "text": [
      "\u001b[A\n",
      "Epoch: 73 - loss: 0.327, acc: 0.910 85%|████████▌ | 51200/60000 [00:00<00:00, 83875.93it/s]"
     ]
    },
    {
     "name": "stdout",
     "output_type": "stream",
     "text": [
      "56576/60000 [===========================>..] - ETA: 0s - loss: 0.3285 - acc: 0.9098"
     ]
    },
    {
     "name": "stderr",
     "output_type": "stream",
     "text": [
      "\u001b[A\n",
      "Epoch: 73 - loss: 0.330, acc: 0.910 99%|█████████▊| 59136/60000 [00:00<00:00, 82459.90it/s]"
     ]
    },
    {
     "name": "stdout",
     "output_type": "stream",
     "text": [
      "\b\b\b\b\b\b\b\b\b\b\b\b\b\b\b\b\b\b\b\b\b\b\b\b\b\b\b\b\b\b\b\b\b\b\b\b\b\b\b\b\b\b\b\b\b\b\b\b\b\b\b\b\b\b\b\b\b\b\b\b\b\b\b\b\b\b\b\b\b\b\b\b\b\b\b\b\b\b\b\b\b\b\b\r",
      "59904/60000 [============================>.] - ETA: 0s - loss: 0.3297 - acc: 0.9098"
     ]
    },
    {
     "name": "stderr",
     "output_type": "stream",
     "text": [
      "\u001b[A\n",
      "Epoch: 73 - loss: 0.330, acc: 0.910, val_loss: 0.316, val_acc: 0.915100%|██████████| 60000/60000 [00:00<00:00, 31126.69it/s]\u001b[A\n",
      "Training:  74%|███████▍  | 74/100 [00:58<00:20,  1.28it/s]"
     ]
    },
    {
     "name": "stdout",
     "output_type": "stream",
     "text": [
      "Epoch 00073: val_loss improved from 0.31626 to 0.31564, saving model to checkpoints_mnist_log_reg_keras_tensorflow/mnist_log_reg.hdf5\n",
      "\b\b\b\b\b\b\b\b\b\b\b\b\b\b\b\b\b\b\b\b\b\b\b\b\b\b\b\b\b\b\b\b\b\b\b\b\b\b\b\b\b\b\b\b\b\b\b\b\b\b\b\b\b\b\b\b\b\b\b\b\b\b\b\b\b\b\b\b\b\b\b\b\b\b\b\b\b\b\b\b\b\b\b\r",
      "60000/60000 [==============================] - 0s - loss: 0.3296 - acc: 0.9098 - val_loss: 0.3156 - val_acc: 0.9155"
     ]
    },
    {
     "name": "stderr",
     "output_type": "stream",
     "text": [
      "\n",
      "\r",
      "Epoch: 74:   0%|          | 0/60000 [00:00<?, ?it/s]"
     ]
    },
    {
     "name": "stdout",
     "output_type": "stream",
     "text": [
      "\n",
      "Epoch 75/100\n",
      "\r",
      "  256/60000 [..............................] - ETA: 1s - loss: 0.3912 - acc: 0.8750"
     ]
    },
    {
     "name": "stderr",
     "output_type": "stream",
     "text": [
      "\u001b[A"
     ]
    },
    {
     "name": "stdout",
     "output_type": "stream",
     "text": [
      "\b\b\b\b\b\b\b\b\b\b\b\b\b\b\b\b\b\b\b\b\b\b\b\b\b\b\b\b\b\b\b\b\b\b\b\b\b\b\b\b\b\b\b\b\b\b\b\b\b\b\b\b\b\b\b\b\b\b\b\b\b\b\b\b\b\b\b\b\b\b\b\b\b\b\b\b\b\b\b\b\b\b\b\r",
      " 4352/60000 [=>............................] - ETA: 0s - loss: 0.3334 - acc: 0.9102"
     ]
    },
    {
     "name": "stderr",
     "output_type": "stream",
     "text": [
      "\n",
      "\r",
      "Epoch: 74 - loss: 0.332, acc: 0.909 13%|█▎        | 7680/60000 [00:00<00:00, 76302.70it/s]"
     ]
    },
    {
     "name": "stdout",
     "output_type": "stream",
     "text": [
      "\b\b\b\b\b\b\b\b\b\b\b\b\b\b\b\b\b\b\b\b\b\b\b\b\b\b\b\b\b\b\b\b\b\b\b\b\b\b\b\b\b\b\b\b\b\b\b\b\b\b\b\b\b\b\b\b\b\b\b\b\b\b\b\b\b\b\b\b\b\b\b\b\b\b\b\b\b\b\b\b\b\b\b\r",
      " 8192/60000 [===>..........................] - ETA: 0s - loss: 0.3322 - acc: 0.9089"
     ]
    },
    {
     "name": "stderr",
     "output_type": "stream",
     "text": [
      "\u001b[A"
     ]
    },
    {
     "name": "stdout",
     "output_type": "stream",
     "text": [
      "\b\b\b\b\b\b\b\b\b\b\b\b\b\b\b\b\b\b\b\b\b\b\b\b\b\b\b\b\b\b\b\b\b\b\b\b\b\b\b\b\b\b\b\b\b\b\b\b\b\b\b\b\b\b\b\b\b\b\b\b\b\b\b\b\b\b\b\b\b\b\b\b\b\b\b\b\b\b\b\b\b\b\b\r",
      "12544/60000 [=====>........................] - ETA: 0s - loss: 0.3336 - acc: 0.9085"
     ]
    },
    {
     "name": "stderr",
     "output_type": "stream",
     "text": [
      "\n",
      "\r",
      "Epoch: 74 - loss: 0.329, acc: 0.911 27%|██▋       | 16384/60000 [00:00<00:00, 79112.62it/s]"
     ]
    },
    {
     "name": "stdout",
     "output_type": "stream",
     "text": [
      "22528/60000 [==========>...................] - ETA: 0s - loss: 0.3336 - acc: 0.9100"
     ]
    },
    {
     "name": "stderr",
     "output_type": "stream",
     "text": [
      "\u001b[A\n",
      "Epoch: 74 - loss: 0.331, acc: 0.911 43%|████▎     | 25600/60000 [00:00<00:00, 81631.50it/s]"
     ]
    },
    {
     "name": "stdout",
     "output_type": "stream",
     "text": [
      "30208/60000 [==============>...............] - ETA: 0s - loss: 0.3308 - acc: 0.9104"
     ]
    },
    {
     "name": "stderr",
     "output_type": "stream",
     "text": [
      "\u001b[A\n",
      "Epoch: 74 - loss: 0.332, acc: 0.911 57%|█████▋    | 34048/60000 [00:00<00:00, 81848.96it/s]"
     ]
    },
    {
     "name": "stdout",
     "output_type": "stream",
     "text": [
      "39424/60000 [==================>...........] - ETA: 0s - loss: 0.3292 - acc: 0.9109"
     ]
    },
    {
     "name": "stderr",
     "output_type": "stream",
     "text": [
      "\u001b[A\n",
      "Epoch: 74 - loss: 0.331, acc: 0.910 72%|███████▏  | 43008/60000 [00:00<00:00, 83544.81it/s]"
     ]
    },
    {
     "name": "stdout",
     "output_type": "stream",
     "text": [
      "47360/60000 [======================>.......] - ETA: 0s - loss: 0.3312 - acc: 0.9092"
     ]
    },
    {
     "name": "stderr",
     "output_type": "stream",
     "text": [
      "\u001b[A\n",
      "Epoch: 74 - loss: 0.331, acc: 0.909 84%|████████▍ | 50688/60000 [00:00<00:00, 81300.84it/s]"
     ]
    },
    {
     "name": "stdout",
     "output_type": "stream",
     "text": [
      "56576/60000 [===========================>..] - ETA: 0s - loss: 0.3294 - acc: 0.9098"
     ]
    },
    {
     "name": "stderr",
     "output_type": "stream",
     "text": [
      "\u001b[A\n",
      "Epoch: 74 - loss: 0.329, acc: 0.910100%|█████████▉| 59904/60000 [00:00<00:00, 83051.95it/s]\u001b[A\n",
      "Epoch: 74 - loss: 0.329, acc: 0.910, val_loss: 0.315, val_acc: 0.916100%|██████████| 60000/60000 [00:00<00:00, 4069.37it/s]\u001b[A\n",
      "Training:  75%|███████▌  | 75/100 [00:59<00:19,  1.27it/s]"
     ]
    },
    {
     "name": "stdout",
     "output_type": "stream",
     "text": [
      "Epoch 00074: val_loss improved from 0.31564 to 0.31500, saving model to checkpoints_mnist_log_reg_keras_tensorflow/mnist_log_reg.hdf5\n",
      "\b\b\b\b\b\b\b\b\b\b\b\b\b\b\b\b\b\b\b\b\b\b\b\b\b\b\b\b\b\b\b\b\b\b\b\b\b\b\b\b\b\b\b\b\b\b\b\b\b\b\b\b\b\b\b\b\b\b\b\b\b\b\b\b\b\b\b\b\b\b\b\b\b\b\b\b\b\b\b\b\b\b\b\r",
      "60000/60000 [==============================] - 0s - loss: 0.3289 - acc: 0.9102 - val_loss: 0.3150 - val_acc: 0.9158"
     ]
    },
    {
     "name": "stderr",
     "output_type": "stream",
     "text": [
      "\n",
      "\r",
      "Epoch: 75:   0%|          | 0/60000 [00:00<?, ?it/s]"
     ]
    },
    {
     "name": "stdout",
     "output_type": "stream",
     "text": [
      "\n",
      "Epoch 76/100\n",
      "\r",
      "  256/60000 [..............................] - ETA: 1s - loss: 0.3621 - acc: 0.8789"
     ]
    },
    {
     "name": "stderr",
     "output_type": "stream",
     "text": [
      "\u001b[A"
     ]
    },
    {
     "name": "stdout",
     "output_type": "stream",
     "text": [
      "\b\b\b\b\b\b\b\b\b\b\b\b\b\b\b\b\b\b\b\b\b\b\b\b\b\b\b\b\b\b\b\b\b\b\b\b\b\b\b\b\b\b\b\b\b\b\b\b\b\b\b\b\b\b\b\b\b\b\b\b\b\b\b\b\b\b\b\b\b\b\b\b\b\b\b\b\b\b\b\b\b\b\b\r",
      " 5120/60000 [=>............................] - ETA: 0s - loss: 0.3352 - acc: 0.9070"
     ]
    },
    {
     "name": "stderr",
     "output_type": "stream",
     "text": [
      "\n",
      "\r",
      "Epoch: 75 - loss: 0.326, acc: 0.909 15%|█▌        | 9216/60000 [00:00<00:00, 90096.86it/s]"
     ]
    },
    {
     "name": "stdout",
     "output_type": "stream",
     "text": [
      "\b\b\b\b\b\b\b\b\b\b\b\b\b\b\b\b\b\b\b\b\b\b\b\b\b\b\b\b\b\b\b\b\b\b\b\b\b\b\b\b\b\b\b\b\b\b\b\b\b\b\b\b\b\b\b\b\b\b\b\b\b\b\b\b\b\b\b\b\b\b\b\b\b\b\b\b\b\b\b\b\b\b\b\r",
      " 9728/60000 [===>..........................] - ETA: 0s - loss: 0.3259 - acc: 0.9091"
     ]
    },
    {
     "name": "stderr",
     "output_type": "stream",
     "text": [
      "\u001b[A"
     ]
    },
    {
     "name": "stdout",
     "output_type": "stream",
     "text": [
      "\b\b\b\b\b\b\b\b\b\b\b\b\b\b\b\b\b\b\b\b\b\b\b\b\b\b\b\b\b\b\b\b\b\b\b\b\b\b\b\b\b\b\b\b\b\b\b\b\b\b\b\b\b\b\b\b\b\b\b\b\b\b\b\b\b\b\b\b\b\b\b\b\b\b\b\b\b\b\b\b\b\b\b\r",
      "13824/60000 [=====>........................] - ETA: 0s - loss: 0.3286 - acc: 0.9083"
     ]
    },
    {
     "name": "stderr",
     "output_type": "stream",
     "text": [
      "\n",
      "\r",
      "Epoch: 75 - loss: 0.329, acc: 0.909 29%|██▊       | 17152/60000 [00:00<00:00, 86377.02it/s]"
     ]
    },
    {
     "name": "stdout",
     "output_type": "stream",
     "text": [
      "22784/60000 [==========>...................] - ETA: 0s - loss: 0.3301 - acc: 0.9100"
     ]
    },
    {
     "name": "stderr",
     "output_type": "stream",
     "text": [
      "\u001b[A\n",
      "Epoch: 75 - loss: 0.326, acc: 0.911 44%|████▍     | 26624/60000 [00:00<00:00, 88005.19it/s]"
     ]
    },
    {
     "name": "stdout",
     "output_type": "stream",
     "text": [
      "31488/60000 [==============>...............] - ETA: 0s - loss: 0.3242 - acc: 0.9122"
     ]
    },
    {
     "name": "stderr",
     "output_type": "stream",
     "text": [
      "\u001b[A\n",
      "Epoch: 75 - loss: 0.326, acc: 0.911 57%|█████▋    | 34304/60000 [00:00<00:00, 83386.90it/s]"
     ]
    },
    {
     "name": "stdout",
     "output_type": "stream",
     "text": [
      "39168/60000 [==================>...........] - ETA: 0s - loss: 0.3249 - acc: 0.9118"
     ]
    },
    {
     "name": "stderr",
     "output_type": "stream",
     "text": [
      "\u001b[A\n",
      "Epoch: 75 - loss: 0.326, acc: 0.911 72%|███████▏  | 43008/60000 [00:00<00:00, 84295.75it/s]"
     ]
    },
    {
     "name": "stdout",
     "output_type": "stream",
     "text": [
      "48384/60000 [=======================>......] - ETA: 0s - loss: 0.3267 - acc: 0.9107"
     ]
    },
    {
     "name": "stderr",
     "output_type": "stream",
     "text": [
      "\u001b[A\n",
      "Epoch: 75 - loss: 0.327, acc: 0.911 86%|████████▌ | 51456/60000 [00:00<00:00, 83734.37it/s]"
     ]
    },
    {
     "name": "stdout",
     "output_type": "stream",
     "text": [
      "56576/60000 [===========================>..] - ETA: 0s - loss: 0.3276 - acc: 0.9103"
     ]
    },
    {
     "name": "stderr",
     "output_type": "stream",
     "text": [
      "\u001b[A\n",
      "Epoch: 75 - loss: 0.329, acc: 0.910100%|█████████▉| 59904/60000 [00:00<00:00, 83745.07it/s]\u001b[A\n",
      "Epoch: 75 - loss: 0.328, acc: 0.910, val_loss: 0.314, val_acc: 0.915100%|██████████| 60000/60000 [00:00<00:00, 5244.79it/s]\u001b[A\n",
      "Training:  76%|███████▌  | 76/100 [00:59<00:18,  1.27it/s]"
     ]
    },
    {
     "name": "stdout",
     "output_type": "stream",
     "text": [
      "Epoch 00075: val_loss improved from 0.31500 to 0.31449, saving model to checkpoints_mnist_log_reg_keras_tensorflow/mnist_log_reg.hdf5\n",
      "\b\b\b\b\b\b\b\b\b\b\b\b\b\b\b\b\b\b\b\b\b\b\b\b\b\b\b\b\b\b\b\b\b\b\b\b\b\b\b\b\b\b\b\b\b\b\b\b\b\b\b\b\b\b\b\b\b\b\b\b\b\b\b\b\b\b\b\b\b\b\b\b\b\b\b\b\b\b\b\b\b\b\b\r",
      "60000/60000 [==============================] - 0s - loss: 0.3283 - acc: 0.9100 - val_loss: 0.3145 - val_acc: 0.9151"
     ]
    },
    {
     "name": "stderr",
     "output_type": "stream",
     "text": [
      "\n",
      "\r",
      "Epoch: 76:   0%|          | 0/60000 [00:00<?, ?it/s]"
     ]
    },
    {
     "name": "stdout",
     "output_type": "stream",
     "text": [
      "\n",
      "Epoch 77/100\n",
      "\r",
      "  256/60000 [..............................] - ETA: 0s - loss: 0.2895 - acc: 0.9258"
     ]
    },
    {
     "name": "stderr",
     "output_type": "stream",
     "text": [
      "\u001b[A"
     ]
    },
    {
     "name": "stdout",
     "output_type": "stream",
     "text": [
      "\b\b\b\b\b\b\b\b\b\b\b\b\b\b\b\b\b\b\b\b\b\b\b\b\b\b\b\b\b\b\b\b\b\b\b\b\b\b\b\b\b\b\b\b\b\b\b\b\b\b\b\b\b\b\b\b\b\b\b\b\b\b\b\b\b\b\b\b\b\b\b\b\b\b\b\b\b\b\b\b\b\b\b\r",
      " 5120/60000 [=>............................] - ETA: 0s - loss: 0.3275 - acc: 0.9090"
     ]
    },
    {
     "name": "stderr",
     "output_type": "stream",
     "text": [
      "\n",
      "\r",
      "Epoch: 76 - loss: 0.322, acc: 0.911 15%|█▍        | 8704/60000 [00:00<00:00, 85647.84it/s]"
     ]
    },
    {
     "name": "stdout",
     "output_type": "stream",
     "text": [
      "\b\b\b\b\b\b\b\b\b\b\b\b\b\b\b\b\b\b\b\b\b\b\b\b\b\b\b\b\b\b\b\b\b\b\b\b\b\b\b\b\b\b\b\b\b\b\b\b\b\b\b\b\b\b\b\b\b\b\b\b\b\b\b\b\b\b\b\b\b\b\b\b\b\b\b\b\b\b\b\b\b\b\b\r",
      " 9216/60000 [===>..........................] - ETA: 0s - loss: 0.3236 - acc: 0.9108"
     ]
    },
    {
     "name": "stderr",
     "output_type": "stream",
     "text": [
      "\u001b[A"
     ]
    },
    {
     "name": "stdout",
     "output_type": "stream",
     "text": [
      "\b\b\b\b\b\b\b\b\b\b\b\b\b\b\b\b\b\b\b\b\b\b\b\b\b\b\b\b\b\b\b\b\b\b\b\b\b\b\b\b\b\b\b\b\b\b\b\b\b\b\b\b\b\b\b\b\b\b\b\b\b\b\b\b\b\b\b\b\b\b\b\b\b\b\b\b\b\b\b\b\b\b\b\r",
      "13824/60000 [=====>........................] - ETA: 0s - loss: 0.3290 - acc: 0.9111"
     ]
    },
    {
     "name": "stderr",
     "output_type": "stream",
     "text": [
      "\n",
      "\r",
      "Epoch: 76 - loss: 0.324, acc: 0.912 30%|██▉       | 17920/60000 [00:00<00:00, 87017.92it/s]"
     ]
    },
    {
     "name": "stdout",
     "output_type": "stream",
     "text": [
      "24064/60000 [===========>..................] - ETA: 0s - loss: 0.3238 - acc: 0.9120"
     ]
    },
    {
     "name": "stderr",
     "output_type": "stream",
     "text": [
      "\u001b[A\n",
      "Epoch: 76 - loss: 0.323, acc: 0.912 44%|████▍     | 26624/60000 [00:00<00:00, 86840.62it/s]"
     ]
    },
    {
     "name": "stdout",
     "output_type": "stream",
     "text": [
      "31488/60000 [==============>...............] - ETA: 0s - loss: 0.3238 - acc: 0.9121"
     ]
    },
    {
     "name": "stderr",
     "output_type": "stream",
     "text": [
      "\u001b[A\n",
      "Epoch: 76 - loss: 0.325, acc: 0.912 58%|█████▊    | 34816/60000 [00:00<00:00, 85292.69it/s]"
     ]
    },
    {
     "name": "stdout",
     "output_type": "stream",
     "text": [
      "41472/60000 [===================>..........] - ETA: 0s - loss: 0.3255 - acc: 0.9116"
     ]
    },
    {
     "name": "stderr",
     "output_type": "stream",
     "text": [
      "\u001b[A\n",
      "Epoch: 76 - loss: 0.324, acc: 0.912 74%|███████▍  | 44544/60000 [00:00<00:00, 87690.72it/s]"
     ]
    },
    {
     "name": "stdout",
     "output_type": "stream",
     "text": [
      "49920/60000 [=======================>......] - ETA: 0s - loss: 0.3257 - acc: 0.9110"
     ]
    },
    {
     "name": "stderr",
     "output_type": "stream",
     "text": [
      "\u001b[A\n",
      "Epoch: 76 - loss: 0.326, acc: 0.911 88%|████████▊ | 52736/60000 [00:00<00:00, 85381.00it/s]"
     ]
    },
    {
     "name": "stdout",
     "output_type": "stream",
     "text": [
      "58880/60000 [============================>.] - ETA: 0s - loss: 0.3271 - acc: 0.9106"
     ]
    },
    {
     "name": "stderr",
     "output_type": "stream",
     "text": [
      "\u001b[A\n",
      "Epoch: 76 - loss: 0.328, acc: 0.911, val_loss: 0.314, val_acc: 0.915100%|██████████| 60000/60000 [00:00<00:00, 70344.60it/s]\u001b[A\n",
      "Training:  77%|███████▋  | 77/100 [01:00<00:17,  1.28it/s]"
     ]
    },
    {
     "name": "stdout",
     "output_type": "stream",
     "text": [
      "Epoch 00076: val_loss improved from 0.31449 to 0.31385, saving model to checkpoints_mnist_log_reg_keras_tensorflow/mnist_log_reg.hdf5\n",
      "\b\b\b\b\b\b\b\b\b\b\b\b\b\b\b\b\b\b\b\b\b\b\b\b\b\b\b\b\b\b\b\b\b\b\b\b\b\b\b\b\b\b\b\b\b\b\b\b\b\b\b\b\b\b\b\b\b\b\b\b\b\b\b\b\b\b\b\b\b\b\b\b\b\b\b\b\b\b\b\b\b\b\b\r",
      "60000/60000 [==============================] - 0s - loss: 0.3276 - acc: 0.9106 - val_loss: 0.3138 - val_acc: 0.9153"
     ]
    },
    {
     "name": "stderr",
     "output_type": "stream",
     "text": [
      "\n",
      "\r",
      "Epoch: 77:   0%|          | 0/60000 [00:00<?, ?it/s]"
     ]
    },
    {
     "name": "stdout",
     "output_type": "stream",
     "text": [
      "\n",
      "Epoch 78/100\n",
      "\r",
      "  256/60000 [..............................] - ETA: 1s - loss: 0.3329 - acc: 0.9023"
     ]
    },
    {
     "name": "stderr",
     "output_type": "stream",
     "text": [
      "\u001b[A"
     ]
    },
    {
     "name": "stdout",
     "output_type": "stream",
     "text": [
      "\b\b\b\b\b\b\b\b\b\b\b\b\b\b\b\b\b\b\b\b\b\b\b\b\b\b\b\b\b\b\b\b\b\b\b\b\b\b\b\b\b\b\b\b\b\b\b\b\b\b\b\b\b\b\b\b\b\b\b\b\b\b\b\b\b\b\b\b\b\b\b\b\b\b\b\b\b\b\b\b\b\b\b\r",
      " 5120/60000 [=>............................] - ETA: 0s - loss: 0.3590 - acc: 0.9010"
     ]
    },
    {
     "name": "stderr",
     "output_type": "stream",
     "text": [
      "\n",
      "\r",
      "Epoch: 77 - loss: 0.346, acc: 0.903 15%|█▍        | 8960/60000 [00:00<00:00, 88312.55it/s]"
     ]
    },
    {
     "name": "stdout",
     "output_type": "stream",
     "text": [
      "14848/60000 [======>.......................] - ETA: 0s - loss: 0.3378 - acc: 0.9060"
     ]
    },
    {
     "name": "stderr",
     "output_type": "stream",
     "text": [
      "\u001b[A\n",
      "Epoch: 77 - loss: 0.339, acc: 0.906 31%|███       | 18432/60000 [00:00<00:00, 89574.62it/s]"
     ]
    },
    {
     "name": "stdout",
     "output_type": "stream",
     "text": [
      "23552/60000 [==========>...................] - ETA: 0s - loss: 0.3367 - acc: 0.9074"
     ]
    },
    {
     "name": "stderr",
     "output_type": "stream",
     "text": [
      "\u001b[A\n",
      "Epoch: 77 - loss: 0.332, acc: 0.909 44%|████▍     | 26624/60000 [00:00<00:00, 86953.61it/s]"
     ]
    },
    {
     "name": "stdout",
     "output_type": "stream",
     "text": [
      "32512/60000 [===============>..............] - ETA: 0s - loss: 0.3306 - acc: 0.9100"
     ]
    },
    {
     "name": "stderr",
     "output_type": "stream",
     "text": [
      "\u001b[A\n",
      "Epoch: 77 - loss: 0.330, acc: 0.910 59%|█████▉    | 35584/60000 [00:00<00:00, 87515.31it/s]"
     ]
    },
    {
     "name": "stdout",
     "output_type": "stream",
     "text": [
      "41984/60000 [===================>..........] - ETA: 0s - loss: 0.3305 - acc: 0.9106"
     ]
    },
    {
     "name": "stderr",
     "output_type": "stream",
     "text": [
      "\u001b[A\n",
      "Epoch: 77 - loss: 0.329, acc: 0.911 75%|███████▍  | 44800/60000 [00:00<00:00, 88001.36it/s]"
     ]
    },
    {
     "name": "stdout",
     "output_type": "stream",
     "text": [
      "51200/60000 [========================>.....] - ETA: 0s - loss: 0.3285 - acc: 0.9107"
     ]
    },
    {
     "name": "stderr",
     "output_type": "stream",
     "text": [
      "\u001b[A\n",
      "Epoch: 77 - loss: 0.327, acc: 0.911 91%|█████████ | 54528/60000 [00:00<00:00, 90350.69it/s]"
     ]
    },
    {
     "name": "stdout",
     "output_type": "stream",
     "text": [
      "\b\b\b\b\b\b\b\b\b\b\b\b\b\b\b\b\b\b\b\b\b\b\b\b\b\b\b\b\b\b\b\b\b\b\b\b\b\b\b\b\b\b\b\b\b\b\b\b\b\b\b\b\b\b\b\b\b\b\b\b\b\b\b\b\b\b\b\b\b\b\b\b\b\b\b\b\b\b\b\b\b\b\b\r",
      "56064/60000 [===========================>..] - ETA: 0s - loss: 0.3280 - acc: 0.9105"
     ]
    },
    {
     "name": "stderr",
     "output_type": "stream",
     "text": [
      "\u001b[A\n",
      "Epoch: 77 - loss: 0.327, acc: 0.911, val_loss: 0.313, val_acc: 0.916100%|██████████| 60000/60000 [00:00<00:00, 70928.60it/s]\u001b[A\n",
      "Training:  78%|███████▊  | 78/100 [01:01<00:16,  1.30it/s]"
     ]
    },
    {
     "name": "stdout",
     "output_type": "stream",
     "text": [
      "Epoch 00077: val_loss improved from 0.31385 to 0.31321, saving model to checkpoints_mnist_log_reg_keras_tensorflow/mnist_log_reg.hdf5\n",
      "\b\b\b\b\b\b\b\b\b\b\b\b\b\b\b\b\b\b\b\b\b\b\b\b\b\b\b\b\b\b\b\b\b\b\b\b\b\b\b\b\b\b\b\b\b\b\b\b\b\b\b\b\b\b\b\b\b\b\b\b\b\b\b\b\b\b\b\b\b\b\b\b\b\b\b\b\b\b\b\b\b\b\b\r",
      "60000/60000 [==============================] - 0s - loss: 0.3269 - acc: 0.9107 - val_loss: 0.3132 - val_acc: 0.9156"
     ]
    },
    {
     "name": "stderr",
     "output_type": "stream",
     "text": [
      "\n",
      "\r",
      "Epoch: 78:   0%|          | 0/60000 [00:00<?, ?it/s]"
     ]
    },
    {
     "name": "stdout",
     "output_type": "stream",
     "text": [
      "\n",
      "Epoch 79/100\n",
      " 5120/60000 [=>............................] - ETA: 0s - loss: 0.3241 - acc: 0.9160"
     ]
    },
    {
     "name": "stderr",
     "output_type": "stream",
     "text": [
      "\u001b[A\n",
      "Epoch: 78 - loss: 0.326, acc: 0.913 15%|█▌        | 9216/60000 [00:00<00:00, 91602.74it/s]"
     ]
    },
    {
     "name": "stdout",
     "output_type": "stream",
     "text": [
      "14848/60000 [======>.......................] - ETA: 0s - loss: 0.3278 - acc: 0.9110"
     ]
    },
    {
     "name": "stderr",
     "output_type": "stream",
     "text": [
      "\u001b[A\n",
      "Epoch: 78 - loss: 0.331, acc: 0.909 31%|███       | 18688/60000 [00:00<00:00, 91947.44it/s]"
     ]
    },
    {
     "name": "stdout",
     "output_type": "stream",
     "text": [
      "23552/60000 [==========>...................] - ETA: 0s - loss: 0.3315 - acc: 0.9094"
     ]
    },
    {
     "name": "stderr",
     "output_type": "stream",
     "text": [
      "\u001b[A\n",
      "Epoch: 78 - loss: 0.329, acc: 0.910 45%|████▌     | 27136/60000 [00:00<00:00, 89027.55it/s]"
     ]
    },
    {
     "name": "stdout",
     "output_type": "stream",
     "text": [
      "32768/60000 [===============>..............] - ETA: 0s - loss: 0.3275 - acc: 0.9103"
     ]
    },
    {
     "name": "stderr",
     "output_type": "stream",
     "text": [
      "\u001b[A\n",
      "Epoch: 78 - loss: 0.328, acc: 0.910 58%|█████▊    | 35072/60000 [00:00<00:00, 85385.06it/s]"
     ]
    },
    {
     "name": "stdout",
     "output_type": "stream",
     "text": [
      "40448/60000 [===================>..........] - ETA: 0s - loss: 0.3259 - acc: 0.9107"
     ]
    },
    {
     "name": "stderr",
     "output_type": "stream",
     "text": [
      "\u001b[A\n",
      "Epoch: 78 - loss: 0.326, acc: 0.911 73%|███████▎  | 43520/60000 [00:00<00:00, 84728.72it/s]"
     ]
    },
    {
     "name": "stdout",
     "output_type": "stream",
     "text": [
      "49920/60000 [=======================>......] - ETA: 0s - loss: 0.3263 - acc: 0.9110"
     ]
    },
    {
     "name": "stderr",
     "output_type": "stream",
     "text": [
      "\u001b[A\n",
      "Epoch: 78 - loss: 0.326, acc: 0.911 89%|████████▊ | 53248/60000 [00:00<00:00, 87744.53it/s]"
     ]
    },
    {
     "name": "stdout",
     "output_type": "stream",
     "text": [
      "59136/60000 [============================>.] - ETA: 0s - loss: 0.3265 - acc: 0.9109"
     ]
    },
    {
     "name": "stderr",
     "output_type": "stream",
     "text": [
      "\u001b[A\n",
      "Epoch: 78 - loss: 0.326, acc: 0.911, val_loss: 0.313, val_acc: 0.916100%|██████████| 60000/60000 [00:00<00:00, 72172.77it/s]\u001b[A\n",
      "Training:  79%|███████▉  | 79/100 [01:02<00:16,  1.31it/s]"
     ]
    },
    {
     "name": "stdout",
     "output_type": "stream",
     "text": [
      "Epoch 00078: val_loss improved from 0.31321 to 0.31292, saving model to checkpoints_mnist_log_reg_keras_tensorflow/mnist_log_reg.hdf5\n",
      "\b\b\b\b\b\b\b\b\b\b\b\b\b\b\b\b\b\b\b\b\b\b\b\b\b\b\b\b\b\b\b\b\b\b\b\b\b\b\b\b\b\b\b\b\b\b\b\b\b\b\b\b\b\b\b\b\b\b\b\b\b\b\b\b\b\b\b\b\b\b\b\b\b\b\b\b\b\b\b\b\b\b\b\r",
      "60000/60000 [==============================] - 0s - loss: 0.3263 - acc: 0.9109 - val_loss: 0.3129 - val_acc: 0.9159"
     ]
    },
    {
     "name": "stderr",
     "output_type": "stream",
     "text": [
      "\n",
      "\r",
      "Epoch: 79:   0%|          | 0/60000 [00:00<?, ?it/s]"
     ]
    },
    {
     "name": "stdout",
     "output_type": "stream",
     "text": [
      "\n",
      "Epoch 80/100\n",
      " 4608/60000 [=>............................] - ETA: 0s - loss: 0.3441 - acc: 0.9047"
     ]
    },
    {
     "name": "stderr",
     "output_type": "stream",
     "text": [
      "\u001b[A\n",
      "Epoch: 79 - loss: 0.334, acc: 0.908 15%|█▍        | 8704/60000 [00:00<00:00, 86122.66it/s]"
     ]
    },
    {
     "name": "stdout",
     "output_type": "stream",
     "text": [
      "13824/60000 [=====>........................] - ETA: 0s - loss: 0.3326 - acc: 0.9069"
     ]
    },
    {
     "name": "stderr",
     "output_type": "stream",
     "text": [
      "\u001b[A\n",
      "Epoch: 79 - loss: 0.330, acc: 0.909 29%|██▉       | 17664/60000 [00:00<00:00, 86420.71it/s]"
     ]
    },
    {
     "name": "stdout",
     "output_type": "stream",
     "text": [
      "23040/60000 [==========>...................] - ETA: 0s - loss: 0.3294 - acc: 0.9099"
     ]
    },
    {
     "name": "stderr",
     "output_type": "stream",
     "text": [
      "\u001b[A\n",
      "Epoch: 79 - loss: 0.330, acc: 0.910 45%|████▍     | 26880/60000 [00:00<00:00, 87827.96it/s]"
     ]
    },
    {
     "name": "stdout",
     "output_type": "stream",
     "text": [
      "32512/60000 [===============>..............] - ETA: 0s - loss: 0.3318 - acc: 0.9096"
     ]
    },
    {
     "name": "stderr",
     "output_type": "stream",
     "text": [
      "\u001b[A\n",
      "Epoch: 79 - loss: 0.330, acc: 0.910 61%|██████    | 36352/60000 [00:00<00:00, 89235.61it/s]"
     ]
    },
    {
     "name": "stdout",
     "output_type": "stream",
     "text": [
      "41728/60000 [===================>..........] - ETA: 0s - loss: 0.3266 - acc: 0.9104"
     ]
    },
    {
     "name": "stderr",
     "output_type": "stream",
     "text": [
      "\u001b[A\n",
      "Epoch: 79 - loss: 0.326, acc: 0.910 76%|███████▌  | 45312/60000 [00:00<00:00, 88903.95it/s]"
     ]
    },
    {
     "name": "stdout",
     "output_type": "stream",
     "text": [
      "50944/60000 [========================>.....] - ETA: 0s - loss: 0.3267 - acc: 0.9105"
     ]
    },
    {
     "name": "stderr",
     "output_type": "stream",
     "text": [
      "\u001b[A\n",
      "Epoch: 79 - loss: 0.325, acc: 0.910 91%|█████████ | 54528/60000 [00:00<00:00, 89271.61it/s]"
     ]
    },
    {
     "name": "stdout",
     "output_type": "stream",
     "text": [
      "\b\b\b\b\b\b\b\b\b\b\b\b\b\b\b\b\b\b\b\b\b\b\b\b\b\b\b\b\b\b\b\b\b\b\b\b\b\b\b\b\b\b\b\b\b\b\b\b\b\b\b\b\b\b\b\b\b\b\b\b\b\b\b\b\b\b\b\b\b\b\b\b\b\b\b\b\b\b\b\b\b\b\b\r",
      "56064/60000 [===========================>..] - ETA: 0s - loss: 0.3254 - acc: 0.9105"
     ]
    },
    {
     "name": "stderr",
     "output_type": "stream",
     "text": [
      "\u001b[A\n",
      "Epoch: 79 - loss: 0.326, acc: 0.911, val_loss: 0.312, val_acc: 0.916100%|██████████| 60000/60000 [00:00<00:00, 63360.01it/s]\u001b[A\n",
      "Training:  80%|████████  | 80/100 [01:02<00:15,  1.31it/s]"
     ]
    },
    {
     "name": "stdout",
     "output_type": "stream",
     "text": [
      "Epoch 00079: val_loss improved from 0.31292 to 0.31221, saving model to checkpoints_mnist_log_reg_keras_tensorflow/mnist_log_reg.hdf5\n",
      "\b\b\b\b\b\b\b\b\b\b\b\b\b\b\b\b\b\b\b\b\b\b\b\b\b\b\b\b\b\b\b\b\b\b\b\b\b\b\b\b\b\b\b\b\b\b\b\b\b\b\b\b\b\b\b\b\b\b\b\b\b\b\b\b\b\b\b\b\b\b\b\b\b\b\b\b\b\b\b\b\b\b\b\r",
      "60000/60000 [==============================] - 0s - loss: 0.3257 - acc: 0.9107 - val_loss: 0.3122 - val_acc: 0.9163"
     ]
    },
    {
     "name": "stderr",
     "output_type": "stream",
     "text": [
      "\n",
      "\r",
      "Epoch: 80:   0%|          | 0/60000 [00:00<?, ?it/s]"
     ]
    },
    {
     "name": "stdout",
     "output_type": "stream",
     "text": [
      "\n",
      "Epoch 81/100\n",
      "  256/60000 [..............................] - ETA: 2s - loss: 0.2972 - acc: 0.9141"
     ]
    },
    {
     "name": "stderr",
     "output_type": "stream",
     "text": [
      "\u001b[A"
     ]
    },
    {
     "name": "stdout",
     "output_type": "stream",
     "text": [
      "\b\b\b\b\b\b\b\b\b\b\b\b\b\b\b\b\b\b\b\b\b\b\b\b\b\b\b\b\b\b\b\b\b\b\b\b\b\b\b\b\b\b\b\b\b\b\b\b\b\b\b\b\b\b\b\b\b\b\b\b\b\b\b\b\b\b\b\b\b\b\b\b\b\b\b\b\b\b\b\b\b\b\b\r",
      " 3072/60000 [>.............................] - ETA: 1s - loss: 0.3055 - acc: 0.9124"
     ]
    },
    {
     "name": "stderr",
     "output_type": "stream",
     "text": [
      "\n",
      "\r",
      "Epoch: 80 - loss: 0.316, acc: 0.910  8%|▊         | 4864/60000 [00:00<00:01, 48637.61it/s]"
     ]
    },
    {
     "name": "stdout",
     "output_type": "stream",
     "text": [
      " 8704/60000 [===>..........................] - ETA: 0s - loss: 0.3153 - acc: 0.9115"
     ]
    },
    {
     "name": "stderr",
     "output_type": "stream",
     "text": [
      "\u001b[A\n",
      "Epoch: 80 - loss: 0.316, acc: 0.912 18%|█▊        | 11008/60000 [00:00<00:00, 51595.46it/s]"
     ]
    },
    {
     "name": "stdout",
     "output_type": "stream",
     "text": [
      "14592/60000 [======>.......................] - ETA: 0s - loss: 0.3161 - acc: 0.9129"
     ]
    },
    {
     "name": "stderr",
     "output_type": "stream",
     "text": [
      "\u001b[A\n",
      "Epoch: 80 - loss: 0.318, acc: 0.913 26%|██▋       | 15872/60000 [00:00<00:00, 50335.55it/s]"
     ]
    },
    {
     "name": "stdout",
     "output_type": "stream",
     "text": [
      "19968/60000 [========>.....................] - ETA: 0s - loss: 0.3194 - acc: 0.9121"
     ]
    },
    {
     "name": "stderr",
     "output_type": "stream",
     "text": [
      "\u001b[A\n",
      "Epoch: 80 - loss: 0.319, acc: 0.912 37%|███▋      | 22272/60000 [00:00<00:00, 53545.91it/s]"
     ]
    },
    {
     "name": "stdout",
     "output_type": "stream",
     "text": [
      "29440/60000 [=============>................] - ETA: 0s - loss: 0.3207 - acc: 0.9119"
     ]
    },
    {
     "name": "stderr",
     "output_type": "stream",
     "text": [
      "\u001b[A\n",
      "Epoch: 80 - loss: 0.319, acc: 0.912 53%|█████▎    | 31744/60000 [00:00<00:00, 61546.37it/s]"
     ]
    },
    {
     "name": "stdout",
     "output_type": "stream",
     "text": [
      "39424/60000 [==================>...........] - ETA: 0s - loss: 0.3204 - acc: 0.9121"
     ]
    },
    {
     "name": "stderr",
     "output_type": "stream",
     "text": [
      "\u001b[A\n",
      "Epoch: 80 - loss: 0.321, acc: 0.912 70%|██████▉   | 41728/60000 [00:00<00:00, 69215.11it/s]"
     ]
    },
    {
     "name": "stdout",
     "output_type": "stream",
     "text": [
      "48896/60000 [=======================>......] - ETA: 0s - loss: 0.3233 - acc: 0.9120"
     ]
    },
    {
     "name": "stderr",
     "output_type": "stream",
     "text": [
      "\u001b[A\n",
      "Epoch: 80 - loss: 0.324, acc: 0.912 85%|████████▍ | 50944/60000 [00:00<00:00, 74524.28it/s]"
     ]
    },
    {
     "name": "stdout",
     "output_type": "stream",
     "text": [
      "57600/60000 [===========================>..] - ETA: 0s - loss: 0.3254 - acc: 0.9111"
     ]
    },
    {
     "name": "stderr",
     "output_type": "stream",
     "text": [
      "\u001b[A\n",
      "Epoch: 80 - loss: 0.325, acc: 0.911 99%|█████████▉| 59648/60000 [00:00<00:00, 77525.66it/s]\u001b[A\n",
      "Epoch: 80 - loss: 0.325, acc: 0.911, val_loss: 0.312, val_acc: 0.916100%|██████████| 60000/60000 [00:00<00:00, 16131.72it/s]\u001b[A\n",
      "Training:  81%|████████  | 81/100 [01:03<00:15,  1.25it/s]"
     ]
    },
    {
     "name": "stdout",
     "output_type": "stream",
     "text": [
      "Epoch 00080: val_loss improved from 0.31221 to 0.31169, saving model to checkpoints_mnist_log_reg_keras_tensorflow/mnist_log_reg.hdf5\n",
      "\b\b\b\b\b\b\b\b\b\b\b\b\b\b\b\b\b\b\b\b\b\b\b\b\b\b\b\b\b\b\b\b\b\b\b\b\b\b\b\b\b\b\b\b\b\b\b\b\b\b\b\b\b\b\b\b\b\b\b\b\b\b\b\b\b\b\b\b\b\b\b\b\b\b\b\b\b\b\b\b\b\b\b\r",
      "60000/60000 [==============================] - 0s - loss: 0.3250 - acc: 0.9112 - val_loss: 0.3117 - val_acc: 0.9162"
     ]
    },
    {
     "name": "stderr",
     "output_type": "stream",
     "text": [
      "\n",
      "\r",
      "Epoch: 81:   0%|          | 0/60000 [00:00<?, ?it/s]"
     ]
    },
    {
     "name": "stdout",
     "output_type": "stream",
     "text": [
      "\n",
      "Epoch 82/100\n",
      "  256/60000 [..............................] - ETA: 1s - loss: 0.3126 - acc: 0.8945"
     ]
    },
    {
     "name": "stderr",
     "output_type": "stream",
     "text": [
      "\u001b[A"
     ]
    },
    {
     "name": "stdout",
     "output_type": "stream",
     "text": [
      "\b\b\b\b\b\b\b\b\b\b\b\b\b\b\b\b\b\b\b\b\b\b\b\b\b\b\b\b\b\b\b\b\b\b\b\b\b\b\b\b\b\b\b\b\b\b\b\b\b\b\b\b\b\b\b\b\b\b\b\b\b\b\b\b\b\b\b\b\b\b\b\b\b\b\b\b\b\b\b\b\b\b\b\r",
      " 5376/60000 [=>............................] - ETA: 0s - loss: 0.3137 - acc: 0.9176"
     ]
    },
    {
     "name": "stderr",
     "output_type": "stream",
     "text": [
      "\n",
      "\r",
      "Epoch: 81 - loss: 0.321, acc: 0.911 15%|█▌        | 9216/60000 [00:00<00:00, 90219.45it/s]"
     ]
    },
    {
     "name": "stdout",
     "output_type": "stream",
     "text": [
      "\b\b\b\b\b\b\b\b\b\b\b\b\b\b\b\b\b\b\b\b\b\b\b\b\b\b\b\b\b\b\b\b\b\b\b\b\b\b\b\b\b\b\b\b\b\b\b\b\b\b\b\b\b\b\b\b\b\b\b\b\b\b\b\b\b\b\b\b\b\b\b\b\b\b\b\b\b\b\b\b\b\b\b\r",
      " 9728/60000 [===>..........................] - ETA: 0s - loss: 0.3200 - acc: 0.9118"
     ]
    },
    {
     "name": "stderr",
     "output_type": "stream",
     "text": [
      "\u001b[A"
     ]
    },
    {
     "name": "stdout",
     "output_type": "stream",
     "text": [
      "\b\b\b\b\b\b\b\b\b\b\b\b\b\b\b\b\b\b\b\b\b\b\b\b\b\b\b\b\b\b\b\b\b\b\b\b\b\b\b\b\b\b\b\b\b\b\b\b\b\b\b\b\b\b\b\b\b\b\b\b\b\b\b\b\b\b\b\b\b\b\b\b\b\b\b\b\b\b\b\b\b\b\b\r",
      "14336/60000 [======>.......................] - ETA: 0s - loss: 0.3197 - acc: 0.9123"
     ]
    },
    {
     "name": "stderr",
     "output_type": "stream",
     "text": [
      "\n",
      "\r",
      "Epoch: 81 - loss: 0.322, acc: 0.912 30%|███       | 18176/60000 [00:00<00:00, 89317.38it/s]"
     ]
    },
    {
     "name": "stdout",
     "output_type": "stream",
     "text": [
      "23552/60000 [==========>...................] - ETA: 0s - loss: 0.3216 - acc: 0.9126"
     ]
    },
    {
     "name": "stderr",
     "output_type": "stream",
     "text": [
      "\u001b[A\n",
      "Epoch: 81 - loss: 0.323, acc: 0.912 46%|████▌     | 27392/60000 [00:00<00:00, 89308.10it/s]"
     ]
    },
    {
     "name": "stdout",
     "output_type": "stream",
     "text": [
      "32512/60000 [===============>..............] - ETA: 0s - loss: 0.3223 - acc: 0.9120"
     ]
    },
    {
     "name": "stderr",
     "output_type": "stream",
     "text": [
      "\u001b[A\n",
      "Epoch: 81 - loss: 0.323, acc: 0.912 61%|██████    | 36608/60000 [00:00<00:00, 89721.98it/s]"
     ]
    },
    {
     "name": "stdout",
     "output_type": "stream",
     "text": [
      "41984/60000 [===================>..........] - ETA: 0s - loss: 0.3229 - acc: 0.9121"
     ]
    },
    {
     "name": "stderr",
     "output_type": "stream",
     "text": [
      "\u001b[A\n",
      "Epoch: 81 - loss: 0.324, acc: 0.912 77%|███████▋  | 46080/60000 [00:00<00:00, 90807.00it/s]"
     ]
    },
    {
     "name": "stdout",
     "output_type": "stream",
     "text": [
      "51712/60000 [========================>.....] - ETA: 0s - loss: 0.3231 - acc: 0.9121"
     ]
    },
    {
     "name": "stderr",
     "output_type": "stream",
     "text": [
      "\u001b[A\n",
      "Epoch: 81 - loss: 0.325, acc: 0.911 93%|█████████▎| 55552/60000 [00:00<00:00, 91621.55it/s]"
     ]
    },
    {
     "name": "stdout",
     "output_type": "stream",
     "text": [
      "\b\b\b\b\b\b\b\b\b\b\b\b\b\b\b\b\b\b\b\b\b\b\b\b\b\b\b\b\b\b\b\b\b\b\b\b\b\b\b\b\b\b\b\b\b\b\b\b\b\b\b\b\b\b\b\b\b\b\b\b\b\b\b\b\b\b\b\b\b\b\b\b\b\b\b\b\b\b\b\b\b\b\b\r",
      "56320/60000 [===========================>..] - ETA: 0s - loss: 0.3249 - acc: 0.9112"
     ]
    },
    {
     "name": "stderr",
     "output_type": "stream",
     "text": [
      "\u001b[A\n",
      "Epoch: 81 - loss: 0.324, acc: 0.911, val_loss: 0.311, val_acc: 0.916100%|██████████| 60000/60000 [00:00<00:00, 69694.98it/s]\u001b[A\n",
      "Training:  82%|████████▏ | 82/100 [01:04<00:14,  1.28it/s]"
     ]
    },
    {
     "name": "stdout",
     "output_type": "stream",
     "text": [
      "Epoch 00081: val_loss improved from 0.31169 to 0.31130, saving model to checkpoints_mnist_log_reg_keras_tensorflow/mnist_log_reg.hdf5\n",
      "60000/60000 [==============================] - 0s - loss: 0.3245 - acc: 0.9112 - val_loss: 0.3113 - val_acc: 0.9164"
     ]
    },
    {
     "name": "stderr",
     "output_type": "stream",
     "text": [
      "\n",
      "\r",
      "Epoch: 82:   0%|          | 0/60000 [00:00<?, ?it/s]"
     ]
    },
    {
     "name": "stdout",
     "output_type": "stream",
     "text": [
      "\n",
      "Epoch 83/100\n",
      " 5632/60000 [=>............................] - ETA: 0s - loss: 0.3108 - acc: 0.9162"
     ]
    },
    {
     "name": "stderr",
     "output_type": "stream",
     "text": [
      "\u001b[A\n",
      "Epoch: 82 - loss: 0.313, acc: 0.913 16%|█▌        | 9728/60000 [00:00<00:00, 96813.14it/s]"
     ]
    },
    {
     "name": "stdout",
     "output_type": "stream",
     "text": [
      "15616/60000 [======>.......................] - ETA: 0s - loss: 0.3232 - acc: 0.9102"
     ]
    },
    {
     "name": "stderr",
     "output_type": "stream",
     "text": [
      "\u001b[A\n",
      "Epoch: 82 - loss: 0.325, acc: 0.912 32%|███▏      | 19456/60000 [00:00<00:00, 96367.06it/s]"
     ]
    },
    {
     "name": "stdout",
     "output_type": "stream",
     "text": [
      "24576/60000 [===========>..................] - ETA: 0s - loss: 0.3307 - acc: 0.9097"
     ]
    },
    {
     "name": "stderr",
     "output_type": "stream",
     "text": [
      "\u001b[A\n",
      "Epoch: 82 - loss: 0.328, acc: 0.911 48%|████▊     | 28672/60000 [00:00<00:00, 94450.97it/s]"
     ]
    },
    {
     "name": "stdout",
     "output_type": "stream",
     "text": [
      "34304/60000 [================>.............] - ETA: 0s - loss: 0.3281 - acc: 0.9108"
     ]
    },
    {
     "name": "stderr",
     "output_type": "stream",
     "text": [
      "\u001b[A\n",
      "Epoch: 82 - loss: 0.328, acc: 0.911 63%|██████▎   | 37888/60000 [00:00<00:00, 92648.04it/s]"
     ]
    },
    {
     "name": "stdout",
     "output_type": "stream",
     "text": [
      "43776/60000 [====================>.........] - ETA: 0s - loss: 0.3267 - acc: 0.9111"
     ]
    },
    {
     "name": "stderr",
     "output_type": "stream",
     "text": [
      "\u001b[A\n",
      "Epoch: 82 - loss: 0.327, acc: 0.911 80%|███████▉  | 47872/60000 [00:00<00:00, 94165.39it/s]"
     ]
    },
    {
     "name": "stdout",
     "output_type": "stream",
     "text": [
      "53504/60000 [=========================>....] - ETA: 0s - loss: 0.3252 - acc: 0.9109"
     ]
    },
    {
     "name": "stderr",
     "output_type": "stream",
     "text": [
      "\u001b[A\n",
      "Epoch: 82 - loss: 0.324, acc: 0.911 95%|█████████▌| 57088/60000 [00:00<00:00, 93352.50it/s]"
     ]
    },
    {
     "name": "stdout",
     "output_type": "stream",
     "text": [
      "\b\b\b\b\b\b\b\b\b\b\b\b\b\b\b\b\b\b\b\b\b\b\b\b\b\b\b\b\b\b\b\b\b\b\b\b\b\b\b\b\b\b\b\b\b\b\b\b\b\b\b\b\b\b\b\b\b\b\b\b\b\b\b\b\b\b\b\b\b\b\b\b\b\b\b\b\b\b\b\b\b\b\b\r",
      "57856/60000 [===========================>..] - ETA: 0s - loss: 0.3242 - acc: 0.9111"
     ]
    },
    {
     "name": "stderr",
     "output_type": "stream",
     "text": [
      "\u001b[A\n",
      "Epoch: 82 - loss: 0.324, acc: 0.911, val_loss: 0.311, val_acc: 0.916100%|██████████| 60000/60000 [00:00<00:00, 61464.41it/s]\u001b[A\n",
      "Training:  83%|████████▎ | 83/100 [01:05<00:12,  1.32it/s]"
     ]
    },
    {
     "name": "stdout",
     "output_type": "stream",
     "text": [
      "Epoch 00082: val_loss improved from 0.31130 to 0.31079, saving model to checkpoints_mnist_log_reg_keras_tensorflow/mnist_log_reg.hdf5\n",
      "\b\b\b\b\b\b\b\b\b\b\b\b\b\b\b\b\b\b\b\b\b\b\b\b\b\b\b\b\b\b\b\b\b\b\b\b\b\b\b\b\b\b\b\b\b\b\b\b\b\b\b\b\b\b\b\b\b\b\b\b\b\b\b\b\b\b\b\b\b\b\b\b\b\b\b\b\b\b\b\b\b\b\b\r",
      "60000/60000 [==============================] - 0s - loss: 0.3239 - acc: 0.9112 - val_loss: 0.3108 - val_acc: 0.9161"
     ]
    },
    {
     "name": "stderr",
     "output_type": "stream",
     "text": [
      "\n",
      "Epoch: 83:   0%|          | 0/60000 [00:00<?, ?it/s]\u001b[A"
     ]
    },
    {
     "name": "stdout",
     "output_type": "stream",
     "text": [
      "\n",
      "Epoch 84/100\n",
      " 4864/60000 [=>............................] - ETA: 0s - loss: 0.3228 - acc: 0.9130"
     ]
    },
    {
     "name": "stderr",
     "output_type": "stream",
     "text": [
      "\n",
      "Epoch: 83 - loss: 0.326, acc: 0.910 15%|█▍        | 8960/60000 [00:00<00:00, 88578.57it/s]\u001b[A"
     ]
    },
    {
     "name": "stdout",
     "output_type": "stream",
     "text": [
      "14336/60000 [======>.......................] - ETA: 0s - loss: 0.3208 - acc: 0.9120"
     ]
    },
    {
     "name": "stderr",
     "output_type": "stream",
     "text": [
      "\n",
      "\r",
      "Epoch: 83 - loss: 0.317, acc: 0.914 31%|███       | 18432/60000 [00:00<00:00, 89917.79it/s]"
     ]
    },
    {
     "name": "stdout",
     "output_type": "stream",
     "text": [
      "24064/60000 [===========>..................] - ETA: 0s - loss: 0.3171 - acc: 0.9137"
     ]
    },
    {
     "name": "stderr",
     "output_type": "stream",
     "text": [
      "\u001b[A\n",
      "Epoch: 83 - loss: 0.317, acc: 0.914 47%|████▋     | 27904/60000 [00:00<00:00, 91228.19it/s]"
     ]
    },
    {
     "name": "stdout",
     "output_type": "stream",
     "text": [
      "33536/60000 [===============>..............] - ETA: 0s - loss: 0.3211 - acc: 0.9118"
     ]
    },
    {
     "name": "stderr",
     "output_type": "stream",
     "text": [
      "\u001b[A\n",
      "Epoch: 83 - loss: 0.321, acc: 0.912 61%|██████▏   | 36864/60000 [00:00<00:00, 90297.67it/s]"
     ]
    },
    {
     "name": "stdout",
     "output_type": "stream",
     "text": [
      "42752/60000 [====================>.........] - ETA: 0s - loss: 0.3216 - acc: 0.9115"
     ]
    },
    {
     "name": "stderr",
     "output_type": "stream",
     "text": [
      "\u001b[A\n",
      "Epoch: 83 - loss: 0.322, acc: 0.911 77%|███████▋  | 46336/60000 [00:00<00:00, 91085.50it/s]"
     ]
    },
    {
     "name": "stdout",
     "output_type": "stream",
     "text": [
      "52992/60000 [=========================>....] - ETA: 0s - loss: 0.3240 - acc: 0.9109"
     ]
    },
    {
     "name": "stderr",
     "output_type": "stream",
     "text": [
      "\u001b[A\n",
      "Epoch: 83 - loss: 0.323, acc: 0.911 94%|█████████▍| 56320/60000 [00:00<00:00, 93291.92it/s]"
     ]
    },
    {
     "name": "stdout",
     "output_type": "stream",
     "text": [
      "\b\b\b\b\b\b\b\b\b\b\b\b\b\b\b\b\b\b\b\b\b\b\b\b\b\b\b\b\b\b\b\b\b\b\b\b\b\b\b\b\b\b\b\b\b\b\b\b\b\b\b\b\b\b\b\b\b\b\b\b\b\b\b\b\b\b\b\b\b\b\b\b\b\b\b\b\b\b\b\b\b\b\b\r",
      "57600/60000 [===========================>..] - ETA: 0s - loss: 0.3227 - acc: 0.9112"
     ]
    },
    {
     "name": "stderr",
     "output_type": "stream",
     "text": [
      "\u001b[A\n",
      "Epoch: 83 - loss: 0.323, acc: 0.911, val_loss: 0.310, val_acc: 0.916100%|██████████| 60000/60000 [00:00<00:00, 64703.12it/s]\u001b[A\n",
      "Training:  84%|████████▍ | 84/100 [01:05<00:11,  1.34it/s]"
     ]
    },
    {
     "name": "stdout",
     "output_type": "stream",
     "text": [
      "Epoch 00083: val_loss improved from 0.31079 to 0.31029, saving model to checkpoints_mnist_log_reg_keras_tensorflow/mnist_log_reg.hdf5\n",
      "\b\b\b\b\b\b\b\b\b\b\b\b\b\b\b\b\b\b\b\b\b\b\b\b\b\b\b\b\b\b\b\b\b\b\b\b\b\b\b\b\b\b\b\b\b\b\b\b\b\b\b\b\b\b\b\b\b\b\b\b\b\b\b\b\b\b\b\b\b\b\b\b\b\b\b\b\b\b\b\b\b\b\b\r",
      "60000/60000 [==============================] - 0s - loss: 0.3233 - acc: 0.9114 - val_loss: 0.3103 - val_acc: 0.9161"
     ]
    },
    {
     "name": "stderr",
     "output_type": "stream",
     "text": [
      "\n",
      "\r",
      "Epoch: 84:   0%|          | 0/60000 [00:00<?, ?it/s]"
     ]
    },
    {
     "name": "stdout",
     "output_type": "stream",
     "text": [
      "\n",
      "Epoch 85/100\n",
      " 4608/60000 [=>............................] - ETA: 0s - loss: 0.3092 - acc: 0.9186"
     ]
    },
    {
     "name": "stderr",
     "output_type": "stream",
     "text": [
      "\u001b[A\n",
      "Epoch: 84 - loss: 0.315, acc: 0.916 15%|█▍        | 8704/60000 [00:00<00:00, 85847.64it/s]"
     ]
    },
    {
     "name": "stdout",
     "output_type": "stream",
     "text": [
      "14336/60000 [======>.......................] - ETA: 0s - loss: 0.3145 - acc: 0.9160"
     ]
    },
    {
     "name": "stderr",
     "output_type": "stream",
     "text": [
      "\u001b[A\n",
      "Epoch: 84 - loss: 0.318, acc: 0.916 30%|███       | 18176/60000 [00:00<00:00, 87654.81it/s]"
     ]
    },
    {
     "name": "stdout",
     "output_type": "stream",
     "text": [
      "24064/60000 [===========>..................] - ETA: 0s - loss: 0.3201 - acc: 0.9143"
     ]
    },
    {
     "name": "stderr",
     "output_type": "stream",
     "text": [
      "\u001b[A\n",
      "Epoch: 84 - loss: 0.319, acc: 0.914 47%|████▋     | 27904/60000 [00:00<00:00, 90093.98it/s]"
     ]
    },
    {
     "name": "stdout",
     "output_type": "stream",
     "text": [
      "33792/60000 [===============>..............] - ETA: 0s - loss: 0.3194 - acc: 0.9130"
     ]
    },
    {
     "name": "stderr",
     "output_type": "stream",
     "text": [
      "\u001b[A\n",
      "Epoch: 84 - loss: 0.323, acc: 0.912 62%|██████▏   | 37376/60000 [00:00<00:00, 91258.00it/s]"
     ]
    },
    {
     "name": "stdout",
     "output_type": "stream",
     "text": [
      "43520/60000 [====================>.........] - ETA: 0s - loss: 0.3233 - acc: 0.9114"
     ]
    },
    {
     "name": "stderr",
     "output_type": "stream",
     "text": [
      "\u001b[A\n",
      "Epoch: 84 - loss: 0.322, acc: 0.911 79%|███████▊  | 47104/60000 [00:00<00:00, 92752.20it/s]"
     ]
    },
    {
     "name": "stdout",
     "output_type": "stream",
     "text": [
      "53248/60000 [=========================>....] - ETA: 0s - loss: 0.3239 - acc: 0.9111"
     ]
    },
    {
     "name": "stderr",
     "output_type": "stream",
     "text": [
      "\u001b[A\n",
      "Epoch: 84 - loss: 0.324, acc: 0.911 94%|█████████▍| 56576/60000 [00:00<00:00, 92715.18it/s]"
     ]
    },
    {
     "name": "stdout",
     "output_type": "stream",
     "text": [
      "\b\b\b\b\b\b\b\b\b\b\b\b\b\b\b\b\b\b\b\b\b\b\b\b\b\b\b\b\b\b\b\b\b\b\b\b\b\b\b\b\b\b\b\b\b\b\b\b\b\b\b\b\b\b\b\b\b\b\b\b\b\b\b\b\b\b\b\b\b\b\b\b\b\b\b\b\b\b\b\b\b\b\b\r",
      "58112/60000 [============================>.] - ETA: 0s - loss: 0.3239 - acc: 0.9114"
     ]
    },
    {
     "name": "stderr",
     "output_type": "stream",
     "text": [
      "\u001b[A\n",
      "Epoch: 84 - loss: 0.323, acc: 0.912, val_loss: 0.310, val_acc: 0.916100%|██████████| 60000/60000 [00:00<00:00, 64097.69it/s]\u001b[A\n",
      "Training:  85%|████████▌ | 85/100 [01:06<00:11,  1.36it/s]"
     ]
    },
    {
     "name": "stdout",
     "output_type": "stream",
     "text": [
      "Epoch 00084: val_loss improved from 0.31029 to 0.30985, saving model to checkpoints_mnist_log_reg_keras_tensorflow/mnist_log_reg.hdf5\n",
      "\b\b\b\b\b\b\b\b\b\b\b\b\b\b\b\b\b\b\b\b\b\b\b\b\b\b\b\b\b\b\b\b\b\b\b\b\b\b\b\b\b\b\b\b\b\b\b\b\b\b\b\b\b\b\b\b\b\b\b\b\b\b\b\b\b\b\b\b\b\b\b\b\b\b\b\b\b\b\b\b\b\b\b\r",
      "60000/60000 [==============================] - 0s - loss: 0.3227 - acc: 0.9118 - val_loss: 0.3099 - val_acc: 0.9163"
     ]
    },
    {
     "name": "stderr",
     "output_type": "stream",
     "text": [
      "\n",
      "\r",
      "Epoch: 85:   0%|          | 0/60000 [00:00<?, ?it/s]"
     ]
    },
    {
     "name": "stdout",
     "output_type": "stream",
     "text": [
      "\n",
      "Epoch 86/100\n",
      " 5120/60000 [=>............................] - ETA: 0s - loss: 0.3155 - acc: 0.9170"
     ]
    },
    {
     "name": "stderr",
     "output_type": "stream",
     "text": [
      "\u001b[A\n",
      "Epoch: 85 - loss: 0.314, acc: 0.916 16%|█▌        | 9728/60000 [00:00<00:00, 96863.94it/s]"
     ]
    },
    {
     "name": "stdout",
     "output_type": "stream",
     "text": [
      "15360/60000 [======>.......................] - ETA: 0s - loss: 0.3207 - acc: 0.9130"
     ]
    },
    {
     "name": "stderr",
     "output_type": "stream",
     "text": [
      "\u001b[A\n",
      "Epoch: 85 - loss: 0.318, acc: 0.913 32%|███▏      | 18944/60000 [00:00<00:00, 94965.06it/s]"
     ]
    },
    {
     "name": "stdout",
     "output_type": "stream",
     "text": [
      "24576/60000 [===========>..................] - ETA: 0s - loss: 0.3203 - acc: 0.9126"
     ]
    },
    {
     "name": "stderr",
     "output_type": "stream",
     "text": [
      "\u001b[A\n",
      "Epoch: 85 - loss: 0.319, acc: 0.913 47%|████▋     | 27904/60000 [00:00<00:00, 92924.61it/s]"
     ]
    },
    {
     "name": "stdout",
     "output_type": "stream",
     "text": [
      "34048/60000 [================>.............] - ETA: 0s - loss: 0.3204 - acc: 0.9124"
     ]
    },
    {
     "name": "stderr",
     "output_type": "stream",
     "text": [
      "\u001b[A\n",
      "Epoch: 85 - loss: 0.323, acc: 0.912 64%|██████▎   | 38144/60000 [00:00<00:00, 94915.13it/s]"
     ]
    },
    {
     "name": "stdout",
     "output_type": "stream",
     "text": [
      "44032/60000 [=====================>........] - ETA: 0s - loss: 0.3213 - acc: 0.9125"
     ]
    },
    {
     "name": "stderr",
     "output_type": "stream",
     "text": [
      "\u001b[A\n",
      "Epoch: 85 - loss: 0.321, acc: 0.913 80%|███████▉  | 47872/60000 [00:00<00:00, 94934.39it/s]"
     ]
    },
    {
     "name": "stdout",
     "output_type": "stream",
     "text": [
      "53760/60000 [=========================>....] - ETA: 0s - loss: 0.3208 - acc: 0.9123"
     ]
    },
    {
     "name": "stderr",
     "output_type": "stream",
     "text": [
      "\u001b[A\n",
      "Epoch: 85 - loss: 0.322, acc: 0.912 96%|█████████▌| 57344/60000 [00:00<00:00, 94361.72it/s]"
     ]
    },
    {
     "name": "stdout",
     "output_type": "stream",
     "text": [
      "\b\b\b\b\b\b\b\b\b\b\b\b\b\b\b\b\b\b\b\b\b\b\b\b\b\b\b\b\b\b\b\b\b\b\b\b\b\b\b\b\b\b\b\b\b\b\b\b\b\b\b\b\b\b\b\b\b\b\b\b\b\b\b\b\b\b\b\b\b\b\b\b\b\b\b\b\b\b\b\b\b\b\b\r",
      "58368/60000 [============================>.] - ETA: 0s - loss: 0.3217 - acc: 0.9118"
     ]
    },
    {
     "name": "stderr",
     "output_type": "stream",
     "text": [
      "\u001b[A\n",
      "Epoch: 85 - loss: 0.322, acc: 0.912, val_loss: 0.309, val_acc: 0.916100%|██████████| 60000/60000 [00:00<00:00, 60699.81it/s]\u001b[A\n",
      "Training:  86%|████████▌ | 86/100 [01:07<00:10,  1.38it/s]"
     ]
    },
    {
     "name": "stdout",
     "output_type": "stream",
     "text": [
      "Epoch 00085: val_loss improved from 0.30985 to 0.30940, saving model to checkpoints_mnist_log_reg_keras_tensorflow/mnist_log_reg.hdf5\n",
      "\b\b\b\b\b\b\b\b\b\b\b\b\b\b\b\b\b\b\b\b\b\b\b\b\b\b\b\b\b\b\b\b\b\b\b\b\b\b\b\b\b\b\b\b\b\b\b\b\b\b\b\b\b\b\b\b\b\b\b\b\b\b\b\b\b\b\b\b\b\b\b\b\b\b\b\b\b\b\b\b\b\b\b\r",
      "60000/60000 [==============================] - 0s - loss: 0.3222 - acc: 0.9117 - val_loss: 0.3094 - val_acc: 0.9163"
     ]
    },
    {
     "name": "stderr",
     "output_type": "stream",
     "text": [
      "\n",
      "\r",
      "Epoch: 86:   0%|          | 0/60000 [00:00<?, ?it/s]"
     ]
    },
    {
     "name": "stdout",
     "output_type": "stream",
     "text": [
      "\n",
      "Epoch 87/100\n",
      "\r",
      "  256/60000 [..............................] - ETA: 0s - loss: 0.3543 - acc: 0.9062"
     ]
    },
    {
     "name": "stderr",
     "output_type": "stream",
     "text": [
      "\u001b[A"
     ]
    },
    {
     "name": "stdout",
     "output_type": "stream",
     "text": [
      "\b\b\b\b\b\b\b\b\b\b\b\b\b\b\b\b\b\b\b\b\b\b\b\b\b\b\b\b\b\b\b\b\b\b\b\b\b\b\b\b\b\b\b\b\b\b\b\b\b\b\b\b\b\b\b\b\b\b\b\b\b\b\b\b\b\b\b\b\b\b\b\b\b\b\b\b\b\b\b\b\b\b\b\r",
      " 5120/60000 [=>............................] - ETA: 0s - loss: 0.3113 - acc: 0.9152"
     ]
    },
    {
     "name": "stderr",
     "output_type": "stream",
     "text": [
      "\n",
      "\r",
      "Epoch: 86 - loss: 0.307, acc: 0.915 16%|█▌        | 9472/60000 [00:00<00:00, 93709.56it/s]"
     ]
    },
    {
     "name": "stdout",
     "output_type": "stream",
     "text": [
      "\b\b\b\b\b\b\b\b\b\b\b\b\b\b\b\b\b\b\b\b\b\b\b\b\b\b\b\b\b\b\b\b\b\b\b\b\b\b\b\b\b\b\b\b\b\b\b\b\b\b\b\b\b\b\b\b\b\b\b\b\b\b\b\b\b\b\b\b\b\b\b\b\b\b\b\b\b\b\b\b\b\b\b\r",
      " 9728/60000 [===>..........................] - ETA: 0s - loss: 0.3075 - acc: 0.9149"
     ]
    },
    {
     "name": "stderr",
     "output_type": "stream",
     "text": [
      "\u001b[A"
     ]
    },
    {
     "name": "stdout",
     "output_type": "stream",
     "text": [
      "\b\b\b\b\b\b\b\b\b\b\b\b\b\b\b\b\b\b\b\b\b\b\b\b\b\b\b\b\b\b\b\b\b\b\b\b\b\b\b\b\b\b\b\b\b\b\b\b\b\b\b\b\b\b\b\b\b\b\b\b\b\b\b\b\b\b\b\b\b\b\b\b\b\b\b\b\b\b\b\b\b\b\b\r",
      "14848/60000 [======>.......................] - ETA: 0s - loss: 0.3179 - acc: 0.9125"
     ]
    },
    {
     "name": "stderr",
     "output_type": "stream",
     "text": [
      "\n",
      "\r",
      "Epoch: 86 - loss: 0.322, acc: 0.911 32%|███▏      | 19200/60000 [00:00<00:00, 94052.05it/s]"
     ]
    },
    {
     "name": "stdout",
     "output_type": "stream",
     "text": [
      "24576/60000 [===========>..................] - ETA: 0s - loss: 0.3213 - acc: 0.9122"
     ]
    },
    {
     "name": "stderr",
     "output_type": "stream",
     "text": [
      "\u001b[A\n",
      "Epoch: 86 - loss: 0.323, acc: 0.912 49%|████▊     | 29184/60000 [00:00<00:00, 95316.74it/s]"
     ]
    },
    {
     "name": "stdout",
     "output_type": "stream",
     "text": [
      "34560/60000 [================>.............] - ETA: 0s - loss: 0.3180 - acc: 0.9128"
     ]
    },
    {
     "name": "stderr",
     "output_type": "stream",
     "text": [
      "\u001b[A\n",
      "Epoch: 86 - loss: 0.317, acc: 0.913 65%|██████▌   | 39168/60000 [00:00<00:00, 96213.77it/s]"
     ]
    },
    {
     "name": "stdout",
     "output_type": "stream",
     "text": [
      "44288/60000 [=====================>........] - ETA: 0s - loss: 0.3185 - acc: 0.9124"
     ]
    },
    {
     "name": "stderr",
     "output_type": "stream",
     "text": [
      "\u001b[A\n",
      "Epoch: 86 - loss: 0.320, acc: 0.912 81%|████████  | 48384/60000 [00:00<00:00, 94384.26it/s]"
     ]
    },
    {
     "name": "stdout",
     "output_type": "stream",
     "text": [
      "53248/60000 [=========================>....] - ETA: 0s - loss: 0.3226 - acc: 0.9115"
     ]
    },
    {
     "name": "stderr",
     "output_type": "stream",
     "text": [
      "\u001b[A\n",
      "Epoch: 86 - loss: 0.322, acc: 0.912 96%|█████████▌| 57600/60000 [00:00<00:00, 92526.43it/s]"
     ]
    },
    {
     "name": "stdout",
     "output_type": "stream",
     "text": [
      "\b\b\b\b\b\b\b\b\b\b\b\b\b\b\b\b\b\b\b\b\b\b\b\b\b\b\b\b\b\b\b\b\b\b\b\b\b\b\b\b\b\b\b\b\b\b\b\b\b\b\b\b\b\b\b\b\b\b\b\b\b\b\b\b\b\b\b\b\b\b\b\b\b\b\b\b\b\b\b\b\b\b\b\r",
      "57856/60000 [===========================>..] - ETA: 0s - loss: 0.3222 - acc: 0.9117"
     ]
    },
    {
     "name": "stderr",
     "output_type": "stream",
     "text": [
      "\u001b[A\n",
      "Epoch: 86 - loss: 0.322, acc: 0.912, val_loss: 0.309, val_acc: 0.916100%|██████████| 60000/60000 [00:00<00:00, 56268.14it/s]\u001b[A\n",
      "Training:  87%|████████▋ | 87/100 [01:08<00:09,  1.39it/s]"
     ]
    },
    {
     "name": "stdout",
     "output_type": "stream",
     "text": [
      "Epoch 00086: val_loss improved from 0.30940 to 0.30883, saving model to checkpoints_mnist_log_reg_keras_tensorflow/mnist_log_reg.hdf5\n",
      "\b\b\b\b\b\b\b\b\b\b\b\b\b\b\b\b\b\b\b\b\b\b\b\b\b\b\b\b\b\b\b\b\b\b\b\b\b\b\b\b\b\b\b\b\b\b\b\b\b\b\b\b\b\b\b\b\b\b\b\b\b\b\b\b\b\b\b\b\b\b\b\b\b\b\b\b\b\b\b\b\b\b\b\r",
      "60000/60000 [==============================] - 0s - loss: 0.3216 - acc: 0.9118 - val_loss: 0.3088 - val_acc: 0.9164"
     ]
    },
    {
     "name": "stderr",
     "output_type": "stream",
     "text": [
      "\n",
      "Epoch: 87:   0%|          | 0/60000 [00:00<?, ?it/s]\u001b[A"
     ]
    },
    {
     "name": "stdout",
     "output_type": "stream",
     "text": [
      "\n",
      "Epoch 88/100\n",
      " 5376/60000 [=>............................] - ETA: 0s - loss: 0.3362 - acc: 0.9074"
     ]
    },
    {
     "name": "stderr",
     "output_type": "stream",
     "text": [
      "\n",
      "Epoch: 87 - loss: 0.332, acc: 0.911 16%|█▌        | 9472/60000 [00:00<00:00, 94321.38it/s]\u001b[A"
     ]
    },
    {
     "name": "stdout",
     "output_type": "stream",
     "text": [
      "14592/60000 [======>.......................] - ETA: 0s - loss: 0.3191 - acc: 0.9130"
     ]
    },
    {
     "name": "stderr",
     "output_type": "stream",
     "text": [
      "\n",
      "\r",
      "Epoch: 87 - loss: 0.321, acc: 0.913 32%|███▏      | 18944/60000 [00:00<00:00, 94011.89it/s]"
     ]
    },
    {
     "name": "stdout",
     "output_type": "stream",
     "text": [
      "24320/60000 [===========>..................] - ETA: 0s - loss: 0.3225 - acc: 0.9125"
     ]
    },
    {
     "name": "stderr",
     "output_type": "stream",
     "text": [
      "\u001b[A\n",
      "Epoch: 87 - loss: 0.320, acc: 0.913 48%|████▊     | 28672/60000 [00:00<00:00, 94780.97it/s]"
     ]
    },
    {
     "name": "stdout",
     "output_type": "stream",
     "text": [
      "34048/60000 [================>.............] - ETA: 0s - loss: 0.3190 - acc: 0.9130"
     ]
    },
    {
     "name": "stderr",
     "output_type": "stream",
     "text": [
      "\u001b[A\n",
      "Epoch: 87 - loss: 0.318, acc: 0.913 63%|██████▎   | 37888/60000 [00:00<00:00, 93247.10it/s]"
     ]
    },
    {
     "name": "stdout",
     "output_type": "stream",
     "text": [
      "43776/60000 [====================>.........] - ETA: 0s - loss: 0.3199 - acc: 0.9124"
     ]
    },
    {
     "name": "stderr",
     "output_type": "stream",
     "text": [
      "\u001b[A\n",
      "Epoch: 87 - loss: 0.322, acc: 0.912 79%|███████▉  | 47360/60000 [00:00<00:00, 93534.43it/s]"
     ]
    },
    {
     "name": "stdout",
     "output_type": "stream",
     "text": [
      "52736/60000 [=========================>....] - ETA: 0s - loss: 0.3221 - acc: 0.9114"
     ]
    },
    {
     "name": "stderr",
     "output_type": "stream",
     "text": [
      "\u001b[A\n",
      "Epoch: 87 - loss: 0.321, acc: 0.912 92%|█████████▏| 55296/60000 [00:00<00:00, 87810.45it/s]"
     ]
    },
    {
     "name": "stdout",
     "output_type": "stream",
     "text": [
      "\b\b\b\b\b\b\b\b\b\b\b\b\b\b\b\b\b\b\b\b\b\b\b\b\b\b\b\b\b\b\b\b\b\b\b\b\b\b\b\b\b\b\b\b\b\b\b\b\b\b\b\b\b\b\b\b\b\b\b\b\b\b\b\b\b\b\b\b\b\b\b\b\b\b\b\b\b\b\b\b\b\b\b\r",
      "56320/60000 [===========================>..] - ETA: 0s - loss: 0.3218 - acc: 0.9117"
     ]
    },
    {
     "name": "stderr",
     "output_type": "stream",
     "text": [
      "\u001b[A\n",
      "Epoch: 87 - loss: 0.321, acc: 0.912, val_loss: 0.309, val_acc: 0.916100%|██████████| 60000/60000 [00:00<00:00, 68372.19it/s]\u001b[A\n",
      "Training:  88%|████████▊ | 88/100 [01:08<00:08,  1.39it/s]"
     ]
    },
    {
     "name": "stdout",
     "output_type": "stream",
     "text": [
      "Epoch 00087: val_loss improved from 0.30883 to 0.30857, saving model to checkpoints_mnist_log_reg_keras_tensorflow/mnist_log_reg.hdf5\n",
      "60000/60000 [==============================] - 0s - loss: 0.3211 - acc: 0.9119 - val_loss: 0.3086 - val_acc: 0.9163"
     ]
    },
    {
     "name": "stderr",
     "output_type": "stream",
     "text": [
      "\n",
      "\r",
      "Epoch: 88:   0%|          | 0/60000 [00:00<?, ?it/s]"
     ]
    },
    {
     "name": "stdout",
     "output_type": "stream",
     "text": [
      "\n",
      "Epoch 89/100\n",
      " 5120/60000 [=>............................] - ETA: 0s - loss: 0.3313 - acc: 0.9102"
     ]
    },
    {
     "name": "stderr",
     "output_type": "stream",
     "text": [
      "\u001b[A\n",
      "Epoch: 88 - loss: 0.330, acc: 0.910 15%|█▍        | 8960/60000 [00:00<00:00, 89536.68it/s]"
     ]
    },
    {
     "name": "stdout",
     "output_type": "stream",
     "text": [
      "14080/60000 [======>.......................] - ETA: 0s - loss: 0.3242 - acc: 0.9114"
     ]
    },
    {
     "name": "stderr",
     "output_type": "stream",
     "text": [
      "\u001b[A\n",
      "Epoch: 88 - loss: 0.324, acc: 0.911 31%|███       | 18688/60000 [00:00<00:00, 90707.37it/s]"
     ]
    },
    {
     "name": "stdout",
     "output_type": "stream",
     "text": [
      "23552/60000 [==========>...................] - ETA: 0s - loss: 0.3199 - acc: 0.9125"
     ]
    },
    {
     "name": "stderr",
     "output_type": "stream",
     "text": [
      "\u001b[A\n",
      "Epoch: 88 - loss: 0.321, acc: 0.912 47%|████▋     | 28160/60000 [00:00<00:00, 90929.52it/s]"
     ]
    },
    {
     "name": "stdout",
     "output_type": "stream",
     "text": [
      "33536/60000 [===============>..............] - ETA: 0s - loss: 0.3219 - acc: 0.9110"
     ]
    },
    {
     "name": "stderr",
     "output_type": "stream",
     "text": [
      "\u001b[A\n",
      "Epoch: 88 - loss: 0.324, acc: 0.911 63%|██████▎   | 37888/60000 [00:00<00:00, 91841.23it/s]"
     ]
    },
    {
     "name": "stdout",
     "output_type": "stream",
     "text": [
      "42752/60000 [====================>.........] - ETA: 0s - loss: 0.3226 - acc: 0.9113"
     ]
    },
    {
     "name": "stderr",
     "output_type": "stream",
     "text": [
      "\u001b[A\n",
      "Epoch: 88 - loss: 0.323, acc: 0.911 78%|███████▊  | 46848/60000 [00:00<00:00, 90884.65it/s]"
     ]
    },
    {
     "name": "stdout",
     "output_type": "stream",
     "text": [
      "52736/60000 [=========================>....] - ETA: 0s - loss: 0.3213 - acc: 0.9124"
     ]
    },
    {
     "name": "stderr",
     "output_type": "stream",
     "text": [
      "\u001b[A\n",
      "Epoch: 88 - loss: 0.320, acc: 0.912 94%|█████████▍| 56576/60000 [00:00<00:00, 92403.37it/s]"
     ]
    },
    {
     "name": "stdout",
     "output_type": "stream",
     "text": [
      "\b\b\b\b\b\b\b\b\b\b\b\b\b\b\b\b\b\b\b\b\b\b\b\b\b\b\b\b\b\b\b\b\b\b\b\b\b\b\b\b\b\b\b\b\b\b\b\b\b\b\b\b\b\b\b\b\b\b\b\b\b\b\b\b\b\b\b\b\b\b\b\b\b\b\b\b\b\b\b\b\b\b\b\r",
      "57344/60000 [===========================>..] - ETA: 0s - loss: 0.3207 - acc: 0.9124"
     ]
    },
    {
     "name": "stderr",
     "output_type": "stream",
     "text": [
      "\u001b[A\n",
      "Epoch: 88 - loss: 0.321, acc: 0.912, val_loss: 0.308, val_acc: 0.917100%|██████████| 60000/60000 [00:00<00:00, 64737.79it/s]\u001b[A\n",
      "Training:  89%|████████▉ | 89/100 [01:09<00:07,  1.39it/s]"
     ]
    },
    {
     "name": "stdout",
     "output_type": "stream",
     "text": [
      "Epoch 00088: val_loss improved from 0.30857 to 0.30797, saving model to checkpoints_mnist_log_reg_keras_tensorflow/mnist_log_reg.hdf5\n",
      "\b\b\b\b\b\b\b\b\b\b\b\b\b\b\b\b\b\b\b\b\b\b\b\b\b\b\b\b\b\b\b\b\b\b\b\b\b\b\b\b\b\b\b\b\b\b\b\b\b\b\b\b\b\b\b\b\b\b\b\b\b\b\b\b\b\b\b\b\b\b\b\b\b\b\b\b\b\b\b\b\b\b\b\r",
      "60000/60000 [==============================] - 0s - loss: 0.3205 - acc: 0.9122 - val_loss: 0.3080 - val_acc: 0.9167"
     ]
    },
    {
     "name": "stderr",
     "output_type": "stream",
     "text": [
      "\n",
      "\r",
      "Epoch: 89:   0%|          | 0/60000 [00:00<?, ?it/s]"
     ]
    },
    {
     "name": "stdout",
     "output_type": "stream",
     "text": [
      "\n",
      "Epoch 90/100\n",
      " 5376/60000 [=>............................] - ETA: 0s - loss: 0.3277 - acc: 0.9094"
     ]
    },
    {
     "name": "stderr",
     "output_type": "stream",
     "text": [
      "\u001b[A\n",
      "Epoch: 89 - loss: 0.319, acc: 0.913 16%|█▌        | 9728/60000 [00:00<00:00, 96704.15it/s]"
     ]
    },
    {
     "name": "stdout",
     "output_type": "stream",
     "text": [
      "14592/60000 [======>.......................] - ETA: 0s - loss: 0.3226 - acc: 0.9108"
     ]
    },
    {
     "name": "stderr",
     "output_type": "stream",
     "text": [
      "\u001b[A\n",
      "Epoch: 89 - loss: 0.323, acc: 0.911 31%|███       | 18688/60000 [00:00<00:00, 94406.57it/s]"
     ]
    },
    {
     "name": "stdout",
     "output_type": "stream",
     "text": [
      "24576/60000 [===========>..................] - ETA: 0s - loss: 0.3227 - acc: 0.9114"
     ]
    },
    {
     "name": "stderr",
     "output_type": "stream",
     "text": [
      "\u001b[A\n",
      "Epoch: 89 - loss: 0.324, acc: 0.911 47%|████▋     | 28416/60000 [00:00<00:00, 95114.95it/s]"
     ]
    },
    {
     "name": "stdout",
     "output_type": "stream",
     "text": [
      "34048/60000 [================>.............] - ETA: 0s - loss: 0.3221 - acc: 0.9112"
     ]
    },
    {
     "name": "stderr",
     "output_type": "stream",
     "text": [
      "\u001b[A\n",
      "Epoch: 89 - loss: 0.321, acc: 0.912 64%|██████▎   | 38144/60000 [00:00<00:00, 95205.21it/s]"
     ]
    },
    {
     "name": "stdout",
     "output_type": "stream",
     "text": [
      "44032/60000 [=====================>........] - ETA: 0s - loss: 0.3204 - acc: 0.9125"
     ]
    },
    {
     "name": "stderr",
     "output_type": "stream",
     "text": [
      "\u001b[A\n",
      "Epoch: 89 - loss: 0.320, acc: 0.912 79%|███████▉  | 47616/60000 [00:00<00:00, 94557.42it/s]"
     ]
    },
    {
     "name": "stdout",
     "output_type": "stream",
     "text": [
      "53504/60000 [=========================>....] - ETA: 0s - loss: 0.3211 - acc: 0.9118"
     ]
    },
    {
     "name": "stderr",
     "output_type": "stream",
     "text": [
      "\u001b[A\n",
      "Epoch: 89 - loss: 0.319, acc: 0.912 95%|█████████▌| 57088/60000 [00:00<00:00, 94076.43it/s]"
     ]
    },
    {
     "name": "stdout",
     "output_type": "stream",
     "text": [
      "\b\b\b\b\b\b\b\b\b\b\b\b\b\b\b\b\b\b\b\b\b\b\b\b\b\b\b\b\b\b\b\b\b\b\b\b\b\b\b\b\b\b\b\b\b\b\b\b\b\b\b\b\b\b\b\b\b\b\b\b\b\b\b\b\b\b\b\b\b\b\b\b\b\b\b\b\b\b\b\b\b\b\b\r",
      "58112/60000 [============================>.] - ETA: 0s - loss: 0.3198 - acc: 0.9124"
     ]
    },
    {
     "name": "stderr",
     "output_type": "stream",
     "text": [
      "\u001b[A\n",
      "Epoch: 89 - loss: 0.320, acc: 0.912, val_loss: 0.308, val_acc: 0.917100%|██████████| 60000/60000 [00:00<00:00, 59969.49it/s]\u001b[A\n",
      "Training:  90%|█████████ | 90/100 [01:10<00:07,  1.40it/s]"
     ]
    },
    {
     "name": "stdout",
     "output_type": "stream",
     "text": [
      "Epoch 00089: val_loss improved from 0.30797 to 0.30761, saving model to checkpoints_mnist_log_reg_keras_tensorflow/mnist_log_reg.hdf5\n",
      "\b\b\b\b\b\b\b\b\b\b\b\b\b\b\b\b\b\b\b\b\b\b\b\b\b\b\b\b\b\b\b\b\b\b\b\b\b\b\b\b\b\b\b\b\b\b\b\b\b\b\b\b\b\b\b\b\b\b\b\b\b\b\b\b\b\b\b\b\b\b\b\b\b\b\b\b\b\b\b\b\b\b\b\r",
      "60000/60000 [==============================] - 0s - loss: 0.3200 - acc: 0.9123 - val_loss: 0.3076 - val_acc: 0.9168"
     ]
    },
    {
     "name": "stderr",
     "output_type": "stream",
     "text": [
      "\n",
      "\r",
      "Epoch: 90:   0%|          | 0/60000 [00:00<?, ?it/s]"
     ]
    },
    {
     "name": "stdout",
     "output_type": "stream",
     "text": [
      "\n",
      "Epoch 91/100\n",
      " 5376/60000 [=>............................] - ETA: 0s - loss: 0.3430 - acc: 0.9061"
     ]
    },
    {
     "name": "stderr",
     "output_type": "stream",
     "text": [
      "\u001b[A\n",
      "Epoch: 90 - loss: 0.335, acc: 0.908 17%|█▋        | 9984/60000 [00:00<00:00, 99828.43it/s]\u001b[A"
     ]
    },
    {
     "name": "stdout",
     "output_type": "stream",
     "text": [
      "15360/60000 [======>.......................] - ETA: 0s - loss: 0.3236 - acc: 0.9109"
     ]
    },
    {
     "name": "stderr",
     "output_type": "stream",
     "text": [
      "\n",
      "\r",
      "Epoch: 90 - loss: 0.324, acc: 0.911 32%|███▏      | 19456/60000 [00:00<00:00, 97489.97it/s]"
     ]
    },
    {
     "name": "stdout",
     "output_type": "stream",
     "text": [
      "24832/60000 [===========>..................] - ETA: 0s - loss: 0.3241 - acc: 0.9104"
     ]
    },
    {
     "name": "stderr",
     "output_type": "stream",
     "text": [
      "\u001b[A\n",
      "Epoch: 90 - loss: 0.324, acc: 0.911 48%|████▊     | 28928/60000 [00:00<00:00, 96565.68it/s]"
     ]
    },
    {
     "name": "stdout",
     "output_type": "stream",
     "text": [
      "34816/60000 [================>.............] - ETA: 0s - loss: 0.3209 - acc: 0.9118"
     ]
    },
    {
     "name": "stderr",
     "output_type": "stream",
     "text": [
      "\u001b[A\n",
      "Epoch: 90 - loss: 0.320, acc: 0.912 65%|██████▍   | 38912/60000 [00:00<00:00, 97417.08it/s]"
     ]
    },
    {
     "name": "stdout",
     "output_type": "stream",
     "text": [
      "44544/60000 [=====================>........] - ETA: 0s - loss: 0.3176 - acc: 0.9125"
     ]
    },
    {
     "name": "stderr",
     "output_type": "stream",
     "text": [
      "\u001b[A\n",
      "Epoch: 90 - loss: 0.319, acc: 0.912 81%|████████  | 48640/60000 [00:00<00:00, 96655.90it/s]"
     ]
    },
    {
     "name": "stdout",
     "output_type": "stream",
     "text": [
      "54016/60000 [==========================>...] - ETA: 0s - loss: 0.3198 - acc: 0.9122"
     ]
    },
    {
     "name": "stderr",
     "output_type": "stream",
     "text": [
      "\u001b[A\n",
      "Epoch: 90 - loss: 0.320, acc: 0.912 97%|█████████▋| 58112/60000 [00:00<00:00, 95628.61it/s]"
     ]
    },
    {
     "name": "stdout",
     "output_type": "stream",
     "text": [
      "\b\b\b\b\b\b\b\b\b\b\b\b\b\b\b\b\b\b\b\b\b\b\b\b\b\b\b\b\b\b\b\b\b\b\b\b\b\b\b\b\b\b\b\b\b\b\b\b\b\b\b\b\b\b\b\b\b\b\b\b\b\b\b\b\b\b\b\b\b\b\b\b\b\b\b\b\b\b\b\b\b\b\b\r",
      "58880/60000 [============================>.] - ETA: 0s - loss: 0.3199 - acc: 0.9122"
     ]
    },
    {
     "name": "stderr",
     "output_type": "stream",
     "text": [
      "\u001b[A\n",
      "Epoch: 90 - loss: 0.320, acc: 0.912, val_loss: 0.307, val_acc: 0.917100%|██████████| 60000/60000 [00:00<00:00, 51370.43it/s]\u001b[A\n",
      "Training:  91%|█████████ | 91/100 [01:10<00:06,  1.41it/s]"
     ]
    },
    {
     "name": "stdout",
     "output_type": "stream",
     "text": [
      "Epoch 00090: val_loss improved from 0.30761 to 0.30718, saving model to checkpoints_mnist_log_reg_keras_tensorflow/mnist_log_reg.hdf5\n",
      "\b\b\b\b\b\b\b\b\b\b\b\b\b\b\b\b\b\b\b\b\b\b\b\b\b\b\b\b\b\b\b\b\b\b\b\b\b\b\b\b\b\b\b\b\b\b\b\b\b\b\b\b\b\b\b\b\b\b\b\b\b\b\b\b\b\b\b\b\b\b\b\b\b\b\b\b\b\b\b\b\b\b\b\r",
      "60000/60000 [==============================] - 0s - loss: 0.3195 - acc: 0.9122 - val_loss: 0.3072 - val_acc: 0.9168"
     ]
    },
    {
     "name": "stderr",
     "output_type": "stream",
     "text": [
      "\n",
      "\r",
      "Epoch: 91:   0%|          | 0/60000 [00:00<?, ?it/s]"
     ]
    },
    {
     "name": "stdout",
     "output_type": "stream",
     "text": [
      "\n",
      "Epoch 92/100\n",
      "\r",
      "  256/60000 [..............................] - ETA: 1s - loss: 0.2982 - acc: 0.9180"
     ]
    },
    {
     "name": "stderr",
     "output_type": "stream",
     "text": [
      "\u001b[A"
     ]
    },
    {
     "name": "stdout",
     "output_type": "stream",
     "text": [
      "\b\b\b\b\b\b\b\b\b\b\b\b\b\b\b\b\b\b\b\b\b\b\b\b\b\b\b\b\b\b\b\b\b\b\b\b\b\b\b\b\b\b\b\b\b\b\b\b\b\b\b\b\b\b\b\b\b\b\b\b\b\b\b\b\b\b\b\b\b\b\b\b\b\b\b\b\b\b\b\b\b\b\b\r",
      " 4864/60000 [=>............................] - ETA: 0s - loss: 0.3212 - acc: 0.9110"
     ]
    },
    {
     "name": "stderr",
     "output_type": "stream",
     "text": [
      "\n",
      "\r",
      "Epoch: 91 - loss: 0.320, acc: 0.912 15%|█▍        | 8960/60000 [00:00<00:00, 89225.89it/s]"
     ]
    },
    {
     "name": "stdout",
     "output_type": "stream",
     "text": [
      "\b\b\b\b\b\b\b\b\b\b\b\b\b\b\b\b\b\b\b\b\b\b\b\b\b\b\b\b\b\b\b\b\b\b\b\b\b\b\b\b\b\b\b\b\b\b\b\b\b\b\b\b\b\b\b\b\b\b\b\b\b\b\b\b\b\b\b\b\b\b\b\b\b\b\b\b\b\b\b\b\b\b\b\r",
      " 9728/60000 [===>..........................] - ETA: 0s - loss: 0.3192 - acc: 0.9125"
     ]
    },
    {
     "name": "stderr",
     "output_type": "stream",
     "text": [
      "\u001b[A"
     ]
    },
    {
     "name": "stdout",
     "output_type": "stream",
     "text": [
      "\b\b\b\b\b\b\b\b\b\b\b\b\b\b\b\b\b\b\b\b\b\b\b\b\b\b\b\b\b\b\b\b\b\b\b\b\b\b\b\b\b\b\b\b\b\b\b\b\b\b\b\b\b\b\b\b\b\b\b\b\b\b\b\b\b\b\b\b\b\b\b\b\b\b\b\b\b\b\b\b\b\b\b\r",
      "14848/60000 [======>.......................] - ETA: 0s - loss: 0.3111 - acc: 0.9166"
     ]
    },
    {
     "name": "stderr",
     "output_type": "stream",
     "text": [
      "\n",
      "\r",
      "Epoch: 91 - loss: 0.305, acc: 0.917 31%|███       | 18688/60000 [00:00<00:00, 91102.19it/s]"
     ]
    },
    {
     "name": "stdout",
     "output_type": "stream",
     "text": [
      "24576/60000 [===========>..................] - ETA: 0s - loss: 0.3102 - acc: 0.9150"
     ]
    },
    {
     "name": "stderr",
     "output_type": "stream",
     "text": [
      "\u001b[A\n",
      "Epoch: 91 - loss: 0.313, acc: 0.914 47%|████▋     | 28160/60000 [00:00<00:00, 91715.83it/s]"
     ]
    },
    {
     "name": "stdout",
     "output_type": "stream",
     "text": [
      "34304/60000 [================>.............] - ETA: 0s - loss: 0.3142 - acc: 0.9138"
     ]
    },
    {
     "name": "stderr",
     "output_type": "stream",
     "text": [
      "\u001b[A\n",
      "Epoch: 91 - loss: 0.315, acc: 0.914 62%|██████▏   | 37376/60000 [00:00<00:00, 91306.74it/s]"
     ]
    },
    {
     "name": "stdout",
     "output_type": "stream",
     "text": [
      "43520/60000 [====================>.........] - ETA: 0s - loss: 0.3160 - acc: 0.9134"
     ]
    },
    {
     "name": "stderr",
     "output_type": "stream",
     "text": [
      "\u001b[A\n",
      "Epoch: 91 - loss: 0.316, acc: 0.913 78%|███████▊  | 46848/60000 [00:00<00:00, 91764.48it/s]"
     ]
    },
    {
     "name": "stdout",
     "output_type": "stream",
     "text": [
      "52480/60000 [=========================>....] - ETA: 0s - loss: 0.3150 - acc: 0.9139"
     ]
    },
    {
     "name": "stderr",
     "output_type": "stream",
     "text": [
      "\u001b[A\n",
      "Epoch: 91 - loss: 0.317, acc: 0.913 93%|█████████▎| 55808/60000 [00:00<00:00, 90897.22it/s]"
     ]
    },
    {
     "name": "stdout",
     "output_type": "stream",
     "text": [
      "\b\b\b\b\b\b\b\b\b\b\b\b\b\b\b\b\b\b\b\b\b\b\b\b\b\b\b\b\b\b\b\b\b\b\b\b\b\b\b\b\b\b\b\b\b\b\b\b\b\b\b\b\b\b\b\b\b\b\b\b\b\b\b\b\b\b\b\b\b\b\b\b\b\b\b\b\b\b\b\b\b\b\b\r",
      "57088/60000 [===========================>..] - ETA: 0s - loss: 0.3187 - acc: 0.9128"
     ]
    },
    {
     "name": "stderr",
     "output_type": "stream",
     "text": [
      "\u001b[A\n",
      "Epoch: 91 - loss: 0.319, acc: 0.913, val_loss: 0.307, val_acc: 0.917100%|██████████| 60000/60000 [00:00<00:00, 68318.54it/s]\u001b[A\n",
      "Training:  92%|█████████▏| 92/100 [01:11<00:05,  1.41it/s]"
     ]
    },
    {
     "name": "stdout",
     "output_type": "stream",
     "text": [
      "Epoch 00091: val_loss improved from 0.30718 to 0.30676, saving model to checkpoints_mnist_log_reg_keras_tensorflow/mnist_log_reg.hdf5\n",
      "\b\b\b\b\b\b\b\b\b\b\b\b\b\b\b\b\b\b\b\b\b\b\b\b\b\b\b\b\b\b\b\b\b\b\b\b\b\b\b\b\b\b\b\b\b\b\b\b\b\b\b\b\b\b\b\b\b\b\b\b\b\b\b\b\b\b\b\b\b\b\b\b\b\b\b\b\b\b\b\b\b\b\b\r",
      "60000/60000 [==============================] - 0s - loss: 0.3190 - acc: 0.9126 - val_loss: 0.3068 - val_acc: 0.9170"
     ]
    },
    {
     "name": "stderr",
     "output_type": "stream",
     "text": [
      "\n",
      "\r",
      "Epoch: 92:   0%|          | 0/60000 [00:00<?, ?it/s]"
     ]
    },
    {
     "name": "stdout",
     "output_type": "stream",
     "text": [
      "\n",
      "Epoch 93/100\n",
      " 5632/60000 [=>............................] - ETA: 0s - loss: 0.3221 - acc: 0.9080"
     ]
    },
    {
     "name": "stderr",
     "output_type": "stream",
     "text": [
      "\u001b[A\n",
      "Epoch: 92 - loss: 0.323, acc: 0.910 17%|█▋        | 10496/60000 [00:00<00:00, 102524.28it/s]"
     ]
    },
    {
     "name": "stdout",
     "output_type": "stream",
     "text": [
      "15616/60000 [======>.......................] - ETA: 0s - loss: 0.3223 - acc: 0.9112"
     ]
    },
    {
     "name": "stderr",
     "output_type": "stream",
     "text": [
      "\u001b[A\n",
      "Epoch: 92 - loss: 0.323, acc: 0.910 32%|███▏      | 19456/60000 [00:00<00:00, 98250.89it/s] "
     ]
    },
    {
     "name": "stdout",
     "output_type": "stream",
     "text": [
      "24832/60000 [===========>..................] - ETA: 0s - loss: 0.3191 - acc: 0.9123"
     ]
    },
    {
     "name": "stderr",
     "output_type": "stream",
     "text": [
      "\u001b[A\n",
      "Epoch: 92 - loss: 0.319, acc: 0.913 48%|████▊     | 28928/60000 [00:00<00:00, 96747.63it/s]"
     ]
    },
    {
     "name": "stdout",
     "output_type": "stream",
     "text": [
      "34560/60000 [================>.............] - ETA: 0s - loss: 0.3209 - acc: 0.9128"
     ]
    },
    {
     "name": "stderr",
     "output_type": "stream",
     "text": [
      "\u001b[A\n",
      "Epoch: 92 - loss: 0.321, acc: 0.912 64%|██████▎   | 38144/60000 [00:00<00:00, 94641.25it/s]"
     ]
    },
    {
     "name": "stdout",
     "output_type": "stream",
     "text": [
      "43776/60000 [====================>.........] - ETA: 0s - loss: 0.3219 - acc: 0.9122"
     ]
    },
    {
     "name": "stderr",
     "output_type": "stream",
     "text": [
      "\u001b[A\n",
      "Epoch: 92 - loss: 0.320, acc: 0.912 80%|████████  | 48128/60000 [00:00<00:00, 95593.04it/s]"
     ]
    },
    {
     "name": "stdout",
     "output_type": "stream",
     "text": [
      "54016/60000 [==========================>...] - ETA: 0s - loss: 0.3200 - acc: 0.9124"
     ]
    },
    {
     "name": "stderr",
     "output_type": "stream",
     "text": [
      "\u001b[A\n",
      "Epoch: 92 - loss: 0.319, acc: 0.913 97%|█████████▋| 58112/60000 [00:00<00:00, 96349.65it/s]"
     ]
    },
    {
     "name": "stdout",
     "output_type": "stream",
     "text": [
      "\b\b\b\b\b\b\b\b\b\b\b\b\b\b\b\b\b\b\b\b\b\b\b\b\b\b\b\b\b\b\b\b\b\b\b\b\b\b\b\b\b\b\b\b\b\b\b\b\b\b\b\b\b\b\b\b\b\b\b\b\b\b\b\b\b\b\b\b\b\b\b\b\b\b\b\b\b\b\b\b\b\b\b\r",
      "59136/60000 [============================>.] - ETA: 0s - loss: 0.3190 - acc: 0.9125"
     ]
    },
    {
     "name": "stderr",
     "output_type": "stream",
     "text": [
      "\u001b[A\n",
      "Epoch: 92 - loss: 0.319, acc: 0.913, val_loss: 0.306, val_acc: 0.917100%|██████████| 60000/60000 [00:00<00:00, 51766.86it/s]\u001b[A\n",
      "Training:  93%|█████████▎| 93/100 [01:12<00:04,  1.42it/s]"
     ]
    },
    {
     "name": "stdout",
     "output_type": "stream",
     "text": [
      "Epoch 00092: val_loss improved from 0.30676 to 0.30641, saving model to checkpoints_mnist_log_reg_keras_tensorflow/mnist_log_reg.hdf5\n",
      "\b\b\b\b\b\b\b\b\b\b\b\b\b\b\b\b\b\b\b\b\b\b\b\b\b\b\b\b\b\b\b\b\b\b\b\b\b\b\b\b\b\b\b\b\b\b\b\b\b\b\b\b\b\b\b\b\b\b\b\b\b\b\b\b\b\b\b\b\b\b\b\b\b\b\b\b\b\b\b\b\b\b\b\r",
      "60000/60000 [==============================] - 0s - loss: 0.3185 - acc: 0.9127 - val_loss: 0.3064 - val_acc: 0.9173"
     ]
    },
    {
     "name": "stderr",
     "output_type": "stream",
     "text": [
      "\n",
      "\r",
      "Epoch: 93:   0%|          | 0/60000 [00:00<?, ?it/s]"
     ]
    },
    {
     "name": "stdout",
     "output_type": "stream",
     "text": [
      "\n",
      "Epoch 94/100\n",
      "\r",
      "  256/60000 [..............................] - ETA: 0s - loss: 0.2479 - acc: 0.9336"
     ]
    },
    {
     "name": "stderr",
     "output_type": "stream",
     "text": [
      "\u001b[A"
     ]
    },
    {
     "name": "stdout",
     "output_type": "stream",
     "text": [
      "\b\b\b\b\b\b\b\b\b\b\b\b\b\b\b\b\b\b\b\b\b\b\b\b\b\b\b\b\b\b\b\b\b\b\b\b\b\b\b\b\b\b\b\b\b\b\b\b\b\b\b\b\b\b\b\b\b\b\b\b\b\b\b\b\b\b\b\b\b\b\b\b\b\b\b\b\b\b\b\b\b\b\b\r",
      " 5376/60000 [=>............................] - ETA: 0s - loss: 0.3129 - acc: 0.9118"
     ]
    },
    {
     "name": "stderr",
     "output_type": "stream",
     "text": [
      "\n",
      "\r",
      "Epoch: 93 - loss: 0.311, acc: 0.913 17%|█▋        | 10240/60000 [00:00<00:00, 101742.96it/s]"
     ]
    },
    {
     "name": "stdout",
     "output_type": "stream",
     "text": [
      "\b\b\b\b\b\b\b\b\b\b\b\b\b\b\b\b\b\b\b\b\b\b\b\b\b\b\b\b\b\b\b\b\b\b\b\b\b\b\b\b\b\b\b\b\b\b\b\b\b\b\b\b\b\b\b\b\b\b\b\b\b\b\b\b\b\b\b\b\b\b\b\b\b\b\b\b\b\b\b\b\b\b\b\r",
      "10496/60000 [====>.........................] - ETA: 0s - loss: 0.3114 - acc: 0.9124"
     ]
    },
    {
     "name": "stderr",
     "output_type": "stream",
     "text": [
      "\u001b[A"
     ]
    },
    {
     "name": "stdout",
     "output_type": "stream",
     "text": [
      "\b\b\b\b\b\b\b\b\b\b\b\b\b\b\b\b\b\b\b\b\b\b\b\b\b\b\b\b\b\b\b\b\b\b\b\b\b\b\b\b\b\b\b\b\b\b\b\b\b\b\b\b\b\b\b\b\b\b\b\b\b\b\b\b\b\b\b\b\b\b\b\b\b\b\b\b\b\b\b\b\b\b\b\r",
      "15872/60000 [======>.......................] - ETA: 0s - loss: 0.3148 - acc: 0.9124"
     ]
    },
    {
     "name": "stderr",
     "output_type": "stream",
     "text": [
      "\n",
      "\r",
      "Epoch: 93 - loss: 0.318, acc: 0.912 33%|███▎      | 19968/60000 [00:00<00:00, 100286.21it/s]"
     ]
    },
    {
     "name": "stdout",
     "output_type": "stream",
     "text": [
      "24832/60000 [===========>..................] - ETA: 0s - loss: 0.3170 - acc: 0.9125"
     ]
    },
    {
     "name": "stderr",
     "output_type": "stream",
     "text": [
      "\u001b[A\n",
      "Epoch: 93 - loss: 0.318, acc: 0.914 47%|████▋     | 28416/60000 [00:00<00:00, 94925.20it/s] "
     ]
    },
    {
     "name": "stdout",
     "output_type": "stream",
     "text": [
      "33792/60000 [===============>..............] - ETA: 0s - loss: 0.3180 - acc: 0.9134"
     ]
    },
    {
     "name": "stderr",
     "output_type": "stream",
     "text": [
      "\u001b[A\n",
      "Epoch: 93 - loss: 0.318, acc: 0.913 63%|██████▎   | 37632/60000 [00:00<00:00, 93348.03it/s]"
     ]
    },
    {
     "name": "stdout",
     "output_type": "stream",
     "text": [
      "43264/60000 [====================>.........] - ETA: 0s - loss: 0.3162 - acc: 0.9136"
     ]
    },
    {
     "name": "stderr",
     "output_type": "stream",
     "text": [
      "\u001b[A\n",
      "Epoch: 93 - loss: 0.317, acc: 0.913 78%|███████▊  | 46592/60000 [00:00<00:00, 91568.66it/s]"
     ]
    },
    {
     "name": "stdout",
     "output_type": "stream",
     "text": [
      "52736/60000 [=========================>....] - ETA: 0s - loss: 0.3184 - acc: 0.9130"
     ]
    },
    {
     "name": "stderr",
     "output_type": "stream",
     "text": [
      "\u001b[A\n",
      "Epoch: 93 - loss: 0.319, acc: 0.913 94%|█████████▍| 56576/60000 [00:00<00:00, 93218.85it/s]"
     ]
    },
    {
     "name": "stdout",
     "output_type": "stream",
     "text": [
      "\b\b\b\b\b\b\b\b\b\b\b\b\b\b\b\b\b\b\b\b\b\b\b\b\b\b\b\b\b\b\b\b\b\b\b\b\b\b\b\b\b\b\b\b\b\b\b\b\b\b\b\b\b\b\b\b\b\b\b\b\b\b\b\b\b\b\b\b\b\b\b\b\b\b\b\b\b\b\b\b\b\b\b\r",
      "57600/60000 [===========================>..] - ETA: 0s - loss: 0.3193 - acc: 0.9127"
     ]
    },
    {
     "name": "stderr",
     "output_type": "stream",
     "text": [
      "\u001b[A\n",
      "Epoch: 93 - loss: 0.318, acc: 0.913, val_loss: 0.306, val_acc: 0.917100%|██████████| 60000/60000 [00:00<00:00, 63875.56it/s]\u001b[A\n",
      "Training:  94%|█████████▍| 94/100 [01:13<00:04,  1.41it/s]"
     ]
    },
    {
     "name": "stdout",
     "output_type": "stream",
     "text": [
      "Epoch 00093: val_loss improved from 0.30641 to 0.30592, saving model to checkpoints_mnist_log_reg_keras_tensorflow/mnist_log_reg.hdf5\n",
      "\b\b\b\b\b\b\b\b\b\b\b\b\b\b\b\b\b\b\b\b\b\b\b\b\b\b\b\b\b\b\b\b\b\b\b\b\b\b\b\b\b\b\b\b\b\b\b\b\b\b\b\b\b\b\b\b\b\b\b\b\b\b\b\b\b\b\b\b\b\b\b\b\b\b\b\b\b\b\b\b\b\b\b\r",
      "60000/60000 [==============================] - 0s - loss: 0.3180 - acc: 0.9129 - val_loss: 0.3059 - val_acc: 0.9171"
     ]
    },
    {
     "name": "stderr",
     "output_type": "stream",
     "text": [
      "\n",
      "\r",
      "Epoch: 94:   0%|          | 0/60000 [00:00<?, ?it/s]"
     ]
    },
    {
     "name": "stdout",
     "output_type": "stream",
     "text": [
      "\n",
      "Epoch 95/100\n",
      " 4864/60000 [=>............................] - ETA: 0s - loss: 0.3213 - acc: 0.9104"
     ]
    },
    {
     "name": "stderr",
     "output_type": "stream",
     "text": [
      "\u001b[A\n",
      "Epoch: 94 - loss: 0.325, acc: 0.912 15%|█▍        | 8960/60000 [00:00<00:00, 87456.78it/s]"
     ]
    },
    {
     "name": "stdout",
     "output_type": "stream",
     "text": [
      "14592/60000 [======>.......................] - ETA: 0s - loss: 0.3245 - acc: 0.9126"
     ]
    },
    {
     "name": "stderr",
     "output_type": "stream",
     "text": [
      "\u001b[A\n",
      "Epoch: 94 - loss: 0.326, acc: 0.911 32%|███▏      | 19200/60000 [00:00<00:00, 90941.99it/s]"
     ]
    },
    {
     "name": "stdout",
     "output_type": "stream",
     "text": [
      "24064/60000 [===========>..................] - ETA: 0s - loss: 0.3239 - acc: 0.9116"
     ]
    },
    {
     "name": "stderr",
     "output_type": "stream",
     "text": [
      "\u001b[A\n",
      "Epoch: 94 - loss: 0.323, acc: 0.911 47%|████▋     | 28416/60000 [00:00<00:00, 90899.77it/s]"
     ]
    },
    {
     "name": "stdout",
     "output_type": "stream",
     "text": [
      "34048/60000 [================>.............] - ETA: 0s - loss: 0.3214 - acc: 0.9120"
     ]
    },
    {
     "name": "stderr",
     "output_type": "stream",
     "text": [
      "\u001b[A\n",
      "Epoch: 94 - loss: 0.319, acc: 0.913 63%|██████▎   | 37888/60000 [00:00<00:00, 91749.57it/s]"
     ]
    },
    {
     "name": "stdout",
     "output_type": "stream",
     "text": [
      "43008/60000 [====================>.........] - ETA: 0s - loss: 0.3195 - acc: 0.9126"
     ]
    },
    {
     "name": "stderr",
     "output_type": "stream",
     "text": [
      "\u001b[A\n",
      "Epoch: 94 - loss: 0.318, acc: 0.913 79%|███████▉  | 47616/60000 [00:00<00:00, 92747.68it/s]"
     ]
    },
    {
     "name": "stdout",
     "output_type": "stream",
     "text": [
      "53248/60000 [=========================>....] - ETA: 0s - loss: 0.3174 - acc: 0.9129"
     ]
    },
    {
     "name": "stderr",
     "output_type": "stream",
     "text": [
      "\u001b[A\n",
      "Epoch: 94 - loss: 0.317, acc: 0.913 96%|█████████▌| 57600/60000 [00:00<00:00, 94247.54it/s]"
     ]
    },
    {
     "name": "stdout",
     "output_type": "stream",
     "text": [
      "\b\b\b\b\b\b\b\b\b\b\b\b\b\b\b\b\b\b\b\b\b\b\b\b\b\b\b\b\b\b\b\b\b\b\b\b\b\b\b\b\b\b\b\b\b\b\b\b\b\b\b\b\b\b\b\b\b\b\b\b\b\b\b\b\b\b\b\b\b\b\b\b\b\b\b\b\b\b\b\b\b\b\b\r",
      "58112/60000 [============================>.] - ETA: 0s - loss: 0.3178 - acc: 0.9130"
     ]
    },
    {
     "name": "stderr",
     "output_type": "stream",
     "text": [
      "\u001b[A\n",
      "Epoch: 94 - loss: 0.318, acc: 0.913, val_loss: 0.305, val_acc: 0.917100%|██████████| 60000/60000 [00:00<00:00, 55891.44it/s]\u001b[A\n",
      "Training:  95%|█████████▌| 95/100 [01:13<00:03,  1.41it/s]"
     ]
    },
    {
     "name": "stdout",
     "output_type": "stream",
     "text": [
      "Epoch 00094: val_loss improved from 0.30592 to 0.30547, saving model to checkpoints_mnist_log_reg_keras_tensorflow/mnist_log_reg.hdf5\n",
      "\b\b\b\b\b\b\b\b\b\b\b\b\b\b\b\b\b\b\b\b\b\b\b\b\b\b\b\b\b\b\b\b\b\b\b\b\b\b\b\b\b\b\b\b\b\b\b\b\b\b\b\b\b\b\b\b\b\b\b\b\b\b\b\b\b\b\b\b\b\b\b\b\b\b\b\b\b\b\b\b\b\b\b\r",
      "60000/60000 [==============================] - 0s - loss: 0.3176 - acc: 0.9131 - val_loss: 0.3055 - val_acc: 0.9174"
     ]
    },
    {
     "name": "stderr",
     "output_type": "stream",
     "text": [
      "\n",
      "Epoch: 95:   0%|          | 0/60000 [00:00<?, ?it/s]\u001b[A"
     ]
    },
    {
     "name": "stdout",
     "output_type": "stream",
     "text": [
      "\n",
      "Epoch 96/100\n",
      " 5120/60000 [=>............................] - ETA: 0s - loss: 0.2967 - acc: 0.9209"
     ]
    },
    {
     "name": "stderr",
     "output_type": "stream",
     "text": [
      "\n",
      "Epoch: 95 - loss: 0.307, acc: 0.918 15%|█▌        | 9216/60000 [00:00<00:00, 91641.83it/s]\u001b[A"
     ]
    },
    {
     "name": "stdout",
     "output_type": "stream",
     "text": [
      "14592/60000 [======>.......................] - ETA: 0s - loss: 0.3144 - acc: 0.9167"
     ]
    },
    {
     "name": "stderr",
     "output_type": "stream",
     "text": [
      "\n",
      "\r",
      "Epoch: 95 - loss: 0.318, acc: 0.915 32%|███▏      | 18944/60000 [00:00<00:00, 92646.97it/s]"
     ]
    },
    {
     "name": "stdout",
     "output_type": "stream",
     "text": [
      "24576/60000 [===========>..................] - ETA: 0s - loss: 0.3183 - acc: 0.9145"
     ]
    },
    {
     "name": "stderr",
     "output_type": "stream",
     "text": [
      "\u001b[A\n",
      "Epoch: 95 - loss: 0.316, acc: 0.914 48%|████▊     | 28928/60000 [00:00<00:00, 94433.96it/s]"
     ]
    },
    {
     "name": "stdout",
     "output_type": "stream",
     "text": [
      "33792/60000 [===============>..............] - ETA: 0s - loss: 0.3166 - acc: 0.9144"
     ]
    },
    {
     "name": "stderr",
     "output_type": "stream",
     "text": [
      "\u001b[A\n",
      "Epoch: 95 - loss: 0.315, acc: 0.914 63%|██████▎   | 37888/60000 [00:00<00:00, 92854.48it/s]"
     ]
    },
    {
     "name": "stdout",
     "output_type": "stream",
     "text": [
      "43776/60000 [====================>.........] - ETA: 0s - loss: 0.3184 - acc: 0.9132"
     ]
    },
    {
     "name": "stderr",
     "output_type": "stream",
     "text": [
      "\u001b[A\n",
      "Epoch: 95 - loss: 0.318, acc: 0.913 79%|███████▉  | 47360/60000 [00:00<00:00, 92679.81it/s]"
     ]
    },
    {
     "name": "stdout",
     "output_type": "stream",
     "text": [
      "53504/60000 [=========================>....] - ETA: 0s - loss: 0.3172 - acc: 0.9130"
     ]
    },
    {
     "name": "stderr",
     "output_type": "stream",
     "text": [
      "\u001b[A\n",
      "Epoch: 95 - loss: 0.317, acc: 0.913 95%|█████████▌| 57088/60000 [00:00<00:00, 93324.91it/s]"
     ]
    },
    {
     "name": "stdout",
     "output_type": "stream",
     "text": [
      "\b\b\b\b\b\b\b\b\b\b\b\b\b\b\b\b\b\b\b\b\b\b\b\b\b\b\b\b\b\b\b\b\b\b\b\b\b\b\b\b\b\b\b\b\b\b\b\b\b\b\b\b\b\b\b\b\b\b\b\b\b\b\b\b\b\b\b\b\b\b\b\b\b\b\b\b\b\b\b\b\b\b\b\r",
      "58368/60000 [============================>.] - ETA: 0s - loss: 0.3163 - acc: 0.9134"
     ]
    },
    {
     "name": "stderr",
     "output_type": "stream",
     "text": [
      "\u001b[A\n",
      "Epoch: 95 - loss: 0.317, acc: 0.913, val_loss: 0.305, val_acc: 0.917100%|██████████| 60000/60000 [00:00<00:00, 62204.21it/s]\u001b[A\n",
      "Training:  96%|█████████▌| 96/100 [01:14<00:02,  1.42it/s]"
     ]
    },
    {
     "name": "stdout",
     "output_type": "stream",
     "text": [
      "Epoch 00095: val_loss improved from 0.30547 to 0.30506, saving model to checkpoints_mnist_log_reg_keras_tensorflow/mnist_log_reg.hdf5\n",
      "\b\b\b\b\b\b\b\b\b\b\b\b\b\b\b\b\b\b\b\b\b\b\b\b\b\b\b\b\b\b\b\b\b\b\b\b\b\b\b\b\b\b\b\b\b\b\b\b\b\b\b\b\b\b\b\b\b\b\b\b\b\b\b\b\b\b\b\b\b\b\b\b\b\b\b\b\b\b\b\b\b\b\b\r",
      "60000/60000 [==============================] - 0s - loss: 0.3171 - acc: 0.9132 - val_loss: 0.3051 - val_acc: 0.9170"
     ]
    },
    {
     "name": "stderr",
     "output_type": "stream",
     "text": [
      "\n",
      "\r",
      "Epoch: 96:   0%|          | 0/60000 [00:00<?, ?it/s]"
     ]
    },
    {
     "name": "stdout",
     "output_type": "stream",
     "text": [
      "\n",
      "Epoch 97/100\n",
      "\r",
      "  256/60000 [..............................] - ETA: 0s - loss: 0.2403 - acc: 0.9414"
     ]
    },
    {
     "name": "stderr",
     "output_type": "stream",
     "text": [
      "\u001b[A"
     ]
    },
    {
     "name": "stdout",
     "output_type": "stream",
     "text": [
      "\b\b\b\b\b\b\b\b\b\b\b\b\b\b\b\b\b\b\b\b\b\b\b\b\b\b\b\b\b\b\b\b\b\b\b\b\b\b\b\b\b\b\b\b\b\b\b\b\b\b\b\b\b\b\b\b\b\b\b\b\b\b\b\b\b\b\b\b\b\b\b\b\b\b\b\b\b\b\b\b\b\b\b\r",
      " 4864/60000 [=>............................] - ETA: 0s - loss: 0.3033 - acc: 0.9169"
     ]
    },
    {
     "name": "stderr",
     "output_type": "stream",
     "text": [
      "\n",
      "\r",
      "Epoch: 96 - loss: 0.313, acc: 0.914 15%|█▌        | 9216/60000 [00:00<00:00, 90892.15it/s]"
     ]
    },
    {
     "name": "stdout",
     "output_type": "stream",
     "text": [
      "\b\b\b\b\b\b\b\b\b\b\b\b\b\b\b\b\b\b\b\b\b\b\b\b\b\b\b\b\b\b\b\b\b\b\b\b\b\b\b\b\b\b\b\b\b\b\b\b\b\b\b\b\b\b\b\b\b\b\b\b\b\b\b\b\b\b\b\b\b\b\b\b\b\b\b\b\b\b\b\b\b\b\b\r",
      " 9472/60000 [===>..........................] - ETA: 0s - loss: 0.3107 - acc: 0.9142"
     ]
    },
    {
     "name": "stderr",
     "output_type": "stream",
     "text": [
      "\u001b[A"
     ]
    },
    {
     "name": "stdout",
     "output_type": "stream",
     "text": [
      "\b\b\b\b\b\b\b\b\b\b\b\b\b\b\b\b\b\b\b\b\b\b\b\b\b\b\b\b\b\b\b\b\b\b\b\b\b\b\b\b\b\b\b\b\b\b\b\b\b\b\b\b\b\b\b\b\b\b\b\b\b\b\b\b\b\b\b\b\b\b\b\b\b\b\b\b\b\b\b\b\b\b\b\r",
      "14592/60000 [======>.......................] - ETA: 0s - loss: 0.3175 - acc: 0.9117"
     ]
    },
    {
     "name": "stderr",
     "output_type": "stream",
     "text": [
      "\n",
      "\r",
      "Epoch: 96 - loss: 0.318, acc: 0.912 32%|███▏      | 18944/60000 [00:00<00:00, 92415.89it/s]"
     ]
    },
    {
     "name": "stdout",
     "output_type": "stream",
     "text": [
      "24320/60000 [===========>..................] - ETA: 0s - loss: 0.3185 - acc: 0.9129"
     ]
    },
    {
     "name": "stderr",
     "output_type": "stream",
     "text": [
      "\u001b[A\n",
      "Epoch: 96 - loss: 0.320, acc: 0.912 48%|████▊     | 28672/60000 [00:00<00:00, 93800.91it/s]"
     ]
    },
    {
     "name": "stdout",
     "output_type": "stream",
     "text": [
      "34048/60000 [================>.............] - ETA: 0s - loss: 0.3165 - acc: 0.9137"
     ]
    },
    {
     "name": "stderr",
     "output_type": "stream",
     "text": [
      "\u001b[A\n",
      "Epoch: 96 - loss: 0.314, acc: 0.915 64%|██████▎   | 38144/60000 [00:00<00:00, 93444.82it/s]"
     ]
    },
    {
     "name": "stdout",
     "output_type": "stream",
     "text": [
      "43008/60000 [====================>.........] - ETA: 0s - loss: 0.3134 - acc: 0.9148"
     ]
    },
    {
     "name": "stderr",
     "output_type": "stream",
     "text": [
      "\u001b[A\n",
      "Epoch: 96 - loss: 0.314, acc: 0.914 79%|███████▉  | 47360/60000 [00:00<00:00, 92790.95it/s]"
     ]
    },
    {
     "name": "stdout",
     "output_type": "stream",
     "text": [
      "52736/60000 [=========================>....] - ETA: 0s - loss: 0.3143 - acc: 0.9142"
     ]
    },
    {
     "name": "stderr",
     "output_type": "stream",
     "text": [
      "\u001b[A\n",
      "Epoch: 96 - loss: 0.315, acc: 0.914 95%|█████████▍| 56832/60000 [00:00<00:00, 93047.44it/s]"
     ]
    },
    {
     "name": "stdout",
     "output_type": "stream",
     "text": [
      "\b\b\b\b\b\b\b\b\b\b\b\b\b\b\b\b\b\b\b\b\b\b\b\b\b\b\b\b\b\b\b\b\b\b\b\b\b\b\b\b\b\b\b\b\b\b\b\b\b\b\b\b\b\b\b\b\b\b\b\b\b\b\b\b\b\b\b\b\b\b\b\b\b\b\b\b\b\b\b\b\b\b\b\r",
      "57344/60000 [===========================>..] - ETA: 0s - loss: 0.3157 - acc: 0.9137"
     ]
    },
    {
     "name": "stderr",
     "output_type": "stream",
     "text": [
      "\u001b[A\n",
      "Epoch: 96 - loss: 0.317, acc: 0.913, val_loss: 0.305, val_acc: 0.917100%|██████████| 60000/60000 [00:00<00:00, 62590.62it/s]\u001b[A\n",
      "Training:  97%|█████████▋| 97/100 [01:15<00:02,  1.42it/s]"
     ]
    },
    {
     "name": "stdout",
     "output_type": "stream",
     "text": [
      "Epoch 00096: val_loss improved from 0.30506 to 0.30471, saving model to checkpoints_mnist_log_reg_keras_tensorflow/mnist_log_reg.hdf5\n",
      "\b\b\b\b\b\b\b\b\b\b\b\b\b\b\b\b\b\b\b\b\b\b\b\b\b\b\b\b\b\b\b\b\b\b\b\b\b\b\b\b\b\b\b\b\b\b\b\b\b\b\b\b\b\b\b\b\b\b\b\b\b\b\b\b\b\b\b\b\b\b\b\b\b\b\b\b\b\b\b\b\b\b\b\r",
      "60000/60000 [==============================] - 0s - loss: 0.3166 - acc: 0.9133 - val_loss: 0.3047 - val_acc: 0.9170"
     ]
    },
    {
     "name": "stderr",
     "output_type": "stream",
     "text": [
      "\n",
      "\r",
      "Epoch: 97:   0%|          | 0/60000 [00:00<?, ?it/s]"
     ]
    },
    {
     "name": "stdout",
     "output_type": "stream",
     "text": [
      "\n",
      "Epoch 98/100\n",
      " 5120/60000 [=>............................] - ETA: 0s - loss: 0.3177 - acc: 0.9143"
     ]
    },
    {
     "name": "stderr",
     "output_type": "stream",
     "text": [
      "\u001b[A\n",
      "Epoch: 97 - loss: 0.309, acc: 0.916 16%|█▌        | 9728/60000 [00:00<00:00, 95847.06it/s]"
     ]
    },
    {
     "name": "stdout",
     "output_type": "stream",
     "text": [
      "15104/60000 [======>.......................] - ETA: 0s - loss: 0.3101 - acc: 0.9147"
     ]
    },
    {
     "name": "stderr",
     "output_type": "stream",
     "text": [
      "\u001b[A\n",
      "Epoch: 97 - loss: 0.307, acc: 0.916 32%|███▏      | 19456/60000 [00:00<00:00, 95731.29it/s]"
     ]
    },
    {
     "name": "stdout",
     "output_type": "stream",
     "text": [
      "25088/60000 [===========>..................] - ETA: 0s - loss: 0.3088 - acc: 0.9151"
     ]
    },
    {
     "name": "stderr",
     "output_type": "stream",
     "text": [
      "\u001b[A\n",
      "Epoch: 97 - loss: 0.310, acc: 0.915 49%|████▊     | 29184/60000 [00:00<00:00, 95770.51it/s]"
     ]
    },
    {
     "name": "stdout",
     "output_type": "stream",
     "text": [
      "34816/60000 [================>.............] - ETA: 0s - loss: 0.3127 - acc: 0.9143"
     ]
    },
    {
     "name": "stderr",
     "output_type": "stream",
     "text": [
      "\u001b[A\n",
      "Epoch: 97 - loss: 0.314, acc: 0.914 65%|██████▌   | 39168/60000 [00:00<00:00, 96505.06it/s]"
     ]
    },
    {
     "name": "stdout",
     "output_type": "stream",
     "text": [
      "45056/60000 [=====================>........] - ETA: 0s - loss: 0.3150 - acc: 0.9133"
     ]
    },
    {
     "name": "stderr",
     "output_type": "stream",
     "text": [
      "\u001b[A\n",
      "Epoch: 97 - loss: 0.314, acc: 0.914 82%|████████▏ | 49408/60000 [00:00<00:00, 97301.84it/s]"
     ]
    },
    {
     "name": "stdout",
     "output_type": "stream",
     "text": [
      "55040/60000 [==========================>...] - ETA: 0s - loss: 0.3152 - acc: 0.9136"
     ]
    },
    {
     "name": "stderr",
     "output_type": "stream",
     "text": [
      "\u001b[A\n",
      "Epoch: 97 - loss: 0.316, acc: 0.913 99%|█████████▊| 59136/60000 [00:00<00:00, 96666.86it/s]"
     ]
    },
    {
     "name": "stdout",
     "output_type": "stream",
     "text": [
      "\b\b\b\b\b\b\b\b\b\b\b\b\b\b\b\b\b\b\b\b\b\b\b\b\b\b\b\b\b\b\b\b\b\b\b\b\b\b\b\b\b\b\b\b\b\b\b\b\b\b\b\b\b\b\b\b\b\b\b\b\b\b\b\b\b\b\b\b\b\b\b\b\b\b\b\b\b\b\b\b\b\b\b\r",
      "59648/60000 [============================>.] - ETA: 0s - loss: 0.3158 - acc: 0.9134"
     ]
    },
    {
     "name": "stderr",
     "output_type": "stream",
     "text": [
      "\u001b[A\n",
      "Epoch: 97 - loss: 0.316, acc: 0.913, val_loss: 0.304, val_acc: 0.917100%|██████████| 60000/60000 [00:00<00:00, 33390.01it/s]\u001b[A\n",
      "Training:  98%|█████████▊| 98/100 [01:15<00:01,  1.43it/s]"
     ]
    },
    {
     "name": "stdout",
     "output_type": "stream",
     "text": [
      "Epoch 00097: val_loss improved from 0.30471 to 0.30447, saving model to checkpoints_mnist_log_reg_keras_tensorflow/mnist_log_reg.hdf5\n",
      "\b\b\b\b\b\b\b\b\b\b\b\b\b\b\b\b\b\b\b\b\b\b\b\b\b\b\b\b\b\b\b\b\b\b\b\b\b\b\b\b\b\b\b\b\b\b\b\b\b\b\b\b\b\b\b\b\b\b\b\b\b\b\b\b\b\b\b\b\b\b\b\b\b\b\b\b\b\b\b\b\b\b\b\r",
      "60000/60000 [==============================] - 0s - loss: 0.3161 - acc: 0.9133 - val_loss: 0.3045 - val_acc: 0.9174"
     ]
    },
    {
     "name": "stderr",
     "output_type": "stream",
     "text": [
      "\n",
      "\r",
      "Epoch: 98:   0%|          | 0/60000 [00:00<?, ?it/s]"
     ]
    },
    {
     "name": "stdout",
     "output_type": "stream",
     "text": [
      "\n",
      "Epoch 99/100\n",
      "\r",
      "  256/60000 [..............................] - ETA: 0s - loss: 0.3736 - acc: 0.8945"
     ]
    },
    {
     "name": "stderr",
     "output_type": "stream",
     "text": [
      "\u001b[A"
     ]
    },
    {
     "name": "stdout",
     "output_type": "stream",
     "text": [
      "\b\b\b\b\b\b\b\b\b\b\b\b\b\b\b\b\b\b\b\b\b\b\b\b\b\b\b\b\b\b\b\b\b\b\b\b\b\b\b\b\b\b\b\b\b\b\b\b\b\b\b\b\b\b\b\b\b\b\b\b\b\b\b\b\b\b\b\b\b\b\b\b\b\b\b\b\b\b\b\b\b\b\b\r",
      " 5120/60000 [=>............................] - ETA: 0s - loss: 0.3150 - acc: 0.9139"
     ]
    },
    {
     "name": "stderr",
     "output_type": "stream",
     "text": [
      "\n",
      "\r",
      "Epoch: 98 - loss: 0.313, acc: 0.914 16%|█▌        | 9472/60000 [00:00<00:00, 94258.05it/s]"
     ]
    },
    {
     "name": "stdout",
     "output_type": "stream",
     "text": [
      "\b\b\b\b\b\b\b\b\b\b\b\b\b\b\b\b\b\b\b\b\b\b\b\b\b\b\b\b\b\b\b\b\b\b\b\b\b\b\b\b\b\b\b\b\b\b\b\b\b\b\b\b\b\b\b\b\b\b\b\b\b\b\b\b\b\b\b\b\b\b\b\b\b\b\b\b\b\b\b\b\b\b\b\r",
      " 9984/60000 [===>..........................] - ETA: 0s - loss: 0.3122 - acc: 0.9143"
     ]
    },
    {
     "name": "stderr",
     "output_type": "stream",
     "text": [
      "\u001b[A"
     ]
    },
    {
     "name": "stdout",
     "output_type": "stream",
     "text": [
      "\b\b\b\b\b\b\b\b\b\b\b\b\b\b\b\b\b\b\b\b\b\b\b\b\b\b\b\b\b\b\b\b\b\b\b\b\b\b\b\b\b\b\b\b\b\b\b\b\b\b\b\b\b\b\b\b\b\b\b\b\b\b\b\b\b\b\b\b\b\b\b\b\b\b\b\b\b\b\b\b\b\b\b\r",
      "15104/60000 [======>.......................] - ETA: 0s - loss: 0.3161 - acc: 0.9129"
     ]
    },
    {
     "name": "stderr",
     "output_type": "stream",
     "text": [
      "\n",
      "\r",
      "Epoch: 98 - loss: 0.315, acc: 0.914 32%|███▏      | 19200/60000 [00:00<00:00, 94119.73it/s]"
     ]
    },
    {
     "name": "stdout",
     "output_type": "stream",
     "text": [
      "24576/60000 [===========>..................] - ETA: 0s - loss: 0.3145 - acc: 0.9140"
     ]
    },
    {
     "name": "stderr",
     "output_type": "stream",
     "text": [
      "\u001b[A\n",
      "Epoch: 98 - loss: 0.316, acc: 0.914 47%|████▋     | 28160/60000 [00:00<00:00, 92654.68it/s]"
     ]
    },
    {
     "name": "stdout",
     "output_type": "stream",
     "text": [
      "33792/60000 [===============>..............] - ETA: 0s - loss: 0.3165 - acc: 0.9127"
     ]
    },
    {
     "name": "stderr",
     "output_type": "stream",
     "text": [
      "\u001b[A\n",
      "Epoch: 98 - loss: 0.316, acc: 0.913 63%|██████▎   | 37632/60000 [00:00<00:00, 93135.70it/s]"
     ]
    },
    {
     "name": "stdout",
     "output_type": "stream",
     "text": [
      "43264/60000 [====================>.........] - ETA: 0s - loss: 0.3159 - acc: 0.9130"
     ]
    },
    {
     "name": "stderr",
     "output_type": "stream",
     "text": [
      "\u001b[A\n",
      "Epoch: 98 - loss: 0.316, acc: 0.913 78%|███████▊  | 46848/60000 [00:00<00:00, 92458.12it/s]"
     ]
    },
    {
     "name": "stdout",
     "output_type": "stream",
     "text": [
      "53248/60000 [=========================>....] - ETA: 0s - loss: 0.3155 - acc: 0.9136"
     ]
    },
    {
     "name": "stderr",
     "output_type": "stream",
     "text": [
      "\u001b[A\n",
      "Epoch: 98 - loss: 0.315, acc: 0.914 95%|█████████▍| 56832/60000 [00:00<00:00, 94171.09it/s]"
     ]
    },
    {
     "name": "stdout",
     "output_type": "stream",
     "text": [
      "\b\b\b\b\b\b\b\b\b\b\b\b\b\b\b\b\b\b\b\b\b\b\b\b\b\b\b\b\b\b\b\b\b\b\b\b\b\b\b\b\b\b\b\b\b\b\b\b\b\b\b\b\b\b\b\b\b\b\b\b\b\b\b\b\b\b\b\b\b\b\b\b\b\b\b\b\b\b\b\b\b\b\b\r",
      "58112/60000 [============================>.] - ETA: 0s - loss: 0.3150 - acc: 0.9140"
     ]
    },
    {
     "name": "stderr",
     "output_type": "stream",
     "text": [
      "\u001b[A\n",
      "Epoch: 98 - loss: 0.316, acc: 0.914, val_loss: 0.304, val_acc: 0.917100%|██████████| 60000/60000 [00:00<00:00, 62880.65it/s]\u001b[A\n",
      "Training:  99%|█████████▉| 99/100 [01:16<00:00,  1.42it/s]"
     ]
    },
    {
     "name": "stdout",
     "output_type": "stream",
     "text": [
      "Epoch 00098: val_loss improved from 0.30447 to 0.30412, saving model to checkpoints_mnist_log_reg_keras_tensorflow/mnist_log_reg.hdf5\n",
      "\b\b\b\b\b\b\b\b\b\b\b\b\b\b\b\b\b\b\b\b\b\b\b\b\b\b\b\b\b\b\b\b\b\b\b\b\b\b\b\b\b\b\b\b\b\b\b\b\b\b\b\b\b\b\b\b\b\b\b\b\b\b\b\b\b\b\b\b\b\b\b\b\b\b\b\b\b\b\b\b\b\b\b\r",
      "60000/60000 [==============================] - 0s - loss: 0.3157 - acc: 0.9136 - val_loss: 0.3041 - val_acc: 0.9174"
     ]
    },
    {
     "name": "stderr",
     "output_type": "stream",
     "text": [
      "\n",
      "Epoch: 99:   0%|          | 0/60000 [00:00<?, ?it/s]\u001b[A"
     ]
    },
    {
     "name": "stdout",
     "output_type": "stream",
     "text": [
      "\n",
      "Epoch 100/100\n",
      " 5632/60000 [=>............................] - ETA: 0s - loss: 0.3293 - acc: 0.9091"
     ]
    },
    {
     "name": "stderr",
     "output_type": "stream",
     "text": [
      "\n",
      "\r",
      "Epoch: 99 - loss: 0.314, acc: 0.913 16%|█▌        | 9728/60000 [00:00<00:00, 96445.62it/s]"
     ]
    },
    {
     "name": "stdout",
     "output_type": "stream",
     "text": [
      "15360/60000 [======>.......................] - ETA: 0s - loss: 0.3137 - acc: 0.9152"
     ]
    },
    {
     "name": "stderr",
     "output_type": "stream",
     "text": [
      "\u001b[A\n",
      "Epoch: 99 - loss: 0.316, acc: 0.914 32%|███▏      | 18944/60000 [00:00<00:00, 94572.18it/s]"
     ]
    },
    {
     "name": "stdout",
     "output_type": "stream",
     "text": [
      "24832/60000 [===========>..................] - ETA: 0s - loss: 0.3117 - acc: 0.9151"
     ]
    },
    {
     "name": "stderr",
     "output_type": "stream",
     "text": [
      "\u001b[A\n",
      "Epoch: 99 - loss: 0.313, acc: 0.914 47%|████▋     | 28160/60000 [00:00<00:00, 93537.24it/s]"
     ]
    },
    {
     "name": "stdout",
     "output_type": "stream",
     "text": [
      "34816/60000 [================>.............] - ETA: 0s - loss: 0.3124 - acc: 0.9149"
     ]
    },
    {
     "name": "stderr",
     "output_type": "stream",
     "text": [
      "\u001b[A\n",
      "Epoch: 99 - loss: 0.314, acc: 0.914 63%|██████▎   | 37888/60000 [00:00<00:00, 94331.07it/s]"
     ]
    },
    {
     "name": "stdout",
     "output_type": "stream",
     "text": [
      "43776/60000 [====================>.........] - ETA: 0s - loss: 0.3171 - acc: 0.9134"
     ]
    },
    {
     "name": "stderr",
     "output_type": "stream",
     "text": [
      "\u001b[A\n",
      "Epoch: 99 - loss: 0.318, acc: 0.913 78%|███████▊  | 46592/60000 [00:00<00:00, 91938.44it/s]"
     ]
    },
    {
     "name": "stdout",
     "output_type": "stream",
     "text": [
      "53504/60000 [=========================>....] - ETA: 0s - loss: 0.3168 - acc: 0.9132"
     ]
    },
    {
     "name": "stderr",
     "output_type": "stream",
     "text": [
      "\u001b[A\n",
      "Epoch: 99 - loss: 0.316, acc: 0.913 94%|█████████▍| 56576/60000 [00:00<00:00, 93942.06it/s]"
     ]
    },
    {
     "name": "stdout",
     "output_type": "stream",
     "text": [
      "\b\b\b\b\b\b\b\b\b\b\b\b\b\b\b\b\b\b\b\b\b\b\b\b\b\b\b\b\b\b\b\b\b\b\b\b\b\b\b\b\b\b\b\b\b\b\b\b\b\b\b\b\b\b\b\b\b\b\b\b\b\b\b\b\b\b\b\b\b\b\b\b\b\b\b\b\b\b\b\b\b\b\b\r",
      "58880/60000 [============================>.] - ETA: 0s - loss: 0.3158 - acc: 0.9137"
     ]
    },
    {
     "name": "stderr",
     "output_type": "stream",
     "text": [
      "\u001b[A\n",
      "Epoch: 99 - loss: 0.315, acc: 0.914, val_loss: 0.304, val_acc: 0.918100%|██████████| 60000/60000 [00:00<00:00, 66392.88it/s]\u001b[A\n",
      "Training: 100%|██████████| 100/100 [01:17<00:00,  1.42it/s]"
     ]
    },
    {
     "name": "stdout",
     "output_type": "stream",
     "text": [
      "Epoch 00099: val_loss improved from 0.30412 to 0.30376, saving model to checkpoints_mnist_log_reg_keras_tensorflow/mnist_log_reg.hdf5\n",
      "60000/60000 [==============================] - 0s - loss: 0.3153 - acc: 0.9137 - val_loss: 0.3038 - val_acc: 0.9177\n",
      "The code ran for 77.5s\n",
      "The code ran for 1.29m\n"
     ]
    },
    {
     "name": "stderr",
     "output_type": "stream",
     "text": [
      "\n"
     ]
    }
   ],
   "source": [
    "# Peform Actual Training\n",
    "\n",
    "optimize(batch_size=256, n_epochs=100)"
   ]
  },
  {
   "cell_type": "code",
   "execution_count": 18,
   "metadata": {},
   "outputs": [
    {
     "name": "stdout",
     "output_type": "stream",
     "text": [
      "Test Loss: 0.303761698341\n",
      "Test accuracy: 0.9177\n"
     ]
    }
   ],
   "source": [
    "# evaluate the model\n",
    "# find the test score and accuracy\n",
    "score = model.evaluate(x_test, y_test, verbose=0)\n",
    "\n",
    "print('Test Loss:', score[0])\n",
    "print('Test accuracy:', score[1])"
   ]
  }
 ],
 "metadata": {
  "kernelspec": {
   "display_name": "keras",
   "language": "python",
   "name": "keras"
  },
  "language_info": {
   "codemirror_mode": {
    "name": "ipython",
    "version": 3
   },
   "file_extension": ".py",
   "mimetype": "text/x-python",
   "name": "python",
   "nbconvert_exporter": "python",
   "pygments_lexer": "ipython3",
   "version": "3.4.3"
  }
 },
 "nbformat": 4,
 "nbformat_minor": 2
}
